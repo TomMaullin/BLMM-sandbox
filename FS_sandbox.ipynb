{
  "nbformat": 4,
  "nbformat_minor": 0,
  "metadata": {
    "colab": {
      "name": "FS_sandbox.ipynb",
      "provenance": [],
      "collapsed_sections": [
        "GNFQ0-MpQuBm",
        "q4JYRICVBtjl",
        "AS5zhoWCDZ8E",
        "IVa9K3vmAGKQ"
      ],
      "machine_shape": "hm",
      "include_colab_link": true
    },
    "kernelspec": {
      "name": "python3",
      "display_name": "Python 3"
    }
  },
  "cells": [
    {
      "cell_type": "markdown",
      "metadata": {
        "id": "view-in-github",
        "colab_type": "text"
      },
      "source": [
        "<a href=\"https://colab.research.google.com/github/TomMaullin/BLMM-sandbox/blob/master/FS_sandbox.ipynb\" target=\"_parent\"><img src=\"https://colab.research.google.com/assets/colab-badge.svg\" alt=\"Open In Colab\"/></a>"
      ]
    },
    {
      "cell_type": "markdown",
      "metadata": {
        "id": "TIMtrhFKB3Ay",
        "colab_type": "text"
      },
      "source": [
        "# FS implementation in python\n",
        "\n",
        "This code implements the Fisher Scoring algorithm for estimating the parameters of linear mixed effects models as described in [Demidenko 2013](https://www.wiley.com/en-us/Mixed+Models%3A+Theory+and+Applications+with+R%2C+2nd+Edition-p-9781118091579)."
      ]
    },
    {
      "cell_type": "markdown",
      "metadata": {
        "id": "GNFQ0-MpQuBm",
        "colab_type": "text"
      },
      "source": [
        "## Pip Installations\n",
        "\n",
        "Pip install everything."
      ]
    },
    {
      "cell_type": "code",
      "metadata": {
        "id": "UX02P0KvBWJr",
        "colab_type": "code",
        "outputId": "ed069a4b-a20d-4629-c389-032d6952c17e",
        "colab": {
          "base_uri": "https://localhost:8080/",
          "height": 0
        }
      },
      "source": [
        "!pip install numpy\n",
        "!pip install pandas\n",
        "!pip install scipy\n",
        "!pip install matplotlib\n",
        "!pip install sparse\n",
        "!pip install nibabel\n",
        "!pip install nilearn"
      ],
      "execution_count": 1,
      "outputs": [
        {
          "output_type": "stream",
          "text": [
            "Requirement already satisfied: numpy in /usr/local/lib/python3.6/dist-packages (1.16.5)\n",
            "Requirement already satisfied: pandas in /usr/local/lib/python3.6/dist-packages (0.24.2)\n",
            "Requirement already satisfied: python-dateutil>=2.5.0 in /usr/local/lib/python3.6/dist-packages (from pandas) (2.5.3)\n",
            "Requirement already satisfied: pytz>=2011k in /usr/local/lib/python3.6/dist-packages (from pandas) (2018.9)\n",
            "Requirement already satisfied: numpy>=1.12.0 in /usr/local/lib/python3.6/dist-packages (from pandas) (1.16.5)\n",
            "Requirement already satisfied: six>=1.5 in /usr/local/lib/python3.6/dist-packages (from python-dateutil>=2.5.0->pandas) (1.12.0)\n",
            "Requirement already satisfied: scipy in /usr/local/lib/python3.6/dist-packages (1.3.1)\n",
            "Requirement already satisfied: numpy>=1.13.3 in /usr/local/lib/python3.6/dist-packages (from scipy) (1.16.5)\n",
            "Requirement already satisfied: matplotlib in /usr/local/lib/python3.6/dist-packages (3.0.3)\n",
            "Requirement already satisfied: numpy>=1.10.0 in /usr/local/lib/python3.6/dist-packages (from matplotlib) (1.16.5)\n",
            "Requirement already satisfied: cycler>=0.10 in /usr/local/lib/python3.6/dist-packages (from matplotlib) (0.10.0)\n",
            "Requirement already satisfied: kiwisolver>=1.0.1 in /usr/local/lib/python3.6/dist-packages (from matplotlib) (1.1.0)\n",
            "Requirement already satisfied: python-dateutil>=2.1 in /usr/local/lib/python3.6/dist-packages (from matplotlib) (2.5.3)\n",
            "Requirement already satisfied: pyparsing!=2.0.4,!=2.1.2,!=2.1.6,>=2.0.1 in /usr/local/lib/python3.6/dist-packages (from matplotlib) (2.4.2)\n",
            "Requirement already satisfied: six in /usr/local/lib/python3.6/dist-packages (from cycler>=0.10->matplotlib) (1.12.0)\n",
            "Requirement already satisfied: setuptools in /usr/local/lib/python3.6/dist-packages (from kiwisolver>=1.0.1->matplotlib) (41.2.0)\n",
            "Requirement already satisfied: sparse in /usr/local/lib/python3.6/dist-packages (0.8.0)\n",
            "Requirement already satisfied: numba>=0.45 in /usr/local/lib/python3.6/dist-packages (from sparse) (0.46.0)\n",
            "Requirement already satisfied: numpy in /usr/local/lib/python3.6/dist-packages (from sparse) (1.16.5)\n",
            "Requirement already satisfied: scipy>=0.19 in /usr/local/lib/python3.6/dist-packages (from sparse) (1.3.1)\n",
            "Requirement already satisfied: llvmlite>=0.30.0dev0 in /usr/local/lib/python3.6/dist-packages (from numba>=0.45->sparse) (0.30.0)\n",
            "Requirement already satisfied: nibabel in /usr/local/lib/python3.6/dist-packages (2.3.3)\n",
            "Requirement already satisfied: bz2file in /usr/local/lib/python3.6/dist-packages (from nibabel) (0.98)\n",
            "Requirement already satisfied: six>=1.3 in /usr/local/lib/python3.6/dist-packages (from nibabel) (1.12.0)\n",
            "Requirement already satisfied: numpy>=1.7.1 in /usr/local/lib/python3.6/dist-packages (from nibabel) (1.16.5)\n",
            "Requirement already satisfied: nilearn in /usr/local/lib/python3.6/dist-packages (0.5.2)\n",
            "Requirement already satisfied: nibabel>=2.0.2 in /usr/local/lib/python3.6/dist-packages (from nilearn) (2.3.3)\n",
            "Requirement already satisfied: bz2file in /usr/local/lib/python3.6/dist-packages (from nibabel>=2.0.2->nilearn) (0.98)\n",
            "Requirement already satisfied: numpy>=1.7.1 in /usr/local/lib/python3.6/dist-packages (from nibabel>=2.0.2->nilearn) (1.16.5)\n",
            "Requirement already satisfied: six>=1.3 in /usr/local/lib/python3.6/dist-packages (from nibabel>=2.0.2->nilearn) (1.12.0)\n"
          ],
          "name": "stdout"
        }
      ]
    },
    {
      "cell_type": "markdown",
      "metadata": {
        "id": "q4JYRICVBtjl",
        "colab_type": "text"
      },
      "source": [
        "\n",
        "## Python Imports\n",
        "\n",
        "\n"
      ]
    },
    {
      "cell_type": "markdown",
      "metadata": {
        "id": "YkTBWbRKQ5ah",
        "colab_type": "text"
      },
      "source": [
        "We need:\n",
        " - `numpy` for matrix handling.\n",
        " - `scipy` for sparse matrix functions.\n",
        " - `pandas` for quick reading and writing of csv files.\n",
        " - `os` and `sys` for basic commandline functions\n",
        " - `time` for timing functions.\n",
        " - `matplotlib` for making displays."
      ]
    },
    {
      "cell_type": "code",
      "metadata": {
        "id": "tebSlxvBBruv",
        "colab_type": "code",
        "outputId": "24740895-4d06-46f0-cbd8-69620154a5ea",
        "colab": {
          "base_uri": "https://localhost:8080/",
          "height": 0
        }
      },
      "source": [
        "import numpy as np\n",
        "import cvxopt\n",
        "import pandas as pd\n",
        "import os\n",
        "import time\n",
        "import scipy.sparse\n",
        "import scipy.sparse.linalg\n",
        "import matplotlib.pyplot as plt\n",
        "from matplotlib.pyplot import imshow\n",
        "import sys\n",
        "import nibabel as nib\n",
        "import nilearn"
      ],
      "execution_count": 2,
      "outputs": [
        {
          "output_type": "stream",
          "text": [
            "/usr/local/lib/python3.6/dist-packages/sklearn/externals/joblib/__init__.py:15: DeprecationWarning: sklearn.externals.joblib is deprecated in 0.21 and will be removed in 0.23. Please import this functionality directly from joblib, which can be installed with: pip install joblib. If this warning is raised when loading pickled models, you may need to re-serialize those models with scikit-learn 0.21+.\n",
            "  warnings.warn(msg, category=DeprecationWarning)\n"
          ],
          "name": "stderr"
        }
      ]
    },
    {
      "cell_type": "markdown",
      "metadata": {
        "id": "AS5zhoWCDZ8E",
        "colab_type": "text"
      },
      "source": [
        "## Toy Dataset\n",
        "\n",
        "This section read ins and formats a toy dataset. The files used here were generated in `R` and with **True** values (those with postfix `True`) being those used to generate the data and **Estimated** (those with postfix `REst`) values being the estimates `R`'s `lmer` package generated from this data."
      ]
    },
    {
      "cell_type": "code",
      "metadata": {
        "id": "qy39zwuhkn4C",
        "colab_type": "code",
        "colab": {}
      },
      "source": [
        "# Import shutil and remove old testdata\n",
        "#import shutil\n",
        "#shutil.rmtree('/Data')\n",
        "\n",
        "# Make a data directory\n",
        "if not os.path.isdir('/Data'):\n",
        "  os.mkdir('/Data')\n",
        "  \n",
        "os.chdir('/Data')\n",
        "\n",
        "# Clone small git repo containg some csv files.\n",
        "if not os.path.isdir('/Data/BLMM-testdata'):\n",
        "  !git clone https://github.com/TomMaullin/BLMM-testdata.git\n",
        "  "
      ],
      "execution_count": 0,
      "outputs": []
    },
    {
      "cell_type": "markdown",
      "metadata": {
        "id": "2EWsCZjCQcc9",
        "colab_type": "text"
      },
      "source": [
        "\n",
        "### Z matrix\n",
        "\n",
        "The below reads in Z and makes an image of Z transpose.\n"
      ]
    },
    {
      "cell_type": "code",
      "metadata": {
        "id": "aoKOwHqcEKDT",
        "colab_type": "code",
        "outputId": "c90990b5-26f7-4444-dda1-8d7713eae33e",
        "colab": {
          "base_uri": "https://localhost:8080/",
          "height": 0
        }
      },
      "source": [
        "# Read in random effects design matrix and convert it into it's sparse format in\n",
        "# cvxopt.\n",
        "Z_3col=pd.read_csv('/Data/BLMM-testdata/Z_3col.csv',header=None).values#pd.read_csv('/Data/BLMM-testdata/Z_3col_1factor.csv',header=None).values#\n",
        "Z = scipy.sparse.csr_matrix((Z_3col[:,2].tolist(), \\\n",
        "                            ((Z_3col[:,0]-1).astype(np.int64), \\\n",
        "                             (Z_3col[:,1]-1).astype(np.int64))))\n",
        "\n",
        "# Create an image of Z'\n",
        "imshow(Z.toarray().transpose(), \\\n",
        "       interpolation='nearest', vmin=-5, vmax=5, aspect='auto')\n",
        "\n",
        "# Number of subjects\n",
        "n = Z.shape[0]"
      ],
      "execution_count": 4,
      "outputs": [
        {
          "output_type": "display_data",
          "data": {
            "image/png": "[encoded data removed]",
            "text/plain": [
              "<Figure size 432x288 with 1 Axes>"
            ]
          },
          "metadata": {
            "tags": []
          }
        }
      ]
    },
    {
      "cell_type": "markdown",
      "metadata": {
        "id": "JaiuxkypB7L8",
        "colab_type": "text"
      },
      "source": [
        "#### Dealing with ill-specified intercept models\n",
        "\n",
        "The above Random effects design matrix has multiple intercepts and is therefore of less than rank $q$; to resolve this we transform $Z$ by a matrix $c$ such that it's now has ($q-\\sum_{i=1}^r\\mathbb{1_{[\\text{Factor i has an intercept}]}}$) orthogonal columns (where $\\mathbb{1}$ is an indicator function). This is achieved in the below code by having $c$ as the unique matrix which subtracts, for each factor, the intercept for the last level of the factor away from the other levels of said factor. This may be clearer to understand in matrix format:\n",
        "\n",
        "Example:\n",
        "\n",
        "$$\\begin{bmatrix} z_1 & 0 & 0 \\\\ z_2 & 0 & 0 \\\\ z_3 & 0 & 0 \\\\0 & z_4 & 0 \\\\ 0 & z_5 & 0 \\\\ 0 & z_6 & 0 \\\\ 0 & 0 & z_7 \\\\ 0 & 0 & z_8 \\\\ 0 & 0 & z_9 \\\\ \\end{bmatrix} c = \\begin{bmatrix} z_1 & 0 \\\\ z_2 & 0 \\\\ z_3 & 0 \\\\0 & z_4 \\\\ 0 & z_5 \\\\ 0 & z_6 \\\\ -z_7 & -z_7 \\\\ -z_8 & -z_8  \\\\ -z_9 & -z_9  \\\\ \\end{bmatrix}$$\n",
        "\n",
        "In this example, $c$ would be given by the matrix:\n",
        "\n",
        "$$c = \\begin{bmatrix} 1 & 0 \\\\ 0 & 1 \\\\ -1 & -1\\end{bmatrix}$$\n",
        "\n",
        "In this code I have made the assumption WLOG that the intercept for each factor, should it be included, is the first parameter listed for each factor.\n",
        "\n",
        "UPDATE: SCRAPPED - RUINED BLOCK DIAGONAL STRUCTURE OF Z"
      ]
    },
    {
      "cell_type": "code",
      "metadata": {
        "id": "G9Y29RLDB7af",
        "colab_type": "code",
        "colab": {}
      },
      "source": [
        "#import numba\n",
        "\n",
        "#@numba.jit\n",
        "#def obtainC(nlevels, nparams, interceptIndicator):\n",
        "  \n",
        "  # Columns per factor\n",
        "  # This array tells us how many columns each factor has in Z.\n",
        "  # i.e. colsPerFactor[k]=4 means the kth factor has 4 columns\n",
        "#  colsPerFactor = nlevels*nparams\n",
        "  \n",
        "  # List of first column of Z for each level of each factor (If an intercept has\n",
        "  # been included for factor k, then it is assumed that the intercept is in the \n",
        "  # first column of each level of factor k; therefore this list contains all \n",
        "  # intercept column indices by assumption). One additional entry is included at \n",
        "  # the end which is the number of columns in z; this can be useful looping.\n",
        "#  interceptCols = np.insert(np.cumsum(np.repeat(nparams, nlevels)),0,0)\n",
        "\n",
        "  # The below array marks the first entry for each factor in interceptCols\n",
        "  # i.e. interceptCols[factorChangepoints[k]] is the first intercept for\n",
        "  # factor k\n",
        "#  factorChangepoints = np.insert(np.cumsum(nlevels),0,0)\n",
        "\n",
        "  # Loop through each factor\n",
        "#  for k in np.arange(len(nlevels)):\n",
        "  \n",
        "    # If we have an intercept for this factor work out which\n",
        "    # columns hold the intercepts\n",
        "#    if interceptIndicator[k]==1:\n",
        "      \n",
        "      # Get the intercept columns for factor k\n",
        "#      interceptCols_k = interceptCols[factorChangepoints[k]:factorChangepoints[k+1]]-interceptCols[factorChangepoints[k]]\n",
        "      \n",
        "      # Get a vector with -1 in each position for all intercept columns\n",
        "#      negativeCols = np.zeros(colsPerFactor[k])\n",
        "#      negativeCols[interceptCols_k] = -1\n",
        "      \n",
        "      # Get an identity matrix which is number of columns for factor k by number\n",
        "      # of columns for factor k in size. This will become c for factor k\n",
        "#      c_k = np.eye(colsPerFactor[k])\n",
        "      \n",
        "      # This is the index of the column we are removing from Z with this transform\n",
        "#      toRemove = interceptCols_k[-1]\n",
        "      \n",
        "      # Place the negative Cols matrix in the row corresponding to the intercept \n",
        "      # column\n",
        "#      c_k[toRemove,:] = negativeCols\n",
        "#      c_k = np.delete(c_k,toRemove,axis=1)\n",
        "      \n",
        "#      if k == 0:\n",
        "        \n",
        "#        c = c_k\n",
        "        \n",
        "#      else:\n",
        "        \n",
        "#        c = scipy.linalg.block_diag(c, c_k)\n",
        "      \n",
        "#  imshow(c, \\\n",
        "#     interpolation='nearest', aspect='auto',vmax=2,vmin=-1)\n",
        "#  plt.colorbar()\n",
        "\n",
        "#  return(c)\n",
        "\n",
        "#t1 = time.time()\n",
        "#c=obtainC(nlevels, nparams, [1,1])      \n",
        "#t2 = time.time()\n",
        "#print(t2-t1)\n",
        "\n",
        "#t1 = time.time()\n",
        "#obtainC(nlevels, nparams, [1,1])      \n",
        "#t2 = time.time()\n",
        "#print(t2-t1)\n",
        "\n",
        "\n",
        "#print(np.cumsum(nlevels * nparams))\n",
        "\n",
        "#nparams = [2,2]\n",
        "#nparamstmp[1] = 3\n",
        "\n",
        "# List of columns of Z containing intercept\n",
        "#interceptCols = np.insert(np.cumsum(np.repeat(nparams, nlevels)),0,0)[:-1]\n",
        "\n",
        "# The below array marks the first entry for each factor in interceptCols\n",
        "# i.e. interceptCols[factorChangepoints[k]] is the first intercept for\n",
        "# factor k\n",
        "#factorChangepoints = np.insert(np.cumsum(nlevels),0,0)\n",
        "#print('factor change points')\n",
        "#print(factorChangepoints)\n",
        "\n",
        "# Columns per factor\n",
        "# This array tells us how many columns each factor has in Z.\n",
        "# i.e. colsPerFactor[k]=4 means the kth factor has 4 columns\n",
        "#colsPerFactor = nlevels*nparams\n",
        "#print('colsPerFactor')\n",
        "#print(colsPerFactor)\n",
        "\n",
        "#k = 0\n",
        "# Intercept columns for one factor\n",
        "#print(interceptCols[factorChangepoints[k]:factorChangepoints[k+1]])\n",
        "\n",
        "#print(interceptCols)\n",
        "#print(len(interceptCols))\n",
        "\n",
        "#print(Z[:, interceptCols].toarray())\n",
        "\n",
        "#print(np.cumsum(nlevels))\n",
        "\n",
        "#print(nparams)\n",
        "      \n",
        "  "
      ],
      "execution_count": 0,
      "outputs": []
    },
    {
      "cell_type": "code",
      "metadata": {
        "id": "_chXrSrlWjra",
        "colab_type": "code",
        "colab": {}
      },
      "source": [
        "\n",
        "#imshow((Z @ scipy.sparse.csr_matrix(c)).toarray(), \\\n",
        "#     interpolation='nearest', aspect='auto', vmax = 2, vmin = -1)\n",
        "#plt.colorbar()\n"
      ],
      "execution_count": 0,
      "outputs": []
    },
    {
      "cell_type": "code",
      "metadata": {
        "id": "tfRwOu46X44A",
        "colab_type": "code",
        "colab": {}
      },
      "source": [
        "\n",
        "#imshow(((Z @ scipy.sparse.csr_matrix(c)).transpose() @ (Z @ scipy.sparse.csr_matrix(c))).toarray(), \\\n",
        "#     interpolation='nearest', aspect='auto', vmax = 2, vmin = -1)\n",
        "#plt.colorbar()"
      ],
      "execution_count": 0,
      "outputs": []
    },
    {
      "cell_type": "code",
      "metadata": {
        "id": "9umWv0H7XGAV",
        "colab_type": "code",
        "colab": {}
      },
      "source": [
        "#imshow((Z).toarray(), \\\n",
        "#     interpolation='nearest', aspect='auto', vmax = 2, vmin = -1)\n",
        "#plt.colorbar()"
      ],
      "execution_count": 0,
      "outputs": []
    },
    {
      "cell_type": "code",
      "metadata": {
        "id": "nBtxdq-gXtI3",
        "colab_type": "code",
        "colab": {}
      },
      "source": [
        "#imshow((Z.transpose() @ Z).toarray(), \\\n",
        "#     interpolation='nearest', aspect='auto')\n",
        "#plt.colorbar()"
      ],
      "execution_count": 0,
      "outputs": []
    },
    {
      "cell_type": "markdown",
      "metadata": {
        "id": "ENn5FJVkU2ie",
        "colab_type": "text"
      },
      "source": [
        "#### Demean and rescale Z"
      ]
    },
    {
      "cell_type": "code",
      "metadata": {
        "id": "-RivNVCyU21E",
        "colab_type": "code",
        "outputId": "36802385-a019-477e-c226-13e6fcf1584b",
        "colab": {
          "base_uri": "https://localhost:8080/",
          "height": 0
        }
      },
      "source": [
        "def demeanAndRescaleZ(Z, nparams, nlevels):\n",
        "  \n",
        "  # List of columns of Z containing intercept, assume if there is an intercept;\n",
        "  # that it is in the first column of each level of each factor\n",
        "  interceptCols = np.insert(np.cumsum(np.repeat(nparams, nlevels)),0,0)[:-1]\n",
        "  \n",
        "  # Make demeaned and rescaled Z\n",
        "  Z_dr = Z\n",
        "  \n",
        "  # Loop through each column\n",
        "  for i in np.arange(Z.shape[1]):\n",
        "    \n",
        "    # Check if column is an intercept\n",
        "    if i in interceptCols:\n",
        "      \n",
        "      # If the array doesn't contain only zero and one\n",
        "      if not np.array_equal(np.unique(Z[:,i]), np.array([0,1])):\n",
        "        \n",
        "        Z_dr[np.nonzero(Z_dr[:,i]),i] = (Z_dr[np.nonzero(Z_dr[:,i]),i]-np.mean(Z_dr[np.nonzero(Z_dr[:,i]),i]))/np.std(Z_dr[np.nonzero(Z_dr[:,i]),i])\n",
        "                                         \n",
        "    else:\n",
        "      \n",
        "      Z_dr[np.nonzero(Z_dr[:,i]),i] = (Z_dr[np.nonzero(Z_dr[:,i]),i]-np.mean(Z_dr[np.nonzero(Z_dr[:,i]),i]))/np.std(Z_dr[np.nonzero(Z_dr[:,i]),i])\n",
        "        \n",
        "  return(Z_dr)\n",
        "nlevels = np.array([20,3])#])#\n",
        "nparams = np.array([2,2])#])#\n",
        "Z_dr = demeanAndRescaleZ(Z.toarray(), nparams, nlevels)\n",
        "\n",
        "imshow(Z_dr, \\\n",
        "     interpolation='nearest', aspect='auto')\n",
        "plt.colorbar()\n"
      ],
      "execution_count": 8,
      "outputs": [
        {
          "output_type": "execute_result",
          "data": {
            "text/plain": [
              "<matplotlib.colorbar.Colorbar at 0x7f9e1add97b8>"
            ]
          },
          "metadata": {
            "tags": []
          },
          "execution_count": 8
        },
        {
          "output_type": "display_data",
          "data": {
            "image/png": "[encoded data removed]",
            "text/plain": [
              "<Figure size 432x288 with 2 Axes>"
            ]
          },
          "metadata": {
            "tags": []
          }
        }
      ]
    },
    {
      "cell_type": "code",
      "metadata": {
        "id": "pzweedO6Yw09",
        "colab_type": "code",
        "outputId": "96b22285-6c9a-444d-a519-fdc14936fdaf",
        "colab": {
          "base_uri": "https://localhost:8080/",
          "height": 0
        }
      },
      "source": [
        "imshow(Z.toarray(), \\\n",
        "     interpolation='nearest', aspect='auto')\n",
        "plt.colorbar()\n",
        "\n",
        "#Z_orig = Z.toarray()\n",
        "#Z = scipy.sparse.csr_matrix(Z_dr)"
      ],
      "execution_count": 9,
      "outputs": [
        {
          "output_type": "execute_result",
          "data": {
            "text/plain": [
              "<matplotlib.colorbar.Colorbar at 0x7f9e1ad03a20>"
            ]
          },
          "metadata": {
            "tags": []
          },
          "execution_count": 9
        },
        {
          "output_type": "display_data",
          "data": {
            "image/png": "[encoded data removed]",
            "text/plain": [
              "<Figure size 432x288 with 2 Axes>"
            ]
          },
          "metadata": {
            "tags": []
          }
        }
      ]
    },
    {
      "cell_type": "markdown",
      "metadata": {
        "id": "rkd2LdwKLWtP",
        "colab_type": "text"
      },
      "source": [
        "### Estimated Random Effects matrix\n",
        "\n",
        "The below reads in the Random effects variance predicted by `R`'s `lmer`."
      ]
    },
    {
      "cell_type": "code",
      "metadata": {
        "id": "tOqQRAROqdkv",
        "colab_type": "code",
        "colab": {}
      },
      "source": [
        "# Read in estimated variance\n",
        "RFXVar_REst = pd.read_csv('/Data/BLMM-testdata/estd_rfxvar.csv',header=None).values#pd.read_csv('/Data/BLMM-testdata/estd_rfxvar_1factor.csv',header=None).values#"
      ],
      "execution_count": 0,
      "outputs": []
    },
    {
      "cell_type": "markdown",
      "metadata": {
        "id": "RStOLwF_LlTE",
        "colab_type": "text"
      },
      "source": [
        "### Y vector\n",
        "\n",
        "The response vector is read in here:"
      ]
    },
    {
      "cell_type": "code",
      "metadata": {
        "id": "DG8eWNdpPQOs",
        "colab_type": "code",
        "colab": {}
      },
      "source": [
        "Y=pd.read_csv('/Data/BLMM-testdata/Y.csv',header=None).values#pd.read_csv('/Data/BLMM-testdata/Y_1factor.csv',header=None).values#"
      ],
      "execution_count": 0,
      "outputs": []
    },
    {
      "cell_type": "markdown",
      "metadata": {
        "id": "RHm6DjdbPTvg",
        "colab_type": "text"
      },
      "source": [
        "### X matrix\n",
        "\n",
        "The fixed effects design matrix is read in here. It consists of an intercept and two random (Gaussian) columns.\n"
      ]
    },
    {
      "cell_type": "code",
      "metadata": {
        "id": "xqTKH4n_Po8e",
        "colab_type": "code",
        "outputId": "49bf60de-e993-49be-dd40-b3b6896a4c53",
        "colab": {
          "base_uri": "https://localhost:8080/",
          "height": 0
        }
      },
      "source": [
        "X=pd.read_csv('/Data/BLMM-testdata/X.csv',header=None).values#pd.read_csv('/Data/BLMM-testdata/X_1factor.csv',header=None).values#\n",
        "\n",
        "# Image of the first 20 rows of X\n",
        "imshow(X[1:20,:])"
      ],
      "execution_count": 12,
      "outputs": [
        {
          "output_type": "execute_result",
          "data": {
            "text/plain": [
              "<matplotlib.image.AxesImage at 0x7f9e1ac6cf28>"
            ]
          },
          "metadata": {
            "tags": []
          },
          "execution_count": 12
        },
        {
          "output_type": "display_data",
          "data": {
            "image/png": "[encoded data removed]",
            "text/plain": [
              "<Figure size 432x288 with 1 Axes>"
            ]
          },
          "metadata": {
            "tags": []
          }
        }
      ]
    },
    {
      "cell_type": "markdown",
      "metadata": {
        "id": "W_sXGD8qzskp",
        "colab_type": "text"
      },
      "source": [
        "### Number of Levels and Parameters\n",
        "\n",
        "The number of levels is given by a vector with one entry for each grouping factor. e.g. nlevels=[10,2] means there are 10 levels for factor 1 and 2 levels for factor 2. \n",
        "\n",
        "The number of parameters is given by a vector with one entry for each grouping factor. e.g. nparams=[3,4] means there are 3 variables for factor 1 and 4 variables for factor 2."
      ]
    },
    {
      "cell_type": "code",
      "metadata": {
        "id": "_e5bUA2DztCf",
        "colab_type": "code",
        "colab": {}
      },
      "source": [
        "nlevels = np.array([20,3])#])#\n",
        "nparams = np.array([2,2])#])#"
      ],
      "execution_count": 0,
      "outputs": []
    },
    {
      "cell_type": "markdown",
      "metadata": {
        "id": "0byKXygpCa1P",
        "colab_type": "text"
      },
      "source": [
        "### True b values\n",
        "\n",
        "The true recorded values of the random effects b vector in this example."
      ]
    },
    {
      "cell_type": "code",
      "metadata": {
        "id": "LzwuuWSdCbCJ",
        "colab_type": "code",
        "colab": {}
      },
      "source": [
        "b_True=pd.read_csv('/Data/BLMM-testdata/true_b.csv',header=None).values#pd.read_csv('/Data/BLMM-testdata/true_b_1factor.csv',header=None).values#"
      ],
      "execution_count": 0,
      "outputs": []
    },
    {
      "cell_type": "markdown",
      "metadata": {
        "id": "Bvfns6c-CbPd",
        "colab_type": "text"
      },
      "source": [
        "### True beta values\n",
        "\n",
        "The true fixed effects parameters used to generate this example."
      ]
    },
    {
      "cell_type": "code",
      "metadata": {
        "id": "mlvolWwvCbbP",
        "colab_type": "code",
        "colab": {}
      },
      "source": [
        "beta_True=pd.read_csv('/Data/BLMM-testdata/true_beta.csv',header=None).values#pd.read_csv('/Data/BLMM-testdata/true_beta_1factor.csv',header=None).values#"
      ],
      "execution_count": 0,
      "outputs": []
    },
    {
      "cell_type": "markdown",
      "metadata": {
        "id": "bVyBWvQK2Gw5",
        "colab_type": "text"
      },
      "source": [
        "### Product Matrices\n",
        "\n",
        "All products of matrices are calculated beforehand as it is both more computationally efficient and also similar to the setting we are interested in. "
      ]
    },
    {
      "cell_type": "code",
      "metadata": {
        "id": "e53HYCsj2G7I",
        "colab_type": "code",
        "outputId": "0adbcef0-d857-4c6d-8378-2c1f5e1f9145",
        "colab": {
          "base_uri": "https://localhost:8080/",
          "height": 0
        }
      },
      "source": [
        "# Z transpose Z\n",
        "print(Z.shape)\n",
        "ZtZ = np.matmul(Z.toarray().transpose(),Z.toarray()) # This works for products involving sparse\n",
        "# Sparse \n",
        "# ZtZ = Z.transpose() * Z\n",
        "\n",
        "# Z transpose X\n",
        "XtZ = np.matmul(X.transpose(),Z.toarray())\n",
        "\n",
        "# X transpose Z\n",
        "ZtX = np.matmul(Z.toarray().transpose(),X)\n",
        "\n",
        "# ZtY\n",
        "ZtY = np.matmul(Z.toarray().transpose(),Y)\n",
        "\n",
        "# YtZ\n",
        "YtZ = np.matmul(Y.transpose(),Z.toarray())\n",
        "\n",
        "# XtX\n",
        "XtX = np.matmul(X.transpose(),X)\n",
        "\n",
        "# XtY\n",
        "XtY = np.matmul(X.transpose(),Y)\n",
        "\n",
        "# YtX\n",
        "YtX = np.matmul(Y.transpose(),X)\n",
        "\n",
        "# YtX\n",
        "YtY = np.matmul(Y.transpose(),Y)"
      ],
      "execution_count": 16,
      "outputs": [
        {
          "output_type": "stream",
          "text": [
            "(1000, 46)\n"
          ],
          "name": "stdout"
        }
      ]
    },
    {
      "cell_type": "markdown",
      "metadata": {
        "id": "ilAB3qmDMHa8",
        "colab_type": "text"
      },
      "source": [
        "## Helper Functions\n",
        "\n",
        "This section contains miscellaneous functions used to help the `FS` function including functions to work out the duplication matrix.\n"
      ]
    },
    {
      "cell_type": "markdown",
      "metadata": {
        "id": "cVkJVMSo1fCF",
        "colab_type": "text"
      },
      "source": [
        "###Matrix to Vector function\n",
        "\n",
        "This function takes in a matrix and vectorizes it (i.e. transforms it to a vector of each of the columns of the matrix stacked on top of one another). Example:\n",
        "\n",
        "$$\\begin{bmatrix} a & b & c \\\\ d & e & f \\\\ g & h & i \\\\\\end{bmatrix} \\rightarrow \\begin{bmatrix} a \\\\ d \\\\ g \\\\ b \\\\ e \\\\ h \\\\ c \\\\ f \\\\ i \\end{bmatrix}$$."
      ]
    },
    {
      "cell_type": "code",
      "metadata": {
        "id": "rBhQXRF01d9n",
        "colab_type": "code",
        "outputId": "19f8689f-a639-4e45-d2a4-8fde5c0007df",
        "colab": {
          "base_uri": "https://localhost:8080/",
          "height": 228
        }
      },
      "source": [
        "def mat2vec(matrix):\n",
        "  \n",
        "  #Return vectorised matrix\n",
        "  return(matrix.transpose().reshape(matrix.shape[0]*matrix.shape[1],1))\n",
        "\n",
        "# Example:\n",
        "matrix = np.random.randn(3,3)\n",
        "print(matrix)\n",
        "print(mat2vec(matrix))"
      ],
      "execution_count": 17,
      "outputs": [
        {
          "output_type": "stream",
          "text": [
            "[[ 0.70105957  1.53122018 -1.61626081]\n",
            " [-0.56557918 -0.27036032 -1.01789735]\n",
            " [ 0.42650756  1.59044263 -0.4313635 ]]\n",
            "[[ 0.70105957]\n",
            " [-0.56557918]\n",
            " [ 0.42650756]\n",
            " [ 1.53122018]\n",
            " [-0.27036032]\n",
            " [ 1.59044263]\n",
            " [-1.61626081]\n",
            " [-1.01789735]\n",
            " [-0.4313635 ]]\n"
          ],
          "name": "stdout"
        }
      ]
    },
    {
      "cell_type": "markdown",
      "metadata": {
        "id": "EcIJAyHi1eTj",
        "colab_type": "text"
      },
      "source": [
        "###Matrix to Vector function\n",
        "\n",
        "This function takes in a (symmetric, square) matrix and half-vectorizes it (i.e. transforms it to a vector of each of the columns of the matrix, below and including the diagonal, stacked on top of one another). Example:\n",
        "\n",
        "$$\\begin{bmatrix} a & b & c \\\\ b & d & e \\\\ c & e & f \\\\\\end{bmatrix} \\rightarrow \\begin{bmatrix} a \\\\ b \\\\ c \\\\ d \\\\ e \\\\ f \\end{bmatrix}$$."
      ]
    },
    {
      "cell_type": "code",
      "metadata": {
        "id": "6fpQzdwA3QGq",
        "colab_type": "code",
        "outputId": "965942e6-9ef7-4999-ebbf-3ee0417c74ed",
        "colab": {
          "base_uri": "https://localhost:8080/",
          "height": 175
        }
      },
      "source": [
        "def mat2vech(matrix):\n",
        "  \n",
        "  # Get lower triangular indices\n",
        "  rowinds, colinds = np.tril_indices(matrix.shape[0]) #Try mat.transpose()[trilu]?\n",
        "  \n",
        "  # They're in the wrong order so we need to order them\n",
        "  # To do this we first hash them\n",
        "  indhash = colinds*matrix.shape[0]+rowinds\n",
        "  \n",
        "  # Sort permutation\n",
        "  perm=np.argsort(indhash)\n",
        "  \n",
        "  # Return vectorised half-matrix\n",
        "  return(np.array([matrix[rowinds[perm],colinds[perm]]]).transpose())\n",
        "\n",
        "# Example:\n",
        "matrix = np.random.randn(3,3)\n",
        "print(matrix*matrix.transpose())\n",
        "print(mat2vech(matrix*matrix.transpose()))\n",
        "\n",
        "#print(vech2mat(invDupMat(3) @ mat2vec(matrix*matrix.transpose())))"
      ],
      "execution_count": 18,
      "outputs": [
        {
          "output_type": "stream",
          "text": [
            "[[ 4.11709191 -0.0507718   0.05208841]\n",
            " [-0.0507718   0.63279883 -1.18873472]\n",
            " [ 0.05208841 -1.18873472  1.58103632]]\n",
            "[[ 4.11709191]\n",
            " [-0.0507718 ]\n",
            " [ 0.05208841]\n",
            " [ 0.63279883]\n",
            " [-1.18873472]\n",
            " [ 1.58103632]]\n"
          ],
          "name": "stdout"
        }
      ]
    },
    {
      "cell_type": "markdown",
      "metadata": {
        "id": "V79rfwHp9eNe",
        "colab_type": "text"
      },
      "source": [
        ""
      ]
    },
    {
      "cell_type": "code",
      "metadata": {
        "id": "1DmbjUOh9euy",
        "colab_type": "code",
        "colab": {}
      },
      "source": [
        "def vec2mat(vec):\n",
        "  \n",
        "  # Return matrix\n",
        "  return(vec.reshape(np.int64(np.sqrt(vec.shape[0])),np.int64(np.sqrt(vec.shape[0]))).transpose())\n",
        "\n",
        "# Example\n",
        "#vec = np.array([[1,2,3,4]]).transpose()\n",
        "#mat = vec2mat(vec)\n",
        "#print(vec)\n",
        "#print(mat)"
      ],
      "execution_count": 0,
      "outputs": []
    },
    {
      "cell_type": "markdown",
      "metadata": {
        "id": "ijBvOZsu9iKg",
        "colab_type": "text"
      },
      "source": [
        ""
      ]
    },
    {
      "cell_type": "code",
      "metadata": {
        "id": "nhitZciM9hcz",
        "colab_type": "code",
        "colab": {}
      },
      "source": [
        "def vech2mat(vech):\n",
        "  \n",
        "  # dimension of matrix\n",
        "  n = np.int64((-1+np.sqrt(1+8*vech.shape[0]))/2)\n",
        "  matrix = np.zeros((n,n))\n",
        "  \n",
        "  # Get lower triangular indices\n",
        "  rowinds, colinds = np.tril_indices(matrix.shape[0])\n",
        "  \n",
        "  # They're in the wrong order so we need to order them\n",
        "  # To do this we first hash them\n",
        "  indhash = colinds*matrix.shape[0]+rowinds\n",
        "  \n",
        "  # Sort permutation\n",
        "  perm=np.argsort(indhash)\n",
        "  \n",
        "  # Assign values to lower half\n",
        "  matrix[rowinds[perm],colinds[perm]] = vech.reshape(vech.shape[0])\n",
        "  \n",
        "  # Assign values to upper half\n",
        "  matrix[colinds[perm],rowinds[perm]] = vech.reshape(vech.shape[0])\n",
        "  \n",
        "  # Return vectorised half-matrix\n",
        "  return(matrix)\n",
        "\n",
        "# Example:\n",
        "#vech = np.array([[1],[2],[3],[4],[5],[6],[7],[8],[9],[10]])\n",
        "#matrix = vech2mat(vech)\n",
        "#print(vech)\n",
        "#print(matrix)"
      ],
      "execution_count": 0,
      "outputs": []
    },
    {
      "cell_type": "markdown",
      "metadata": {
        "id": "Gd3_jaDe-MNy",
        "colab_type": "text"
      },
      "source": [
        ""
      ]
    },
    {
      "cell_type": "code",
      "metadata": {
        "id": "qutTs-8S-MuT",
        "colab_type": "code",
        "colab": {}
      },
      "source": [
        "def vec2vech(vec):\n",
        "  \n",
        "  # Return vech\n",
        "  return(mat2vech(vec2mat(vec)))\n",
        "\n",
        "# Example\n",
        "#vec = np.array([[1],[2],[3],[2],[4],[5],[3],[5],[6]])\n",
        "#vech = vec2vech(vec)\n",
        "\n",
        "#print(vec)\n",
        "#print(vech)"
      ],
      "execution_count": 0,
      "outputs": []
    },
    {
      "cell_type": "markdown",
      "metadata": {
        "id": "Z-Yp9RjT-PmL",
        "colab_type": "text"
      },
      "source": [
        ""
      ]
    },
    {
      "cell_type": "code",
      "metadata": {
        "id": "P8txTVtu-Pwc",
        "colab_type": "code",
        "colab": {}
      },
      "source": [
        "def vech2vec(vech):\n",
        "  \n",
        "  # Return vec\n",
        "  return(mat2vec(vech2mat(vech)))\n",
        "\n",
        "# Example\n",
        "#vech = np.array([[1],[2],[3],[4],[5],[6],[7],[8],[9],[10]])\n",
        "#vec = vech2vec(vech)\n",
        "\n",
        "#print(vech)\n",
        "#print(vec)"
      ],
      "execution_count": 0,
      "outputs": []
    },
    {
      "cell_type": "markdown",
      "metadata": {
        "id": "kG22u6mq9mQT",
        "colab_type": "text"
      },
      "source": [
        ""
      ]
    },
    {
      "cell_type": "code",
      "metadata": {
        "id": "2PD6f9bD9mgx",
        "colab_type": "code",
        "colab": {}
      },
      "source": [
        "def dupMat(n):\n",
        "  \n",
        "  # Make vech of 1:(n(n+1)/2)\n",
        "  vech = np.arange(n*(n+1)/2)\n",
        "  \n",
        "  # Convert to vec\n",
        "  vec = vech2vec(vech)\n",
        "  \n",
        "  # Make D (sparse one hot encoded vec)\n",
        "  D = scipy.sparse.csr_matrix((np.ones(n**2),(np.arange(n**2),np.int64(vec).reshape(vec.shape[0]))))\n",
        "  \n",
        "  return(D)\n",
        "\n",
        "# Example\n",
        "#print(dupMat(3))"
      ],
      "execution_count": 0,
      "outputs": []
    },
    {
      "cell_type": "markdown",
      "metadata": {
        "id": "TVrM3CsGSIHL",
        "colab_type": "text"
      },
      "source": [
        ""
      ]
    },
    {
      "cell_type": "code",
      "metadata": {
        "id": "2FR-cwIkSIQJ",
        "colab_type": "code",
        "outputId": "c5835829-cafa-4290-a962-02cee51ecd27",
        "colab": {
          "base_uri": "https://localhost:8080/",
          "height": 175
        }
      },
      "source": [
        "def invDupMat(n):\n",
        "  \n",
        "  \n",
        "  # Make vech of 1:(n(n+1)/2)\n",
        "  vech = np.arange(n*(n+1)/2)\n",
        "  \n",
        "  # Convert to vec\n",
        "  vec = np.int64(vech2vec(vech))\n",
        "  vec = vec.reshape(vec.shape[0])\n",
        "  \n",
        "  # Work out frequency of each entry\n",
        "  freq = 1/np.bincount(vec)\n",
        "  \n",
        "  # Work out duplication matrix\n",
        "  D = scipy.sparse.csr_matrix((freq[vec],(vec,np.arange(n**2))))\n",
        "  \n",
        "  return(D)\n",
        "\n",
        "# Example\n",
        "print(invDupMat(3))"
      ],
      "execution_count": 24,
      "outputs": [
        {
          "output_type": "stream",
          "text": [
            "  (0, 0)\t1.0\n",
            "  (1, 1)\t0.5\n",
            "  (1, 3)\t0.5\n",
            "  (2, 2)\t0.5\n",
            "  (2, 6)\t0.5\n",
            "  (3, 4)\t1.0\n",
            "  (4, 5)\t0.5\n",
            "  (4, 7)\t0.5\n",
            "  (5, 8)\t1.0\n"
          ],
          "name": "stdout"
        }
      ]
    },
    {
      "cell_type": "markdown",
      "metadata": {
        "id": "2byzJx5Kf5fS",
        "colab_type": "text"
      },
      "source": [
        ""
      ]
    },
    {
      "cell_type": "code",
      "metadata": {
        "id": "gFCU4gxkf5r8",
        "colab_type": "code",
        "colab": {}
      },
      "source": [
        "def blockInverse(matrix, blockSize, numBlocks):\n",
        "\n",
        "  invMatrix = scipy.sparse.csr_matrix((np.array([]), (np.array([]),np.array([]))),shape=matrix.shape)\n",
        "  \n",
        "  # For each level, invert the corresponding block on the diagonal\n",
        "  for i in range(numBlocks):\n",
        "    \n",
        "    # The block is nparams by nparams\n",
        "    blockInds = np.ix_(np.arange(i*blockSize,(i+1)*blockSize),np.arange(i*blockSize,(i+1)*blockSize))\n",
        "    \n",
        "    # Get the block\n",
        "    block = matrix[blockInds]\n",
        "    \n",
        "    # Replace it with it's inverse\n",
        "    invMatrix[blockInds]=scipy.sparse.linalg.inv(block)\n",
        "    \n",
        "  return(invMatrix)\n",
        "\n",
        "# Example - need to have loaded in data first\n",
        "\n",
        "# Get ZtZ just for the first grouping factor\n",
        "firstFactorIndices = np.ix_(np.arange(nlevels[0]*nparams[0]),np.arange(nlevels[0]*nparams[0]))\n",
        "ZtZ_f1 = ZtZ[firstFactorIndices]\n",
        "\n",
        "# Compute the block inverse for ZtZ_f1\n",
        "#t1 = time.time()\n",
        "#ZtZ_f1_inv = blockInverse(matrix=ZtZ_f1, blockSize=nparams[0], numBlocks=nlevels[0])\n",
        "#t2 = time.time()\n",
        "#blockInverse_time = t2-t1\n",
        "\n",
        "# Compare it to the inverse scipy would calculate\n",
        "#t1 = time.time()\n",
        "#ZtZ_f1_inv_sp = scipy.sparse.linalg.inv(ZtZ_f1)\n",
        "#t2 = time.time()\n",
        "#scipyInverse_time = t2-t1\n",
        "\n",
        "#print(blockInverse_time)\n",
        "#print(scipyInverse_time)\n"
      ],
      "execution_count": 0,
      "outputs": []
    },
    {
      "cell_type": "markdown",
      "metadata": {
        "id": "-BdQ3jh7x71k",
        "colab_type": "text"
      },
      "source": [
        ""
      ]
    },
    {
      "cell_type": "code",
      "metadata": {
        "id": "77gBbWIAx8AZ",
        "colab_type": "code",
        "outputId": "126b7c33-9dd4-425e-f664-cc664d79967b",
        "colab": {
          "base_uri": "https://localhost:8080/",
          "height": 175
        }
      },
      "source": [
        "def recursiveInverse(M, nparams, nlevels):\n",
        "  \n",
        "  # Check if we have a matrix we can partition into more than 1 block\n",
        "  if len(nparams) > 1:\n",
        "  \n",
        "    # Work out qc\n",
        "    qc = nparams[-1]*nlevels[-1]\n",
        "    # Make q\n",
        "    q = M.shape[0]\n",
        "\n",
        "    # Get A, B and C where M=[[A,B],[B',C]]\n",
        "    # A\n",
        "    A_inds = np.ix_(np.arange(0,(q-qc)),np.arange(0,(q-qc)))\n",
        "    A = M[A_inds]\n",
        "\n",
        "    # B\n",
        "    B_inds = np.ix_(np.arange(0,(q-qc)),np.arange((q-qc),q))\n",
        "    B = M[B_inds].toarray() # B is dense\n",
        "\n",
        "    # C\n",
        "    C_inds = np.ix_(np.arange((q-qc),q),np.arange((q-qc),q))\n",
        "    C = M[C_inds].toarray() # C is small and now only involved in dense mutliplys\n",
        "\n",
        "    # Recursive inverse A\n",
        "    if nparams[:-1].shape[0] > 1:\n",
        "\n",
        "      Ainv = recursiveInverse(A, nparams[:-1], nlevels[:-1]).toarray()\n",
        "\n",
        "    else:\n",
        "\n",
        "      #Ainv = blockInverse(A, nparams[0], nlevels[0]) - much slower\n",
        "      Ainv = scipy.sparse.linalg.inv(scipy.sparse.csc_matrix(A)).toarray()\n",
        "\n",
        "    # Schur complement\n",
        "    S = C-np.matmul(np.matmul(B.transpose(),Ainv),B)\n",
        "    Sinv = np.linalg.inv(S)\n",
        "\n",
        "    # Top Left Hand Side of inverse\n",
        "    TLHS = Ainv + np.matmul(np.matmul(np.matmul(np.matmul(Ainv,B),Sinv),B.transpose()),Ainv)\n",
        "\n",
        "\n",
        "    # Top Right Hand Side of inverse\n",
        "    TRHS = -np.matmul(np.matmul(Ainv,B),Sinv)\n",
        "\n",
        "\n",
        "    # Bottom Right Hand Side of inverse\n",
        "    BRHS = Sinv\n",
        "\n",
        "    # Join together\n",
        "    top = np.hstack((TLHS,TRHS))\n",
        "    bottom = np.hstack((TRHS.transpose(), BRHS))\n",
        "\n",
        "    # Make Minv\n",
        "    Minv = np.vstack((top, bottom))\n",
        "    \n",
        "  else:\n",
        "    \n",
        "    # If we have only one block; invert it\n",
        "    Minv = scipy.sparse.linalg.inv(scipy.sparse.csc_matrix(M)).toarray() \n",
        "  \n",
        "  return(Minv)\n",
        "\n",
        "# Example\n",
        "t1 = time.time()\n",
        "ZtZinv_rec = recursiveInverse(scipy.sparse.csc_matrix(ZtZ), nparams, nlevels)\n",
        "t2 = time.time()\n",
        "inv_rec_time = t2-t1\n",
        "\n",
        "t1 = time.time()\n",
        "ZtZinv_sp = scipy.sparse.linalg.inv(scipy.sparse.csc_matrix(ZtZ))\n",
        "t2 = time.time()\n",
        "inv_sp_time = t2-t1\n",
        "\n",
        "t1 = time.time()\n",
        "ZtZinv_np = np.linalg.inv(ZtZ)\n",
        "t2 = time.time()\n",
        "inv_np_time = t2-t1\n",
        "\n",
        "\n",
        "print('Distance (norm) from identity (scipy)')\n",
        "print(np.linalg.norm(np.matmul(ZtZinv_sp.toarray(),ZtZ)-np.eye(ZtZ.shape[0])))\n",
        "print('Distance (norm) from identity (numpy)')\n",
        "print(np.linalg.norm(np.matmul(ZtZinv_np,ZtZ)-np.eye(ZtZ.shape[0])))\n",
        "print('Distance (norm) from identity (rec)')\n",
        "print(np.linalg.norm(np.matmul(ZtZinv_rec,ZtZ)-np.eye(ZtZ.shape[0])))\n",
        "\n",
        "print(inv_sp_time)\n",
        "print(inv_np_time)\n",
        "print(inv_rec_time)\n"
      ],
      "execution_count": 26,
      "outputs": [
        {
          "output_type": "stream",
          "text": [
            "Distance (norm) from identity (scipy)\n",
            "289.8902619901572\n",
            "Distance (norm) from identity (numpy)\n",
            "1955.403906774292\n",
            "Distance (norm) from identity (rec)\n",
            "381.4130003726553\n",
            "0.01392817497253418\n",
            "0.0003743171691894531\n",
            "0.015040397644042969\n"
          ],
          "name": "stdout"
        }
      ]
    },
    {
      "cell_type": "markdown",
      "metadata": {
        "id": "AyCloufz0W3U",
        "colab_type": "text"
      },
      "source": [
        "#### Force symmetric\n",
        "\n",
        "The below function takes in a matrix $X$ and returns a symmetric matrix $X_s$ given by:\n",
        "\n",
        "$$X_s = (X+X^T)/2$$\n",
        "\n",
        "The effect of this is that if $X$ is expected to be symmetric but is not due to computational error, any antisymmetric errors will be resolved/reduced."
      ]
    },
    {
      "cell_type": "code",
      "metadata": {
        "id": "CR4xAjhO0W-f",
        "colab_type": "code",
        "outputId": "ccc3ef1a-a11a-4cda-d633-b431fa212ae4",
        "colab": {
          "base_uri": "https://localhost:8080/",
          "height": 52
        }
      },
      "source": [
        "import numba\n",
        "@numba.jit\n",
        "def forceSym(x):\n",
        "  \n",
        "  # Force it to be symmetric\n",
        "  return((x+x.transpose())/2)\n",
        "\n",
        "#print(ZtZ-forceSym(ZtZ))\n",
        "\n",
        "t1 = time.time()\n",
        "ZtZ = forceSym(forceSym(ZtZ))\n",
        "print(time.time()-t1)\n",
        "\n",
        "t1 = time.time()\n",
        "ZtZ = forceSym(forceSym(ZtZ))\n",
        "print(time.time()-t1)"
      ],
      "execution_count": 27,
      "outputs": [
        {
          "output_type": "stream",
          "text": [
            "0.33131909370422363\n",
            "6.747245788574219e-05\n"
          ],
          "name": "stdout"
        }
      ]
    },
    {
      "cell_type": "markdown",
      "metadata": {
        "id": "MPgPFpnOLxdG",
        "colab_type": "text"
      },
      "source": [
        "### Sum of square residuals\n",
        "\n",
        "The function below calculates the sum of the square residuals, $e^Te$, using the below formula:\n",
        "\n",
        "$$e^Te = (Y-X\\beta)^T(Y-X\\beta)$$ \n",
        "$$=Y^TY - 2Y^TX\\beta + \\beta^T X^TX \\beta$$\n",
        "\n",
        "\n",
        "----\n",
        "\n",
        "This function takes the following inputs:\n",
        "\n",
        "----\n",
        "\n",
        " - `YtX`: $Y$ transpose multiplied by $X$ ($Y^TX$ in the above notation).\n",
        " - `YtY`: $Y$ transpose multiplied by $Y$ ($Y^TY$ in the above notation).\n",
        " - `XtX`: $X$ transpose multiplied by $X$ ($X^TX$ in the above notation).\n",
        " - `beta`: An estimate of the parameter vector ($\\beta$ in the above notation).\n",
        " \n",
        "----\n",
        "\n",
        "It returns as outputs:\n",
        "\n",
        "----\n",
        "\n",
        "\n",
        " - `ete`: The sum of square residuals ($e^Te$ in the above notation)."
      ]
    },
    {
      "cell_type": "code",
      "metadata": {
        "id": "KK0i7TkgNNZD",
        "colab_type": "code",
        "outputId": "d9832c57-22dc-45fb-f5f7-e93aee974056",
        "colab": {
          "base_uri": "https://localhost:8080/",
          "height": 34
        }
      },
      "source": [
        "def ssr(YtX, YtY, XtX, beta):\n",
        "  \n",
        "  # Return the sum of squared residuals\n",
        "  return(YtY - 2*YtX @ beta + beta.transpose() @ XtX @ beta)\n",
        "\n",
        "t1 = time.time()\n",
        "ete = ssr(YtX, YtY, XtX, np.array([[1],[2],[3]]))\n",
        "t2 = time.time()\n",
        "print(t2-t1)\n"
      ],
      "execution_count": 28,
      "outputs": [
        {
          "output_type": "stream",
          "text": [
            "0.00023102760314941406\n"
          ],
          "name": "stdout"
        }
      ]
    },
    {
      "cell_type": "markdown",
      "metadata": {
        "id": "LO_68uYYxCvf",
        "colab_type": "text"
      },
      "source": [
        "#### Get Factor/Level Indices\n",
        "\n",
        "This function gives the indices of the columns of the $Z$ matrix which correspond to factor $k$ level $j$. \n",
        "\n",
        "\n",
        "----\n",
        "\n",
        "This function takes the following inputs:\n",
        "\n",
        "----\n",
        "\n",
        " - `k`: The grouping factor we need the columns of.\n",
        " - `j`: The level of the grouping factor $k$ which we are interested in.\n",
        " - `nlevels`: A vector containing the number of levels for each factor, e.g. `nlevels=[3,4]` would mean the first factor has 3 levels and the second factor has 4 levels.\n",
        " - `nparams`: A vector containing the number of parameters for each factor, e.g. `nlevels=[2,1]` would mean the first factor has 2 parameters and the second factor has 1 parameter.\n",
        " \n",
        "----\n",
        "\n",
        "It returns as outputs:\n",
        "\n",
        "----\n",
        "\n",
        "- `Ikj`: The indices of the columns of $Z$ corresponding to factor $k$ level $j$."
      ]
    },
    {
      "cell_type": "code",
      "metadata": {
        "id": "iSrodNh0zI0_",
        "colab_type": "code",
        "outputId": "974d5f48-5b11-46f9-b630-476a183db75a",
        "colab": {
          "base_uri": "https://localhost:8080/",
          "height": 34
        }
      },
      "source": [
        "import numba\n",
        "\n",
        "@numba.jit\n",
        "# k and j are both zero indexed\n",
        "def faclev_indices(k, j, nlevels, nparams):\n",
        "  \n",
        "  # Work out the starting point of the indices\n",
        "  start = np.concatenate((np.array([0]), np.cumsum(nlevels*nparams)))[k] + nparams[k]*j\n",
        "  \n",
        "  # work out the end point of the indices\n",
        "  end = start + nparams[k]\n",
        "  \n",
        "  return(np.arange(start, end))\n",
        "\n",
        "t1 = time.time()\n",
        "faclev_indices(0, 1, nlevels, nparams)\n",
        "t2 = time.time()\n",
        "\n",
        "print(t2-t1)"
      ],
      "execution_count": 29,
      "outputs": [
        {
          "output_type": "stream",
          "text": [
            "0.5358004570007324\n"
          ],
          "name": "stdout"
        }
      ]
    },
    {
      "cell_type": "code",
      "metadata": {
        "id": "QYv59en2gpt3",
        "colab_type": "code",
        "outputId": "c2bc077d-c6d6-4f5a-e9dd-76d6a4ab0e2f",
        "colab": {
          "base_uri": "https://localhost:8080/",
          "height": 34
        }
      },
      "source": [
        "t1 = time.time()\n",
        "faclev_indices(0, 1, nlevels, nparams)\n",
        "t2 = time.time()\n",
        "\n",
        "print(t2-t1)"
      ],
      "execution_count": 30,
      "outputs": [
        {
          "output_type": "stream",
          "text": [
            "6.556510925292969e-05\n"
          ],
          "name": "stdout"
        }
      ]
    },
    {
      "cell_type": "markdown",
      "metadata": {
        "id": "ENLuSjo07vTW",
        "colab_type": "text"
      },
      "source": [
        "### Initial Beta\n",
        "\n",
        "The below function returns the OLS estimator for $\\hat{\\beta}$, given by:\n",
        "\n",
        "$$\\hat{\\beta}_{OLS}=(X'X)^{-1}X'Y$$\n",
        "\n",
        "----\n",
        "\n",
        "This function takes the following inputs:\n",
        "\n",
        "----\n",
        "\n",
        " - `XtX`: The design matrix transposed and multiplied by itself ($X'X$ in the above notation)\n",
        " - `XtY`: The design matrix transposed and multiplied by the response vector ($X'Y$ in the above notation).\n",
        " \n",
        "----\n",
        "\n",
        "It returns as outputs:\n",
        "\n",
        "----\n",
        "\n",
        "- `beta`: The OLS estimate of $\\beta$ ($\\hat{\\beta}_{OLS}$ in the above notation).\n",
        "\n"
      ]
    },
    {
      "cell_type": "code",
      "metadata": {
        "id": "3Ue2gIHo7veU",
        "colab_type": "code",
        "outputId": "871245d5-c8bd-4f7e-f8bc-43147c881fd9",
        "colab": {
          "base_uri": "https://localhost:8080/",
          "height": 122
        }
      },
      "source": [
        "def initBeta(XtX, XtY):\n",
        "  \n",
        "  # Get the beta estimator\n",
        "  beta = np.linalg.solve(XtX,XtY)\n",
        "  \n",
        "  # Return the result\n",
        "  return(beta)\n",
        "\n",
        "print(initBeta(XtX,XtY))\n",
        "print(np.linalg.inv(XtX) @ XtY)"
      ],
      "execution_count": 31,
      "outputs": [
        {
          "output_type": "stream",
          "text": [
            "[[0.1591389 ]\n",
            " [3.83124154]\n",
            " [3.14595612]]\n",
            "[[0.1591389 ]\n",
            " [3.83124154]\n",
            " [3.14595612]]\n"
          ],
          "name": "stdout"
        }
      ]
    },
    {
      "cell_type": "markdown",
      "metadata": {
        "id": "2xeRsXZBJUGd",
        "colab_type": "text"
      },
      "source": [
        "#### Initial Sigma\n",
        "\n",
        "The function below returns an initial estimate for the Fixed Effects Variance, $\\sigma^2$. The estimator used is based on the suggested OLS estimator in Demidenko (2012) and is given by:\n",
        "\n",
        "$$\\hat{\\sigma}^2_{OLS}=\\frac{1}{n}(Y-X\\beta)^T(Y-X\\beta)$$\n",
        "$$=\\frac{1}{n}e^Te$$\n",
        "\n",
        "----\n",
        "\n",
        "This function takes the following inputs:\n",
        "\n",
        "----\n",
        "\n",
        " - `ete`: The sum of square residuals ($e^Te$ in the above notation).\n",
        " - `n`: The total number of observations ($n$ in the above notation).\n",
        " \n",
        "----\n",
        "\n",
        "It returns as outputs:\n",
        "\n",
        "----\n",
        "\n",
        "- `sigma2`: The OLS estimate of $\\sigma^2$ ($\\hat{\\sigma}^2_{OLS}$ in the above notation)."
      ]
    },
    {
      "cell_type": "code",
      "metadata": {
        "id": "_STdZ1mNLWbR",
        "colab_type": "code",
        "colab": {}
      },
      "source": [
        "def initSigma2(ete, n):\n",
        "\n",
        "  # Return the OLS estimate of sigma\n",
        "  return(1/n*ete[0,0])"
      ],
      "execution_count": 0,
      "outputs": []
    },
    {
      "cell_type": "markdown",
      "metadata": {
        "id": "rdtIeA0NNsZl",
        "colab_type": "text"
      },
      "source": [
        "#### Initial D_k\n",
        "\n",
        "The function below returns an initial estimate for the Random Effects Variance matrix for the $k^{th}$ grouping factor, $D_k$. The estimator used is an adaption of the suggested estimator in Demidenko (2012) and is given by:\n",
        "\n",
        "$$vec(\\hat{D}_{k})=\\bigg[\\sum_{j=1}^{l_k}(Z_{(k,j)}^TZ_{(k,j)}) \\otimes (Z_{(k,j)}^TZ_{(k,j)})\\bigg]^{-1}vec\\bigg(\\sum_{j=1}^{l_k}[\\hat{\\sigma}^{-2}_{OLS}Z_{(k,j)}^Tee^TZ_{(k,j)} - Z_{(k,j)}^TZ_{(k,j)}]\\bigg)$$\n",
        "\n",
        "Or:\n",
        "\n",
        "$$\\hat{D}_{k}=matrix\\bigg(\\bigg[\\sum_{j=1}^{l_k}(Z_{(k,j)}^TZ_{(k,j)}) \\otimes (Z_{(k,j)}^TZ_{(k,j)})\\bigg]^{-1}vec\\bigg(\\sum_{j=1}^{l_k}[\\hat{\\sigma}^{-2}_{OLS}Z_{(k,j)}^Tee^TZ_{(k,j)} - Z_{(k,j)}^TZ_{(k,j)}]\\bigg)\\bigg)$$\n",
        "\n",
        "----\n",
        "\n",
        "This function takes the following inputs:\n",
        "\n",
        "----\n",
        "\n",
        " - `k`: The grouping factor we wish to estimate $D$ for ($k$ in the above notation)\n",
        " - `lk`: The number of levels belonging to grouping factor $k$ ($l_k$ in the above notation).\n",
        " - `ZtZ`: The $Z$ matrix transposed and then multiplied by itself ($Z^TZ$ in the above notation).\n",
        " - `Zte`: The $Z$ matrix transposed and then multiplied by the OLS residuals ($Z^Te=Z^T(Y-X\\beta)$ in the above notation).\n",
        " - `sigma2`: The OLS estimate of $\\sigma^2$ ($\\hat{\\sigma}^2_{OLS}$ in the above notation).\n",
        " \n",
        "----\n",
        "\n",
        "It returns as outputs:\n",
        "\n",
        "----\n",
        "\n",
        "- `Dkest`: The inital estimate of $D_k$ ($\\hat{D}_k$ in the above notation).\n",
        "\n",
        "\n",
        "###CHECK DERIVATION"
      ]
    },
    {
      "cell_type": "code",
      "metadata": {
        "id": "I0J2CFTrNrhq",
        "colab_type": "code",
        "outputId": "251913f9-7d8a-4220-903e-b2b0b35b322c",
        "colab": {
          "base_uri": "https://localhost:8080/",
          "height": 52
        }
      },
      "source": [
        "def initDk(k, lk, ZtZ, Zte, sigma2):\n",
        "  \n",
        "  # Initalize D to zeros\n",
        "  invSig2ZteetZminusZtZ = np.zeros((nparams[k],nparams[k]))\n",
        "  \n",
        "  # For each level j we need to add a term\n",
        "  for j in np.arange(nlevels[k]):\n",
        "    \n",
        "    Ikj = faclev_indices(k, j, nlevels, nparams)\n",
        "\n",
        "    # Work out Z_(k, j)'Z_(k, j)\n",
        "    ZkjtZkj = ZtZ[np.ix_(Ikj,Ikj)]\n",
        "    \n",
        "    # Work out Z_(k,j)'e\n",
        "    Zkjte = Zte[Ikj,:]\n",
        "    \n",
        "    if j==0:\n",
        "      \n",
        "      # Add first Z_(k,j)'Z_(k,j) kron Z_(k,j)'Z_(k,j)\n",
        "      ZtZkronZtZ = np.kron(ZkjtZkj,ZkjtZkj.transpose())\n",
        "      \n",
        "      # Add first \\sigma^{-2}Z'ee'Z - Z_(k,j)'Z_(k,j)\n",
        "      invSig2ZteetZminusZtZ = 1/sigma2*(Zkjte @ Zkjte.transpose()) - ZkjtZkj\n",
        "      \n",
        "    else:\n",
        "      \n",
        "      # Add next Z_(k,j)'Z_(k,j) kron Z_(k,j)'Z_(k,j)\n",
        "      ZtZkronZtZ = ZtZkronZtZ + np.kron(ZkjtZkj,ZkjtZkj.transpose())\n",
        "      \n",
        "      # Add next \\sigma^{-2}Z'ee'Z - Z_(k,j)'Z_(k,j)\n",
        "      invSig2ZteetZminusZtZ = invSig2ZteetZminusZtZ + 1/sigma2*(Zkjte @ Zkjte.transpose()) - ZkjtZkj\n",
        "  \n",
        "  # Work out the final term.\n",
        "  Dkest = vec2mat(np.linalg.inv(ZtZkronZtZ) @ mat2vec(invSig2ZteetZminusZtZ)) \n",
        "  \n",
        "  return(Dkest)\n",
        "\n",
        "Zte = ZtY-ZtX @ np.array([[1],[2],[3]])\n",
        "\n",
        "t1 = time.time()\n",
        "initDk(0, nlevels[0], ZtZ, Zte , 1)\n",
        "t2 = time.time()\n",
        "\n",
        "print(t2-t1)\n",
        "\n",
        "t1 = time.time()\n",
        "initDk(0, nlevels[0], ZtZ, Zte , 1)\n",
        "t2 = time.time()\n",
        "\n",
        "print(t2-t1)"
      ],
      "execution_count": 33,
      "outputs": [
        {
          "output_type": "stream",
          "text": [
            "0.006935596466064453\n",
            "0.003425121307373047\n"
          ],
          "name": "stdout"
        }
      ]
    },
    {
      "cell_type": "markdown",
      "metadata": {
        "id": "hjypr01QTJh5",
        "colab_type": "text"
      },
      "source": [
        "#### Non-negative Definite D\n",
        "\n",
        "The below function takes in a covariance matrix $D$ and finds nearest projection onto the space of non-negative definite matrices $\\mathbb{D}_+$. It uses the following method taken from Demidenko (2012), page 105:\n",
        "\n",
        "If $D$ is non-negative definite and has eigenvalue decomposition $D=P\\Lambda P^T$ it's closest projection into $\\mathbb{D}_+$ is defined by the matrix below:\n",
        "\n",
        "$$\\hat{D}_+ = P\\Lambda_+P'$$\n",
        "\n",
        "Where $\\Lambda_+$ is defined by the elementwise maximum of $\\Lambda$ and 0; i.e. $\\Lambda_{+(i,j)} = max(\\Lambda_{+(i,j)},0)$.\n",
        "\n",
        "Note: This is not to be confused with the generalized inverse of the duplication matrix $\\mathcal{D}^+$.\n",
        "\n",
        "----\n",
        "\n",
        "This function takes the following inputs:\n",
        "\n",
        "----\n",
        "\n",
        " - `D`: A square symmetric matrix.\n",
        " \n",
        "----\n",
        "\n",
        "It returns as outputs:\n",
        "\n",
        "----\n",
        "\n",
        "- `D_nnd`: The nearest projection of $D$ onto the space of non-negative definite matrices $\\mathbb{D}_+$."
      ]
    },
    {
      "cell_type": "code",
      "metadata": {
        "id": "k2rW_uOBTJ0l",
        "colab_type": "code",
        "colab": {}
      },
      "source": [
        "def makeDnnd(D):\n",
        "  \n",
        "  # Check if we have negative eigenvalues\n",
        "  if not np.all(np.linalg.eigvals(D)>0):\n",
        "  \n",
        "    # If we have negative eigenvalues\n",
        "    eigvals,eigvecs = np.linalg.eigh(D)\n",
        "    \n",
        "    # Work out elementwise max of lambda and 0\n",
        "    lamplus = np.diag(np.maximum(eigvals,0))\n",
        "    \n",
        "    # Work out D+\n",
        "    D_nnd = eigvecs @ lamplus @ np.linalg.inv(eigvecs)\n",
        "    \n",
        "  else:\n",
        "    \n",
        "    # D is already non-negative in this case\n",
        "    D_nnd = D\n",
        "    \n",
        "  return(D_nnd)\n",
        "  "
      ],
      "execution_count": 0,
      "outputs": []
    },
    {
      "cell_type": "markdown",
      "metadata": {
        "id": "fWz8h5WUFn7R",
        "colab_type": "text"
      },
      "source": [
        "#### Log likelihood of $(\\beta, \\sigma^2, D)$\n",
        "\n",
        "This function returns the log likelihood of $(\\beta, \\sigma^2, D)$ which is given by the below equation:\n",
        "\n",
        "$$l(\\beta,\\sigma^2,D) = -\\frac{1}{2}\\bigg\\{ n\\text{ln}(\\sigma^2) + \\text{ln}|I+Z'ZD| + \\sigma^{-2}(e'e-e'ZD(I+Z'ZD)^{-1}Z'e)\\bigg\\}$$\n",
        "\n",
        "\n",
        "----\n",
        "\n",
        "This function takes the following inputs:\n",
        "\n",
        "----\n",
        "\n",
        " - `n`: The total number of observations.\n",
        " - `ZtZ`: The $Z$ matrix transposed and then multiplied by Z ($Z'Z$ in the above notation).\n",
        " - `Zte`: The $Z$ matrix transposed and then multiplied by the OLS residuals ($Z'e=Z'(Y-X\\beta)$ in the above notation).\n",
        " - `ete`: The OLS residuals transposed and then multiplied by themselves ($e'e=(Y-X\\beta)'(Y-X\\beta)$ in the above notation).\n",
        " - `sigma2`: The fixed effects variance ($\\sigma^2$ in the above notation).\n",
        " - `DinvIplusZtZD`: The product $D(I+Z'ZD)^{-1}$.\n",
        " - `D`: The random effects variance-covariance matrix ($D$ in the above notation)\n",
        " \n",
        "----\n",
        "\n",
        "It returns as outputs:\n",
        "\n",
        "----\n",
        "\n",
        "- `llh`: The log likelihood of $(\\beta, \\sigma^2, D)$ ($l(\\beta,\\sigma^2,D)$ in the above notation).\n"
      ]
    },
    {
      "cell_type": "code",
      "metadata": {
        "id": "3oaXHL55Fnlv",
        "colab_type": "code",
        "outputId": "cd6e7545-885e-479a-d862-26aa99fbeee7",
        "colab": {
          "base_uri": "https://localhost:8080/",
          "height": 175
        }
      },
      "source": [
        "def llh(n, ZtZ, Zte, ete, sigma2, DinvIplusZtZD,D):\n",
        "  \n",
        "  # Work out the log likelihood\n",
        "  llh = -0.5*(n*np.log(sigma2) + np.log(np.linalg.det(np.eye(ZtZ.shape[0]) + ZtZ @ D)) + (1/sigma2)*(ete - forceSym(Zte.transpose() @ DinvIplusZtZD @ Zte)))\n",
        "  \n",
        "  # Return result\n",
        "  return(llh)\n",
        "\n",
        "Ddict = dict()\n",
        "print(RFXVar_REst)\n",
        "for k in np.arange(len(nparams)):\n",
        "  \n",
        "  Ddict[k] = RFXVar_REst[np.ix_(np.arange(2*k,2*(k+1)),np.arange(2*k,2*(k+1)))]#makeDnnd(initDk(k, nlevels[k], ZtZ, Zte, sigma2))#\n",
        "  print(Ddict[k])\n",
        "\n",
        "# Matrix version\n",
        "D = np.array([])\n",
        "for i in np.arange(len(nparams)):\n",
        "  \n",
        "  for j in np.arange(nlevels[i]):\n",
        "    \n",
        "    if i == 0 and j == 0:\n",
        "\n",
        "      D = Ddict[i]\n",
        "\n",
        "    else:\n",
        "\n",
        "      D = scipy.linalg.block_diag(D, Ddict[i])\n",
        "\n",
        "beta = beta_True\n",
        "q = Z.shape[1]\n",
        "sigma2 = 1\n",
        "Zte = ZtY - ZtX @ beta\n",
        "ete = ssr(YtX, YtY, XtX, beta)\n",
        "\n",
        "DinvIplusZtZD = D @ np.linalg.inv(np.eye(q) + ZtZ @ D)\n",
        "t1 = time.time()\n",
        "loglh = llh(n, ZtZ, Zte, ete, sigma2, DinvIplusZtZD,D)\n",
        "t2 = time.time()\n",
        "\n",
        "print(loglh)"
      ],
      "execution_count": 35,
      "outputs": [
        {
          "output_type": "stream",
          "text": [
            "[[ 1.24022707  0.36034323  0.          0.        ]\n",
            " [ 0.36034323  5.0719078   0.          0.        ]\n",
            " [ 0.          0.         20.68631165 -0.79595202]\n",
            " [ 0.          0.         -0.79595202  0.21015464]]\n",
            "[[1.24022707 0.36034323]\n",
            " [0.36034323 5.0719078 ]]\n",
            "[[20.68631165 -0.79595202]\n",
            " [-0.79595202  0.21015464]]\n",
            "[[-683.03796665]]\n"
          ],
          "name": "stdout"
        }
      ]
    },
    {
      "cell_type": "markdown",
      "metadata": {
        "id": "70shU6hKlDMR",
        "colab_type": "text"
      },
      "source": [
        "#### Derivative of $l$ with respect to $\\beta$\n",
        "\n",
        "The below function calculates the derivative of the log likelihood with respect to $\\beta$. This is given by the following equation:\n",
        "\n",
        "$$\\frac{\\delta l}{\\delta \\beta} = \\sigma^{-2}X'(I+ZDZ')^{-1}(Y-X\\beta)$$\n",
        "$$ = \\sigma^{-2}X'(I-ZD(I+Z'ZD)^{-1}Z')(Y-X\\beta)$$\n",
        "$$ = \\sigma^{-2}X'(Y-X\\beta)-X'ZD(I+Z'ZD)^{-1}Z'(Y-X\\beta) $$\n",
        "$$ = \\sigma^{-2}X'e-X'ZD(I+Z'ZD)^{-1}Z'e$$\n",
        "\n",
        "----\n",
        "\n",
        "This function takes the following inputs:\n",
        "\n",
        "----\n",
        "\n",
        " - `XtZ`: The $X$ matrix transposed and then multiplied by Z ($X^TZ$ in the above notation).\n",
        " - `Zte`: The $Z$ matrix transposed and then multiplied by the OLS residuals ($Z^Te=Z^T(Y-X\\beta)$ in the above notation).\n",
        " - `sigma2`: The fixed effects variance ($\\sigma^2$ in the above notation).\n",
        " - `DinvIplusZtZD`: The product $D(I+Z'ZD)^{-1}$.\n",
        " \n",
        "----\n",
        "\n",
        "It returns as outputs:\n",
        "\n",
        "----\n",
        "\n",
        "- `dldb`: The derivative of $l$ with respect to $\\beta$.\n",
        "\n"
      ]
    },
    {
      "cell_type": "code",
      "metadata": {
        "id": "pX6LfLOBlDVn",
        "colab_type": "code",
        "outputId": "a6d2edf7-2838-48b9-c2d8-ce65f13f9af9",
        "colab": {
          "base_uri": "https://localhost:8080/",
          "height": 193
        }
      },
      "source": [
        "def get_dldB(sigma2, Xte, XtZ, DinvIplusZtZD, Zte):\n",
        "  \n",
        "  # Return the derivative\n",
        "  return(1/sigma2*(Xte - (XtZ @ DinvIplusZtZD @ Zte)))\n",
        "\n",
        "### Test example\n",
        "\n",
        "p = X.shape[1]\n",
        "beta = np.random.randn(p,1)\n",
        "\n",
        "sigma2=1.1\n",
        "D = np.array([])\n",
        "q=Z.shape[1]\n",
        "n=Z.shape[0]\n",
        "for i in np.arange(len(nparams)):\n",
        "  \n",
        "  for j in np.arange(nlevels[i]):\n",
        "    \n",
        "    if i == 0 and j == 0:\n",
        "\n",
        "      D = initDk(i, nlevels[i], ZtZ, Zte, sigma2)\n",
        "\n",
        "    else:\n",
        "\n",
        "      D = scipy.linalg.block_diag(D, initDk(i, nlevels[i], ZtZ, Zte, sigma2))\n",
        "      \n",
        "IplusZtZD = np.eye(q) + ZtZ @ D\n",
        "DinvIplusZtZD = D @ np.linalg.inv(IplusZtZD)\n",
        "\n",
        "print(X.shape)\n",
        "\n",
        "dldb1 = (sigma2)**(-1)*(X.transpose() @ np.linalg.inv(np.eye(n) + Z @ D @ Z.transpose()) @ (Y - X @ beta))\n",
        "\n",
        "Xte = XtY- XtX @ beta\n",
        "\n",
        "Zte = ZtY- ZtX @ beta\n",
        "\n",
        "DinvIplusZtZD = D @ np.linalg.inv(np.eye(q) + ZtZ @ D)\n",
        "\n",
        "dldb2 = get_dldB(sigma2, Xte, XtZ, DinvIplusZtZD, Zte)\n",
        "\n",
        "print(dldb1)\n",
        "print(dldb2)\n",
        "\n",
        "\n",
        "print(dldb2-dldb1)"
      ],
      "execution_count": 36,
      "outputs": [
        {
          "output_type": "stream",
          "text": [
            "(1000, 3)\n",
            "[[7.68865739e-01]\n",
            " [2.12518659e+03]\n",
            " [2.35592937e+03]]\n",
            "[[7.68865739e-01]\n",
            " [2.12518659e+03]\n",
            " [2.35592937e+03]]\n",
            "[[-1.71237802e-10]\n",
            " [ 1.40969405e-07]\n",
            " [ 1.04723767e-08]]\n"
          ],
          "name": "stdout"
        }
      ]
    },
    {
      "cell_type": "markdown",
      "metadata": {
        "colab_type": "text",
        "id": "pL8p641GAgxF"
      },
      "source": [
        "#### Derivative of $l$ with respect to $\\sigma^2$\n",
        "\n",
        "The below function calculates the derivative of the log likelihood with respect to $\\beta$. This is given by the following equation:\n",
        "\n",
        "$$\\frac{\\delta l}{\\delta \\sigma^2} = -\\frac{n}{2\\sigma^2} + \\frac{1}{2\\sigma^4}(Y-X\\beta)'(I+ZDZ')^{-1}(Y-X\\beta)$$\n",
        "$$  = -\\frac{n}{2\\sigma^2} + \\frac{1}{2\\sigma^4}e'(I+ZDZ')^{-1}e$$\n",
        "$$  = -\\frac{n}{2\\sigma^2} + \\frac{1}{2\\sigma^4}e'(I-ZD(I+ZZ'D)^{-1}Z')e$$\n",
        "$$  = -\\frac{n}{2\\sigma^2} + \\frac{1}{2\\sigma^4}(e'e-e'ZD(I+ZZ'D)^{-1}Z'e)$$\n",
        "\n",
        "----\n",
        "\n",
        "This function takes the following inputs:\n",
        "\n",
        "----\n",
        "\n",
        " - `n`: The number of observations.\n",
        " - `ete`: The OLS residuals transposed and then multiplied by themselvess ($e^Te=(Y-X\\beta)^T(Y-X\\beta)$ in the above notation).\n",
        " - `Zte`: The $Z$ matrix transposed and then multiplied by the OLS residuals ($Z^Te=Z^T(Y-X\\beta)$ in the above notation).\n",
        " - `sigma2`: The fixed effects variance ($\\sigma^2$ in the above notation).\n",
        " - `DinvIplusZtZD`: The product $D(I+Z'ZD)^{-1}$.\n",
        " \n",
        "----\n",
        "\n",
        "It returns as outputs:\n",
        "\n",
        "----\n",
        "\n",
        "- `dldsigma2`: The derivative of $l$ with respect to $\\sigma^2$."
      ]
    },
    {
      "cell_type": "code",
      "metadata": {
        "colab_type": "code",
        "id": "R0T-_zfJAhRK",
        "outputId": "5797f8bd-2dac-4e87-c120-947ccdc6715d",
        "colab": {
          "base_uri": "https://localhost:8080/",
          "height": 70
        }
      },
      "source": [
        "def get_dldsigma2(n, ete, Zte, sigma2, DinvIplusZtZD):\n",
        "  \n",
        "  # Return the bottom expression in the above derivation\n",
        "  return(-n/(2*sigma2) + 1/(2*(sigma2**2))*(ete - forceSym(Zte.transpose() @ DinvIplusZtZD @ Zte)))\n",
        "\n",
        "\n",
        "# Toy example - recalculate the required inputs\n",
        "Zte = Z.toarray().transpose() @ (Y - X @ beta)\n",
        "ete = (Y - X @ beta).transpose() @ (Y - X @ beta)\n",
        "DinvIplusZtZD = D @ np.linalg.inv(np.eye(q) + ZtZ @ D)\n",
        "\n",
        "# Time the code\n",
        "t1 = time.time()\n",
        "dldsigma2_1 = get_dldsigma2(n, ete, Zte, sigma2, DinvIplusZtZD)\n",
        "t2 = time.time()\n",
        "print(t2-t1)\n",
        "\n",
        "\n",
        "dldsigma2_2 = -n/(2*sigma2) + 1/(2*(sigma2**2))*(Y - X @ beta).transpose() @ np.linalg.inv(np.eye(n) + (Z @ D @ Z.transpose())) @ (Y - X @ beta)\n",
        "\n",
        "\n",
        "ZtZ = Z.toarray().transpose() @ Z.toarray()\n",
        "\n",
        "# Cannot test against n by n inversion as n by n inversion is extremely bad\n",
        "print(np.amax(np.eye(n) - Z.toarray() @ D @ np.linalg.inv(np.eye(q) + ZtZ @ D) @ Z.toarray().transpose()-np.linalg.inv(np.eye(n) + (Z.toarray() @ D @ Z.toarray().transpose()))))\n",
        "\n",
        "tmp1 = (Y - X @ beta).transpose() @ np.linalg.inv(np.eye(n) + (Z.toarray() @ D @ Z.toarray().transpose())) @ (Y - X @ beta)\n",
        "\n",
        "tmp2 = (Y - X @ beta).transpose() @ (np.eye(n) - Z.toarray() @ D @ np.linalg.inv(np.eye(q) + ZtZ @ D) @ Z.toarray().transpose()) @ (Y - X @ beta)\n",
        "\n",
        "#print(tmp1)\n",
        "#print(tmp2)\n",
        "print(tmp2-tmp1)"
      ],
      "execution_count": 37,
      "outputs": [
        {
          "output_type": "stream",
          "text": [
            "0.0003077983856201172\n",
            "2.7351480260361105e-10\n",
            "[[-6.68573193e-07]]\n"
          ],
          "name": "stdout"
        }
      ]
    },
    {
      "cell_type": "markdown",
      "metadata": {
        "id": "g0yUC5yE1qin",
        "colab_type": "text"
      },
      "source": [
        "#### Derivative of $l$ with respect to $D_k$\n",
        "\n",
        "The below function calculates the derivative of the log likelihood with respect to $D_k$, the random effects covariance matrix for factor $k$. This is given by the following equation:\n",
        "\n",
        "$$\\frac{\\delta l}{\\delta D_k} = \\frac{1}{2}\\sum_{j=1}^{l_k}(T_{(k,j)}u)(T_{(k,j)}u)'-\\frac{1}{2}\\sum_{j=1}^{l_k}T_{(k,j)}T_{(k,j)}'$$\n",
        "\n",
        "Where $T_{(i,j)}=Z'_{(i,j)}(I+ZDZ')^{-\\frac{1}{2}}$ and $u=\\sigma^{-1}(I+ZDZ')^{-\\frac{1}{2}}(Y-X\\beta)\\sim N(0,\\mathbb{I})$.\n",
        "\n",
        "$$= \\frac{1}{2\\sigma^2}\\sum_{j=1}^{l_k}Z'_{(k,j)}(I+ZDZ')^{-1}ee'(I+ZDZ')^{-1}Z_{(k,j)} - \\frac{1}{2}\\sum_{j=1}^{l_k}Z'_{(k,j)}(I+ZDZ')^{-1}Z_{(k,j)}$$\n",
        "\n",
        "$$= \\frac{1}{2\\sigma^2}\\sum_{j=1}^{l_k}Z'_{(k,j)}(I-ZD(I+Z'ZD)^{-1}Z')ee'(I-ZD(I+Z'ZD)^{-1}Z')'Z_{(k,j)} - \\frac{1}{2}\\sum_{j=1}^{l_k}Z'_{(k,j)}(I-ZD(I+Z'ZD)^{-1})Z_{(k,j)}$$\n",
        "\n",
        "$$= \\frac{1}{2\\sigma^2}\\sum_{j=1}^{l_k}(Z'_{(k,j)}e-Z'_{(k,j)}ZD(I+Z'ZD)^{-1}Z'e)(Z'_{(k,j)}e-Z'_{(k,j)}ZD(I+Z'ZD)^{-1}Z'e)' - \\frac{1}{2}\\sum_{j=1}^{l_k}Z'_{(k,j)}Z_{(k,j)}-Z'_{(k,j)}ZD(I+Z'ZD)^{-1}Z'Z_{(k,j)}$$\n",
        "\n",
        "----\n",
        "\n",
        "This function takes the following inputs:\n",
        "\n",
        "----\n",
        "\n",
        " - `k`: The factor we wish to estimate the derivative of the covariance matrix of.\n",
        " - `nlevels`: A vector containing the number of levels for each factor, e.g. `nlevels=[3,4]` would mean the first factor has 3 levels and the second factor has 4 levels.\n",
        " - `nparams`: A vector containing the number of parameters for each factor, e.g. `nlevels=[2,1]` would mean the first factor has 2 parameters and the second factor has 1 parameter.\n",
        " - `ZtZ`: The $Z$ matrix transposed and then multiplied by itself ($Z^TZ$ in the above notation).\n",
        " - `Zte`: The $Z$ matrix transposed and then multiplied by the OLS residuals ($Z^Te=Z^T(Y-X\\beta)$ in the above notation).\n",
        " - `sigma2`: The fixed effects variance ($\\sigma^2$ in the above notation).\n",
        " - `DinvIplusZtZD`: The product $D(I+Z'ZD)^{-1}$.\n",
        " \n",
        "----\n",
        "\n",
        "It returns as outputs:\n",
        "\n",
        "----\n",
        "\n",
        "- `dldD`: The derivative of $l$ with respect to $D_k$."
      ]
    },
    {
      "cell_type": "code",
      "metadata": {
        "id": "_D43Adi61quy",
        "colab_type": "code",
        "outputId": "21e0502a-93d1-43c9-a859-e1fee9129fcd",
        "colab": {
          "base_uri": "https://localhost:8080/",
          "height": 158
        }
      },
      "source": [
        "def get_dldDk(k, nlevels, nparams, ZtZ, Zte, sigma2, DinvIplusZtZD):\n",
        "\n",
        "  # Initalize the derivative to zeros\n",
        "  dldDk = np.zeros((nparams[k],nparams[k]))\n",
        "\n",
        "  # For each level j we need to add a term\n",
        "  for j in np.arange(nlevels[k]):\n",
        "\n",
        "    # Get the indices for the kth factor jth level\n",
        "    Ikj = faclev_indices(k, j, nlevels, nparams)\n",
        "\n",
        "    # Get (the kj^th columns of Z)^T multiplied by Z\n",
        "    Z_kjtZ = ZtZ[Ikj,:]\n",
        "    Z_kjte = Zte[Ikj,:]\n",
        "\n",
        "    # Get the first term of the derivative\n",
        "    Z_kjtVinve = Z_kjte - (Z_kjtZ @ DinvIplusZtZD @ Zte)\n",
        "    firstterm = 1/sigma2 * forceSym(Z_kjtVinve @ Z_kjtVinve.transpose())\n",
        "    \n",
        "    # Get (the kj^th columns of Z)^T multiplied by (the kj^th columns of Z)\n",
        "    Z_kjtZ_kj = ZtZ[np.ix_(Ikj,Ikj)]\n",
        "    secondterm = forceSym(Z_kjtZ_kj) - forceSym(Z_kjtZ @ DinvIplusZtZD @ Z_kjtZ.transpose())\n",
        "    #print('TT')\n",
        "    #print(secondterm)\n",
        "    \n",
        "    if j == 0:\n",
        "      \n",
        "      # Start a running sum over j\n",
        "      dldDk = firstterm - secondterm\n",
        "      \n",
        "    else:\n",
        "    \n",
        "      # Add these to the running sum\n",
        "      dldDk = dldDk + firstterm - secondterm\n",
        "      \n",
        "    #print(j)\n",
        "    #print(dldDk)\n",
        "\n",
        "  # Halve the sum (the coefficient of a half was not included in the above)\n",
        "  dldDk = forceSym(dldDk/2)\n",
        "\n",
        "  # Store it in the dictionary\n",
        "  return(dldDk)\n",
        "\n",
        "IplusZtZD = np.eye(q) + ZtZ @ D\n",
        "DinvIplusZtZD = D @ np.linalg.inv(IplusZtZD)\n",
        "\n",
        "ZtZ = Z.toarray().transpose() @ Z.toarray()\n",
        "Zte = Z.toarray().transpose() @ (Y - X @ beta)\n",
        "\n",
        "k=0\n",
        "sigma2=0.5\n",
        "Zte = ZtY - ZtX @ beta\n",
        "\n",
        "D = np.eye(D.shape[0])\n",
        "\n",
        "DinvIplusZtZD = D @ np.linalg.inv(np.eye(q) + ZtZ @ D)\n",
        "\n",
        "t1 = time.time()\n",
        "dldDk = get_dldDk(k, nlevels, nparams, ZtZ, Zte, sigma2, DinvIplusZtZD)\n",
        "t2 = time.time()\n",
        "print(t2-t1)\n",
        "\n",
        "t1 = time.time()\n",
        "dldDk = get_dldDk(k, nlevels, nparams, ZtZ, Zte, sigma2, DinvIplusZtZD)\n",
        "t2 = time.time()\n",
        "print(t2-t1)\n",
        "\n",
        "sqrtinvIplusZDZt = forceSym(scipy.linalg.sqrtm(np.eye(n) - Z @ DinvIplusZtZD @ Z.transpose()))\n",
        "for j in np.arange(nlevels[k]):\n",
        "\n",
        "  Ikj = faclev_indices(k, j, nlevels, nparams)\n",
        "  \n",
        "  #print(Zte[Ikj,:] - (Z[:,Ikj].transpose() @ (Y - X @ beta)))\n",
        "  \n",
        "  Z_kjt = Z[:,Ikj].transpose()\n",
        "  Tkj = Z_kjt @ sqrtinvIplusZDZt\n",
        "\n",
        "  u = 1/np.sqrt(sigma2)*sqrtinvIplusZDZt @ (Y - X @ beta)\n",
        "  \n",
        "\n",
        "  Tkju = Tkj @ u\n",
        "\n",
        "  TkjuTkjut = Tkju @ Tkju.transpose()\n",
        "  \n",
        "  TkjTkjt = Tkj @ Tkj.transpose()\n",
        "\n",
        "  \n",
        "  if j == 0:\n",
        "    \n",
        "    sum1 = TkjuTkjut\n",
        "    sum2 = TkjTkjt\n",
        "    \n",
        "  else:\n",
        "    \n",
        "    sum1 = sum1 + TkjuTkjut\n",
        "    sum2 = sum2 + TkjTkjt\n",
        "    \n",
        "  \n",
        "dldDk2 = 0.5*(sum1-sum2)\n",
        "print(dldDk2)\n",
        "print(dldDk)\n",
        "print(dldDk-dldDk2)"
      ],
      "execution_count": 38,
      "outputs": [
        {
          "output_type": "stream",
          "text": [
            "0.0024018287658691406\n",
            "0.00263214111328125\n",
            "[[17.14865514-1.87009500e-15j  8.61485578+3.04352884e-15j]\n",
            " [ 8.61485578+3.04352884e-15j 91.80894228+3.37081270e-14j]]\n",
            "[[17.14865514  8.61485578]\n",
            " [ 8.61485578 91.80894228]]\n",
            "[[ 4.85300689e-12+1.87009500e-15j -7.93640709e-11-3.04352884e-15j]\n",
            " [-7.93640709e-11-3.04352884e-15j -4.37694325e-10-3.37081270e-14j]]\n"
          ],
          "name": "stdout"
        }
      ]
    },
    {
      "cell_type": "markdown",
      "metadata": {
        "id": "F-i38jdBJ8RR",
        "colab_type": "text"
      },
      "source": [
        "#### Covariance of $\\frac{\\delta l}{\\delta \\beta}$ \n",
        "\n",
        "The below function calculates the covariance between the derivative of the log likelihood with respect to $\\beta$, given by the below formula:\n",
        "\n",
        "$$\\text{cov}\\bigg(\\frac{\\delta l(\\theta | y)}{\\delta \\beta}\\bigg) = \\sigma^{-2} X'(I+ZDZ')^{-1}X$$\n",
        "$$= \\sigma^{-2} X'(I-ZD(I+Z'ZD)^{-1}Z')X$$\n",
        "$$= \\sigma^{-2} (X'X-X'ZD(I+Z'ZD)^{-1}Z'X)$$\n",
        "\n",
        "\n",
        "\n",
        "\n",
        "----\n",
        "\n",
        "This function takes the following inputs:\n",
        "\n",
        "----\n",
        "\n",
        " - `XtZ`: $X$ transpose multiplied by $Z$.\n",
        " - `XtX`: $X$ transpose multiplied by $X$.\n",
        " - `ZtZ`: $Z$ transpose multiplied by $Z$.\n",
        " - `DinvIplusZtZD`: $D(I+Z'ZD)^{-1}$ in the above notation.\n",
        " - `sigma2`: The fixed effects variance ($\\sigma^2$ in the above notation).\n",
        " \n",
        "----\n",
        "\n",
        "It returns as outputs:\n",
        "\n",
        "----\n",
        "\n",
        "- `covdldbeta`: The covariance of the derivative of the log likelihood with respect to $\\beta$."
      ]
    },
    {
      "cell_type": "code",
      "metadata": {
        "id": "EH4TsQPIJ8ZI",
        "colab_type": "code",
        "outputId": "a0784aa7-5709-4c8b-ff71-3671ca390de7",
        "colab": {
          "base_uri": "https://localhost:8080/",
          "height": 52
        }
      },
      "source": [
        "def get_covdldbeta(XtZ, XtX, ZtZ, DinvIplusZtZD, sigma2):\n",
        "  \n",
        "  # Return the covariance of the derivative\n",
        "  return((1/sigma2)*(XtX - forceSym(XtZ @ DinvIplusZtZD @ XtZ.transpose())))\n",
        "\n",
        "## test\n",
        "\n",
        "IplusZtZD = np.eye(q) + ZtZ @ D\n",
        "DinvIplusZtZD = D @ np.linalg.inv(IplusZtZD)\n",
        "\n",
        "t1 = time.time()\n",
        "covdldbeta_1 = get_covdldbeta(XtZ, XtX, ZtZ, DinvIplusZtZD, sigma2)\n",
        "t2 = time.time()\n",
        "print(t2-t1)\n",
        "\n",
        "\n",
        "covdldbeta_2 = sigma2**(-1) * (X.transpose() @ np.linalg.inv(np.eye(n) + Z.toarray() @ D @ Z.toarray().transpose()) @ X)\n",
        "\n",
        "#print(covdldbeta_1)\n",
        "#print(covdldbeta_2)\n",
        "\n",
        "# Inverting the n by n is (perhaps obviously) awful though... this was just a\n",
        "# rough check... see below how far out from the identity the inversion mutliplied\n",
        "# by the original matrix is\n",
        "#print(np.linalg.inv(np.eye(n) + Z.toarray() @ D @ Z.toarray().transpose()) @ (np.eye(n) + Z.toarray() @ D @ Z.toarray().transpose()))\n",
        "\n",
        "#print(np.linalg.inv(IplusZtZD) @ IplusZtZD)\n",
        "#print(D)\n",
        "print('solve vs inv')\n",
        "#print((np.linalg.solve(IplusZtZD, D) @ IplusZtZD)-D)\n",
        "#print(DinvIplusZtZD)\n",
        "#print(np.linalg.solve(IplusZtZD, D)-DinvIplusZtZD)"
      ],
      "execution_count": 39,
      "outputs": [
        {
          "output_type": "stream",
          "text": [
            "0.00014543533325195312\n",
            "solve vs inv\n"
          ],
          "name": "stdout"
        }
      ]
    },
    {
      "cell_type": "markdown",
      "metadata": {
        "id": "uh61qPojq_xg",
        "colab_type": "text"
      },
      "source": [
        "#### Covariance of $\\frac{\\delta l}{\\delta \\text{vech}(D_{k})}$ and $\\frac{\\delta l}{\\delta \\sigma^2}$\n",
        "\n",
        "The below function calculates the covariance between the derivative of the log likelihood with respect to $\\text{vech}(D_{k})$ and the derivative with respect to $\\sigma^2$.\n",
        "\n",
        "\n",
        "----\n",
        "\n",
        "This function takes the following inputs:\n",
        "\n",
        "----\n",
        "\n",
        " - `k`: The number of the first factor ($k$ in the above notation).\n",
        " - `sigma2`: The fixed effects variance ($\\sigma^2$ in the above notation).\n",
        " - `nlevels`: A vector containing the number of levels for each factor, e.g. `nlevels=[3,4]` would mean the first factor has 3 levels and the second factor has 4 levels.\n",
        " - `nparams`: A vector containing the number of parameters for each factor, e.g. `nlevels=[2,1]` would mean the first factor has 2 parameters and the second factor has 1 parameter.\n",
        " - `ZtZ`: $Z$ transpose multiplied by $Z$.\n",
        " - `DinvIplusZtZD`: $D(I+Z'ZD)^{-1}$ in the above notation.\n",
        " - `invDupMatdict`: A dictionary of inverse duplication matrices such that `invDupMatdict[k]` = $\\mathcal{D}_k^+$.\n",
        " \n",
        "----\n",
        "\n",
        "It returns as outputs:\n",
        "\n",
        "----\n",
        "\n",
        "- `covdldDdldsigma2`: The covariance between the derivative of the log likelihood with respect to $\\text{vech}(D_{k_1})$ and the derivative with respect to $\\sigma^2$.\n"
      ]
    },
    {
      "cell_type": "code",
      "metadata": {
        "id": "OEx5GJJkq_8-",
        "colab_type": "code",
        "outputId": "fda05701-1902-40aa-b2c6-70fcb9ad8d82",
        "colab": {
          "base_uri": "https://localhost:8080/",
          "height": 298
        }
      },
      "source": [
        "def get_covdldDkdsigma2(k, sigma2, nlevels, nparams, ZtZ, DinvIplusZtZD, invDupMatdict):\n",
        "  \n",
        "  # Sum of R_(k, j) over j\n",
        "  RkSum = np.zeros(nparams[k],nparams[k])\n",
        "\n",
        "  for j in np.arange(nlevels[k]):\n",
        "\n",
        "    # Get the indices for the kth factor jth level\n",
        "    Ikj = faclev_indices(k, j, nlevels, nparams)\n",
        "\n",
        "    # Work out R_(k, j)\n",
        "    Rkj = ZtZ[np.ix_(Ikj,Ikj)] - forceSym(ZtZ[Ikj,:] @ DinvIplusZtZD @ ZtZ[:,Ikj])\n",
        "\n",
        "    # Add together\n",
        "    RkSum = RkSum + Rkj\n",
        "\n",
        "  # Multiply by duplication matrices and save\n",
        "  covdldDdldsigma2 = 1/(2*sigma2) * invDupMatdict[k] @ mat2vec(RkSum)\n",
        "  \n",
        "  return(covdldDdldsigma2)\n",
        "\n",
        "\n",
        "\n",
        "invDupMatdict = dict()\n",
        "for i in np.arange(len(nparams)):\n",
        "  \n",
        "  invDupMatdict[i] = invDupMat(nparams[i])\n",
        "\n",
        "print(ZtZ)\n",
        "print(sigma2)\n",
        "k=0\n",
        "t1 = time.time()\n",
        "get_covdldDkdsigma2(k, sigma2, nlevels, nparams, ZtZ, DinvIplusZtZD, invDupMatdict)\n",
        "t2 = time.time()\n",
        "print(t2-t1)\n",
        "\n",
        "\n",
        "t1 = time.time()\n",
        "covdldDdldsigma2=get_covdldDkdsigma2(k, sigma2, nlevels, nparams, ZtZ, DinvIplusZtZD, invDupMatdict)\n",
        "t2 = time.time()\n",
        "print(t2-t1)"
      ],
      "execution_count": 40,
      "outputs": [
        {
          "output_type": "stream",
          "text": [
            "[[ 5.00000000e+01 -3.53848226e+01  0.00000000e+00 ... -1.89673372e+01\n",
            "   1.60000000e+01 -4.77010601e+01]\n",
            " [-3.53848226e+01  2.12177714e+04  0.00000000e+00 ...  5.72911850e+02\n",
            "  -9.70764641e+01  7.68081988e+02]\n",
            " [ 0.00000000e+00  0.00000000e+00  5.00000000e+01 ...  2.00888087e+01\n",
            "   1.90000000e+01 -8.31505044e+01]\n",
            " ...\n",
            " [-1.89673372e+01  5.72911850e+02  2.00888087e+01 ...  3.07902515e+04\n",
            "   0.00000000e+00  0.00000000e+00]\n",
            " [ 1.60000000e+01 -9.70764641e+01  1.90000000e+01 ...  0.00000000e+00\n",
            "   3.45000000e+02  8.14148559e+01]\n",
            " [-4.77010601e+01  7.68081988e+02 -8.31505044e+01 ...  0.00000000e+00\n",
            "   8.14148559e+01  3.27603629e+04]]\n",
            "0.5\n",
            "0.0019021034240722656\n",
            "0.0018661022186279297\n"
          ],
          "name": "stdout"
        }
      ]
    },
    {
      "cell_type": "markdown",
      "metadata": {
        "id": "qW-p5bOy4K-u",
        "colab_type": "text"
      },
      "source": [
        "#### Covariance of $\\frac{\\delta l}{\\delta \\text{vech}(D_{k_1})}$ and $\\frac{\\delta l}{\\delta \\text{vech}(D_{k_2})}$\n",
        "\n",
        "The below function calculates the covariance between the derivative of the log likelihood with respect to $\\text{vech}(D_{k_1})$ and the derivative with respect to $\\text{vech}(D_{k_2})$.\n",
        "\n",
        "$$\\text{cov}\\bigg(\\frac{\\delta l(\\theta | y)}{\\delta \\text{vech}(D_{k_2})},\\frac{\\delta l(\\theta | y)}{\\delta \\text{vech}(D_{k_2})}\\bigg)=\\frac{1}{2}\\mathcal{D}_{k_1}^+\\sum_{j=1}^{l_{k_2}}\\sum_{i=1}^{l_{k_1}}(R_{(k_1,k_2,i,j)}\\otimes R_{(k_1,k_2, i,j)})\\mathcal{D}_{k_2}^{+'}$$\n",
        "\n",
        "\n",
        "\n",
        "Where $R_{(k_1,k_2,i,j)}=Z_{(k_1,i)}'(I+ZDZ')^{-1}Z_{(k_2,j)}=Z_{(k_1,i)}'Z_{(k_2,j)} - Z_{(k_1,i)}'ZD(I+Z'ZD)^{-1}Z_{(k_2,j)}$.\n",
        "\n",
        "----\n",
        "\n",
        "This function takes the following inputs:\n",
        "\n",
        "----\n",
        "\n",
        " - `k1`: The number of the first factor ($k_1$ in the above notation).\n",
        " - `k2`: The number of the second factor ($k_2$ in the above notation).\n",
        " - `nlevels`: A vector containing the number of levels for each factor, e.g. `nlevels=[3,4]` would mean the first factor has 3 levels and the second factor has 4 levels.\n",
        " - `nparams`: A vector containing the number of parameters for each factor, e.g. `nlevels=[2,1]` would mean the first factor has 2 parameters and the second factor has 1 parameter.\n",
        " - `ZtZ`: $Z$ transpose multiplied by $Z$.\n",
        " - `DinvIplusZtZD`: $D(I+Z'ZD)^{-1}$ in the above notation.\n",
        " - `invDupMatdict`: A dictionary of inverse duplication matrices such that `invDupMatdict[k]` = $\\mathcal{D}_k^+$\n",
        " \n",
        "----\n",
        "\n",
        "It returns as outputs:\n",
        "\n",
        "----\n",
        "\n",
        "- `covdldDk1dldk2`: The covariance between the derivative of the log likelihood with respect to $\\text{vech}(D_{k_1})$ and the derivative with respect to $\\text{vech}(D_{k_2})$.\n",
        "\n"
      ]
    },
    {
      "cell_type": "code",
      "metadata": {
        "id": "VoAsQQtM4LLs",
        "colab_type": "code",
        "outputId": "03d908e6-821c-4405-e6b5-27186c4c58e9",
        "colab": {
          "base_uri": "https://localhost:8080/",
          "height": 545
        }
      },
      "source": [
        "def get_covdldDk1Dk2(k1, k2, nlevels, nparams, ZtZ, DinvIplusZtZD, invDupMatdict):\n",
        "  \n",
        "  # Sum of R_(k1, k2, i, j) kron R_(k1, k2, i, j) over i and j \n",
        "  for i in np.arange(nlevels[k1]):\n",
        "\n",
        "    for j in np.arange(nlevels[k2]):\n",
        "      \n",
        "      # Get the indices for the k1th factor jth level\n",
        "      Ik1i = faclev_indices(k1, i, nlevels, nparams)\n",
        "      Ik2j = faclev_indices(k2, j, nlevels, nparams)\n",
        "      \n",
        "      # Work out R_(k1, k2, i, j)\n",
        "      Rk1k2ij = ZtZ[np.ix_(Ik1i,Ik2j)] - (ZtZ[Ik1i,:] @ DinvIplusZtZD @ ZtZ[:,Ik2j])\n",
        "      \n",
        "      # Work out Rk1k2ij kron Rk1k2ij\n",
        "      RkRt = np.kron(Rk1k2ij,Rk1k2ij)\n",
        "      \n",
        "      # Add together\n",
        "      if (i == 0) and (j == 0):\n",
        "      \n",
        "        RkRtSum = RkRt\n",
        "      \n",
        "      else:\n",
        "        \n",
        "        RkRtSum = RkRtSum + RkRt\n",
        "    \n",
        "  # Multiply by duplication matrices and save\n",
        "  covdldDk1dldk2 = 1/2 * invDupMatdict[k1] @ RkRtSum @ invDupMatdict[k2].transpose()\n",
        "  \n",
        "  # Return the result\n",
        "  return(covdldDk1dldk2)\n",
        "\n",
        "\n",
        "# Example\n",
        "\n",
        "# Check against alternative expression\n",
        "Ztmp = Z.toarray()\n",
        "\n",
        "IplusZDZt = np.eye(n) + Z.toarray() @ D @ Z.toarray().transpose()\n",
        "\n",
        "invIplusZDZt = np.linalg.inv(IplusZDZt)\n",
        "\n",
        "DinvIplusZtZD = D @ np.linalg.inv(np.eye(q) + Z.toarray().transpose() @ Z.toarray() @ D)\n",
        "\n",
        "invhalfIplusZDZt = scipy.linalg.sqrtm(np.linalg.inv(IplusZDZt))\n",
        "\n",
        "\n",
        "invDupMatdict = dict()\n",
        "for i in np.arange(len(nparams)):\n",
        "  \n",
        "  invDupMatdict[i] = invDupMat(nparams[i])\n",
        "  \n",
        "t1 = time.time()\n",
        "examplecov = get_covdldDk1Dk2(0, 0, nlevels, nparams, ZtZ, DinvIplusZtZD, invDupMatdict)\n",
        "t2 = time.time()\n",
        "\n",
        "print(t2-t1)\n",
        "print(examplecov)\n",
        "k1 = 0\n",
        "k2 = 0\n",
        "\n",
        "t1 = time.time()\n",
        "examplecov = get_covdldDk1Dk2(k1, k2, nlevels, nparams, ZtZ, DinvIplusZtZD, invDupMatdict)\n",
        "t2 = time.time()\n",
        "\n",
        "print(t2-t1)\n",
        "print(examplecov)\n",
        "\n",
        "print(invDupMatdict[k1])\n",
        "\n",
        "for j in np.arange(nlevels[k1]):\n",
        "  \n",
        "  Ikj = faclev_indices(k1, j, nlevels, nparams)\n",
        "\n",
        "  Tkj = Z[:,Ikj].transpose() @ invhalfIplusZDZt \n",
        "  \n",
        "  if j == 0:\n",
        "    \n",
        "    sumTkT = np.kron(Tkj,Tkj)\n",
        "  \n",
        "  else:\n",
        "    \n",
        "    sumTkT = np.kron(Tkj,Tkj) + sumTkT\n",
        "\n",
        "    \n",
        "for j in np.arange(nlevels[k2]):\n",
        "  \n",
        "  Ikj = faclev_indices(k2, j, nlevels, nparams)\n",
        "\n",
        "  Tkj = Z[:,Ikj].transpose() @ invhalfIplusZDZt \n",
        "  \n",
        "  Tkjt = Tkj.transpose()\n",
        "  \n",
        "  if j == 0:\n",
        "    \n",
        "    sumTtkTt = np.kron(Tkjt,Tkjt)\n",
        "  \n",
        "  else:\n",
        "    \n",
        "    sumTtkTt = np.kron(Tkjt,Tkjt) + sumTtkTt\n",
        "    \n",
        "\n",
        "# ------------------------------------------------------------------------------\n",
        "for i in np.arange(nlevels[k1]):\n",
        "  \n",
        "  for j in np.arange(nlevels[k2]):\n",
        "  \n",
        "    \n",
        "    Ik1i = faclev_indices(k1, i, nlevels, nparams)\n",
        "    Ik2j = faclev_indices(k2, j, nlevels, nparams)\n",
        "\n",
        "    Tk1iTk2jt = Z[:,Ik1i].transpose() @ invIplusZDZt @ Z[:,Ik2j]\n",
        "\n",
        "    if i==0 and j == 0:\n",
        "\n",
        "      sumTTtkTTt = np.kron(Tk1iTk2jt,Tk1iTk2jt)\n",
        "\n",
        "    else:\n",
        "\n",
        "      sumTTtkTTt = np.kron(Tk1iTk2jt,Tk1iTk2jt) + sumTTtkTTt\n",
        "\n",
        "    \n",
        "\n",
        "print('function')\n",
        "print(examplecov)\n",
        "print('rec1')\n",
        "print(1/2 * invDupMatdict[k1] @ sumTkT @ sumTtkTt @ invDupMatdict[k2].transpose())\n",
        "print('rec2')\n",
        "print(1/2 * invDupMatdict[k1] @ sumTTtkTTt @ invDupMatdict[k2].transpose())\n",
        "\n",
        "print(np.abs(1/2 * invDupMatdict[k1] @ sumTkT @ sumTtkTt @ invDupMatdict[k2].transpose() - examplecov))"
      ],
      "execution_count": 41,
      "outputs": [
        {
          "output_type": "stream",
          "text": [
            "0.03927969932556152\n",
            "[[9.13266263e+00 1.72708615e-04 1.42758393e-07]\n",
            " [1.72708621e-04 4.68737815e+00 1.77855087e-04]\n",
            " [1.42758392e-07 1.77855093e-04 9.99895092e+00]]\n",
            "0.039875030517578125\n",
            "[[9.13266263e+00 1.72708615e-04 1.42758393e-07]\n",
            " [1.72708621e-04 4.68737815e+00 1.77855087e-04]\n",
            " [1.42758392e-07 1.77855093e-04 9.99895092e+00]]\n",
            "  (0, 0)\t1.0\n",
            "  (1, 1)\t0.5\n",
            "  (1, 2)\t0.5\n",
            "  (2, 3)\t1.0\n",
            "function\n",
            "[[9.13266263e+00 1.72708615e-04 1.42758393e-07]\n",
            " [1.72708621e-04 4.68737815e+00 1.77855087e-04]\n",
            " [1.42758392e-07 1.77855093e-04 9.99895092e+00]]\n",
            "rec1\n",
            "[[9.13266263e+00-4.63547667e-16j 1.72708620e-04+1.89074819e-15j\n",
            "  1.42758392e-07+9.00332051e-20j]\n",
            " [1.72708620e-04+1.89074819e-15j 4.68737815e+00-2.54905143e-15j\n",
            "  1.77855093e-04+1.86476330e-15j]\n",
            " [1.42758392e-07+9.00332051e-20j 1.77855093e-04+1.86476330e-15j\n",
            "  9.99895092e+00-1.11119836e-14j]]\n",
            "rec2\n",
            "[[9.13266263e+00 1.72708620e-04 1.42758392e-07]\n",
            " [1.72708620e-04 4.68737815e+00 1.77855093e-04]\n",
            " [1.42758392e-07 1.77855093e-04 9.99895092e+00]]\n",
            "[[1.95454229e-14 5.73889331e-12 7.57656286e-16]\n",
            " [7.40065622e-14 7.09032878e-12 6.15710741e-12]\n",
            " [8.75121346e-18 7.24620932e-14 3.02460299e-11]]\n"
          ],
          "name": "stdout"
        }
      ]
    },
    {
      "cell_type": "markdown",
      "metadata": {
        "id": "IVa9K3vmAGKQ",
        "colab_type": "text"
      },
      "source": [
        "\n",
        "#### KKT conditions\n",
        "\n",
        "The Karush–Kuhn–Tucker conditions are given by:\n",
        "\n",
        " 1. For all $k$, all eigenvalues of $\\hat{D_k}$ are non-negative.\n",
        " 2. For all $k$; there exists a non-positive $\\lambda_k$ such that $\\frac{\\delta l}{\\delta D_k}=\\lambda_k \\text{adj}(D_k)$\n",
        " \n",
        "These are assessed by the below function."
      ]
    },
    {
      "cell_type": "code",
      "metadata": {
        "id": "rGeODb8gANs0",
        "colab_type": "code",
        "colab": {}
      },
      "source": [
        "### WIP: DIDNT WORK VERY WELL - MAY REVISIT SOMETIME\n",
        "\n",
        "def assessKKT(Dk, dldDk, tol):\n",
        "  \n",
        "  # Check condition 1 is satisfied\n",
        "  eigvalsD = np.linalg.eigvals(Dk)\n",
        "  \n",
        "  # If any of the eigenvalues are negative, we return false; the conditions are \n",
        "  # not satisfied.\n",
        "  if np.any(eigvalsD < -tol):\n",
        "    return(False)\n",
        "  \n",
        "  #print('1passed')\n",
        "  # Check condition 2 is satisfied\n",
        "  adjDk = np.matrix.getH(Dk)\n",
        "  \n",
        "  # Seperate into zero and non-zero elements #### NEED TO THINK ABOUT HOW TO ASSESS THIS BIT\n",
        "  #print('np.abs(adjDk)/np.mean(np.abs(adjDk))>tol')\n",
        "  #print(np.abs(adjDk))\n",
        "  #print(np.abs(adjDk)/np.mean(np.abs(adjDk))>tol)\n",
        "  dldDkNonZero = dldDk[np.abs(adjDk)/np.mean(np.abs(adjDk))>tol]\n",
        "  dldDkZero = dldDk[np.abs(adjDk)/np.mean(np.abs(adjDk))<tol]\n",
        "  \n",
        "  adjDkNonZero = adjDk[np.abs(adjDk)/np.mean(np.abs(adjDk))>tol]\n",
        "  adjDkZero = adjDk[np.abs(adjDk)/np.mean(np.abs(adjDk))<tol]\n",
        "  \n",
        "  # We need that  an element of adj(D) = 0 implies the corresponding element of\n",
        "  # dldDk = 0\n",
        "  #print(dldDkZero)\n",
        "  if np.any(np.abs(dldDkZero)>tol):\n",
        "    return(False)\n",
        "  \n",
        "  #print('2passed')\n",
        "  \n",
        "  # And we also need that the ratio between the nonzero elements must be \n",
        "  # constant\n",
        "  nonZeroRatio = np.divide(dldDkNonZero/np.std(dldDkNonZero), adjDkNonZero/np.std(adjDkNonZero))\n",
        "  nonZeroRatioRelativeError = (nonZeroRatio-np.mean(nonZeroRatio))\n",
        "  print(nonZeroRatio)\n",
        "  print(nonZeroRatioRelativeError)\n",
        "  if np.any(nonZeroRatioRelativeError>tol) or (np.mean(nonZeroRatio) >= tol):\n",
        "    #print(nonZeroRatioRelativeError)\n",
        "    return(False)\n",
        "  \n",
        "  else:\n",
        "    print('3passed')\n",
        "    return(True)\n",
        "  \n",
        "#print(Ddict[k])\n",
        "#print(dldDdict[k])\n",
        "\n",
        "#print(assessKKT(Ddict[k], dldDdict[k], 1e-6))"
      ],
      "execution_count": 0,
      "outputs": []
    },
    {
      "cell_type": "markdown",
      "metadata": {
        "id": "Ze-tnNcl6cmK",
        "colab_type": "text"
      },
      "source": [
        "## Fisher Scoring implementation"
      ]
    },
    {
      "cell_type": "markdown",
      "metadata": {
        "id": "gC2U0nts6sO_",
        "colab_type": "text"
      },
      "source": [
        "The below function is the \"one-voxel\" implementation of Fisher Scoring.\n",
        "\n",
        "---\n",
        "\n",
        "The following inputs are required for this function:\n",
        "\n",
        "---\n",
        "\n",
        " - **ZtX**: Z transpose multiplied by X.\n",
        " - **ZtY**: Z transpose multiplied by Y.\n",
        " - **XtX**: X transpose multiplied by X.\n",
        " - **ZtZ**: Z transpose multiplied by Z.\n",
        " - **XtY**: X transpose multiplied by Y.\n",
        " - **YtX**: Y transpose multiplied by X.\n",
        " - **YtZ**: Y transpose multiplied by Z.\n",
        " - **XtZ**: X transpose multiplied by Z.\n",
        " - **YtY**: Y transpose multiplied by Y.\n",
        " - **nlevels**: A vector containing the number of levels for each factor, e.g. `nlevels=[3,4]` would mean the first factor has 3 levels and the second factor has 4 levels.\n",
        " - **nparams**: A vector containing the number of parameters for each factor, e.g. `nlevels=[2,1]` would mean the first factor has 2 parameters and the second factor has 1 parameter.\n",
        " - **tol**: The tolerance for convergence.\n",
        " \n",
        " \n",
        "---\n",
        "\n",
        "The following outputs are given by this function:\n",
        "\n",
        "---\n",
        "\n",
        " - **paramVec**: A vector containing the $\\beta$, $\\sigma^2$ and $D$ estimates for the mixed model.\n",
        " - **bvals**: A vector of b values for the mixed model."
      ]
    },
    {
      "cell_type": "code",
      "metadata": {
        "id": "5Nj_W4Ls6btZ",
        "colab_type": "code",
        "outputId": "a87cbc03-2bcb-40fb-d419-e966e8582990",
        "colab": {
          "base_uri": "https://localhost:8080/",
          "height": 1000
        }
      },
      "source": [
        "def FS(XtX, XtY, ZtX, ZtY, ZtZ, XtZ, YtZ, YtY, YtX, nlevels, nparams, tol, n):\n",
        "  \n",
        "  # Useful scalars\n",
        "  # ------------------------------------------------------------------------------\n",
        "\n",
        "  # Number of factors, r\n",
        "  r = len(nlevels)\n",
        "\n",
        "  # Number of random effects, q\n",
        "  q = np.sum(np.dot(nparams,nlevels))\n",
        "\n",
        "  # Number of fixed effects, p\n",
        "  p = XtX.shape[0]\n",
        "\n",
        "  # Initial estimates\n",
        "  # ------------------------------------------------------------------------------\n",
        "\n",
        "  # Inital beta\n",
        "  beta = initBeta(XtX, XtY)\n",
        "\n",
        "  # Work out e'e\n",
        "  ete = ssr(YtX, YtY, XtX, beta)\n",
        "\n",
        "  # Initial sigma2\n",
        "  sigma2 = initSigma2(ete, n)\n",
        "\n",
        "  Zte = ZtY - (ZtX @ beta)\n",
        "\n",
        "  # Inital D\n",
        "  # Dictionary version\n",
        "  Ddict = dict()\n",
        "  for k in np.arange(len(nparams)):\n",
        "\n",
        "    Ddict[k] = makeDnnd(initDk(k, nlevels[k], ZtZ, Zte, sigma2))\n",
        "    \n",
        "  # Matrix version\n",
        "  D = np.array([])\n",
        "  for i in np.arange(len(nparams)):\n",
        "\n",
        "    for j in np.arange(nlevels[i]):\n",
        "\n",
        "      if i == 0 and j == 0:\n",
        "\n",
        "        D = Ddict[i]\n",
        "\n",
        "      else:\n",
        "\n",
        "        D = scipy.linalg.block_diag(D, Ddict[i])\n",
        "\n",
        "  # Duplication matrices\n",
        "  # ------------------------------------------------------------------------------\n",
        "  invDupMatdict = dict()\n",
        "  for i in np.arange(len(nparams)):\n",
        "\n",
        "    invDupMatdict[i] = invDupMat(nparams[i])\n",
        "\n",
        "  # Index variables\n",
        "  # ------------------------------------------------------------------------------\n",
        "  # Work out the total number of paramateres\n",
        "  tnp = np.int32(p + 1 + np.sum(nparams*(nparams+1)/2))\n",
        "\n",
        "  # Indices for submatrics corresponding to Dks\n",
        "  FishIndsDk = np.int32(np.cumsum(nparams*(nparams+1)/2) + p + 1)\n",
        "  FishIndsDk = np.insert(FishIndsDk,0,p+1)\n",
        "  print('inds',FishIndsDk)\n",
        "\n",
        "  Zte = ZtY - (ZtX @ beta)\n",
        "\n",
        "  # Inverse of (I+Z'ZD) multiplied by D\n",
        "  IplusZtZD = np.eye(q) + ZtZ @ D\n",
        "  DinvIplusZtZD = forceSym(D @ scipy.sparse.linalg.inv(scipy.sparse.csc_matrix(IplusZtZD)))\n",
        "\n",
        "  # Step size lambda\n",
        "  lam = 1\n",
        "  \n",
        "  # Initial log likelihoods\n",
        "  llhprev = np.inf\n",
        "  llhcurr = -np.inf\n",
        "  \n",
        "  counter = 0\n",
        "  while np.abs(llhprev-llhcurr)>tol:\n",
        "    \n",
        "    print('nit', counter)\n",
        "    counter = counter+1\n",
        "    \n",
        "    # Change current likelihood to previous\n",
        "    llhprev = llhcurr\n",
        "\n",
        "    # Matrices needed later by many calculations:\n",
        "    # ----------------------------------------------------------------------------\n",
        "    # X transpose e and Z transpose e\n",
        "    Xte = XtY - (XtX @ beta)\n",
        "    Zte = ZtY - (ZtX @ beta)\n",
        "\n",
        "    # Inverse of (I+Z'ZD) multiplied by D\n",
        "    IplusZtZD = np.eye(q) + (ZtZ @ D)\n",
        "    DinvIplusZtZD = forceSym(D @ scipy.sparse.linalg.inv(scipy.sparse.csc_matrix(IplusZtZD)))\n",
        "\n",
        "    # Sum of squared residuals\n",
        "    ete = ssr(YtX, YtY, XtX, beta)\n",
        "\n",
        "    # Derivatives\n",
        "    # ----------------------------------------------------------------------------\n",
        "\n",
        "    # Derivative wrt beta\n",
        "    dldB = get_dldB(sigma2, Xte, XtZ, DinvIplusZtZD, Zte)\n",
        "\n",
        "    # Derivative wrt sigma^2\n",
        "    dldsigma2 = get_dldsigma2(n, ete, Zte, sigma2, DinvIplusZtZD)\n",
        "    \n",
        "    # For each factor, factor k, work out dl/dD_k\n",
        "    dldDdict = dict()\n",
        "    for k in np.arange(len(nparams)):\n",
        "      # Store it in the dictionary\n",
        "      dldDdict[k] = get_dldDk(k, nlevels, nparams, ZtZ, Zte, sigma2, DinvIplusZtZD)\n",
        "\n",
        "    # Covariances\n",
        "    # ----------------------------------------------------------------------------\n",
        "\n",
        "    # Covariance of dl/dsigma2\n",
        "    covdldsigma2 = n/(2*(sigma2**2))\n",
        "\n",
        "    # Construct the Fisher Information matrix\n",
        "    # ----------------------------------------------------------------------------\n",
        "    FisherInfoMat = np.zeros((tnp,tnp))\n",
        "\n",
        "    # Add dl/dbeta covariance\n",
        "    FisherInfoMat[np.ix_(np.arange(p),np.arange(p))] = get_covdldbeta(XtZ, XtX, ZtZ, DinvIplusZtZD, sigma2)\n",
        "\n",
        "    # Add dl/dsigma2 covariance\n",
        "    FisherInfoMat[p,p] = covdldsigma2\n",
        "\n",
        "    # Add dl/dsigma2 dl/dD covariance\n",
        "    for k in np.arange(len(nparams)):\n",
        "\n",
        "      # Assign to the relevant block\n",
        "      FisherInfoMat[p, FishIndsDk[k]:FishIndsDk[k+1]] = get_covdldDkdsigma2(k, sigma2, nlevels, nparams, ZtZ, DinvIplusZtZD, invDupMatdict).reshape(FishIndsDk[k+1]-FishIndsDk[k])\n",
        "      FisherInfoMat[FishIndsDk[k]:FishIndsDk[k+1],p] = FisherInfoMat[p, FishIndsDk[k]:FishIndsDk[k+1]].transpose()\n",
        "\n",
        "    # Add dl/dD covariance\n",
        "    for k1 in np.arange(len(nparams)):\n",
        "\n",
        "      for k2 in np.arange(k1+1):\n",
        "\n",
        "        IndsDk1 = np.arange(FishIndsDk[k1],FishIndsDk[k1+1])\n",
        "        IndsDk2 = np.arange(FishIndsDk[k2],FishIndsDk[k2+1])\n",
        "\n",
        "        # Get covariance between D_k1 and D_k2 \n",
        "        FisherInfoMat[np.ix_(IndsDk1, IndsDk2)] = get_covdldDk1Dk2(k1, k2, nlevels, nparams, ZtZ, DinvIplusZtZD, invDupMatdict)\n",
        "        FisherInfoMat[np.ix_(IndsDk2, IndsDk1)] = FisherInfoMat[np.ix_(IndsDk1, IndsDk2)].transpose()\n",
        "\n",
        "    paramVector = np.concatenate((beta, np.array([[sigma2]])))\n",
        "    derivVector = np.concatenate((dldB, dldsigma2))\n",
        "\n",
        "    for k in np.arange(len(nparams)):\n",
        "\n",
        "      paramVector = np.concatenate((paramVector, mat2vech(Ddict[k])))\n",
        "      derivVector = np.concatenate((derivVector, mat2vech(dldDdict[k])))\n",
        "\n",
        "    FisherInfoMat = forceSym(FisherInfoMat)\n",
        "\n",
        "    paramVector = paramVector + lam*(np.linalg.inv(FisherInfoMat) @ derivVector)\n",
        "    \n",
        "    if sigma2<0:\n",
        "\n",
        "      sigspos[z]=1\n",
        "      sigma2 = np.maximum(sigma2,1e-6)\n",
        "\n",
        "    #print(paramVector)\n",
        "    beta = paramVector[0:p]\n",
        "    sigma2 = paramVector[p:(p+1)][0,0]\n",
        "\n",
        "    for k in np.arange(len(nparams)):\n",
        "\n",
        "      Ddict[k] = makeDnnd(vech2mat(paramVector[FishIndsDk[k]:FishIndsDk[k+1]]))\n",
        "      \n",
        "    for i in np.arange(len(nparams)):\n",
        "\n",
        "      for j in np.arange(nlevels[i]):\n",
        "\n",
        "\n",
        "        if i == 0 and j == 0:\n",
        "\n",
        "          D = Ddict[i]\n",
        "\n",
        "        else:\n",
        "\n",
        "          D = scipy.linalg.block_diag(D, Ddict[i])\n",
        "\n",
        "    # Update the step size\n",
        "    llhcurr = llh(n, ZtZ, Zte, ete, sigma2, DinvIplusZtZD,D)[0,0]\n",
        "    if llhprev>llhcurr:\n",
        "      lam = lam/2\n",
        "      \n",
        "  bvals = DinvIplusZtZD @ Zte\n",
        "  \n",
        "  return(paramVector, bvals)\n",
        "\n",
        "t1 = time.time()\n",
        "paramVec, bvals = FS(XtX, XtY, ZtX, ZtY, ZtZ, XtZ, YtZ, YtY, YtX, nlevels, nparams, 1e-6, n)\n",
        "t2 = time.time()\n",
        "print(t2-t1)\n",
        "\n",
        "t1 = time.time()\n",
        "paramVec, bvals = FS(XtX, XtY, ZtX, ZtY, ZtZ, XtZ, YtZ, YtY, YtX, nlevels, nparams, 1e-6, n)\n",
        "t2 = time.time()\n",
        "print(t2-t1)\n",
        "\n",
        "print(\"Predicted time on nifti of size 100x100x100 (in hours): \", 100*100*100*(t2-t1)/(60*60))\n",
        "\n",
        "\n",
        "\n",
        "print(\"U estimates (R)\")\n",
        "print(pd.read_csv('/Data/BLMM-testdata/estd_b.csv',header=None).values.reshape(23,2))\n",
        "print(\"U estimates (FS)\")\n",
        "print(bvals.reshape(23,2))\n",
        "print(\"U true\")\n",
        "print(pd.read_csv('/Data/BLMM-testdata/true_b.csv',header=None).values.reshape(23,2))"
      ],
      "execution_count": 43,
      "outputs": [
        {
          "output_type": "stream",
          "text": [
            "inds [ 4  7 10]\n",
            "nit 0\n",
            "nit 1\n",
            "nit 2\n",
            "nit 3\n",
            "nit 4\n",
            "nit 5\n",
            "nit 6\n",
            "nit 7\n",
            "nit 8\n",
            "nit 9\n",
            "nit 10\n",
            "nit 11\n",
            "nit 12\n",
            "nit 13\n",
            "nit 14\n",
            "nit 15\n",
            "nit 16\n",
            "nit 17\n",
            "nit 18\n",
            "nit 19\n",
            "nit 20\n",
            "nit 21\n",
            "nit 22\n",
            "nit 23\n",
            "nit 24\n",
            "nit 25\n",
            "nit 26\n",
            "nit 27\n",
            "nit 28\n",
            "2.5026297569274902\n",
            "inds [ 4  7 10]\n",
            "nit 0\n",
            "nit 1\n",
            "nit 2\n",
            "nit 3\n",
            "nit 4\n",
            "nit 5\n",
            "nit 6\n",
            "nit 7\n",
            "nit 8\n",
            "nit 9\n",
            "nit 10\n",
            "nit 11\n",
            "nit 12\n",
            "nit 13\n",
            "nit 14\n",
            "nit 15\n",
            "nit 16\n",
            "nit 17\n",
            "nit 18\n",
            "nit 19\n",
            "nit 20\n",
            "nit 21\n",
            "nit 22\n",
            "nit 23\n",
            "nit 24\n",
            "nit 25\n",
            "nit 26\n",
            "nit 27\n",
            "nit 28\n",
            "2.2574164867401123\n",
            "Predicted time on nifti of size 100x100x100 (in hours):  627.0601352055868\n",
            "U estimates (R)\n",
            "[[-0.16266309 -4.21724427]\n",
            " [ 1.41643004  1.41243783]\n",
            " [ 1.59527575 -1.58921871]\n",
            " [ 1.57314783  0.40497904]\n",
            " [ 1.29727291  0.93796984]\n",
            " [-1.20537013  2.19715236]\n",
            " [-0.62177368 -1.1845146 ]\n",
            " [-0.8982196  -1.34761407]\n",
            " [ 0.2105669   2.5381855 ]\n",
            " [-0.57561587 -3.43679857]\n",
            " [ 1.33808317  0.10724134]\n",
            " [-1.20676845 -2.43712662]\n",
            " [ 0.64262693  1.33629341]\n",
            " [-0.9916963  -0.08043681]\n",
            " [ 1.44782818  2.19618068]\n",
            " [-1.25815704  4.3074814 ]\n",
            " [ 0.27424557  0.87149959]\n",
            " [-0.78704685 -3.16062475]\n",
            " [-1.48916827 -0.24116661]\n",
            " [-0.47444214  3.13847411]\n",
            " [ 1.80633411  0.64368738]\n",
            " [ 2.06756827 -0.15742136]\n",
            " [-7.37272861  0.43752657]]\n",
            "U estimates (FS)\n",
            "[[-0.16277237 -4.21724426]\n",
            " [ 1.41631016  1.41243782]\n",
            " [ 1.59515855 -1.58921869]\n",
            " [ 1.5730278   0.40497904]\n",
            " [ 1.29715167  0.93796983]\n",
            " [-1.20549151  2.19715239]\n",
            " [-0.62188845 -1.18451457]\n",
            " [-0.8983342  -1.34761406]\n",
            " [ 0.21044476  2.53818554]\n",
            " [-0.57572665 -3.43679866]\n",
            " [ 1.33796518  0.10724135]\n",
            " [-1.20688117 -2.43712659]\n",
            " [ 0.64250659  1.33629342]\n",
            " [-0.99181298 -0.08043681]\n",
            " [ 1.44770551  2.19618072]\n",
            " [-1.25828042  4.30748132]\n",
            " [ 0.27412685  0.87149954]\n",
            " [-0.78715787 -3.16062473]\n",
            " [-1.48928447 -0.24116662]\n",
            " [-0.47456435  3.13847416]\n",
            " [ 1.78155856  0.64368706]\n",
            " [ 2.04279921 -0.15742126]\n",
            " [-7.39750587  0.43752703]]\n",
            "U true\n",
            "[[-0.19301143 -4.22666242]\n",
            " [ 1.43735476  1.40883489]\n",
            " [ 1.34711832 -1.58788242]\n",
            " [ 1.81825209  0.3910735 ]\n",
            " [ 1.25654173  0.94063103]\n",
            " [-1.22775617  2.19293973]\n",
            " [-0.79408731 -1.19281546]\n",
            " [-0.9898057  -1.35221872]\n",
            " [-0.03319243  2.53178969]\n",
            " [-0.65604937 -3.43139032]\n",
            " [ 1.42910277  0.11018046]\n",
            " [-0.96244844 -2.43071144]\n",
            " [ 0.70088294  1.33487455]\n",
            " [-1.3137399  -0.07784482]\n",
            " [ 1.45666816  2.19521647]\n",
            " [-1.3663195   4.30629966]\n",
            " [ 0.22757187  0.87208539]\n",
            " [-0.89571743 -3.14622337]\n",
            " [-1.51292639 -0.23242295]\n",
            " [-0.5588196   3.15054584]\n",
            " [ 1.85205881  0.64080503]\n",
            " [ 2.10133112 -0.1570577 ]\n",
            " [-7.27154738  0.44280999]]\n"
          ],
          "name": "stdout"
        }
      ]
    },
    {
      "cell_type": "markdown",
      "metadata": {
        "id": "_Nazpuh-A5vx",
        "colab_type": "text"
      },
      "source": [
        "# Scaling up the computation (Random field)\n",
        "\n",
        "This section has several implemented ideas for scaling up the computation to compute several similar models at once. For simplicity it is assumed here that X and Z are the same across voxels."
      ]
    },
    {
      "cell_type": "markdown",
      "metadata": {
        "id": "WQqn-irnDVbw",
        "colab_type": "text"
      },
      "source": [
        "### Toy dataset (for a random field)"
      ]
    },
    {
      "cell_type": "markdown",
      "metadata": {
        "id": "q70VwMBhDZpG",
        "colab_type": "text"
      },
      "source": [
        "#### Matrix Dimensions\n",
        "\n",
        "Below are the matrix dimensions used for **one voxel** in this example. If the model has form:\n",
        "\n",
        "$$Y=X\\beta+Zb+\\epsilon$$ With $\\epsilon \\sim N(0,\\sigma^2I_n)$ and $b \\sim N(0,\\sigma^2D)$, then the dimensions of each matrix are as follows:\n",
        "\n",
        " - $Y$: $(n \\times 1)$\n",
        " - $X$: $(n \\times p)$\n",
        " - $\\beta$: $(p \\times 1)$\n",
        " - $Z$: $(n \\times q)$\n",
        " - $b$: $(q \\times 1)$\n",
        " - $\\epsilon$: $(n \\times 1)$\n",
        " - $D$: $(p\\times p)$"
      ]
    },
    {
      "cell_type": "code",
      "metadata": {
        "id": "wmvGEtodDXRF",
        "colab_type": "code",
        "outputId": "fd17c055-c8f4-4ec1-e19f-a9dc7f6269da",
        "colab": {
          "base_uri": "https://localhost:8080/",
          "height": 263
        }
      },
      "source": [
        "# Number of factors, random integer between 1 and 3\n",
        "r = np.random.randint(2,4)#np.random.randint(1,4)\n",
        "print(\"Number of grouping factors for random effects:\")\n",
        "print(r)\n",
        "\n",
        "# Number of levels, random number between 2 and 8\n",
        "nlevels = np.random.randint(2,8,size=(r))\n",
        "# Let the first number of levels be a little larger (typically like subjects)\n",
        "nlevels[0] = np.random.randint(2,35,size=1)\n",
        "nlevels = np.sort(nlevels)[::-1]\n",
        "print(\"Number of levels for each factor:\")\n",
        "print(nlevels)\n",
        "\n",
        "# Number of parameters, random number between 1 and 5\n",
        "nparams = np.random.randint(1,6,size=(r))\n",
        "print(\"Number of parameters for each factor:\")\n",
        "print(nparams)\n",
        "\n",
        "# Dimension of D\n",
        "print(\"Dimension of D, q:\")\n",
        "q = np.sum(nlevels*nparams)\n",
        "print(q)\n",
        "\n",
        "# Number of fixed effects, random number between 6 and 30\n",
        "p = np.random.randint(6,31)\n",
        "print(\"Number of fixed effects:\")\n",
        "print(p)\n",
        "\n",
        "# Number of subjects, n\n",
        "n = 1000\n",
        "print(\"Number of subjects:\")\n",
        "print(n)\n",
        "\n",
        "# Voxel dimensions\n",
        "dimv = [30,30,30]\n",
        "nv = np.prod(dimv)\n",
        "print(\"Number of voxels:\")\n",
        "print(nv)\n"
      ],
      "execution_count": 44,
      "outputs": [
        {
          "output_type": "stream",
          "text": [
            "Number of grouping factors for random effects:\n",
            "2\n",
            "Number of levels for each factor:\n",
            "[11  5]\n",
            "Number of parameters for each factor:\n",
            "[5 3]\n",
            "Dimension of D, q:\n",
            "70\n",
            "Number of fixed effects:\n",
            "16\n",
            "Number of subjects:\n",
            "1000\n",
            "Number of voxels:\n",
            "27000\n"
          ],
          "name": "stdout"
        }
      ]
    },
    {
      "cell_type": "markdown",
      "metadata": {
        "id": "3NvSqz2ADc7X",
        "colab_type": "text"
      },
      "source": [
        "#### Fixed Effects matrix (X)\n",
        "\n",
        "For simplicity, in this example $X$ is the same for all voxels. "
      ]
    },
    {
      "cell_type": "code",
      "metadata": {
        "id": "4689w6FrDaDO",
        "colab_type": "code",
        "outputId": "25345890-a4fd-4304-faca-2d5b93f189f1",
        "colab": {
          "base_uri": "https://localhost:8080/",
          "height": 286
        }
      },
      "source": [
        "# Initialize empty x\n",
        "X = np.zeros((n,p))\n",
        "\n",
        "# First column is intercept\n",
        "X[:,0] = 1\n",
        "\n",
        "# Rest of the columns we will make random noise \n",
        "X[:,1:] = np.random.randn(n*(p-1)).reshape((n,(p-1)))\n",
        "\n",
        "# Image of the last 20 rows of X\n",
        "imshow(X[-20:-1,:])\n"
      ],
      "execution_count": 45,
      "outputs": [
        {
          "output_type": "execute_result",
          "data": {
            "text/plain": [
              "<matplotlib.image.AxesImage at 0x7f9e1647fb00>"
            ]
          },
          "metadata": {
            "tags": []
          },
          "execution_count": 45
        },
        {
          "output_type": "display_data",
          "data": {
            "image/png": "[encoded data removed]",
            "text/plain": [
              "<Figure size 432x288 with 1 Axes>"
            ]
          },
          "metadata": {
            "tags": []
          }
        }
      ]
    },
    {
      "cell_type": "markdown",
      "metadata": {
        "id": "CQLC39CYDqa7",
        "colab_type": "text"
      },
      "source": [
        "#### Random Effects matrix (Z)\n",
        "\n",
        "For simplicity, in this example $Z$ is the same for all voxels. "
      ]
    },
    {
      "cell_type": "code",
      "metadata": {
        "id": "yyZSa63dDi8Z",
        "colab_type": "code",
        "outputId": "3a03225b-3e4e-4436-8264-d3989b0d8ea0",
        "colab": {
          "base_uri": "https://localhost:8080/",
          "height": 304
        }
      },
      "source": [
        "import sparse\n",
        "# We need to create a block of Z for each level of each factor\n",
        "for i in np.arange(r):\n",
        "  \n",
        "  Zdata_factor = np.random.randn(n,nparams[i])\n",
        "  \n",
        "  if i==0:\n",
        "    \n",
        "    #The first factor should be block diagonal, so the factor indices are grouped\n",
        "    factorVec = np.repeat(np.arange(nlevels[i]), repeats=np.floor(n/max(nlevels[i],1)))\n",
        "    \n",
        "    if len(factorVec) < n:\n",
        "      \n",
        "      # Quick fix incase rounding leaves empty columns\n",
        "      factorVecTmp = np.zeros(n)\n",
        "      factorVecTmp[0:len(factorVec)] = factorVec\n",
        "      factorVecTmp[len(factorVec):n] = nlevels[i]-1\n",
        "      factorVec = np.int64(factorVecTmp)\n",
        "      \n",
        "    \n",
        "    # Crop the factor vector - otherwise have a few too many\n",
        "    factorVec = factorVec[0:n]\n",
        "    \n",
        "    # Give the data an intercept\n",
        "    Zdata_factor[:,0]=1\n",
        "    \n",
        "  else:\n",
        "    \n",
        "    # The factor is randomly arranged across subjects\n",
        "    factorVec = np.random.randint(0,nlevels[i],size=n) \n",
        "  \n",
        "  # Build a matrix showing where the elements of Z should be\n",
        "  indicatorMatrix_factor = np.zeros((n,nlevels[i]))\n",
        "  indicatorMatrix_factor[np.arange(n),factorVec] = 1\n",
        "  \n",
        "  # Need to repeat for each parameter the factor has \n",
        "  indicatorMatrix_factor = np.repeat(indicatorMatrix_factor, nparams[i], axis=1)\n",
        "  \n",
        "  # Enter the Z values\n",
        "  indicatorMatrix_factor[indicatorMatrix_factor==1]=Zdata_factor.reshape(Zdata_factor.shape[0]*Zdata_factor.shape[1])\n",
        "  \n",
        "  # Make sparse\n",
        "  Zfactor = scipy.sparse.csr_matrix(indicatorMatrix_factor)\n",
        "\n",
        "  # Put all the factors together\n",
        "  if i == 0:\n",
        "    Z = Zfactor\n",
        "  else:\n",
        "    Z = scipy.sparse.hstack((Z, Zfactor))\n",
        "\n",
        "\n",
        "Z2 = sparse.COO.from_scipy_sparse(Z)\n",
        "\n",
        "# Create an image of Z\n",
        "imshow(Z.toarray(), \\\n",
        "       interpolation='nearest', vmin=-5, vmax=5, aspect='auto')\n",
        "\n",
        "print(nlevels)\n",
        "print(nparams)\n"
      ],
      "execution_count": 46,
      "outputs": [
        {
          "output_type": "stream",
          "text": [
            "[11  5]\n",
            "[5 3]\n"
          ],
          "name": "stdout"
        },
        {
          "output_type": "display_data",
          "data": {
            "image/png": "[encoded data removed]",
            "text/plain": [
              "<Figure size 432x288 with 1 Axes>"
            ]
          },
          "metadata": {
            "tags": []
          }
        }
      ]
    },
    {
      "cell_type": "markdown",
      "metadata": {
        "id": "aRsq7mmwD4uG",
        "colab_type": "text"
      },
      "source": [
        "#### Smooth random beta\n",
        "Smooth random beta image."
      ]
    },
    {
      "cell_type": "code",
      "metadata": {
        "id": "YH2F-3D8Doqr",
        "colab_type": "code",
        "outputId": "e853e1ef-c3d5-4b6b-f0e4-e03bdc8cde3e",
        "colab": {
          "base_uri": "https://localhost:8080/",
          "height": 304
        }
      },
      "source": [
        "# Random 4D matrix (unsmoothed)\n",
        "beta_us = np.random.randn(nv*p).reshape(dimv[0],dimv[1],dimv[2],p)*20\n",
        "beta_us[3:5,3:5,3:5,3] = beta_us[3:5,3:5,3:5,3] + 100\n",
        "\n",
        "t1 = time.time()\n",
        "# Some random affine, not important for this simulation\n",
        "affine = np.diag([1, 1, 1, 1])\n",
        "beta_us_nii = nib.Nifti1Image(beta_us, affine)\n",
        "\n",
        "# Smoothed beta nifti\n",
        "beta_s_nii = nilearn.image.smooth_img(beta_us_nii, 5)\n",
        "\n",
        "# Final beta\n",
        "beta = beta_s_nii.get_fdata()\n",
        "\n",
        "t2 = time.time()\n",
        "print(t2-t1)\n",
        "\n",
        "# Show unsmoothed\n",
        "imshow(beta_us[3,:,:,3].reshape(dimv[0],dimv[1]), \\\n",
        "                    interpolation='nearest', aspect='auto')\n",
        "\n",
        "plt.colorbar()"
      ],
      "execution_count": 47,
      "outputs": [
        {
          "output_type": "stream",
          "text": [
            "0.022425413131713867\n"
          ],
          "name": "stdout"
        },
        {
          "output_type": "execute_result",
          "data": {
            "text/plain": [
              "<matplotlib.colorbar.Colorbar at 0x7f9e15f2a0f0>"
            ]
          },
          "metadata": {
            "tags": []
          },
          "execution_count": 47
        },
        {
          "output_type": "display_data",
          "data": {
            "image/png": "[encoded data removed]",
            "text/plain": [
              "<Figure size 432x288 with 2 Axes>"
            ]
          },
          "metadata": {
            "tags": []
          }
        }
      ]
    },
    {
      "cell_type": "code",
      "metadata": {
        "id": "d_jmFhBhD6tL",
        "colab_type": "code",
        "outputId": "58aac915-3b61-4e24-ec9f-970abc08f6be",
        "colab": {
          "base_uri": "https://localhost:8080/",
          "height": 286
        }
      },
      "source": [
        "# Show smoothed\n",
        "imshow(beta[3,:,:,3].reshape(dimv[0],dimv[1]), \\\n",
        "                    interpolation='nearest', aspect='auto')\n",
        "plt.colorbar()"
      ],
      "execution_count": 48,
      "outputs": [
        {
          "output_type": "execute_result",
          "data": {
            "text/plain": [
              "<matplotlib.colorbar.Colorbar at 0x7f9e15ebf4a8>"
            ]
          },
          "metadata": {
            "tags": []
          },
          "execution_count": 48
        },
        {
          "output_type": "display_data",
          "data": {
            "image/png": "[encoded data removed]",
            "text/plain": [
              "<Figure size 432x288 with 2 Axes>"
            ]
          },
          "metadata": {
            "tags": []
          }
        }
      ]
    },
    {
      "cell_type": "markdown",
      "metadata": {
        "id": "7FrGMBAwEP8e",
        "colab_type": "text"
      },
      "source": [
        "#### Smooth random b\n",
        "Smooth random b image."
      ]
    },
    {
      "cell_type": "code",
      "metadata": {
        "id": "CadvEVzeEM7F",
        "colab_type": "code",
        "outputId": "440a0d5a-0078-4946-c6b2-9071b886fd59",
        "colab": {
          "base_uri": "https://localhost:8080/",
          "height": 286
        }
      },
      "source": [
        "# Random 4D matrix (unsmoothed)\n",
        "b_us = np.random.randn(nv*q).reshape(dimv[0],dimv[1],dimv[2],q)*20\n",
        "\n",
        "# Some random affine, not important for this simulation\n",
        "affine = np.diag([1, 1, 1, 1])\n",
        "b_us_nii = nib.Nifti1Image(b_us, affine)\n",
        "\n",
        "# Smoothed beta nifti\n",
        "b_s_nii = nilearn.image.smooth_img(b_us_nii, 5)\n",
        "\n",
        "# Final beta\n",
        "b = b_s_nii.get_fdata()\n",
        "\n",
        "# Show unsmoothed\n",
        "imshow(b_us[3,:,:,1].reshape(dimv[0],dimv[1]), \\\n",
        "                    interpolation='nearest', aspect='auto')"
      ],
      "execution_count": 49,
      "outputs": [
        {
          "output_type": "execute_result",
          "data": {
            "text/plain": [
              "<matplotlib.image.AxesImage at 0x7f9e15e37208>"
            ]
          },
          "metadata": {
            "tags": []
          },
          "execution_count": 49
        },
        {
          "output_type": "display_data",
          "data": {
            "image/png": "[encoded data removed]",
            "text/plain": [
              "<Figure size 432x288 with 1 Axes>"
            ]
          },
          "metadata": {
            "tags": []
          }
        }
      ]
    },
    {
      "cell_type": "code",
      "metadata": {
        "id": "aCNew36kESqR",
        "colab_type": "code",
        "outputId": "31e6ff48-f6c4-4e7a-9f16-6d77a00872fb",
        "colab": {
          "base_uri": "https://localhost:8080/",
          "height": 286
        }
      },
      "source": [
        "# Show smoothed\n",
        "imshow(b[3,:,:,1].reshape(dimv[0],dimv[1]), \\\n",
        "                    interpolation='nearest', aspect='auto')"
      ],
      "execution_count": 50,
      "outputs": [
        {
          "output_type": "execute_result",
          "data": {
            "text/plain": [
              "<matplotlib.image.AxesImage at 0x7f9e15d8d208>"
            ]
          },
          "metadata": {
            "tags": []
          },
          "execution_count": 50
        },
        {
          "output_type": "display_data",
          "data": {
            "image/png": "[encoded data removed]",
            "text/plain": [
              "<Figure size 432x288 with 1 Axes>"
            ]
          },
          "metadata": {
            "tags": []
          }
        }
      ]
    },
    {
      "cell_type": "markdown",
      "metadata": {
        "id": "J5n048xZEW-d",
        "colab_type": "text"
      },
      "source": [
        " #### Y vector (New response)\n",
        " \n",
        "Generate response for the whole field."
      ]
    },
    {
      "cell_type": "code",
      "metadata": {
        "id": "7jadlKZcEUxx",
        "colab_type": "code",
        "outputId": "bf522988-334f-4034-b111-a1169603fa82",
        "colab": {
          "base_uri": "https://localhost:8080/",
          "height": 87
        }
      },
      "source": [
        "\n",
        "# Reshape X\n",
        "X = X.reshape(1, X.shape[0], X.shape[1])\n",
        "\n",
        "# Reshape beta\n",
        "beta = beta.reshape(beta.shape[0]*beta.shape[1]*beta.shape[2],beta.shape[3],1)\n",
        "beta_True = beta\n",
        "\n",
        "# Reshape Z (note: This step is slow because of the sparse to dense conversion;\n",
        "# it could probably be made quicker but this is only for one simulation at current)\n",
        "Ztmp = Z.toarray().reshape(1, Z.shape[0], Z.shape[1])\n",
        "\n",
        "# Reshape b\n",
        "b = b.reshape(b.shape[0]*b.shape[1]*b.shape[2],b.shape[3],1)\n",
        "\n",
        "print(X.shape)\n",
        "print(Ztmp.shape)\n",
        "print(beta.shape)\n",
        "print(b.shape)\n",
        "\n",
        "# Generate Y\n",
        "Y = np.matmul(X,beta)+np.matmul(Ztmp,b) + np.random.randn(n,1)"
      ],
      "execution_count": 51,
      "outputs": [
        {
          "output_type": "stream",
          "text": [
            "(1, 1000, 16)\n",
            "(1, 1000, 70)\n",
            "(27000, 16, 1)\n",
            "(27000, 70, 1)\n"
          ],
          "name": "stdout"
        }
      ]
    },
    {
      "cell_type": "markdown",
      "metadata": {
        "id": "7V1oJXx2EcEX",
        "colab_type": "text"
      },
      "source": [
        "Check Y looks reasonable."
      ]
    },
    {
      "cell_type": "code",
      "metadata": {
        "id": "Nk8lqtsbEZ1J",
        "colab_type": "code",
        "outputId": "7a02f31d-550a-4564-fd66-6067c72daefe",
        "colab": {
          "base_uri": "https://localhost:8080/",
          "height": 304
        }
      },
      "source": [
        "print(Y.shape)\n",
        "\n",
        "Y_imageformat = Y.reshape((dimv[0],dimv[1],dimv[2],n))\n",
        "\n",
        "imshow(Y_imageformat[3,:,:,1].reshape(dimv[0],dimv[1]), \\\n",
        "                    interpolation='nearest', aspect='auto')"
      ],
      "execution_count": 52,
      "outputs": [
        {
          "output_type": "stream",
          "text": [
            "(27000, 1000, 1)\n"
          ],
          "name": "stdout"
        },
        {
          "output_type": "execute_result",
          "data": {
            "text/plain": [
              "<matplotlib.image.AxesImage at 0x7f9e15d66438>"
            ]
          },
          "metadata": {
            "tags": []
          },
          "execution_count": 52
        },
        {
          "output_type": "display_data",
          "data": {
            "image/png": "[encoded data removed]",
            "text/plain": [
              "<Figure size 432x288 with 1 Axes>"
            ]
          },
          "metadata": {
            "tags": []
          }
        }
      ]
    },
    {
      "cell_type": "markdown",
      "metadata": {
        "id": "0N-oRTM1EhCb",
        "colab_type": "text"
      },
      "source": [
        "#### Transpose products\n",
        "\n",
        "Calculate X'Y, X'Z, X'Y, Y'Y, Y'Z, Y'X Z'Z, Z'X and Z'Y."
      ]
    },
    {
      "cell_type": "code",
      "metadata": {
        "id": "px75KQpHEe7u",
        "colab_type": "code",
        "outputId": "f7a72d32-022a-4b5a-dcb1-467d5549d60d",
        "colab": {
          "base_uri": "https://localhost:8080/",
          "height": 175
        }
      },
      "source": [
        "# X'Z\\Z'X\n",
        "XtZ = np.matmul(X.transpose(0,2,1),Ztmp)\n",
        "ZtX = XtZ.transpose(0,2,1)\n",
        "\n",
        "# Z'Y\\Y'Z\n",
        "YtZ = np.matmul(Y.transpose(0,2,1),Ztmp)\n",
        "ZtY = YtZ.transpose(0,2,1)\n",
        "\n",
        "# Y'X/X'Y\n",
        "YtX = np.matmul(Y.transpose(0,2,1),X)\n",
        "XtY = YtX.transpose(0,2,1)\n",
        "\n",
        "# YtY\n",
        "YtY = np.matmul(Y.transpose(0,2,1),Y)\n",
        "\n",
        "# ZtZ\n",
        "ZtZ = np.matmul(Ztmp.transpose(0,2,1),Ztmp)\n",
        "\n",
        "# X'X\n",
        "XtX = np.matmul(X.transpose(0,2,1),X)\n",
        "\n",
        "\n",
        "print(XtZ.shape)\n",
        "print(ZtX.shape)\n",
        "\n",
        "print(XtY.shape)\n",
        "print(YtX.shape)\n",
        "\n",
        "print(YtZ.shape)\n",
        "print(ZtY.shape)\n",
        "\n",
        "print(XtX.shape)\n",
        "\n",
        "print(YtY.shape)\n",
        "\n",
        "print(ZtZ.shape)"
      ],
      "execution_count": 53,
      "outputs": [
        {
          "output_type": "stream",
          "text": [
            "(1, 16, 70)\n",
            "(1, 70, 16)\n",
            "(27000, 16, 1)\n",
            "(27000, 1, 16)\n",
            "(27000, 1, 70)\n",
            "(27000, 70, 1)\n",
            "(1, 16, 16)\n",
            "(27000, 1, 1)\n",
            "(1, 70, 70)\n"
          ],
          "name": "stdout"
        }
      ]
    },
    {
      "cell_type": "markdown",
      "metadata": {
        "id": "CUHZxjFvEmih",
        "colab_type": "text"
      },
      "source": [
        "### Demonstration: Time taken just looping\n",
        "\n",
        "This is a demonstration showing how long PLS takes when doing each voxel seperately."
      ]
    },
    {
      "cell_type": "code",
      "metadata": {
        "id": "TokOi5r2Ej2T",
        "colab_type": "code",
        "outputId": "28503fa6-eca0-4b4c-ad9c-32fd59d46526",
        "colab": {
          "base_uri": "https://localhost:8080/",
          "height": 34
        }
      },
      "source": [
        "# Initialize empty estimates\n",
        "beta_est = np.zeros(beta.shape)\n",
        "print(beta.shape)\n",
        "\n",
        "demo = False\n",
        "if demo:\n",
        "  \n",
        "  # Initialize temporary X'X, X'Z, Z'X and Z'Z\n",
        "  XtZtmp = XtZ[0,:,:]\n",
        "  ZtXtmp = ZtX[0,:,:]\n",
        "  ZtZtmp = ZtZ[0,:,:]\n",
        "  XtXtmp = XtX[0,:,:]\n",
        "\n",
        "  print(type(ZtZ))\n",
        "\n",
        "  t1 = time.time()\n",
        "  for i in np.arange(beta.shape[0]):\n",
        "\n",
        "    print(i)\n",
        "\n",
        "    XtYtmp = XtY[i,:,:]\n",
        "    ZtYtmp = ZtY[i,:,:] \n",
        "    YtYtmp = YtY[i,:,:] \n",
        "    YtZtmp = YtZ[i,:,:]\n",
        "    YtXtmp = YtX[i,:,:]\n",
        "\n",
        "    param_est,bvals = FS(XtXtmp, XtYtmp, ZtXtmp, ZtYtmp, ZtZtmp, XtZtmp, YtZtmp, YtYtmp, YtXtmp, nlevels, nparams, 1e-6, n)\n",
        "\n",
        "    # Get current beta\n",
        "    beta_est[i,:,:] = param_est[0:beta.shape[1]]\n",
        "\n",
        "  t2 = time.time()\n",
        "  print(\"Time taken in seconds for this example:\")\n",
        "  print(t2-t1)\n",
        "  print(\"Estimated time taken for this example on a nifti of size (100x100x100), in hours:\")\n",
        "  print(100*100*100*(t2-t1)/(nv*60*60))"
      ],
      "execution_count": 54,
      "outputs": [
        {
          "output_type": "stream",
          "text": [
            "(27000, 16, 1)\n"
          ],
          "name": "stdout"
        }
      ]
    },
    {
      "cell_type": "code",
      "metadata": {
        "id": "SJnJ524uFbV1",
        "colab_type": "code",
        "outputId": "ae555b0e-a7b5-40bb-84a7-2e5a9b04e147",
        "colab": {
          "base_uri": "https://localhost:8080/",
          "height": 304
        }
      },
      "source": [
        "print(\"True beta (3)\")\n",
        "beta_map=beta.reshape(dimv[0],dimv[1],dimv[2],beta.shape[1])\n",
        "beta_est_map=beta_est.reshape(dimv[0],dimv[1],dimv[2],beta.shape[1])\n",
        "\n",
        "\n",
        "# Show true beta, 3rd x-slice, 3rd parameter\n",
        "imshow(beta_map[3,:,:,3].reshape(dimv[0],dimv[1]), \\\n",
        "                    interpolation='nearest', aspect='auto')\n",
        "plt.colorbar()"
      ],
      "execution_count": 55,
      "outputs": [
        {
          "output_type": "stream",
          "text": [
            "True beta (3)\n"
          ],
          "name": "stdout"
        },
        {
          "output_type": "execute_result",
          "data": {
            "text/plain": [
              "<matplotlib.colorbar.Colorbar at 0x7f9e15cf21d0>"
            ]
          },
          "metadata": {
            "tags": []
          },
          "execution_count": 55
        },
        {
          "output_type": "display_data",
          "data": {
            "image/png": "[encoded data removed]",
            "text/plain": [
              "<Figure size 432x288 with 2 Axes>"
            ]
          },
          "metadata": {
            "tags": []
          }
        }
      ]
    },
    {
      "cell_type": "code",
      "metadata": {
        "id": "iIodupfkRONO",
        "colab_type": "code",
        "outputId": "3e38729f-f37a-4af8-9359-964988f29515",
        "colab": {
          "base_uri": "https://localhost:8080/",
          "height": 304
        }
      },
      "source": [
        "print(\"Estimated beta (3)\")\n",
        "\n",
        "# Show estimated beta, 3rd x-slice, 3rd parameter\n",
        "imshow(beta_est_map[3,:,:,3].reshape(dimv[0],dimv[1]), vmin=-3, vmax=3, \\\n",
        "                    interpolation='nearest', aspect='auto')\n",
        "plt.colorbar()\n"
      ],
      "execution_count": 56,
      "outputs": [
        {
          "output_type": "stream",
          "text": [
            "Estimated beta (3)\n"
          ],
          "name": "stdout"
        },
        {
          "output_type": "execute_result",
          "data": {
            "text/plain": [
              "<matplotlib.colorbar.Colorbar at 0x7f9e15c102b0>"
            ]
          },
          "metadata": {
            "tags": []
          },
          "execution_count": 56
        },
        {
          "output_type": "display_data",
          "data": {
            "image/png": "[encoded data removed]",
            "text/plain": [
              "<Figure size 432x288 with 2 Axes>"
            ]
          },
          "metadata": {
            "tags": []
          }
        }
      ]
    },
    {
      "cell_type": "markdown",
      "metadata": {
        "id": "wUapPX6JdyPG",
        "colab_type": "text"
      },
      "source": [
        "**Note:** Result is roughly similar... but lots of local minima disrupting the image."
      ]
    },
    {
      "cell_type": "markdown",
      "metadata": {
        "id": "Y3pBWlFqeRZx",
        "colab_type": "text"
      },
      "source": [
        "### Scaled up Helper Functions\n",
        "\n",
        "This section contains the Nifti-equivalent functions to those given *helper functions* for an individual voxel."
      ]
    },
    {
      "cell_type": "markdown",
      "metadata": {
        "id": "RlYTkC9Qgg3l",
        "colab_type": "text"
      },
      "source": [
        "#### Initial beta (broadcasted)\n",
        "\n",
        "The below function returns the OLS estimator for several voxels at once, where the OLS estimator for a given voxel, $\\hat{\\beta}$, is given by:\n",
        "\n",
        "$$\\hat{\\beta}_{OLS}=(X'X)^{-1}X'Y$$\n",
        "\n",
        "----\n",
        "\n",
        "This function takes the following inputs:\n",
        "\n",
        "----\n",
        "\n",
        " - `XtX`: The design matrices transposed and multiplied by themselves ($X'X$ in the above notation)\n",
        " - `XtY`: The design matrices transposed and multiplied by the response vectors ($X'Y$ in the above notation).\n",
        " \n",
        "----\n",
        "\n",
        "It returns as outputs:\n",
        "\n",
        "----\n",
        "\n",
        "- `beta`: The OLS estimates of $\\beta$ ($\\hat{\\beta}_{OLS}$ in the above notation).\n",
        "\n"
      ]
    },
    {
      "cell_type": "code",
      "metadata": {
        "id": "9QDdV-iTggJz",
        "colab_type": "code",
        "outputId": "1485e933-6ab0-466f-bc4d-988567163c76",
        "colab": {
          "base_uri": "https://localhost:8080/",
          "height": 1000
        }
      },
      "source": [
        "def initBeta_broadcasted(XtX, XtY):\n",
        "  \n",
        "  # Get the beta estimator\n",
        "  beta = np.linalg.solve(XtX,XtY)\n",
        "  \n",
        "  # Return the result\n",
        "  return(beta)\n",
        "\n",
        "print(initBeta(XtX,XtY))\n",
        "print(np.linalg.inv(XtX) @ XtY)"
      ],
      "execution_count": 57,
      "outputs": [
        {
          "output_type": "stream",
          "text": [
            "[[[ 4.91795182]\n",
            "  [-0.25607615]\n",
            "  [ 2.77596286]\n",
            "  ...\n",
            "  [-3.36219379]\n",
            "  [-2.96547974]\n",
            "  [ 3.39332544]]\n",
            "\n",
            " [[ 3.71803234]\n",
            "  [-0.01798858]\n",
            "  [ 3.00100956]\n",
            "  ...\n",
            "  [-3.31809963]\n",
            "  [-2.18706795]\n",
            "  [ 3.21701699]]\n",
            "\n",
            " [[ 1.96631735]\n",
            "  [ 0.22556045]\n",
            "  [ 3.19126916]\n",
            "  ...\n",
            "  [-3.05289266]\n",
            "  [-0.85186301]\n",
            "  [ 2.8118537 ]]\n",
            "\n",
            " ...\n",
            "\n",
            " [[ 1.94796995]\n",
            "  [-1.38674741]\n",
            "  [-3.51578693]\n",
            "  ...\n",
            "  [ 2.39875941]\n",
            "  [-3.81006659]\n",
            "  [ 3.97951269]]\n",
            "\n",
            " [[ 2.51012841]\n",
            "  [-2.43568087]\n",
            "  [-3.70279756]\n",
            "  ...\n",
            "  [ 2.18015105]\n",
            "  [-4.09124499]\n",
            "  [ 2.97008268]]\n",
            "\n",
            " [[ 2.88400237]\n",
            "  [-2.99876638]\n",
            "  [-3.81711186]\n",
            "  ...\n",
            "  [ 1.84491224]\n",
            "  [-4.24256379]\n",
            "  [ 2.2645892 ]]]\n",
            "[[[ 4.91795182]\n",
            "  [-0.25607615]\n",
            "  [ 2.77596286]\n",
            "  ...\n",
            "  [-3.36219379]\n",
            "  [-2.96547974]\n",
            "  [ 3.39332544]]\n",
            "\n",
            " [[ 3.71803234]\n",
            "  [-0.01798858]\n",
            "  [ 3.00100956]\n",
            "  ...\n",
            "  [-3.31809963]\n",
            "  [-2.18706795]\n",
            "  [ 3.21701699]]\n",
            "\n",
            " [[ 1.96631735]\n",
            "  [ 0.22556045]\n",
            "  [ 3.19126916]\n",
            "  ...\n",
            "  [-3.05289266]\n",
            "  [-0.85186301]\n",
            "  [ 2.8118537 ]]\n",
            "\n",
            " ...\n",
            "\n",
            " [[ 1.94796995]\n",
            "  [-1.38674741]\n",
            "  [-3.51578693]\n",
            "  ...\n",
            "  [ 2.39875941]\n",
            "  [-3.81006659]\n",
            "  [ 3.97951269]]\n",
            "\n",
            " [[ 2.51012841]\n",
            "  [-2.43568087]\n",
            "  [-3.70279756]\n",
            "  ...\n",
            "  [ 2.18015105]\n",
            "  [-4.09124499]\n",
            "  [ 2.97008268]]\n",
            "\n",
            " [[ 2.88400237]\n",
            "  [-2.99876638]\n",
            "  [-3.81711186]\n",
            "  ...\n",
            "  [ 1.84491224]\n",
            "  [-4.24256379]\n",
            "  [ 2.2645892 ]]]\n"
          ],
          "name": "stdout"
        }
      ]
    },
    {
      "cell_type": "markdown",
      "metadata": {
        "id": "6FZyyQAEh3mp",
        "colab_type": "text"
      },
      "source": [
        "### Sum of square residuals (broadcasted)\n",
        "\n",
        "The function below calculates the sum of the square residuals, $e^Te$, using the below formula:\n",
        "\n",
        "$$e^Te = (Y-X\\beta)^T(Y-X\\beta)$$ \n",
        "$$=Y^TY - 2Y^TX\\beta + \\beta^T X^TX \\beta$$\n",
        "\n",
        "\n",
        "----\n",
        "\n",
        "This function takes the following inputs:\n",
        "\n",
        "----\n",
        "\n",
        " - `YtX`: $Y$ transpose multiplied by $X$ ($Y^TX$ in the above notation).\n",
        " - `YtY`: $Y$ transpose multiplied by $Y$ ($Y^TY$ in the above notation).\n",
        " - `XtX`: $X$ transpose multiplied by $X$ ($X^TX$ in the above notation).\n",
        " - `beta`: An estimate of the parameter vector ($\\beta$ in the above notation).\n",
        " \n",
        "----\n",
        "\n",
        "It returns as outputs:\n",
        "\n",
        "----\n",
        "\n",
        "\n",
        " - `ete`: The sum of square residuals ($e^Te$ in the above notation)."
      ]
    },
    {
      "cell_type": "code",
      "metadata": {
        "id": "vFycwRkYeklg",
        "colab_type": "code",
        "outputId": "ebb94358-a094-44bc-e9ca-c8cf8290a539",
        "colab": {
          "base_uri": "https://localhost:8080/",
          "height": 246
        }
      },
      "source": [
        "def ssr_broadcasted(YtX, YtY, XtX, beta):\n",
        "  \n",
        "  # Return the sum of squared residuals\n",
        "  return(YtY - 2*YtX @ beta + beta.transpose((0,2,1)) @ XtX @ beta)\n",
        "\n",
        "print(ssr_broadcasted(YtX,YtY,XtX,initBeta(XtX,XtY)))"
      ],
      "execution_count": 58,
      "outputs": [
        {
          "output_type": "stream",
          "text": [
            "[[[56534.75774914]]\n",
            "\n",
            " [[44888.06370721]]\n",
            "\n",
            " [[32890.74970878]]\n",
            "\n",
            " ...\n",
            "\n",
            " [[34124.31298716]]\n",
            "\n",
            " [[47911.54109047]]\n",
            "\n",
            " [[60290.02204439]]]\n"
          ],
          "name": "stdout"
        }
      ]
    },
    {
      "cell_type": "markdown",
      "metadata": {
        "id": "MOvNqJPojgGp",
        "colab_type": "text"
      },
      "source": [
        "#### Initial Sigma (Broadcasted)\n",
        "\n",
        "The function below returns an initial estimate for the Fixed Effects Variance, $\\sigma^2$. The estimator used is based on the suggested OLS estimator in Demidenko (2012) and is given by:\n",
        "\n",
        "$$\\hat{\\sigma}^2_{OLS}=\\frac{1}{n}(Y-X\\beta)^T(Y-X\\beta)$$\n",
        "$$=\\frac{1}{n}e^Te$$\n",
        "\n",
        "----\n",
        "\n",
        "This function takes the following inputs:\n",
        "\n",
        "----\n",
        "\n",
        " - `ete`: The sum of square residuals ($e^Te$ in the above notation).\n",
        " - `n`: The total number of observations ($n$ in the above notation).\n",
        " \n",
        "----\n",
        "\n",
        "It returns as outputs:\n",
        "\n",
        "----\n",
        "\n",
        "- `sigma2`: The OLS estimate of $\\sigma^2$ ($\\hat{\\sigma}^2_{OLS}$ in the above notation)."
      ]
    },
    {
      "cell_type": "code",
      "metadata": {
        "id": "kY1ILWTLjnKy",
        "colab_type": "code",
        "outputId": "e5aaa875-7fd0-433e-971d-ac09e892f898",
        "colab": {
          "base_uri": "https://localhost:8080/",
          "height": 52
        }
      },
      "source": [
        "def initSigma2_broadcasted(ete, n):\n",
        "\n",
        "  # Return the OLS estimate of sigma\n",
        "  return(1/n*ete[:,0,0])\n",
        "\n",
        "print(initSigma2_broadcasted(ssr_broadcasted(YtX,YtY,XtX,initBeta(XtX,XtY)),n))"
      ],
      "execution_count": 59,
      "outputs": [
        {
          "output_type": "stream",
          "text": [
            "[56.53475775 44.88806371 32.89074971 ... 34.12431299 47.91154109\n",
            " 60.29002204]\n"
          ],
          "name": "stdout"
        }
      ]
    },
    {
      "cell_type": "markdown",
      "metadata": {
        "id": "AAURtA0rlZVL",
        "colab_type": "text"
      },
      "source": [
        "### Kron (broadcasted)\n",
        "\n",
        "Taken from https://stackoverflow.com/questions/57259557/kronecker-product-of-matrix-array"
      ]
    },
    {
      "cell_type": "code",
      "metadata": {
        "id": "H5saAin0lY69",
        "colab_type": "code",
        "colab": {}
      },
      "source": [
        "def kron_broadcasted(A,B):\n",
        "  i,j,k = A.shape\n",
        "  i,l,m = B.shape\n",
        "  return(np.einsum(\"ijk,ilm->ijlkm\",A,B).reshape(i,j*l,k*m))"
      ],
      "execution_count": 0,
      "outputs": []
    },
    {
      "cell_type": "markdown",
      "metadata": {
        "id": "w7gpsuCTnUee",
        "colab_type": "text"
      },
      "source": [
        "#### Matrix to Vector (broadcasted)\n",
        "\n",
        "This function takes in a stack of matrices and returns the corresponding vectorized forms of those matrices."
      ]
    },
    {
      "cell_type": "code",
      "metadata": {
        "id": "IziwYuRbnUuG",
        "colab_type": "code",
        "outputId": "82fad9b6-9f31-4dba-de8b-839db34ff812",
        "colab": {
          "base_uri": "https://localhost:8080/",
          "height": 967
        }
      },
      "source": [
        "def mat2vec_broadcasted(matrix):\n",
        "  \n",
        "  #Return vectorised matrix\n",
        "  return(matrix.transpose(0,2,1).reshape(matrix.shape[0],matrix.shape[1]*matrix.shape[2],1))\n",
        "\n",
        "# Example:\n",
        "matrix = np.random.randn(4,3,3)\n",
        "print(matrix)\n",
        "print(mat2vec_broadcasted(matrix))"
      ],
      "execution_count": 61,
      "outputs": [
        {
          "output_type": "stream",
          "text": [
            "[[[ 1.54154642  0.55444553  0.01323832]\n",
            "  [ 0.6083838   0.99857481  0.75309664]\n",
            "  [ 1.9640216  -1.82181275  0.70789548]]\n",
            "\n",
            " [[-1.2714879  -0.30505595 -0.8450612 ]\n",
            "  [ 2.18875803  0.70191168 -1.38517448]\n",
            "  [-0.37531452  0.97008818 -0.85685369]]\n",
            "\n",
            " [[-1.83613454 -0.74693756  0.54683516]\n",
            "  [-0.02560497 -0.52978332 -0.13097986]\n",
            "  [-1.72285502  0.21697901  2.33511694]]\n",
            "\n",
            " [[-0.72449532  1.97059396  0.34013728]\n",
            "  [ 1.66597969  2.55326419  0.3588915 ]\n",
            "  [ 1.32161462  1.9372769  -0.42979633]]]\n",
            "[[[ 1.54154642]\n",
            "  [ 0.6083838 ]\n",
            "  [ 1.9640216 ]\n",
            "  [ 0.55444553]\n",
            "  [ 0.99857481]\n",
            "  [-1.82181275]\n",
            "  [ 0.01323832]\n",
            "  [ 0.75309664]\n",
            "  [ 0.70789548]]\n",
            "\n",
            " [[-1.2714879 ]\n",
            "  [ 2.18875803]\n",
            "  [-0.37531452]\n",
            "  [-0.30505595]\n",
            "  [ 0.70191168]\n",
            "  [ 0.97008818]\n",
            "  [-0.8450612 ]\n",
            "  [-1.38517448]\n",
            "  [-0.85685369]]\n",
            "\n",
            " [[-1.83613454]\n",
            "  [-0.02560497]\n",
            "  [-1.72285502]\n",
            "  [-0.74693756]\n",
            "  [-0.52978332]\n",
            "  [ 0.21697901]\n",
            "  [ 0.54683516]\n",
            "  [-0.13097986]\n",
            "  [ 2.33511694]]\n",
            "\n",
            " [[-0.72449532]\n",
            "  [ 1.66597969]\n",
            "  [ 1.32161462]\n",
            "  [ 1.97059396]\n",
            "  [ 2.55326419]\n",
            "  [ 1.9372769 ]\n",
            "  [ 0.34013728]\n",
            "  [ 0.3588915 ]\n",
            "  [-0.42979633]]]\n"
          ],
          "name": "stdout"
        }
      ]
    },
    {
      "cell_type": "markdown",
      "metadata": {
        "id": "IdB9CszhoA1R",
        "colab_type": "text"
      },
      "source": [
        "#### Vector to matrix (broadcasted)\n",
        "\n",
        "This function takes in a stack of vectors and returns the corresponding matrix forms of those vectors."
      ]
    },
    {
      "cell_type": "code",
      "metadata": {
        "id": "Wud5dy0CoBFR",
        "colab_type": "code",
        "outputId": "9e76aa46-6bcd-465f-a847-645ba028cb09",
        "colab": {
          "base_uri": "https://localhost:8080/",
          "height": 545
        }
      },
      "source": [
        "def vec2mat_broadcasted(vec):\n",
        "  \n",
        "  # Return matrix\n",
        "  return(vec.reshape(vec.shape[0], np.int64(np.sqrt(vec.shape[1])),np.int64(np.sqrt(vec.shape[1]))).transpose(0,2,1))\n",
        "\n",
        "# Example\n",
        "vec = np.random.randn(4,4,1)\n",
        "mat = vec2mat_broadcasted(vec)\n",
        "print(vec)\n",
        "print(mat)"
      ],
      "execution_count": 62,
      "outputs": [
        {
          "output_type": "stream",
          "text": [
            "[[[ 0.00950134]\n",
            "  [-0.39246823]\n",
            "  [ 0.64527246]\n",
            "  [-0.67533304]]\n",
            "\n",
            " [[-0.68394147]\n",
            "  [-0.21642699]\n",
            "  [ 0.09936041]\n",
            "  [ 0.13129012]]\n",
            "\n",
            " [[ 0.23868394]\n",
            "  [ 0.21281357]\n",
            "  [-1.7283013 ]\n",
            "  [-0.65900032]]\n",
            "\n",
            " [[-1.26149455]\n",
            "  [ 1.49131841]\n",
            "  [-0.77136993]\n",
            "  [-0.69883302]]]\n",
            "[[[ 0.00950134  0.64527246]\n",
            "  [-0.39246823 -0.67533304]]\n",
            "\n",
            " [[-0.68394147  0.09936041]\n",
            "  [-0.21642699  0.13129012]]\n",
            "\n",
            " [[ 0.23868394 -1.7283013 ]\n",
            "  [ 0.21281357 -0.65900032]]\n",
            "\n",
            " [[-1.26149455 -0.77136993]\n",
            "  [ 1.49131841 -0.69883302]]]\n"
          ],
          "name": "stdout"
        }
      ]
    },
    {
      "cell_type": "markdown",
      "metadata": {
        "id": "j75PTwshvngn",
        "colab_type": "text"
      },
      "source": [
        "#### Matrix to half vector (broadcasted)\n",
        "\n",
        "This function takes in a stack of matrices and returns the corresponding vector forms of the lower halves of those matrices."
      ]
    },
    {
      "cell_type": "code",
      "metadata": {
        "id": "E31shCYgvnx8",
        "colab_type": "code",
        "colab": {}
      },
      "source": [
        "def mat2vech_broadcasted(matrix):\n",
        "  \n",
        "  # Number of voxels, nv\n",
        "  nv = matrix.shape[0]\n",
        "  \n",
        "  # Get lower triangular indices\n",
        "  rowinds, colinds = np.tril_indices(matrix.shape[1]) \n",
        "  \n",
        "  # Number of covariance parameters, nc\n",
        "  nc = len(rowinds)\n",
        "  \n",
        "  # They're in the wrong order so we need to order them\n",
        "  # To do this we first hash them\n",
        "  indhash = colinds*matrix.shape[1]+rowinds\n",
        "  \n",
        "  # Sort permutation\n",
        "  perm=np.argsort(indhash)\n",
        "  \n",
        "  # Return vectorised half-matrix\n",
        "  return(matrix[:,rowinds[perm],colinds[perm]].reshape((nv,nc,1)))"
      ],
      "execution_count": 0,
      "outputs": []
    },
    {
      "cell_type": "markdown",
      "metadata": {
        "id": "LWzmL4Bp1QiX",
        "colab_type": "text"
      },
      "source": [
        "#### Half vector to matrix (broadcasted)\n",
        "\n",
        "This function takes in a stack of vectors and returns the corresponding matrix forms treating the elements of the vectors as the elements of lower halves of those matrices."
      ]
    },
    {
      "cell_type": "code",
      "metadata": {
        "id": "IV2UNK8L1Qxz",
        "colab_type": "code",
        "colab": {}
      },
      "source": [
        "def vech2mat_broadcasted(vech):\n",
        "  \n",
        "  # Number of voxels\n",
        "  nv = vech.shape[0]\n",
        "  \n",
        "  # dimension of matrix\n",
        "  n = np.int64((-1+np.sqrt(1+8*vech.shape[1]))/2)\n",
        "  matrix = np.zeros((nv,n,n))\n",
        "  \n",
        "  # Get lower triangular indices\n",
        "  rowinds, colinds = np.tril_indices(n)\n",
        "  \n",
        "  # They're in the wrong order so we need to order them\n",
        "  # To do this we first hash them\n",
        "  indhash = colinds*n+rowinds\n",
        "  \n",
        "  # Sort permutation\n",
        "  perm=np.argsort(indhash)\n",
        "  \n",
        "  # Assign values to lower half\n",
        "  matrix[:,rowinds[perm],colinds[perm]] = vech.reshape(vech.shape[0],vech.shape[1])\n",
        "  \n",
        "  # Assign values to upper half\n",
        "  matrix[:,colinds[perm],rowinds[perm]] = vech.reshape(vech.shape[0],vech.shape[1])\n",
        "  \n",
        "  # Return vectorised half-matrix\n",
        "  return(matrix)\n"
      ],
      "execution_count": 0,
      "outputs": []
    },
    {
      "cell_type": "markdown",
      "metadata": {
        "id": "vXZTnBHRkOm7",
        "colab_type": "text"
      },
      "source": [
        "#### Initial D_k (broadcasted)\n",
        "\n",
        "The function below returns an initial estimate for the Random Effects Variance matrix for the $k^{th}$ grouping factor, $D_k$. The estimator used is an adaption of the suggested estimator in Demidenko (2012) and is given by:\n",
        "\n",
        "$$vec(\\hat{D}_{k})=\\bigg[\\sum_{j=1}^{l_k}(Z_{(k,j)}^TZ_{(k,j)}) \\otimes (Z_{(k,j)}^TZ_{(k,j)})\\bigg]^{-1}vec\\bigg(\\sum_{j=1}^{l_k}[\\hat{\\sigma}^{-2}_{OLS}Z_{(k,j)}^Tee^TZ_{(k,j)} - Z_{(k,j)}^TZ_{(k,j)}]\\bigg)$$\n",
        "\n",
        "Or:\n",
        "\n",
        "$$\\hat{D}_{k}=matrix\\bigg(\\bigg[\\sum_{j=1}^{l_k}(Z_{(k,j)}^TZ_{(k,j)}) \\otimes (Z_{(k,j)}^TZ_{(k,j)})\\bigg]^{-1}vec\\bigg(\\sum_{j=1}^{l_k}[\\hat{\\sigma}^{-2}_{OLS}Z_{(k,j)}^Tee^TZ_{(k,j)} - Z_{(k,j)}^TZ_{(k,j)}]\\bigg)\\bigg)$$\n",
        "\n",
        "----\n",
        "\n",
        "This function takes the following inputs:\n",
        "\n",
        "----\n",
        "\n",
        " - `k`: The grouping factor we wish to estimate $D$ for ($k$ in the above notation)\n",
        " - `lk`: The number of levels belonging to grouping factor $k$ ($l_k$ in the above notation).\n",
        " - `ZtZ`: The $Z$ matrix transposed and then multiplied by itself ($Z^TZ$ in the above notation).\n",
        " - `Zte`: The $Z$ matrix transposed and then multiplied by the OLS residuals ($Z^Te=Z^T(Y-X\\beta)$ in the above notation).\n",
        " - `sigma2`: The OLS estimate of $\\sigma^2$ ($\\hat{\\sigma}^2_{OLS}$ in the above notation).\n",
        " \n",
        "----\n",
        "\n",
        "It returns as outputs:\n",
        "\n",
        "----\n",
        "\n",
        "- `Dkest`: The inital estimate of $D_k$ ($\\hat{D}_k$ in the above notation).\n",
        "\n",
        "\n",
        "###CHECK DERIVATION"
      ]
    },
    {
      "cell_type": "code",
      "metadata": {
        "id": "JSNOV2V5kO36",
        "colab_type": "code",
        "outputId": "4929a47a-4366-426d-aa64-47e80fc6c011",
        "colab": {
          "base_uri": "https://localhost:8080/",
          "height": 246
        }
      },
      "source": [
        "def initDk_broadcasted(k, lk, ZtZ, Zte, sigma2):\n",
        "  \n",
        "  # Initalize D to zeros\n",
        "  invSig2ZteetZminusZtZ = np.zeros((Zte.shape[0],nparams[k],nparams[k]))\n",
        "  \n",
        "  # For each level j we need to add a term\n",
        "  for j in np.arange(nlevels[k]):\n",
        "    \n",
        "    Ikj = faclev_indices(k, j, nlevels, nparams)\n",
        "\n",
        "    # Work out Z_(k, j)'Z_(k, j)\n",
        "    ZkjtZkj = ZtZ[np.ix_(np.arange(ZtZ.shape[0]),Ikj,Ikj)]\n",
        "    \n",
        "    # Work out Z_(k,j)'e\n",
        "    Zkjte = Zte[:, Ikj,:]\n",
        "    \n",
        "    if j==0:\n",
        "      \n",
        "      # Add first Z_(k,j)'Z_(k,j) kron Z_(k,j)'Z_(k,j)\n",
        "      ZtZkronZtZ = kron_broadcasted(ZkjtZkj,ZkjtZkj.transpose(0,2,1))\n",
        "      \n",
        "      # Add first \\sigma^{-2}Z'ee'Z - Z_(k,j)'Z_(k,j)\n",
        "      invSig2ZteetZminusZtZ = np.einsum('i,ijk->ijk',1/sigma2,(Zkjte @ Zkjte.transpose(0,2,1))) - ZkjtZkj\n",
        "      \n",
        "    else:\n",
        "      \n",
        "      # Add next Z_(k,j)'Z_(k,j) kron Z_(k,j)'Z_(k,j)\n",
        "      ZtZkronZtZ = ZtZkronZtZ + kron_broadcasted(ZkjtZkj,ZkjtZkj.transpose(0,2,1))\n",
        "      \n",
        "      # Add next \\sigma^{-2}Z'ee'Z - Z_(k,j)'Z_(k,j)\n",
        "      invSig2ZteetZminusZtZ = invSig2ZteetZminusZtZ + np.einsum('i,ijk->ijk',1/sigma2,(Zkjte @ Zkjte.transpose(0,2,1))) - ZkjtZkj\n",
        "      \n",
        "  # Work out the final term.\n",
        "  Dkest = vec2mat_broadcasted(np.linalg.inv(ZtZkronZtZ) @ mat2vec_broadcasted(invSig2ZteetZminusZtZ)) \n",
        "  \n",
        "  \n",
        "  return(Dkest)\n",
        "\n",
        "Zte = ZtY-ZtX @ np.random.randn(ZtY.shape[0],ZtX.shape[2],1)\n",
        "\n",
        "t1 = time.time()\n",
        "initDk_broadcasted(0, nlevels[0], ZtZ, Zte , np.ones(Zte.shape[0]))\n",
        "t2 = time.time()\n",
        "\n",
        "print(t2-t1)\n",
        "\n",
        "t1 = time.time()\n",
        "initDk_broadcasted(0, nlevels[0], ZtZ, Zte , np.ones(Zte.shape[0]))\n",
        "t2 = time.time()\n",
        "\n",
        "print(t2-t1)\n",
        "\n",
        "print(initDk_broadcasted(0, nlevels[0], ZtZ, Zte , np.ones(Zte.shape[0]))[8,:,:])\n",
        "\n",
        "t1 = time.time()\n",
        "print(initDk(0, nlevels[0], ZtZ[0,:,:], Zte[8,:,:], 1))\n",
        "t2 = time.time()\n",
        "\n",
        "print(t2-t1)"
      ],
      "execution_count": 65,
      "outputs": [
        {
          "output_type": "stream",
          "text": [
            "0.41564035415649414\n",
            "0.1696946620941162\n",
            "[[ 5.36384127 -0.64222882 -3.34108776 -0.38947429 -0.39417497]\n",
            " [-0.64222882  4.12494155 -0.05795925 -1.36253347  0.40706079]\n",
            " [-3.34108776 -0.05795925  5.35791004  0.57703582 -2.33859488]\n",
            " [-0.38947429 -1.36253347  0.57703582  1.35720552 -0.35707717]\n",
            " [-0.39417497  0.40706079 -2.33859488 -0.35707717  5.31388962]]\n",
            "[[ 5.36384127 -0.64222882 -3.34108776 -0.38947429 -0.39417497]\n",
            " [-0.64222882  4.12494155 -0.05795925 -1.36253347  0.40706079]\n",
            " [-3.34108776 -0.05795925  5.35791004  0.57703582 -2.33859488]\n",
            " [-0.38947429 -1.36253347  0.57703582  1.35720552 -0.35707717]\n",
            " [-0.39417497  0.40706079 -2.33859488 -0.35707717  5.31388962]]\n",
            "0.0030145645141601562\n"
          ],
          "name": "stdout"
        }
      ]
    },
    {
      "cell_type": "markdown",
      "metadata": {
        "id": "6tddRYrhtNWG",
        "colab_type": "text"
      },
      "source": [
        "#### Make D non-negative definite (Broadcasted)\n",
        "\n",
        "This function projects a stack of matrices into the space of non-negative definite matrices."
      ]
    },
    {
      "cell_type": "code",
      "metadata": {
        "id": "0en3ealntNes",
        "colab_type": "code",
        "outputId": "f44d5c36-b9cf-46b8-caa8-5ef405fd5b7f",
        "colab": {
          "base_uri": "https://localhost:8080/",
          "height": 158
        }
      },
      "source": [
        "def makeDnnd_broadcasted(D):\n",
        "  \n",
        "  # Check if we have negative eigenvalues\n",
        "  if not np.all(np.linalg.eigvals(D)>0):\n",
        "  \n",
        "    # If we have negative eigenvalues\n",
        "    eigvals,eigvecs = np.linalg.eigh(D)\n",
        "    \n",
        "    # Work out elementwise max of lambda and 0\n",
        "    lamplus = np.zeros((eigvals.shape[0], eigvals.shape[1], eigvals.shape[1]))\n",
        "    diag = np.arange(eigvals.shape[1])\n",
        "    lamplus[:, diag, diag] = np.maximum(eigvals,0)\n",
        "    \n",
        "    # Work out D+\n",
        "    D_nnd = eigvecs @ lamplus @ np.linalg.inv(eigvecs)\n",
        "    \n",
        "  else:\n",
        "    \n",
        "    # D is already non-negative in this case\n",
        "    D_nnd = D\n",
        "    \n",
        "  return(D_nnd)\n",
        "  \n",
        "D = np.random.randn(100000,3,3)\n",
        "t1 = time.time()\n",
        "print(makeDnnd_broadcasted(D)[10,:,:])\n",
        "t2 = time.time()\n",
        "print(t2-t1)\n",
        "t1 = time.time()\n",
        "print(makeDnnd(D[10,:,:]))\n",
        "t2 = time.time()\n",
        "print(t2-t1)\n",
        "\n",
        "\n",
        "### COULD BE IMPROVED SPEED WISE"
      ],
      "execution_count": 66,
      "outputs": [
        {
          "output_type": "stream",
          "text": [
            "[[ 0.05000751  0.06102691 -0.07996357]\n",
            " [ 0.06102691  0.07447449 -0.09758393]\n",
            " [-0.07996357 -0.09758393  0.12786422]]\n",
            "1.0307631492614746\n",
            "[[ 0.05000751  0.06102691 -0.07996357]\n",
            " [ 0.06102691  0.07447449 -0.09758393]\n",
            " [-0.07996357 -0.09758393  0.12786422]]\n",
            "0.001069784164428711\n"
          ],
          "name": "stdout"
        }
      ]
    },
    {
      "cell_type": "markdown",
      "metadata": {
        "id": "i2RBNITFOdJs",
        "colab_type": "text"
      },
      "source": [
        "### Get D from dict (broadcasted)\n",
        "\n",
        "This function takes in a dictionary, `Ddict`, in which entry `k` is a stack of the $k^{th}$ diagonal block for every voxel."
      ]
    },
    {
      "cell_type": "code",
      "metadata": {
        "id": "mcziKRJvOdUJ",
        "colab_type": "code",
        "outputId": "12f4c4a4-5266-442d-b131-bc7608a12078",
        "colab": {
          "base_uri": "https://localhost:8080/",
          "height": 34
        }
      },
      "source": [
        "def getDfromDict_broadcasted(Ddict, nparams, nlevels):\n",
        "  \n",
        "  # Get number of voxels\n",
        "  nv = Ddict[0].shape[0]\n",
        "  \n",
        "  # Work out indices (there is one block of D per level)\n",
        "  inds = np.zeros(np.sum(nlevels)+1)\n",
        "  counter = 0\n",
        "  for k in np.arange(len(nparams)):\n",
        "    for j in np.arange(nlevels[k]):\n",
        "      inds[counter] = np.concatenate((np.array([0]), np.cumsum(nlevels*nparams)))[k] + nparams[k]*j\n",
        "      counter = counter + 1\n",
        "      \n",
        "  \n",
        "  # Last index will be missing so add it\n",
        "  inds[len(inds)-1]=inds[len(inds)-2]+nparams[-1]\n",
        "  \n",
        "  # Make sure indices are ints\n",
        "  inds = np.int64(inds)\n",
        "  \n",
        "  # Initial D\n",
        "  D = np.zeros((nv,np.sum(nparams*nlevels),np.sum(nparams*nlevels)))\n",
        "\n",
        "  counter = 0\n",
        "  for k in np.arange(len(nparams)):\n",
        "    for j in np.arange(nlevels[k]):\n",
        "\n",
        "      D[:, inds[counter]:inds[counter+1], inds[counter]:inds[counter+1]] = Ddict[k]\n",
        "      counter = counter + 1\n",
        "  \n",
        "  return(D)\n",
        "  \n",
        "# Example dict\n",
        "nparams_tmp = np.array([10,2,3])\n",
        "nlevels_tmp = np.array([30,22,4])\n",
        "\n",
        "Ddict_tmp = dict()\n",
        "for i in np.arange(len(nparams_tmp)):\n",
        "  \n",
        "  Ddict_tmp[i] = np.random.randn(2000,nparams_tmp[i],nparams_tmp[i])\n",
        "\n",
        "t1 = time.time()\n",
        "D = getDfromDict_broadcasted(Ddict_tmp, nparams_tmp, nlevels_tmp)\n",
        "t2 = time.time()\n",
        "print(t2-t1)"
      ],
      "execution_count": 67,
      "outputs": [
        {
          "output_type": "stream",
          "text": [
            "3.0461831092834473\n"
          ],
          "name": "stdout"
        }
      ]
    },
    {
      "cell_type": "markdown",
      "metadata": {
        "id": "Kn997hc1hDGK",
        "colab_type": "text"
      },
      "source": [
        "#### Force Symmetric (Broadcasted)\n",
        "\n",
        "This function forces a stack of matrices to be symmetric."
      ]
    },
    {
      "cell_type": "code",
      "metadata": {
        "id": "BphjFMdxhDWt",
        "colab_type": "code",
        "outputId": "2a8d276a-632e-4817-da03-23b5b5737476",
        "colab": {
          "base_uri": "https://localhost:8080/",
          "height": 87
        }
      },
      "source": [
        "# Developer NOTE: DO NOT USE NUMBA ON THIS FUNCTION - NUMBA BUGGERS IT UP FOR UNKNOWN REASONS\n",
        "def forceSym_broadcasted(x):\n",
        "  \n",
        "  # Force it to be symmetric\n",
        "  return((x+x.transpose((0,2,1)))/2)\n",
        "\n",
        "  \n",
        "print(ZtZ.shape)\n",
        "t1 = time.time()\n",
        "ZtZ = forceSym_broadcasted(forceSym_broadcasted(ZtZ))\n",
        "print(time.time()-t1)\n",
        "\n",
        "print(ZtZ.shape)\n",
        "t1 = time.time()\n",
        "ZtZ = forceSym_broadcasted(forceSym_broadcasted(ZtZ))\n",
        "print(time.time()-t1)"
      ],
      "execution_count": 68,
      "outputs": [
        {
          "output_type": "stream",
          "text": [
            "(1, 70, 70)\n",
            "0.00017309188842773438\n",
            "(1, 70, 70)\n",
            "0.00013685226440429688\n"
          ],
          "name": "stdout"
        }
      ]
    },
    {
      "cell_type": "markdown",
      "metadata": {
        "id": "T01OEeP9GT65",
        "colab_type": "text"
      },
      "source": [
        "#### Derivative of $\\frac{\\delta l}{\\delta \\beta}$ (broadcasted)\n",
        "\n",
        "This function returns the derivative of $l$ with respect to $\\beta$ for all voxels."
      ]
    },
    {
      "cell_type": "code",
      "metadata": {
        "id": "mwCgeYh0GUHO",
        "colab_type": "code",
        "colab": {}
      },
      "source": [
        "def get_dldB_broadcasted(sigma2, Xte, XtZ, DinvIplusZtZD, Zte):\n",
        "  \n",
        "  # Work out the derivative (Note: we leave everything as 3D for ease of future computation)\n",
        "  deriv = np.einsum('i,ijk->ijk',1/sigma2, (Xte - (XtZ @ DinvIplusZtZD @ Zte)))\n",
        "                    \n",
        "  # Return the derivative\n",
        "  return(deriv)"
      ],
      "execution_count": 0,
      "outputs": []
    },
    {
      "cell_type": "markdown",
      "metadata": {
        "id": "q2wffHXtIgd2",
        "colab_type": "text"
      },
      "source": [
        "#### Derivative of $\\frac{\\delta l}{\\delta \\sigma^2}$ (broadcasted)\n",
        "\n",
        "This function returns the derivative of $l$ with respect to $\\sigma^2$ for all voxels."
      ]
    },
    {
      "cell_type": "code",
      "metadata": {
        "id": "4WUjR0_oIjJv",
        "colab_type": "code",
        "colab": {}
      },
      "source": [
        "def get_dldsigma2_broadcasted(n, ete, Zte, sigma2, DinvIplusZtZD):\n",
        "  \n",
        "  # Get e'(I+ZDZ')^(-1)e=e'e-e'ZD(I+Z'ZD)^(-1)Z'e\n",
        "  etinvIplusZtDZe = ete - forceSym_broadcasted(Zte.transpose((0,2,1)) @ DinvIplusZtZD @ Zte)\n",
        "  \n",
        "  # Get the derivative\n",
        "  deriv = -n/(2*sigma2) + np.einsum('i,ijk->ijk',1/(2*(sigma2**2)), etinvIplusZtDZe).reshape(sigma2.shape[0])\n",
        "  \n",
        "  return(deriv)"
      ],
      "execution_count": 0,
      "outputs": []
    },
    {
      "cell_type": "markdown",
      "metadata": {
        "id": "JOn3facWIgoz",
        "colab_type": "text"
      },
      "source": [
        "#### Derivative of $\\frac{\\delta l}{\\delta D_k}$ (broadcasted)\n",
        "\n",
        "This function returns the derivative of $l$ with respect to $D_k$ for all voxels."
      ]
    },
    {
      "cell_type": "code",
      "metadata": {
        "id": "bWRg9WRpMwwc",
        "colab_type": "code",
        "colab": {}
      },
      "source": [
        "def get_dldDk_broadcasted(k, nlevels, nparams, ZtZ, Zte, sigma2, DinvIplusZtZD):\n",
        "\n",
        "  # Number of voxels\n",
        "  nv = Zte.shape[0]\n",
        "  \n",
        "  # Initalize the derivative to zeros\n",
        "  dldDk = np.zeros((nv, nparams[k],nparams[k]))\n",
        "  \n",
        "  # For each level j we need to add a term\n",
        "  for j in np.arange(nlevels[k]):\n",
        "\n",
        "    # Get the indices for the kth factor jth level\n",
        "    Ikj = faclev_indices(k, j, nlevels, nparams)\n",
        "    \n",
        "    # Get (the kj^th columns of Z)^T multiplied by Z\n",
        "    Z_kjtZ = ZtZ[:,Ikj,:]\n",
        "    Z_kjte = Zte[:,Ikj,:]\n",
        "    \n",
        "    # Get the first term of the derivative\n",
        "    Z_kjtVinve = Z_kjte - (Z_kjtZ @ DinvIplusZtZD @ Zte)\n",
        "    firstterm = np.einsum('i,ijk->ijk',1/sigma2,forceSym_broadcasted(Z_kjtVinve @ Z_kjtVinve.transpose((0,2,1))))\n",
        "    \n",
        "    # Get (the kj^th columns of Z)^T multiplied by (the kj^th columns of Z)\n",
        "    Z_kjtZ_kj = ZtZ[np.ix_(np.arange(ZtZ.shape[0]),Ikj,Ikj)]\n",
        "    secondterm = forceSym_broadcasted(Z_kjtZ_kj) - forceSym_broadcasted(Z_kjtZ @ DinvIplusZtZD @ Z_kjtZ.transpose((0,2,1)))\n",
        "    \n",
        "    if j == 0:\n",
        "      \n",
        "      # Start a running sum over j\n",
        "      dldDk = firstterm - secondterm\n",
        "      \n",
        "    else:\n",
        "    \n",
        "      # Add these to the running sum\n",
        "      dldDk = dldDk + firstterm - secondterm\n",
        "    \n",
        "  # Halve the sum (the coefficient of a half was not included in the above)\n",
        "  dldDk = forceSym_broadcasted(dldDk/2)\n",
        "\n",
        "  # Store it in the dictionary\n",
        "  return(dldDk)"
      ],
      "execution_count": 0,
      "outputs": []
    },
    {
      "cell_type": "markdown",
      "metadata": {
        "id": "Zh7nHo0KRHk-",
        "colab_type": "text"
      },
      "source": [
        "#### Covariance of derivative of $\\frac{\\delta l}{\\delta \\beta}$ (broadcasted)\n",
        "\n",
        "This function returns the covariance of the derivative of $l$ with respect to $\\beta$ for all voxels."
      ]
    },
    {
      "cell_type": "code",
      "metadata": {
        "id": "BWIE2Oy4RHxD",
        "colab_type": "code",
        "colab": {}
      },
      "source": [
        "def get_covdldbeta_broadcasted(XtZ, XtX, ZtZ, DinvIplusZtZD, sigma2):\n",
        "  \n",
        "  # Get the covariance of the derivative\n",
        "  covderiv = np.einsum('i,ijk->ijk',1/sigma2,(XtX - forceSym_broadcasted(XtZ @ DinvIplusZtZD @ XtZ.transpose((0,2,1)))))\n",
        "  \n",
        "  # Return the covariance of the derivative\n",
        "  return(covderiv)"
      ],
      "execution_count": 0,
      "outputs": []
    },
    {
      "cell_type": "markdown",
      "metadata": {
        "id": "Y-8VOZR5ULKX",
        "colab_type": "text"
      },
      "source": [
        "#### Covariance of derivative of $\\frac{\\delta l}{\\delta \\sigma^2}$ and $\\frac{\\delta l}{\\delta D_k}$ (broadcasted)\n",
        "\n",
        "This function returns the covariance of the derivative of $l$ with respect to $\\sigma^2$ and $D_k$ for all voxels."
      ]
    },
    {
      "cell_type": "code",
      "metadata": {
        "id": "dW40iTC-ULV5",
        "colab_type": "code",
        "colab": {}
      },
      "source": [
        "def get_covdldDkdsigma2_broadcasted(k, sigma2, nlevels, nparams, ZtZ, DinvIplusZtZD, invDupMatdict):\n",
        "  \n",
        "  # Number of voxels\n",
        "  nv = DinvIplusZtZD.shape[0]\n",
        "  \n",
        "  # Sum of R_(k, j) over j\n",
        "  RkSum = np.zeros((nv,nparams[k],nparams[k]))\n",
        "\n",
        "  for j in np.arange(nlevels[k]):\n",
        "\n",
        "    # Get the indices for the kth factor jth level\n",
        "    Ikj = faclev_indices(k, j, nlevels, nparams)\n",
        "\n",
        "    # Work out R_(k, j)\n",
        "    Rkj = ZtZ[np.ix_(np.arange(ZtZ.shape[0]),Ikj,Ikj)] - forceSym_broadcasted(ZtZ[:,Ikj,:] @ DinvIplusZtZD @ ZtZ[:,:,Ikj])\n",
        "    \n",
        "    # Add together\n",
        "    RkSum = RkSum + Rkj\n",
        "\n",
        "  # Multiply by duplication matrices and save\n",
        "  covdldDdldsigma2 = np.einsum('i,ijk->ijk', 1/(2*sigma2), invDupMatdict[k] @ mat2vec_broadcasted(RkSum))\n",
        "  \n",
        "  return(covdldDdldsigma2)"
      ],
      "execution_count": 0,
      "outputs": []
    },
    {
      "cell_type": "markdown",
      "metadata": {
        "id": "6d1GYRfPqLs3",
        "colab_type": "text"
      },
      "source": [
        "#### Covariance of derivative of $\\frac{\\delta l}{\\delta D_{k_1}}$ and $\\frac{\\delta l}{\\delta D_{k_2}}$ (broadcasted)\n",
        "\n",
        "This function returns the covariance of the derivative of $l$ with respect to $D_{k_1}$ and $D_{k_2}$ for all voxels."
      ]
    },
    {
      "cell_type": "code",
      "metadata": {
        "id": "QhknnB8aqL44",
        "colab_type": "code",
        "colab": {}
      },
      "source": [
        "def get_covdldDk1Dk2_broadcasted(k1, k2, nlevels, nparams, ZtZ, DinvIplusZtZD, invDupMatdict):\n",
        "  \n",
        "  # Sum of R_(k1, k2, i, j) kron R_(k1, k2, i, j) over i and j \n",
        "  for i in np.arange(nlevels[k1]):\n",
        "\n",
        "    for j in np.arange(nlevels[k2]):\n",
        "      \n",
        "      # Get the indices for the k1th factor jth level\n",
        "      Ik1i = faclev_indices(k1, i, nlevels, nparams)\n",
        "      Ik2j = faclev_indices(k2, j, nlevels, nparams)\n",
        "      \n",
        "      # Work out R_(k1, k2, i, j)\n",
        "      Rk1k2ij = ZtZ[np.ix_(np.arange(ZtZ.shape[0]),Ik1i,Ik2j)] - (ZtZ[:,Ik1i,:] @ DinvIplusZtZD @ ZtZ[:,:,Ik2j])\n",
        "      \n",
        "      # Work out Rk1k2ij kron Rk1k2ij\n",
        "      RkRt = kron_broadcasted(Rk1k2ij,Rk1k2ij)\n",
        "      \n",
        "      # Add together\n",
        "      if (i == 0) and (j == 0):\n",
        "      \n",
        "        RkRtSum = RkRt\n",
        "      \n",
        "      else:\n",
        "        \n",
        "        RkRtSum = RkRtSum + RkRt\n",
        "    \n",
        "  # Multiply by duplication matrices and save\n",
        "  covdldDk1dldk2 = 1/2 * invDupMatdict[k1] @ RkRtSum @ invDupMatdict[k2].transpose()\n",
        "  \n",
        "  # Return the result\n",
        "  return(covdldDk1dldk2)\n"
      ],
      "execution_count": 0,
      "outputs": []
    },
    {
      "cell_type": "markdown",
      "metadata": {
        "id": "idaEKRat3dsM",
        "colab_type": "text"
      },
      "source": [
        "#### Log likelihood (broadcasted)\n",
        "\n",
        "This function returns the loglikelihood for all voxels."
      ]
    },
    {
      "cell_type": "code",
      "metadata": {
        "id": "m6OSs_pj3d55",
        "colab_type": "code",
        "colab": {}
      },
      "source": [
        "def llh_broadcasted(n, ZtZ, Zte, ete, sigma2, DinvIplusZtZD,D):\n",
        "  \n",
        "  # Work out -1/2(nln(sigma^2) + ln|I+Z'ZD|)\n",
        "  firstterm = -0.5*(n*np.log(sigma2) + np.log(np.linalg.det(np.eye(ZtZ.shape[1]) + ZtZ @ D)))\n",
        "                    \n",
        "  # Work out sigma^(-2)*(e'e - e'ZD(I+Z'ZD)^(-1)Z'e)\n",
        "  secondterm = -0.5*np.einsum('i,ijk->ijk',(1/sigma2),(ete - forceSym_broadcasted(Zte.transpose((0,2,1)) @ DinvIplusZtZD @ Zte)))\n",
        "  \n",
        "  # Work out the log likelihood\n",
        "  llh = firstterm + secondterm\n",
        "  \n",
        "  # Return result\n",
        "  return(llh)\n"
      ],
      "execution_count": 0,
      "outputs": []
    },
    {
      "cell_type": "markdown",
      "metadata": {
        "id": "x72ZuXyheljG",
        "colab_type": "text"
      },
      "source": [
        "### Broadcasted FS\n",
        "\n",
        "The below function performs FS for a NIFTI."
      ]
    },
    {
      "cell_type": "code",
      "metadata": {
        "id": "qJjgNbXjeszs",
        "colab_type": "code",
        "outputId": "d8dcd570-54f6-42d0-b618-3c199aed2504",
        "colab": {
          "base_uri": "https://localhost:8080/",
          "height": 614
        }
      },
      "source": [
        "def FS_broadcasted(XtX, XtY, ZtX, ZtY, ZtZ, XtZ, YtZ, YtY, YtX, nlevels, nparams, tol,n):\n",
        "  \n",
        "  #-------------------------------------------------------------------------------\n",
        "  # Testing - one voxel\n",
        "  \n",
        "  # one voxel index\n",
        "  ovi = 10\n",
        "  \n",
        "  XtX_ov = XtX[0,:,:] \n",
        "  XtY_ov = XtY[ovi,:,:]\n",
        "  ZtX_ov = ZtX[0,:,:]\n",
        "  ZtY_ov = ZtY[ovi,:,:] \n",
        "  ZtZ_ov = ZtZ[0,:,:] \n",
        "  XtZ_ov = XtZ[0,:,:] \n",
        "  YtZ_ov = YtZ[ovi,:,:] \n",
        "  YtY_ov = YtY[ovi,:,:] \n",
        "  YtX_ov = YtX[ovi,:,:]\n",
        "  \n",
        "  \n",
        "  t1_total = time.time()\n",
        "  t1 = time.time()\n",
        "  \n",
        "  # Useful scalars\n",
        "  # ------------------------------------------------------------------------------\n",
        "\n",
        "  # Number of factors, r\n",
        "  r = len(nlevels)\n",
        "\n",
        "  # Number of random effects, q\n",
        "  q = np.sum(np.dot(nparams,nlevels))\n",
        "\n",
        "  # Number of fixed effects, p\n",
        "  p = XtX.shape[1]\n",
        "\n",
        "  # Number of voxels, nv\n",
        "  nv = XtY.shape[0]\n",
        "  \n",
        "  # Initial estimates\n",
        "  # ------------------------------------------------------------------------------\n",
        "\n",
        "  # Inital beta\n",
        "  beta = initBeta_broadcasted(XtX, XtY)\n",
        "  beta_ov = initBeta(XtX_ov, XtY_ov)\n",
        "  #print('beta', beta[10,:,:], beta_ov)\n",
        "  \n",
        "  # Work out e'e\n",
        "  ete = ssr_broadcasted(YtX, YtY, XtX, beta)\n",
        "  ete_ov = ssr(YtX_ov, YtY_ov, XtX_ov, beta_ov)\n",
        "  #print('ete', ete[10], ete_ov)\n",
        "  \n",
        "  # Initial sigma2\n",
        "  sigma2 = initSigma2_broadcasted(ete, n)\n",
        "  sigma2_ov = initSigma2(ete_ov, n)\n",
        "  #print('sigma2', sigma2[10], sigma2_ov)\n",
        "\n",
        "  Zte = ZtY - (ZtX @ beta) \n",
        "  Zte_ov = ZtY_ov - (ZtX_ov @ beta_ov) \n",
        "\n",
        "  # Inital D\n",
        "  # Dictionary version\n",
        "  Ddict = dict()\n",
        "  for k in np.arange(len(nparams)):\n",
        "\n",
        "    Ddict[k] = makeDnnd_broadcasted(initDk_broadcasted(k, nlevels[k], ZtZ, Zte, sigma2))\n",
        "  \n",
        "  Ddict_ov = dict()\n",
        "  for k in np.arange(len(nparams)):\n",
        "\n",
        "    Ddict_ov[k] = makeDnnd(initDk(k, nlevels[k], ZtZ_ov, Zte_ov, sigma2_ov))\n",
        "    #print('D' + str(k), Ddict[k][10,:,:], Ddict_ov[k])\n",
        "  \n",
        "  # Full version of D\n",
        "  D = getDfromDict_broadcasted(Ddict, nparams, nlevels)\n",
        "    \n",
        "  # Matrix version\n",
        "  D_ov = np.array([])\n",
        "  for i in np.arange(len(nparams)):\n",
        "\n",
        "    for j in np.arange(nlevels[i]):\n",
        "\n",
        "      if i == 0 and j == 0:\n",
        "\n",
        "        D_ov = Ddict_ov[i]\n",
        "\n",
        "      else:\n",
        "\n",
        "        D_ov = scipy.linalg.block_diag(D_ov, Ddict_ov[i])\n",
        "  \n",
        "  #print('D', D[10,:,:], D_ov)\n",
        "  \n",
        "  # Duplication matrices\n",
        "  # ------------------------------------------------------------------------------\n",
        "  invDupMatdict = dict()\n",
        "  for i in np.arange(len(nparams)):\n",
        "\n",
        "    invDupMatdict[i] = np.asarray(invDupMat(nparams[i]).todense())\n",
        "    \n",
        "    #print('invDupMat ' + str(i), invDupMatdict[i])\n",
        "  \n",
        "  # Index variables\n",
        "  # ------------------------------------------------------------------------------\n",
        "  # Work out the total number of paramateres\n",
        "  tnp = np.int32(p + 1 + np.sum(nparams*(nparams+1)/2))\n",
        "\n",
        "  # Indices for submatrics corresponding to Dks\n",
        "  FishIndsDk = np.int32(np.cumsum(nparams*(nparams+1)/2) + p + 1)\n",
        "  FishIndsDk = np.insert(FishIndsDk,0,p+1)\n",
        "\n",
        "  Zte = ZtY - (ZtX @ beta)\n",
        "  Zte_ov = ZtY_ov - (ZtX_ov @ beta_ov)\n",
        "  \n",
        "  # Inverse of (I+Z'ZD) multiplied by D\n",
        "  IplusZtZD = np.eye(q) + ZtZ @ D\n",
        "  DinvIplusZtZD =  forceSym_broadcasted(D @ np.linalg.inv(IplusZtZD)) # Currently using numpy... might be able to improve on this inversion\n",
        "  \n",
        "  \n",
        "  # Inverse of (I+Z'ZD) multiplied by D\n",
        "  IplusZtZD_ov = np.eye(q) + ZtZ_ov @ D_ov\n",
        "  DinvIplusZtZD_ov = forceSym(D_ov @ scipy.sparse.linalg.inv(scipy.sparse.csc_matrix(IplusZtZD_ov)))\n",
        "  \n",
        "  #print('D(I + ZtZ)^(-1)', DinvIplusZtZD[10,:,:], DinvIplusZtZD_ov)\n",
        "\n",
        "  \n",
        "  # Step size lambda\n",
        "  lam = np.ones(XtY.shape[0])\n",
        "  lam_ov = 1\n",
        "\n",
        "  # Initial log likelihoods\n",
        "  llhprev = -10*np.ones(XtY.shape[0])\n",
        "  llhcurr = 10*np.ones(XtY.shape[0])\n",
        "  \n",
        "  t2 = time.time()\n",
        "  print('Setup time: ', t2-t1)\n",
        "  \n",
        "  nit=0\n",
        "  examplellh=np.zeros(100)\n",
        "  while np.any(np.abs(llhprev-llhcurr)>tol):\n",
        "    \n",
        "    t1 = time.time()\n",
        "    # Change current likelihood to previous\n",
        "    llhprev = llhcurr\n",
        "\n",
        "    # Matrices needed later by many calculations:\n",
        "    # ----------------------------------------------------------------------------\n",
        "    # X transpose e and Z transpose e\n",
        "    Xte = XtY - (XtX @ beta)\n",
        "    Zte = ZtY - (ZtX @ beta)\n",
        "    \n",
        "    Xte_ov = XtY_ov - (XtX_ov @ beta_ov)\n",
        "    Zte_ov = ZtY_ov - (ZtX_ov @ beta_ov)\n",
        "    \n",
        "    # Inverse of (I+Z'ZD) multiplied by D\n",
        "    IplusZtZD = np.eye(q) + (ZtZ @ D)\n",
        "    DinvIplusZtZD = forceSym_broadcasted(D @ np.linalg.inv(IplusZtZD)) # Currently using numpy... might be able to improve on this inversion\n",
        "    \n",
        "    IplusZtZD_ov = np.eye(q) + (ZtZ_ov @ D_ov)\n",
        "    DinvIplusZtZD_ov = forceSym(D_ov @ scipy.sparse.linalg.inv(scipy.sparse.csc_matrix(IplusZtZD_ov)))\n",
        "    #print('D(I + ZtZ)^(-1)', DinvIplusZtZD[10,:,:], DinvIplusZtZD_ov)\n",
        "\n",
        "    # Sum of squared residuals\n",
        "    ete = ssr_broadcasted(YtX, YtY, XtX, beta)\n",
        "    ete_ov = ssr(YtX_ov, YtY_ov, XtX_ov, beta_ov)\n",
        "    #print('ete', ete[10,:,:], ete_ov)\n",
        "    \n",
        "    # Derivatives\n",
        "    # ----------------------------------------------------------------------------\n",
        "\n",
        "    # Derivative wrt beta\n",
        "    dldB = get_dldB_broadcasted(sigma2, Xte, XtZ, DinvIplusZtZD, Zte)\n",
        "    dldB_ov = get_dldB(sigma2_ov, Xte_ov, XtZ_ov, DinvIplusZtZD_ov, Zte_ov)\n",
        "    #print('dldB', dldB[10,:,:], dldB_ov)\n",
        "    \n",
        "    # Derivative wrt sigma^2\n",
        "    dldsigma2 = get_dldsigma2_broadcasted(n, ete, Zte, sigma2, DinvIplusZtZD) \n",
        "    dldsigma2_ov = get_dldsigma2(n, ete_ov, Zte_ov, sigma2_ov, DinvIplusZtZD_ov) \n",
        "    #print('dldsigma2', dldsigma2[10], dldsigma2_ov)\n",
        "    \n",
        "    # For each factor, factor k, work out dl/dD_k\n",
        "    dldDdict = dict()\n",
        "    for k in np.arange(len(nparams)):\n",
        "      # Store it in the dictionary\n",
        "      dldDdict[k] = get_dldDk_broadcasted(k, nlevels, nparams, ZtZ, Zte, sigma2, DinvIplusZtZD)\n",
        "\n",
        "    dldDdict_ov = dict()\n",
        "    for k in np.arange(len(nparams)):\n",
        "      # Store it in the dictionary\n",
        "      dldDdict_ov[k] = get_dldDk(k, nlevels, nparams, ZtZ_ov, Zte_ov, sigma2_ov, DinvIplusZtZD_ov)\n",
        "      #print('dldDdict '+str(k),dldDdict[k][10,:,:],dldDdict_ov[k])\n",
        "    \n",
        "    # Covariances\n",
        "    # ----------------------------------------------------------------------------\n",
        "\n",
        "    # Construct the Fisher Information matrix\n",
        "    # ----------------------------------------------------------------------------\n",
        "    FisherInfoMat = np.zeros((nv,tnp,tnp))\n",
        "    FisherInfoMat_ov = np.zeros((tnp,tnp))\n",
        "    \n",
        "    # Covariance of dl/dsigma2\n",
        "    covdldsigma2 = n/(2*(sigma2**2))\n",
        "    covdldsigma2_ov = n/(2*(sigma2_ov**2))\n",
        "    #print('covdldsigma2', covdldsigma2[10],covdldsigma2_ov)\n",
        "    \n",
        "    # Add dl/dsigma2 covariance\n",
        "    FisherInfoMat[:,p,p] = covdldsigma2\n",
        "    FisherInfoMat_ov[p,p] = covdldsigma2_ov\n",
        "    \n",
        "    # Add dl/dbeta covariance\n",
        "    covdldB = get_covdldbeta_broadcasted(XtZ, XtX, ZtZ, DinvIplusZtZD, sigma2)\n",
        "    covdldB_ov = get_covdldbeta(XtZ_ov, XtX_ov, ZtZ_ov, DinvIplusZtZD_ov, sigma2_ov)\n",
        "    #print('covdldB', covdldB[10,:,:], covdldB_ov)\n",
        "    \n",
        "    FisherInfoMat[np.ix_(np.arange(nv), np.arange(p),np.arange(p))] = covdldB\n",
        "    FisherInfoMat_ov[np.ix_(np.arange(p),np.arange(p))] = covdldB_ov\n",
        "    #print('FImat check', FisherInfoMat[10,:,:], FisherInfoMat_ov)\n",
        "    \n",
        "    # Add dl/dsigma2 dl/dD covariance\n",
        "    for k in np.arange(len(nparams)):\n",
        "\n",
        "      # Get covariance of dldsigma and dldD      \n",
        "      covdldsigmadD = get_covdldDkdsigma2_broadcasted(k, sigma2, nlevels, nparams, ZtZ, DinvIplusZtZD, invDupMatdict).reshape(nv,FishIndsDk[k+1]-FishIndsDk[k])\n",
        "      covdldsigmadD_ov =  get_covdldDkdsigma2(k, sigma2_ov, nlevels, nparams, ZtZ_ov, DinvIplusZtZD_ov, invDupMatdict).reshape(FishIndsDk[k+1]-FishIndsDk[k])\n",
        "      \n",
        "      #print('cov(dl/dsigma,dl/dD) ' + str(k), covdldsigmadD[10,:],covdldsigmadD_ov)\n",
        "      \n",
        "      # Assign to the relevant block\n",
        "      FisherInfoMat[:,p, FishIndsDk[k]:FishIndsDk[k+1]] = covdldsigmadD\n",
        "      FisherInfoMat[:,FishIndsDk[k]:FishIndsDk[k+1],p:(p+1)] = FisherInfoMat[:,p:(p+1), FishIndsDk[k]:FishIndsDk[k+1]].transpose((0,2,1))\n",
        "    \n",
        "      FisherInfoMat_ov[p, FishIndsDk[k]:FishIndsDk[k+1]] = covdldsigmadD_ov\n",
        "      FisherInfoMat_ov[FishIndsDk[k]:FishIndsDk[k+1],p] = FisherInfoMat_ov[p, FishIndsDk[k]:FishIndsDk[k+1]].transpose()\n",
        "\n",
        "      #print('Fisher Info Mat check ' + str(k), FisherInfoMat[10,:,:], FisherInfoMat_ov)\n",
        "      #print(np.sum(np.sum(np.abs(FisherInfoMat[10,:,:]- FisherInfoMat_ov))))\n",
        "   \n",
        "    # Add dl/dD covariance\n",
        "    for k1 in np.arange(len(nparams)):\n",
        "\n",
        "      for k2 in np.arange(k1+1):\n",
        "\n",
        "        IndsDk1 = np.arange(FishIndsDk[k1],FishIndsDk[k1+1])\n",
        "        IndsDk2 = np.arange(FishIndsDk[k2],FishIndsDk[k2+1])\n",
        "\n",
        "        # Get covariance between D_k1 and D_k2 \n",
        "        covdldDk1dDk2 = get_covdldDk1Dk2_broadcasted(k1, k2, nlevels, nparams, ZtZ, DinvIplusZtZD, invDupMatdict)\n",
        "        \n",
        "        # Get covariance between D_k1 and D_k2 \n",
        "        covdldDk1dDk2_ov = get_covdldDk1Dk2(k1, k2, nlevels, nparams, ZtZ_ov, DinvIplusZtZD_ov, invDupMatdict)\n",
        "        \n",
        "        #print('cov(dldDk, dldDk) ' + str(k1) + ' ' + str(k2))\n",
        "        #print(covdldDk1dDk2[10,:,:])\n",
        "        #print(covdldDk1dDk2_ov)\n",
        "        #print(np.sum(np.sum(np.abs(covdldDk1dDk2[10,:,:]-covdldDk1dDk2_ov))))\n",
        "        \n",
        "        # Add to FImat\n",
        "        FisherInfoMat[np.ix_(np.arange(nv), IndsDk1, IndsDk2)] = covdldDk1dDk2\n",
        "        FisherInfoMat[np.ix_(np.arange(nv), IndsDk2, IndsDk1)] = FisherInfoMat[np.ix_(np.arange(nv), IndsDk1, IndsDk2)].transpose((0,2,1))\n",
        "        \n",
        "        # Add to FImat \n",
        "        FisherInfoMat_ov[np.ix_(IndsDk1, IndsDk2)] = covdldDk1dDk2_ov\n",
        "        FisherInfoMat_ov[np.ix_(IndsDk2, IndsDk1)] = FisherInfoMat_ov[np.ix_(IndsDk1, IndsDk2)].transpose()\n",
        "\n",
        "        #print('Fisher Info Mat check ' + str(k1) + ' ' + str(k2))\n",
        "        #print(np.sum(np.sum(np.abs(FisherInfoMat[10,:,:]- FisherInfoMat_ov))))\n",
        "       \n",
        "    # Derivative and parameters\n",
        "    # ----------------------------------------------------------------------------\n",
        "\n",
        "    # Concatenate paramaters and derivatives together\n",
        "    # ----------------------------------------------------------------------------\n",
        "    paramVector = np.concatenate((beta, sigma2.reshape(nv,1,1)),axis=1)\n",
        "    derivVector = np.concatenate((dldB, dldsigma2.reshape(nv,1,1)),axis=1)\n",
        "    \n",
        "    \n",
        "    paramVector_ov = np.concatenate((beta_ov, np.array([[sigma2_ov]])))\n",
        "    derivVector_ov = np.concatenate((dldB_ov, dldsigma2_ov))\n",
        "    \n",
        "    #print('paramvec check', np.sum(np.sum(np.abs(paramVector_ov-paramVector[10,:,:]))))\n",
        "    #print('derivvec check', np.sum(np.sum(np.abs(derivVector_ov-derivVector[10,:,:]))))\n",
        "\n",
        "\n",
        "    for k in np.arange(len(nparams)):\n",
        "\n",
        "      paramVector = np.concatenate((paramVector, mat2vech_broadcasted(Ddict[k])),axis=1)\n",
        "      derivVector = np.concatenate((derivVector, mat2vech_broadcasted(dldDdict[k])),axis=1)\n",
        "      \n",
        "      paramVector_ov = np.concatenate((paramVector_ov, mat2vech(Ddict_ov[k])))\n",
        "      derivVector_ov = np.concatenate((derivVector_ov, mat2vech(dldDdict_ov[k])))\n",
        "    \n",
        "      #print('paramvec check', np.sum(np.sum(np.abs(paramVector_ov-paramVector[10,:,:]))))\n",
        "      #print('derivvec check', np.sum(np.sum(np.abs(derivVector_ov-derivVector[10,:,:]))))\n",
        "      \n",
        "    \n",
        "    # Update step\n",
        "    # ----------------------------------------------------------------------------\n",
        "    FisherInfoMat = forceSym_broadcasted(FisherInfoMat)\n",
        "    paramVector = paramVector + np.einsum('i,ijk->ijk',lam,(np.linalg.inv(FisherInfoMat) @ derivVector))\n",
        "    \n",
        "    \n",
        "    FisherInfoMat_ov = forceSym(FisherInfoMat_ov)\n",
        "    paramVector_ov = paramVector_ov + lam_ov*(np.linalg.inv(FisherInfoMat_ov) @ derivVector_ov)\n",
        "    \n",
        "    #print('Final FI check', np.sum(np.sum(np.abs(FisherInfoMat[10,:,:]-FisherInfoMat_ov))))\n",
        "    #print('Update check', np.sum(np.sum(np.abs(paramVector[10,:,:]-paramVector_ov))))\n",
        "\n",
        "    # Get the new parameters\n",
        "    beta = paramVector[:,0:p,:]\n",
        "    sigma2 = paramVector[:,p:(p+1)][:,0,0]\n",
        "    \n",
        "    \n",
        "    beta_ov = paramVector_ov[0:p]\n",
        "    sigma2_ov = paramVector_ov[p:(p+1)][0,0]\n",
        "\n",
        "    #print('beta check', np.sum(np.sum(np.abs(beta_ov - beta[10,:,:]))))\n",
        "    #print('sigma2 check', np.sum(np.sum(np.abs(sigma2_ov - sigma2[10]))))\n",
        "    \n",
        "    # D as a dictionary\n",
        "    for k in np.arange(len(nparams)):\n",
        "\n",
        "      Ddict[k] = makeDnnd_broadcasted(vech2mat_broadcasted(paramVector[:,FishIndsDk[k]:FishIndsDk[k+1],:]))\n",
        "      \n",
        "\n",
        "    for k in np.arange(len(nparams)):\n",
        "\n",
        "      Ddict_ov[k] = makeDnnd(vech2mat(paramVector_ov[FishIndsDk[k]:FishIndsDk[k+1]]))\n",
        "      \n",
        "      #print('Ddict check ' + str(k), Ddict[k][10,:,:], Ddict_ov[k])\n",
        "      \n",
        "      \n",
        "    # Full version of D\n",
        "    D = getDfromDict_broadcasted(Ddict, nparams, nlevels)\n",
        "    \n",
        "    for i in np.arange(len(nparams)):\n",
        "\n",
        "      for j in np.arange(nlevels[i]):\n",
        "\n",
        "\n",
        "        if i == 0 and j == 0:\n",
        "\n",
        "          D_ov = Ddict_ov[i]\n",
        "\n",
        "        else:\n",
        "\n",
        "          D_ov = scipy.linalg.block_diag(D_ov, Ddict_ov[i])\n",
        "    \n",
        "    #print('Dcheck', np.sum(np.sum(np.abs(D[10,:,:]-D_ov))))\n",
        "    \n",
        "    # Update the step size\n",
        "    llhcurr = llh_broadcasted(n, ZtZ, Zte, ete, sigma2, DinvIplusZtZD,D)[:,0,0]\n",
        "    llhcurr_ov = llh(n, ZtZ_ov, Zte_ov, ete_ov, sigma2_ov, DinvIplusZtZD_ov,D_ov)\n",
        "    #print('llh check',llhcurr[10]-llhcurr_ov)\n",
        "    \n",
        "    lam[llhprev>llhcurr] = lam[llhprev>llhcurr]/2\n",
        "    \n",
        "    examplellh[nit] = llhcurr[10]\n",
        "    if nit==99:\n",
        "      break\n",
        "    \n",
        "    print('sumlam:', np.sum(lam))\n",
        "\n",
        "    t2 = time.time()\n",
        "    nit = nit + 1\n",
        "    print('Iteration num: ', nit)\n",
        "    print('Iteration time: ', t2-t1)\n",
        "    print('Num converged:', nv-np.sum(np.abs(llhprev-llhcurr)>tol))\n",
        "    \n",
        "  bvals = DinvIplusZtZD @ Zte\n",
        "  \n",
        "  print('Total time taken: ', time.time()-t1_total)\n",
        "  print('Estimated NIFTI time (hours): ', 100*100*100/(nv*60*60)*(time.time()-t1_total))\n",
        "  \n",
        "  return(paramVector, bvals, examplellh)\n",
        "\n",
        "t1 = time.time()\n",
        "paramVec, bvals, examplellh = FS_broadcasted(XtX, XtY, ZtX, ZtY, ZtZ, XtZ, YtZ, YtY, YtX, nlevels, nparams, 1e-6,n)\n",
        "t2 = time.time()\n",
        "print(t2-t1)\n",
        "\n",
        "print(\"Predicted time on nifti of size 100x100x100 (in hours): \", 100*100*100*(t2-t1)/(nv*60*60))\n",
        "\n"
      ],
      "execution_count": 76,
      "outputs": [
        {
          "output_type": "stream",
          "text": [
            "Setup time:  14.18008303642273\n",
            "sumlam: 13500.0\n",
            "Iteration num:  1\n",
            "Iteration time:  124.39200711250305\n",
            "Num converged: -26000\n",
            "sumlam: 12679.5\n",
            "Iteration num:  2\n",
            "Iteration time:  126.12909817695618\n",
            "Num converged: -26000\n",
            "sumlam: 11423.625\n",
            "Iteration num:  3\n",
            "Iteration time:  125.46556496620178\n",
            "Num converged: -26000\n"
          ],
          "name": "stdout"
        },
        {
          "output_type": "error",
          "ename": "KeyboardInterrupt",
          "evalue": "ignored",
          "traceback": [
            "\u001b[0;31m---------------------------------------------------------------------------\u001b[0m",
            "\u001b[0;31mKeyboardInterrupt\u001b[0m                         Traceback (most recent call last)",
            "\u001b[0;32m<ipython-input-76-2cfd15d7b6b9>\u001b[0m in \u001b[0;36m<module>\u001b[0;34m()\u001b[0m\n\u001b[1;32m    372\u001b[0m \u001b[0;34m\u001b[0m\u001b[0m\n\u001b[1;32m    373\u001b[0m \u001b[0mt1\u001b[0m \u001b[0;34m=\u001b[0m \u001b[0mtime\u001b[0m\u001b[0;34m.\u001b[0m\u001b[0mtime\u001b[0m\u001b[0;34m(\u001b[0m\u001b[0;34m)\u001b[0m\u001b[0;34m\u001b[0m\u001b[0;34m\u001b[0m\u001b[0m\n\u001b[0;32m--> 374\u001b[0;31m \u001b[0mparamVec\u001b[0m\u001b[0;34m,\u001b[0m \u001b[0mbvals\u001b[0m\u001b[0;34m,\u001b[0m \u001b[0mexamplellh\u001b[0m \u001b[0;34m=\u001b[0m \u001b[0mFS_broadcasted\u001b[0m\u001b[0;34m(\u001b[0m\u001b[0mXtX\u001b[0m\u001b[0;34m,\u001b[0m \u001b[0mXtY\u001b[0m\u001b[0;34m,\u001b[0m \u001b[0mZtX\u001b[0m\u001b[0;34m,\u001b[0m \u001b[0mZtY\u001b[0m\u001b[0;34m,\u001b[0m \u001b[0mZtZ\u001b[0m\u001b[0;34m,\u001b[0m \u001b[0mXtZ\u001b[0m\u001b[0;34m,\u001b[0m \u001b[0mYtZ\u001b[0m\u001b[0;34m,\u001b[0m \u001b[0mYtY\u001b[0m\u001b[0;34m,\u001b[0m \u001b[0mYtX\u001b[0m\u001b[0;34m,\u001b[0m \u001b[0mnlevels\u001b[0m\u001b[0;34m,\u001b[0m \u001b[0mnparams\u001b[0m\u001b[0;34m,\u001b[0m \u001b[0;36m1e-6\u001b[0m\u001b[0;34m,\u001b[0m\u001b[0mn\u001b[0m\u001b[0;34m)\u001b[0m\u001b[0;34m\u001b[0m\u001b[0;34m\u001b[0m\u001b[0m\n\u001b[0m\u001b[1;32m    375\u001b[0m \u001b[0mt2\u001b[0m \u001b[0;34m=\u001b[0m \u001b[0mtime\u001b[0m\u001b[0;34m.\u001b[0m\u001b[0mtime\u001b[0m\u001b[0;34m(\u001b[0m\u001b[0;34m)\u001b[0m\u001b[0;34m\u001b[0m\u001b[0;34m\u001b[0m\u001b[0m\n\u001b[1;32m    376\u001b[0m \u001b[0mprint\u001b[0m\u001b[0;34m(\u001b[0m\u001b[0mt2\u001b[0m\u001b[0;34m-\u001b[0m\u001b[0mt1\u001b[0m\u001b[0;34m)\u001b[0m\u001b[0;34m\u001b[0m\u001b[0;34m\u001b[0m\u001b[0m\n",
            "\u001b[0;32m<ipython-input-76-2cfd15d7b6b9>\u001b[0m in \u001b[0;36mFS_broadcasted\u001b[0;34m(XtX, XtY, ZtX, ZtY, ZtZ, XtZ, YtZ, YtY, YtX, nlevels, nparams, tol, n)\u001b[0m\n\u001b[1;32m    242\u001b[0m \u001b[0;34m\u001b[0m\u001b[0m\n\u001b[1;32m    243\u001b[0m         \u001b[0;31m# Get covariance between D_k1 and D_k2\u001b[0m\u001b[0;34m\u001b[0m\u001b[0;34m\u001b[0m\u001b[0;34m\u001b[0m\u001b[0m\n\u001b[0;32m--> 244\u001b[0;31m         \u001b[0mcovdldDk1dDk2\u001b[0m \u001b[0;34m=\u001b[0m \u001b[0mget_covdldDk1Dk2_broadcasted\u001b[0m\u001b[0;34m(\u001b[0m\u001b[0mk1\u001b[0m\u001b[0;34m,\u001b[0m \u001b[0mk2\u001b[0m\u001b[0;34m,\u001b[0m \u001b[0mnlevels\u001b[0m\u001b[0;34m,\u001b[0m \u001b[0mnparams\u001b[0m\u001b[0;34m,\u001b[0m \u001b[0mZtZ\u001b[0m\u001b[0;34m,\u001b[0m \u001b[0mDinvIplusZtZD\u001b[0m\u001b[0;34m,\u001b[0m \u001b[0minvDupMatdict\u001b[0m\u001b[0;34m)\u001b[0m\u001b[0;34m\u001b[0m\u001b[0;34m\u001b[0m\u001b[0m\n\u001b[0m\u001b[1;32m    245\u001b[0m \u001b[0;34m\u001b[0m\u001b[0m\n\u001b[1;32m    246\u001b[0m         \u001b[0;31m# Get covariance between D_k1 and D_k2\u001b[0m\u001b[0;34m\u001b[0m\u001b[0;34m\u001b[0m\u001b[0;34m\u001b[0m\u001b[0m\n",
            "\u001b[0;32m<ipython-input-74-25edd84c09b9>\u001b[0m in \u001b[0;36mget_covdldDk1Dk2_broadcasted\u001b[0;34m(k1, k2, nlevels, nparams, ZtZ, DinvIplusZtZD, invDupMatdict)\u001b[0m\n\u001b[1;32m     11\u001b[0m \u001b[0;34m\u001b[0m\u001b[0m\n\u001b[1;32m     12\u001b[0m       \u001b[0;31m# Work out R_(k1, k2, i, j)\u001b[0m\u001b[0;34m\u001b[0m\u001b[0;34m\u001b[0m\u001b[0;34m\u001b[0m\u001b[0m\n\u001b[0;32m---> 13\u001b[0;31m       \u001b[0mRk1k2ij\u001b[0m \u001b[0;34m=\u001b[0m \u001b[0mZtZ\u001b[0m\u001b[0;34m[\u001b[0m\u001b[0mnp\u001b[0m\u001b[0;34m.\u001b[0m\u001b[0mix_\u001b[0m\u001b[0;34m(\u001b[0m\u001b[0mnp\u001b[0m\u001b[0;34m.\u001b[0m\u001b[0marange\u001b[0m\u001b[0;34m(\u001b[0m\u001b[0mZtZ\u001b[0m\u001b[0;34m.\u001b[0m\u001b[0mshape\u001b[0m\u001b[0;34m[\u001b[0m\u001b[0;36m0\u001b[0m\u001b[0;34m]\u001b[0m\u001b[0;34m)\u001b[0m\u001b[0;34m,\u001b[0m\u001b[0mIk1i\u001b[0m\u001b[0;34m,\u001b[0m\u001b[0mIk2j\u001b[0m\u001b[0;34m)\u001b[0m\u001b[0;34m]\u001b[0m \u001b[0;34m-\u001b[0m \u001b[0;34m(\u001b[0m\u001b[0mZtZ\u001b[0m\u001b[0;34m[\u001b[0m\u001b[0;34m:\u001b[0m\u001b[0;34m,\u001b[0m\u001b[0mIk1i\u001b[0m\u001b[0;34m,\u001b[0m\u001b[0;34m:\u001b[0m\u001b[0;34m]\u001b[0m \u001b[0;34m@\u001b[0m \u001b[0mDinvIplusZtZD\u001b[0m \u001b[0;34m@\u001b[0m \u001b[0mZtZ\u001b[0m\u001b[0;34m[\u001b[0m\u001b[0;34m:\u001b[0m\u001b[0;34m,\u001b[0m\u001b[0;34m:\u001b[0m\u001b[0;34m,\u001b[0m\u001b[0mIk2j\u001b[0m\u001b[0;34m]\u001b[0m\u001b[0;34m)\u001b[0m\u001b[0;34m\u001b[0m\u001b[0;34m\u001b[0m\u001b[0m\n\u001b[0m\u001b[1;32m     14\u001b[0m \u001b[0;34m\u001b[0m\u001b[0m\n\u001b[1;32m     15\u001b[0m       \u001b[0;31m# Work out Rk1k2ij kron Rk1k2ij\u001b[0m\u001b[0;34m\u001b[0m\u001b[0;34m\u001b[0m\u001b[0;34m\u001b[0m\u001b[0m\n",
            "\u001b[0;31mKeyboardInterrupt\u001b[0m: "
          ]
        }
      ]
    },
    {
      "cell_type": "code",
      "metadata": {
        "id": "axQkNrbiKtLw",
        "colab_type": "code",
        "colab": {}
      },
      "source": [
        "beta_est_map=beta_True.reshape(dimv[0],dimv[1],dimv[2],beta.shape[1])\n",
        "\n",
        "\n",
        "# Show true beta, 3rd x-slice, 3rd parameter\n",
        "imshow(beta_est_map[3,:,:,3].reshape(dimv[0],dimv[1]), \\\n",
        "                    interpolation='nearest', aspect='auto')\n",
        "plt.colorbar()"
      ],
      "execution_count": 0,
      "outputs": []
    },
    {
      "cell_type": "code",
      "metadata": {
        "id": "Gmn9Qm8XTshL",
        "colab_type": "code",
        "colab": {}
      },
      "source": [
        "beta_est_map=paramVec[:,0:p,:].reshape(dimv[0],dimv[1],dimv[2],beta.shape[1])\n",
        "\n",
        "\n",
        "# Show true beta, 3rd x-slice, 3rd parameter\n",
        "imshow(beta_est_map[3,:,:,3].reshape(dimv[0],dimv[1]), \\\n",
        "                    interpolation='nearest', aspect='auto')\n",
        "plt.colorbar()"
      ],
      "execution_count": 0,
      "outputs": []
    },
    {
      "cell_type": "code",
      "metadata": {
        "id": "aYYN5DWIVtMb",
        "colab_type": "code",
        "colab": {}
      },
      "source": [
        "beta_est_map=paramVec[:,0:p,:].reshape(dimv[0],dimv[1],dimv[2],beta.shape[1])\n",
        "beta_True_map=beta_True.reshape(dimv[0],dimv[1],dimv[2],beta.shape[1])\n",
        "\n",
        "\n",
        "# Show true beta, 3rd x-slice, 3rd parameter\n",
        "imshow((beta_est_map[3,:,:,3]-beta_True_map[3,:,:,3]).reshape(dimv[0],dimv[1]), \\\n",
        "                    interpolation='nearest', aspect='auto')\n",
        "plt.colorbar()"
      ],
      "execution_count": 0,
      "outputs": []
    },
    {
      "cell_type": "code",
      "metadata": {
        "id": "PgF9XbZVeRy0",
        "colab_type": "code",
        "colab": {}
      },
      "source": [
        ""
      ],
      "execution_count": 0,
      "outputs": []
    }
  ]
}