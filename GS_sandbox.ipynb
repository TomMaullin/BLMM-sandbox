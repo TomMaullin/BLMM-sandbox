{
  "nbformat": 4,
  "nbformat_minor": 0,
  "metadata": {
    "colab": {
      "name": "GS_sandbox.ipynb",
      "version": "0.3.2",
      "provenance": [],
      "collapsed_sections": [],
      "include_colab_link": true
    },
    "kernelspec": {
      "name": "python3",
      "display_name": "Python 3"
    }
  },
  "cells": [
    {
      "cell_type": "markdown",
      "metadata": {
        "id": "view-in-github",
        "colab_type": "text"
      },
      "source": [
        "<a href=\"https://colab.research.google.com/github/TomMaullin/BLMM-sandbox/blob/master/GS_sandbox.ipynb\" target=\"_parent\"><img src=\"https://colab.research.google.com/assets/colab-badge.svg\" alt=\"Open In Colab\"/></a>"
      ]
    },
    {
      "cell_type": "markdown",
      "metadata": {
        "id": "TIMtrhFKB3Ay",
        "colab_type": "text"
      },
      "source": [
        "# GS implementation in python\n",
        "\n",
        "This code implements the Gibbs Sampling algorithm for estimating the parameters of linear mixed effects models as described in [my pdf](https://www.overleaf.com/read/wytrsgqgxzsk)."
      ]
    },
    {
      "cell_type": "markdown",
      "metadata": {
        "id": "GNFQ0-MpQuBm",
        "colab_type": "text"
      },
      "source": [
        "## Pip Installations\n",
        "\n",
        "Pip install everything.**bold text**"
      ]
    },
    {
      "cell_type": "code",
      "metadata": {
        "id": "UX02P0KvBWJr",
        "colab_type": "code",
        "outputId": "4d368562-a588-458f-dac3-206d4bf36d9f",
        "colab": {
          "base_uri": "https://localhost:8080/",
          "height": 298
        }
      },
      "source": [
        "!pip install numpy\n",
        "!pip install pandas\n",
        "!pip install scipy\n",
        "!pip install matplotlib"
      ],
      "execution_count": 0,
      "outputs": [
        {
          "output_type": "stream",
          "text": [
            "Requirement already satisfied: numpy in /usr/local/lib/python3.6/dist-packages (1.16.4)\n",
            "Requirement already satisfied: pandas in /usr/local/lib/python3.6/dist-packages (0.24.2)\n",
            "Requirement already satisfied: pytz>=2011k in /usr/local/lib/python3.6/dist-packages (from pandas) (2018.9)\n",
            "Requirement already satisfied: numpy>=1.12.0 in /usr/local/lib/python3.6/dist-packages (from pandas) (1.16.4)\n",
            "Requirement already satisfied: python-dateutil>=2.5.0 in /usr/local/lib/python3.6/dist-packages (from pandas) (2.5.3)\n",
            "Requirement already satisfied: six>=1.5 in /usr/local/lib/python3.6/dist-packages (from python-dateutil>=2.5.0->pandas) (1.12.0)\n",
            "Requirement already satisfied: scipy in /usr/local/lib/python3.6/dist-packages (1.3.0)\n",
            "Requirement already satisfied: numpy>=1.13.3 in /usr/local/lib/python3.6/dist-packages (from scipy) (1.16.4)\n",
            "Requirement already satisfied: matplotlib in /usr/local/lib/python3.6/dist-packages (3.0.3)\n",
            "Requirement already satisfied: python-dateutil>=2.1 in /usr/local/lib/python3.6/dist-packages (from matplotlib) (2.5.3)\n",
            "Requirement already satisfied: pyparsing!=2.0.4,!=2.1.2,!=2.1.6,>=2.0.1 in /usr/local/lib/python3.6/dist-packages (from matplotlib) (2.4.2)\n",
            "Requirement already satisfied: cycler>=0.10 in /usr/local/lib/python3.6/dist-packages (from matplotlib) (0.10.0)\n",
            "Requirement already satisfied: numpy>=1.10.0 in /usr/local/lib/python3.6/dist-packages (from matplotlib) (1.16.4)\n",
            "Requirement already satisfied: kiwisolver>=1.0.1 in /usr/local/lib/python3.6/dist-packages (from matplotlib) (1.1.0)\n",
            "Requirement already satisfied: six>=1.5 in /usr/local/lib/python3.6/dist-packages (from python-dateutil>=2.1->matplotlib) (1.12.0)\n",
            "Requirement already satisfied: setuptools in /usr/local/lib/python3.6/dist-packages (from kiwisolver>=1.0.1->matplotlib) (41.0.1)\n"
          ],
          "name": "stdout"
        }
      ]
    },
    {
      "cell_type": "markdown",
      "metadata": {
        "id": "q4JYRICVBtjl",
        "colab_type": "text"
      },
      "source": [
        "\n",
        "## Python Imports\n",
        "\n",
        "\n"
      ]
    },
    {
      "cell_type": "markdown",
      "metadata": {
        "id": "YkTBWbRKQ5ah",
        "colab_type": "text"
      },
      "source": [
        "We need:\n",
        " - `numpy` for matrix handling.\n",
        " - `scipy` for sparse matrix functions.\n",
        " - `pandas` for quick reading and writing of csv files.\n",
        " - `os` and `sys` for basic commandline functions\n",
        " - `time` for timing functions.\n",
        " - `matplotlib` for making displays."
      ]
    },
    {
      "cell_type": "code",
      "metadata": {
        "id": "tebSlxvBBruv",
        "colab_type": "code",
        "colab": {}
      },
      "source": [
        "import numpy as np\n",
        "import cvxopt\n",
        "import pandas as pd\n",
        "import os\n",
        "import time\n",
        "import scipy.sparse\n",
        "import scipy.sparse.linalg\n",
        "import scipy.stats\n",
        "from matplotlib.pyplot import imshow\n",
        "import sys"
      ],
      "execution_count": 0,
      "outputs": []
    },
    {
      "cell_type": "markdown",
      "metadata": {
        "id": "ilAB3qmDMHa8",
        "colab_type": "text"
      },
      "source": [
        "## Helper Functions\n",
        "\n",
        "This section contains miscellaneous functions used to help the `GS` function including functions to work out the duplication matrix.\n"
      ]
    },
    {
      "cell_type": "markdown",
      "metadata": {
        "colab_type": "text",
        "id": "jt3iahAIYzuL"
      },
      "source": [
        "## Toy Dataset\n",
        "\n",
        "This section read ins and formats a toy dataset. The files used here were generated in `R` and with **True** values (those with postfix `True`) being those used to generate the data and **Estimated** (those with postfix `REst`) values being the estimates `R`'s `lmer` package generated from this data."
      ]
    },
    {
      "cell_type": "code",
      "metadata": {
        "id": "qy39zwuhkn4C",
        "colab_type": "code",
        "colab": {}
      },
      "source": [
        "# Make a data directory\n",
        "if not os.path.isdir('/Data'):\n",
        "  os.mkdir('/Data')\n",
        "  \n",
        "os.chdir('/Data')\n",
        "\n",
        "# Clone small git repo containg some csv files.\n",
        "if not os.path.isdir('/Data/BLMM-testdata'):\n",
        "  !git clone https://github.com/TomMaullin/BLMM-testdata.git\n",
        "  "
      ],
      "execution_count": 0,
      "outputs": []
    },
    {
      "cell_type": "markdown",
      "metadata": {
        "id": "2EWsCZjCQcc9",
        "colab_type": "text"
      },
      "source": [
        "\n",
        "### Z matrix\n",
        "\n",
        "The below reads in Z and makes an image of Z transpose.\n"
      ]
    },
    {
      "cell_type": "code",
      "metadata": {
        "id": "aoKOwHqcEKDT",
        "colab_type": "code",
        "outputId": "e4d71593-58c6-403e-9f8b-310c4ad741aa",
        "colab": {
          "base_uri": "https://localhost:8080/",
          "height": 286
        }
      },
      "source": [
        "# Read in random effects design matrix and convert it into it's sparse format in\n",
        "# cvxopt.\n",
        "Z_3col=pd.read_csv('/Data/BLMM-testdata/Z_3col.csv',header=None).values\n",
        "Z = scipy.sparse.csr_matrix((Z_3col[:,2].tolist(), \\\n",
        "                            ((Z_3col[:,0]-1).astype(np.int64), \\\n",
        "                             (Z_3col[:,1]-1).astype(np.int64))))\n",
        "\n",
        "# Create an image of Z'\n",
        "imshow(Z.toarray().transpose(), \\\n",
        "       interpolation='nearest', vmin=-5, vmax=5, aspect='auto')\n",
        "\n"
      ],
      "execution_count": 0,
      "outputs": [
        {
          "output_type": "execute_result",
          "data": {
            "text/plain": [
              "<matplotlib.image.AxesImage at 0x7fe14a6bdda0>"
            ]
          },
          "metadata": {
            "tags": []
          },
          "execution_count": 5
        },
        {
          "output_type": "display_data",
          "data": {
            "image/png": "[encoded data removed]",
            "text/plain": [
              "<Figure size 432x288 with 1 Axes>"
            ]
          },
          "metadata": {
            "tags": []
          }
        }
      ]
    },
    {
      "cell_type": "markdown",
      "metadata": {
        "id": "rkd2LdwKLWtP",
        "colab_type": "text"
      },
      "source": [
        "### Estimated Random Effects matrix\n",
        "\n",
        "The below reads in the Random effects variance predicted by `R`'s `lmer`."
      ]
    },
    {
      "cell_type": "code",
      "metadata": {
        "id": "tOqQRAROqdkv",
        "colab_type": "code",
        "colab": {}
      },
      "source": [
        "# Read in estimated variance\n",
        "RFXVar_REst = pd.read_csv('/Data/BLMM-testdata/estd_rfxvar.csv',header=None).values"
      ],
      "execution_count": 0,
      "outputs": []
    },
    {
      "cell_type": "markdown",
      "metadata": {
        "id": "RStOLwF_LlTE",
        "colab_type": "text"
      },
      "source": [
        "### Y vector\n",
        "\n",
        "The response vector is read in here:"
      ]
    },
    {
      "cell_type": "code",
      "metadata": {
        "id": "DG8eWNdpPQOs",
        "colab_type": "code",
        "colab": {}
      },
      "source": [
        "Y=pd.read_csv('/Data/BLMM-testdata/Y.csv',header=None).values"
      ],
      "execution_count": 0,
      "outputs": []
    },
    {
      "cell_type": "markdown",
      "metadata": {
        "id": "RHm6DjdbPTvg",
        "colab_type": "text"
      },
      "source": [
        "### X matrix\n",
        "\n",
        "The fixed effects design matrix is read in here. It consists of an intercept and two random (Gaussian) columns.\n"
      ]
    },
    {
      "cell_type": "code",
      "metadata": {
        "id": "xqTKH4n_Po8e",
        "colab_type": "code",
        "outputId": "b69b2631-3f21-47cd-ad40-62de037e5264",
        "colab": {
          "base_uri": "https://localhost:8080/",
          "height": 286
        }
      },
      "source": [
        "X=pd.read_csv('/Data/BLMM-testdata/X.csv',header=None).values\n",
        "\n",
        "# Image of the first 20 rows of X\n",
        "imshow(X[1:20,:])"
      ],
      "execution_count": 0,
      "outputs": [
        {
          "output_type": "execute_result",
          "data": {
            "text/plain": [
              "<matplotlib.image.AxesImage at 0x7fe147e4fe80>"
            ]
          },
          "metadata": {
            "tags": []
          },
          "execution_count": 8
        },
        {
          "output_type": "display_data",
          "data": {
            "image/png": "[encoded data removed]",
            "text/plain": [
              "<Figure size 432x288 with 1 Axes>"
            ]
          },
          "metadata": {
            "tags": []
          }
        }
      ]
    },
    {
      "cell_type": "markdown",
      "metadata": {
        "id": "W_sXGD8qzskp",
        "colab_type": "text"
      },
      "source": [
        "### Number of Levels and Parameters\n",
        "\n",
        "The number of levels is given by a vector with one entry for each grouping factor. e.g. nlevels=[10,2] means there are 10 levels for factor 1 and 2 levels for factor 2. \n",
        "\n",
        "The number of parameters is given by a vector with one entry for each grouping factor. e.g. nparams=[3,4] means there are 3 variables for factor 1 and 4 variables for factor 2."
      ]
    },
    {
      "cell_type": "code",
      "metadata": {
        "id": "_e5bUA2DztCf",
        "colab_type": "code",
        "colab": {}
      },
      "source": [
        "nlevels = np.array([20,3])\n",
        "nparams = np.array([2,2])"
      ],
      "execution_count": 0,
      "outputs": []
    },
    {
      "cell_type": "markdown",
      "metadata": {
        "id": "0byKXygpCa1P",
        "colab_type": "text"
      },
      "source": [
        "### True b values\n",
        "\n",
        "The true recorded values of the random effects b vector in this example."
      ]
    },
    {
      "cell_type": "code",
      "metadata": {
        "id": "LzwuuWSdCbCJ",
        "colab_type": "code",
        "colab": {}
      },
      "source": [
        "b_True=pd.read_csv('/Data/BLMM-testdata/true_b.csv',header=None).values"
      ],
      "execution_count": 0,
      "outputs": []
    },
    {
      "cell_type": "markdown",
      "metadata": {
        "id": "Bvfns6c-CbPd",
        "colab_type": "text"
      },
      "source": [
        "### True beta values\n",
        "\n",
        "The true fixed effects parameters used to generate this example."
      ]
    },
    {
      "cell_type": "code",
      "metadata": {
        "id": "mlvolWwvCbbP",
        "colab_type": "code",
        "colab": {}
      },
      "source": [
        "beta_True=pd.read_csv('/Data/BLMM-testdata/true_beta.csv',header=None).values"
      ],
      "execution_count": 0,
      "outputs": []
    },
    {
      "cell_type": "markdown",
      "metadata": {
        "id": "bVyBWvQK2Gw5",
        "colab_type": "text"
      },
      "source": [
        "### Product Matrices\n",
        "\n",
        "All products of matrices are calculated beforehand as it is both more computationally efficient and also similar to the setting we are interested in. "
      ]
    },
    {
      "cell_type": "code",
      "metadata": {
        "id": "e53HYCsj2G7I",
        "colab_type": "code",
        "colab": {}
      },
      "source": [
        "# Z transpose Z\n",
        "ZtZ = Z.transpose()*Z # This works for products involving sparse\n",
        "\n",
        "# Z transpose X\n",
        "XtZ = X.transpose()*Z\n",
        "\n",
        "# XtX\n",
        "XtX = np.matmul(X.transpose(),X)"
      ],
      "execution_count": 0,
      "outputs": []
    },
    {
      "cell_type": "markdown",
      "metadata": {
        "id": "RhOHZ6F2DU5e",
        "colab_type": "text"
      },
      "source": [
        "## Perform Gibb's Sampling\n",
        "\n",
        "This section contains the function which performs Gibb's sampling for the linear mixed model\n"
      ]
    },
    {
      "cell_type": "code",
      "metadata": {
        "id": "PR3bUshSts74",
        "colab_type": "code",
        "outputId": "2d8895d9-282b-489f-88e4-592e001196c5",
        "colab": {
          "base_uri": "https://localhost:8080/",
          "height": 1000
        }
      },
      "source": [
        "def GS(XtX,XtY,XtZ,ZtY,YtY, beta0, u0, sigma_ffx0, sigma_rfx0, nit, n, nparams, nlevels):\n",
        "  \n",
        "  # Estimators of the population parameters\n",
        "  uhat = 0\n",
        "  betahat = 0\n",
        "  sigmahat_ffx = 0\n",
        "  \n",
        "  # Number of grouping factors\n",
        "  r = nlevels.shape[0]\n",
        "  \n",
        "  # We have a matrix estimate for each grouping factor\n",
        "  # variance matrix\n",
        "  sigmahat_rfx = dict()\n",
        "  for i in range(r):\n",
        "    sigmahat_rfx[i] = np.zeros((nparams[i],nparams[i]))\n",
        "  \n",
        "  # Current values\n",
        "  beta_curr = beta0\n",
        "  u_curr = u0\n",
        "  sigma_ffx_curr = sigma_ffx0\n",
        "  sigma_rfx_curr = sigma_rfx0  \n",
        "  \n",
        "  # Average values\n",
        "  beta_avg = np.zeros(beta0.shape)\n",
        "  u_avg = np.zeros(u0.shape)\n",
        "  sigma_ffx_avg = 0\n",
        "  sigma_rfx_avg = dict()\n",
        "  for i in range(r):\n",
        "    sigma_rfx_avg_i = np.zeros((nparams[i],nparams[i]))\n",
        "    sigma_rfx_avg[i] = sigma_rfx_avg_i\n",
        "  \n",
        "  \n",
        "  \n",
        "  # Constants needed for priors\n",
        "  b = 2\n",
        "  v = nparams+2\n",
        "  A = dict()\n",
        "  for i in range(r):\n",
        "    A_tmp = np.eye(nparams[i])\n",
        "    A_tmp[A_tmp==0]=0.5\n",
        "    A[i] = A_tmp\n",
        "  \n",
        "  # Run the number of iterations\n",
        "  for i in range(nit):\n",
        "    \n",
        "    # Current mean/variance of beta\n",
        "    betamean = np.matmul(np.linalg.inv(XtX),(XtY-np.matmul(XtZ,u_curr)))\n",
        "    betamean = betamean.reshape(betamean.shape[0])\n",
        "    betavar = sigma_ffx_curr*np.linalg.inv(XtX)\n",
        "    \n",
        "    # New estimate of beta\n",
        "    beta_curr = np.random.multivariate_normal(betamean, betavar)\n",
        "    beta_curr = beta_curr.reshape(beta_curr.shape[0],1)\n",
        "    \n",
        "    # Update average\n",
        "    beta_avg = beta_avg + beta_curr\n",
        "    \n",
        "    # D inverse\n",
        "    Dinv = np.zeros((np.dot(nparams,nlevels),np.dot(nparams,nlevels)))\n",
        "      \n",
        "    # Top right hand index of next block to be filled\n",
        "    TRHind=0\n",
        "    \n",
        "    for j in range(r):\n",
        "      \n",
        "      # Current sigma_rfx block\n",
        "      sigma_rfx_curr_j = sigma_rfx_curr[j]\n",
        "      \n",
        "      # Work out the next block\n",
        "      DinvBlock = np.linalg.inv(sigma_rfx_curr_j)\n",
        "      \n",
        "      # This gets repeated for the number of levels for factor j\n",
        "      for k in range(nlevels[j]):\n",
        "        \n",
        "        # Indices for current block\n",
        "        blockIndices = np.ix_(TRHind+np.arange(nparams[j]),TRHind+np.arange(nparams[j]))\n",
        "        \n",
        "        Dinv[blockIndices] = DinvBlock\n",
        "        \n",
        "        # Move Top Right hand index to next block\n",
        "        TRHind = TRHind + nparams[j]\n",
        "    \n",
        "    # Current mean/variance for u\n",
        "    umean = np.matmul(np.linalg.inv(ZtZ.toarray()+sigma_ffx_curr*Dinv),(ZtY-np.matmul(XtZ.transpose(),beta_curr).reshape(ZtY.shape)))\n",
        "    umean = umean.reshape(umean.shape[0])\n",
        "    uvar = np.linalg.inv(ZtZ.toarray()+sigma_ffx_curr*Dinv)*sigma_ffx_curr\n",
        "    \n",
        "    # New estimate of u\n",
        "    u_curr = np.random.multivariate_normal(umean, uvar)\n",
        "    u_curr = u_curr.reshape(u_curr.shape[0], 1)\n",
        "    \n",
        "    # Update average\n",
        "    u_avg = u_avg + u_curr\n",
        "    \n",
        "    # Residual sum of squares (Y-Xbeta-Zu)'(Y-Xbeta-Zu)\n",
        "    rss_curr = YtY + np.matmul(np.matmul(u_curr.transpose(), ZtZ.toarray()),u_curr) + \\\n",
        "          np.matmul(np.matmul(beta_curr.transpose(), XtX),beta_curr) - \\\n",
        "          2*np.matmul(beta_curr.transpose(), XtY) - \\\n",
        "          2*np.matmul(u_curr.transpose(), ZtY) + \\\n",
        "          2*np.matmul(np.matmul(beta_curr.transpose(), XtZ),u_curr)\n",
        "    \n",
        "    # New estimate of fixed effects vairance\n",
        "    sigma_ffx_curr = scipy.stats.invgamma.rvs(a=(b+(n/2)), scale=rss_curr[0]/2, size=1)\n",
        "    \n",
        "    # Update average\n",
        "    sigma_ffx_avg = sigma_ffx_avg + sigma_ffx_curr\n",
        "    \n",
        "    # Index of the first value in the next uj\n",
        "    uj_ind = 0\n",
        "    for j in range(r):\n",
        "      \n",
        "      # Current sigma_rfx block\n",
        "      sigma_rfx_curr_j = sigma_rfx_curr[j]\n",
        "      \n",
        "      # Work out the indices of uj we need\n",
        "      uj_indices = uj_ind + np.arange(nparams[j]*nlevels[j]) \n",
        "      \n",
        "      # Get u for this grouing factor\n",
        "      uj_curr = u_curr[uj_indices]\n",
        "      \n",
        "      # Initialis sum of uut \n",
        "      suut = np.zeros(nparams[j],nparams[j])\n",
        "      \n",
        "      # Now we need sum ujl*ujl' over each level l\n",
        "      for l in range(nlevels[j]):\n",
        "      \n",
        "        # Work out the uj observations for level k\n",
        "        ujl_curr = uj_curr[np.arange(nparams[j])+nparams[j]*l]\n",
        "        suut = suut + np.matmul(ujl_curr,ujl_curr.transpose())\n",
        "      \n",
        "      # Work out parameters to sample new sigma_rfx block from inverse wishart\n",
        "      sigma_rfx_curr_j_scalematrix = A[j] + suut\n",
        "      sigma_rfx_curr_j_df = v[j] + nlevels[j]\n",
        "      \n",
        "      # Sample new variance block from inverse wishart\n",
        "      sigma_rfx_curr[j] = scipy.stats.invwishart.rvs(df=sigma_rfx_curr_j_df, scale=sigma_rfx_curr_j_scalematrix)\n",
        "      \n",
        "      # Work out average\n",
        "      sigma_rfx_avg[j] = sigma_rfx_avg[j] + sigma_rfx_curr[j]\n",
        "      \n",
        "      # Update index\n",
        "      uj_ind = uj_ind + nparams[j]*nlevels[j]\n",
        "      \n",
        "  \n",
        "  # Convert sums to averages\n",
        "  beta_avg = beta_avg/nit\n",
        "  sigma_ffx_avg = sigma_ffx_avg/nit\n",
        "  u_avg = u_avg/nit\n",
        "  for j in range(r):\n",
        "    sigma_rfx_avg[j] = sigma_rfx_avg[j]/nit\n",
        "    \n",
        "  return(beta_avg, sigma_ffx_avg, u_avg, sigma_rfx_avg)\n",
        "  \n",
        "\n",
        "# Example\n",
        "\n",
        "# Product matrices\n",
        "XtX = np.matmul(X.transpose(),X)\n",
        "XtY = np.matmul(X.transpose(),Y)\n",
        "XtZ = np.matmul(X.transpose(),Z.toarray())\n",
        "ZtY = np.matmul(Z.toarray().transpose(),Y)\n",
        "YtY = np.matmul(Y.transpose(),Y)\n",
        "\n",
        "# Number of subjects,n\n",
        "n = 1000\n",
        "\n",
        "# Initial values\n",
        "\n",
        "# RFX variance\n",
        "r = nlevels.shape[0]\n",
        "sigma0_rfx = dict()\n",
        "for i in range(r):\n",
        "  sigma0_rfx[i] = np.eye(nparams[i],nparams[i])\n",
        "\n",
        "# FFX variance\n",
        "sigma0_ffx = 1\n",
        "\n",
        "# Beta\n",
        "beta0 = np.zeros((X.shape[1],1))\n",
        "\n",
        "# u\n",
        "u0 = np.zeros((Z.shape[1],1))\n",
        "\n",
        "t1=time.time()\n",
        "estimates=GS(XtX,XtY,XtZ,ZtY,YtY,beta0, u0, sigma0_ffx, sigma0_rfx, 1000, n, nparams, nlevels)\n",
        "t2=time.time()\n",
        "print(t2-t1)\n",
        "\n",
        "print(\"Results after 1000 iterations\")\n",
        "print(\"-----------------------------\")\n",
        "print(\"Beta estimates (Gibbs)\")\n",
        "print(estimates[0])\n",
        "print(\"Beta estimates (R)\")\n",
        "print(pd.read_csv('/Data/BLMM-testdata/estd_beta.csv',header=None).values)\n",
        "print(\"Beta true\")\n",
        "print(beta_True)\n",
        "print(\"-----------------------------\")\n",
        "print(\"U estimates (Gibbs)\")\n",
        "print(estimates[2].reshape(23,2))\n",
        "print(\"U estimates (R)\")\n",
        "print(pd.read_csv('/Data/BLMM-testdata/estd_b.csv',header=None).values.reshape(23,2))\n",
        "print(\"U true\")\n",
        "print(pd.read_csv('/Data/BLMM-testdata/true_b.csv',header=None).values.reshape(23,2))\n",
        "print(\"-----------------------------\")\n",
        "print(\"Random effects variance estimates (Gibbs)\")\n",
        "print(\"Factor 1\")\n",
        "print(estimates[3][0])\n",
        "print(\"Factor 2\")\n",
        "print(estimates[3][1])\n",
        "print(\"Random effects variance estimates (R)\")\n",
        "estd_rfxvar=pd.read_csv('/Data/BLMM-testdata/estd_rfxvar.csv',header=None).values\n",
        "print(\"Factor 1\")\n",
        "print(estd_rfxvar[np.ix_(np.arange(2),np.arange(2))])\n",
        "print(\"Factor 2\")\n",
        "print(estd_rfxvar[np.ix_(np.arange(2)+2,np.arange(2)+2)])\n",
        "print(\"Random effects variance true\")\n",
        "true_rfx_3col=pd.read_csv('/Data/BLMM-testdata/true_rfxvar_3col.csv',header=None).values\n",
        "true_rfx = scipy.sparse.csr_matrix((true_rfx_3col[:,2].tolist(), \\\n",
        "                            ((true_rfx_3col[:,0]-1).astype(np.int64), \\\n",
        "                             (true_rfx_3col[:,1]-1).astype(np.int64))))\n",
        "print(\"Factor 1\")\n",
        "print(true_rfx[np.ix_(np.arange(2),np.arange(2))].toarray())\n",
        "print(\"Factor 2\")\n",
        "print(true_rfx[np.ix_(np.arange(2)+40,np.arange(2)+40)].toarray())"
      ],
      "execution_count": 0,
      "outputs": [
        {
          "output_type": "stream",
          "text": [
            "4.513150453567505\n",
            "Results after 1000 iterations\n",
            "-----------------------------\n",
            "Beta estimates (Gibbs)\n",
            "[[0.5464067 ]\n",
            " [1.98512161]\n",
            " [3.03201756]]\n",
            "Beta estimates (R)\n",
            "[[1.04778749]\n",
            " [1.98321039]\n",
            " [3.03156038]]\n",
            "Beta true\n",
            "[[1]\n",
            " [2]\n",
            " [3]]\n",
            "-----------------------------\n",
            "U estimates (Gibbs)\n",
            "[[-0.16641273 -4.2168499 ]\n",
            " [ 1.4136973   1.41212541]\n",
            " [ 1.59112192 -1.58888116]\n",
            " [ 1.5582383   0.40464328]\n",
            " [ 1.3003867   0.93790526]\n",
            " [-1.20813631  2.19750368]\n",
            " [-0.62719399 -1.18432693]\n",
            " [-0.90428168 -1.34791901]\n",
            " [ 0.20105858  2.53792982]\n",
            " [-0.58205751 -3.43663566]\n",
            " [ 1.33329767  0.10709062]\n",
            " [-1.21503839 -2.43700162]\n",
            " [ 0.63534816  1.33610731]\n",
            " [-0.99885399 -0.08067159]\n",
            " [ 1.44451179  2.19572301]\n",
            " [-1.26277561  4.30747634]\n",
            " [ 0.2658458   0.87146507]\n",
            " [-0.7912232  -3.16064885]\n",
            " [-1.48857717 -0.24107696]\n",
            " [-0.47916287  3.13871743]\n",
            " [ 2.31250477  0.64337653]\n",
            " [ 2.57262529 -0.15742232]\n",
            " [-6.8652865   0.4375333 ]]\n",
            "U estimates (R)\n",
            "[[-0.16266309 -4.21724427]\n",
            " [ 1.41643004  1.41243783]\n",
            " [ 1.59527575 -1.58921871]\n",
            " [ 1.57314783  0.40497904]\n",
            " [ 1.29727291  0.93796984]\n",
            " [-1.20537013  2.19715236]\n",
            " [-0.62177368 -1.1845146 ]\n",
            " [-0.8982196  -1.34761407]\n",
            " [ 0.2105669   2.5381855 ]\n",
            " [-0.57561587 -3.43679857]\n",
            " [ 1.33808317  0.10724134]\n",
            " [-1.20676845 -2.43712662]\n",
            " [ 0.64262693  1.33629341]\n",
            " [-0.9916963  -0.08043681]\n",
            " [ 1.44782818  2.19618068]\n",
            " [-1.25815704  4.3074814 ]\n",
            " [ 0.27424557  0.87149959]\n",
            " [-0.78704685 -3.16062475]\n",
            " [-1.48916827 -0.24116661]\n",
            " [-0.47444214  3.13847411]\n",
            " [ 1.80633411  0.64368738]\n",
            " [ 2.06756827 -0.15742136]\n",
            " [-7.37272861  0.43752657]]\n",
            "U true\n",
            "[[-0.19301143 -4.22666242]\n",
            " [ 1.43735476  1.40883489]\n",
            " [ 1.34711832 -1.58788242]\n",
            " [ 1.81825209  0.3910735 ]\n",
            " [ 1.25654173  0.94063103]\n",
            " [-1.22775617  2.19293973]\n",
            " [-0.79408731 -1.19281546]\n",
            " [-0.9898057  -1.35221872]\n",
            " [-0.03319243  2.53178969]\n",
            " [-0.65604937 -3.43139032]\n",
            " [ 1.42910277  0.11018046]\n",
            " [-0.96244844 -2.43071144]\n",
            " [ 0.70088294  1.33487455]\n",
            " [-1.3137399  -0.07784482]\n",
            " [ 1.45666816  2.19521647]\n",
            " [-1.3663195   4.30629966]\n",
            " [ 0.22757187  0.87208539]\n",
            " [-0.89571743 -3.14622337]\n",
            " [-1.51292639 -0.23242295]\n",
            " [-0.5588196   3.15054584]\n",
            " [ 1.85205881  0.64080503]\n",
            " [ 2.10133112 -0.1570577 ]\n",
            " [-7.27154738  0.44280999]]\n",
            "-----------------------------\n",
            "Random effects variance estimates (Gibbs)\n",
            "Factor 1\n",
            "[[1.23276805 0.37282448]\n",
            " [0.37282448 4.85900331]]\n",
            "Factor 2\n",
            "[[15.4790992  -0.29463425]\n",
            " [-0.29463425  0.40732196]]\n",
            "Random effects variance estimates (R)\n",
            "Factor 1\n",
            "[[1.24022707 0.36034323]\n",
            " [0.36034323 5.0719078 ]]\n",
            "Factor 2\n",
            "[[20.68631165 -0.79595202]\n",
            " [-0.79595202  0.21015464]]\n",
            "Random effects variance true\n",
            "Factor 1\n",
            "[[2.  0.5]\n",
            " [0.5 4. ]]\n",
            "Factor 2\n",
            "[[6.  0.1]\n",
            " [0.1 1. ]]\n"
          ],
          "name": "stdout"
        }
      ]
    }
  ]
}