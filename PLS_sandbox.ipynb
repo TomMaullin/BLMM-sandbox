{
  "nbformat": 4,
  "nbformat_minor": 0,
  "metadata": {
    "colab": {
      "name": "PLS_sandbox.ipynb",
      "version": "0.3.2",
      "provenance": [],
      "collapsed_sections": [],
      "include_colab_link": true
    },
    "kernelspec": {
      "name": "python3",
      "display_name": "Python 3"
    }
  },
  "cells": [
    {
      "cell_type": "markdown",
      "metadata": {
        "id": "view-in-github",
        "colab_type": "text"
      },
      "source": [
        "<a href=\"https://colab.research.google.com/github/TomMaullin/BLMM-sandbox/blob/master/PLS_sandbox.ipynb\" target=\"_parent\"><img src=\"https://colab.research.google.com/assets/colab-badge.svg\" alt=\"Open In Colab\"/></a>"
      ]
    },
    {
      "cell_type": "markdown",
      "metadata": {
        "id": "TIMtrhFKB3Ay",
        "colab_type": "text"
      },
      "source": [
        "# PLS implementation in python\n",
        "\n",
        "This code implements the PLS algorithm for estimating the parameters of linear mixed effects models as described in [Bates (2015)](https://www.jstatsoft.org/article/view/v067i01/v67i01.pdf)."
      ]
    },
    {
      "cell_type": "markdown",
      "metadata": {
        "id": "GNFQ0-MpQuBm",
        "colab_type": "text"
      },
      "source": [
        "## Pip Installations\n",
        "\n",
        "Pip install everything.**bold text**"
      ]
    },
    {
      "cell_type": "code",
      "metadata": {
        "id": "UX02P0KvBWJr",
        "colab_type": "code",
        "outputId": "283df0f8-5ce1-4784-e064-c25f12513e6f",
        "colab": {
          "base_uri": "https://localhost:8080/",
          "height": 562
        }
      },
      "source": [
        "!pip install numpy\n",
        "!pip install cvxopt\n",
        "!pip install pandas\n",
        "!pip install scipy\n",
        "!pip install matplotlib\n",
        "!pip install sparse\n",
        "!pip install nilearn\n",
        "!pip install nibabel"
      ],
      "execution_count": 1,
      "outputs": [
        {
          "output_type": "stream",
          "text": [
            "Requirement already satisfied: numpy in /usr/local/lib/python3.6/dist-packages (1.16.4)\n",
            "Requirement already satisfied: cvxopt in /usr/local/lib/python3.6/dist-packages (1.2.3)\n",
            "Requirement already satisfied: pandas in /usr/local/lib/python3.6/dist-packages (0.24.2)\n",
            "Requirement already satisfied: pytz>=2011k in /usr/local/lib/python3.6/dist-packages (from pandas) (2018.9)\n",
            "Requirement already satisfied: python-dateutil>=2.5.0 in /usr/local/lib/python3.6/dist-packages (from pandas) (2.5.3)\n",
            "Requirement already satisfied: numpy>=1.12.0 in /usr/local/lib/python3.6/dist-packages (from pandas) (1.16.4)\n",
            "Requirement already satisfied: six>=1.5 in /usr/local/lib/python3.6/dist-packages (from python-dateutil>=2.5.0->pandas) (1.12.0)\n",
            "Requirement already satisfied: scipy in /usr/local/lib/python3.6/dist-packages (1.3.0)\n",
            "Requirement already satisfied: numpy>=1.13.3 in /usr/local/lib/python3.6/dist-packages (from scipy) (1.16.4)\n",
            "Requirement already satisfied: matplotlib in /usr/local/lib/python3.6/dist-packages (3.0.3)\n",
            "Requirement already satisfied: cycler>=0.10 in /usr/local/lib/python3.6/dist-packages (from matplotlib) (0.10.0)\n",
            "Requirement already satisfied: kiwisolver>=1.0.1 in /usr/local/lib/python3.6/dist-packages (from matplotlib) (1.1.0)\n",
            "Requirement already satisfied: numpy>=1.10.0 in /usr/local/lib/python3.6/dist-packages (from matplotlib) (1.16.4)\n",
            "Requirement already satisfied: pyparsing!=2.0.4,!=2.1.2,!=2.1.6,>=2.0.1 in /usr/local/lib/python3.6/dist-packages (from matplotlib) (2.4.2)\n",
            "Requirement already satisfied: python-dateutil>=2.1 in /usr/local/lib/python3.6/dist-packages (from matplotlib) (2.5.3)\n",
            "Requirement already satisfied: six in /usr/local/lib/python3.6/dist-packages (from cycler>=0.10->matplotlib) (1.12.0)\n",
            "Requirement already satisfied: setuptools in /usr/local/lib/python3.6/dist-packages (from kiwisolver>=1.0.1->matplotlib) (41.0.1)\n",
            "Requirement already satisfied: sparse in /usr/local/lib/python3.6/dist-packages (0.7.0)\n",
            "Requirement already satisfied: scipy>=0.19 in /usr/local/lib/python3.6/dist-packages (from sparse) (1.3.0)\n",
            "Requirement already satisfied: numba>=0.39 in /usr/local/lib/python3.6/dist-packages (from sparse) (0.40.1)\n",
            "Requirement already satisfied: numpy>=1.13 in /usr/local/lib/python3.6/dist-packages (from sparse) (1.16.4)\n",
            "Requirement already satisfied: llvmlite>=0.25.0dev0 in /usr/local/lib/python3.6/dist-packages (from numba>=0.39->sparse) (0.29.0)\n",
            "Requirement already satisfied: nilearn in /usr/local/lib/python3.6/dist-packages (0.5.2)\n",
            "Requirement already satisfied: nibabel>=2.0.2 in /usr/local/lib/python3.6/dist-packages (from nilearn) (2.3.3)\n",
            "Requirement already satisfied: numpy>=1.7.1 in /usr/local/lib/python3.6/dist-packages (from nibabel>=2.0.2->nilearn) (1.16.4)\n",
            "Requirement already satisfied: six>=1.3 in /usr/local/lib/python3.6/dist-packages (from nibabel>=2.0.2->nilearn) (1.12.0)\n",
            "Requirement already satisfied: bz2file in /usr/local/lib/python3.6/dist-packages (from nibabel>=2.0.2->nilearn) (0.98)\n",
            "Requirement already satisfied: nibabel in /usr/local/lib/python3.6/dist-packages (2.3.3)\n",
            "Requirement already satisfied: six>=1.3 in /usr/local/lib/python3.6/dist-packages (from nibabel) (1.12.0)\n",
            "Requirement already satisfied: numpy>=1.7.1 in /usr/local/lib/python3.6/dist-packages (from nibabel) (1.16.4)\n",
            "Requirement already satisfied: bz2file in /usr/local/lib/python3.6/dist-packages (from nibabel) (0.98)\n"
          ],
          "name": "stdout"
        }
      ]
    },
    {
      "cell_type": "markdown",
      "metadata": {
        "id": "q4JYRICVBtjl",
        "colab_type": "text"
      },
      "source": [
        "\n",
        "## Python Imports\n",
        "\n",
        "\n"
      ]
    },
    {
      "cell_type": "markdown",
      "metadata": {
        "id": "YkTBWbRKQ5ah",
        "colab_type": "text"
      },
      "source": [
        "We need:\n",
        " - `numpy` for matrix handling.\n",
        " - `scipy` for minimising the likelihood.\n",
        " - `cvxopt` for sparse cholesky.\n",
        " - `pandas` for quick reading and writing of csv files.\n",
        " - `os` for basic commandline functions\n",
        " - `time` for timing functions.\n",
        " - `matplotlib` for making displays"
      ]
    },
    {
      "cell_type": "code",
      "metadata": {
        "id": "tebSlxvBBruv",
        "colab_type": "code",
        "colab": {
          "base_uri": "https://localhost:8080/",
          "height": 72
        },
        "outputId": "8e3c8780-a3ce-4e88-ac66-c991d26cd78c"
      },
      "source": [
        "import numpy as np\n",
        "import cvxopt\n",
        "from cvxopt import cholmod, umfpack, amd, matrix, spmatrix, lapack\n",
        "import pandas as pd\n",
        "from scipy.optimize import root\n",
        "from scipy.optimize import minimize\n",
        "import scipy.sparse\n",
        "import os\n",
        "import time\n",
        "import matplotlib.pyplot as plt\n",
        "from matplotlib.pyplot import imshow\n",
        "import sparse\n",
        "import nibabel as nib\n",
        "import nilearn"
      ],
      "execution_count": 2,
      "outputs": [
        {
          "output_type": "stream",
          "text": [
            "/usr/local/lib/python3.6/dist-packages/sklearn/externals/joblib/__init__.py:15: DeprecationWarning: sklearn.externals.joblib is deprecated in 0.21 and will be removed in 0.23. Please import this functionality directly from joblib, which can be installed with: pip install joblib. If this warning is raised when loading pickled models, you may need to re-serialize those models with scikit-learn 0.21+.\n",
            "  warnings.warn(msg, category=DeprecationWarning)\n"
          ],
          "name": "stderr"
        }
      ]
    },
    {
      "cell_type": "markdown",
      "metadata": {
        "id": "ilAB3qmDMHa8",
        "colab_type": "text"
      },
      "source": [
        "## Helper Functions\n",
        "\n",
        "This section contains miscellaneous functions used to help the `PLS` function as well as the general manipulation of the Sparse Cholesky decomposition given by `cvxopt`.\n"
      ]
    },
    {
      "cell_type": "markdown",
      "metadata": {
        "id": "gOtDwtrfQk_Y",
        "colab_type": "text"
      },
      "source": [
        "\n",
        "### Sparse Cholesky Decomposition function\n",
        "\n",
        "This function takes in a square matrix **M** and outputs **P** and **L** from it's sparse cholesky decomposition of the form **PAP'=LL**'.\n",
        "\n",
        "Note: P is given as a permutation vector rather than a matrix.\n",
        " \n",
        "---\n",
        " \n",
        "The following inputs are required for this function:\n",
        "\n",
        "---\n",
        "\n",
        " - **M**: The matrix to be sparse cholesky decomposed as an spmatrix from the cvxopt package.\n",
        " - **perm**: Input permutation (*optional*, one will be calculated if not)\n",
        " - **retF**: Return the factorisation object or not\n",
        " - **retP**: Return the permutation or not\n",
        " - **retL**: Return the lower cholesky or not\n",
        "\n",
        "---"
      ]
    },
    {
      "cell_type": "code",
      "metadata": {
        "id": "DpyEbgrhNHzL",
        "colab_type": "code",
        "colab": {}
      },
      "source": [
        "def sparse_chol(M, perm=None, retF=False, retP=True, retL=True):\n",
        "\n",
        "    # Quick check that M is square\n",
        "    if M.size[0]!=M.size[1]:\n",
        "        raise Exception('M must be square.')\n",
        "\n",
        "    # Set the factorisation to use LL' instead of LDL'\n",
        "    cholmod.options['supernodal']=2\n",
        "\n",
        "    if not perm is None:\n",
        "        # Make an expression for the factorisation\n",
        "        F=cholmod.symbolic(M,p=perm)\n",
        "    else:\n",
        "        # Make an expression for the factorisation\n",
        "        F=cholmod.symbolic(M)\n",
        "\n",
        "    # Calculate the factorisation\n",
        "    cholmod.numeric(M, F)\n",
        "\n",
        "    # Empty factorisation object\n",
        "    factorisation = {}\n",
        "\n",
        "    if retF:\n",
        "\n",
        "        # Calculate the factorisation again (buggy if returning L for\n",
        "        # some reason)\n",
        "        F2=cholmod.symbolic(M,p=perm)\n",
        "        cholmod.numeric(M, F2)\n",
        "\n",
        "        # If we want to return the F object, add it to the dictionary\n",
        "        factorisation['F']=F2\n",
        "\n",
        "    if retP:\n",
        "\n",
        "        # Set p to [0,...,n-1]\n",
        "        P = cvxopt.matrix(range(M.size[0]), (M.size[0],1), tc='d')\n",
        "\n",
        "        # Solve and replace p with the true permutation used\n",
        "        cholmod.solve(F, P, sys=7)\n",
        "\n",
        "        # Convert p into an integer array; more useful that way\n",
        "        P=cvxopt.matrix(np.array(P).astype(np.int64),tc='i')\n",
        "\n",
        "        # If we want to return the permutation, add it to the dictionary\n",
        "        factorisation['P']=P\n",
        "\n",
        "    if retL:\n",
        "\n",
        "        # Get the sparse cholesky factor\n",
        "        L=cholmod.getfactor(F)\n",
        "        \n",
        "        # If we want to return the factor, add it to the dictionary\n",
        "        factorisation['L']=L\n",
        "\n",
        "    # Return P and L\n",
        "    return(factorisation)"
      ],
      "execution_count": 0,
      "outputs": []
    },
    {
      "cell_type": "markdown",
      "metadata": {
        "id": "8xYlGmnNNnit",
        "colab_type": "text"
      },
      "source": [
        "### Inverse mapping function\n",
        "\n",
        "This function takes in a lower triangular \n",
        "block diagonal matrix, lambda, and maps it to the original vector of parameters, theta.\n",
        "\n",
        "---\n",
        "The following inputs are required for this function:\n",
        "\n",
        "---\n",
        "\n",
        " - **Lambda**: The sparse lower triangular block diagonal matrix.\n",
        " \n",
        "---\n"
      ]
    },
    {
      "cell_type": "code",
      "metadata": {
        "id": "59GHirQ8OGe7",
        "colab_type": "code",
        "colab": {}
      },
      "source": [
        "def inv_mapping(Lambda):\n",
        "\n",
        "    # List the unique elements of lambda (in the\n",
        "    # correct order; pandas does this, numpy does\n",
        "    # not)\n",
        "    theta = pd.unique(list(cvxopt.spmatrix.trans(Lambda)))\n",
        "    return(theta)"
      ],
      "execution_count": 0,
      "outputs": []
    },
    {
      "cell_type": "markdown",
      "metadata": {
        "id": "bsYGm--5isJY",
        "colab_type": "text"
      },
      "source": [
        "### Calculate mapping function\n",
        "\n",
        "This function takes in a vector of parameters, theta, and returns indices which maps them the to lower triangular block diagonal matrix, lambda.\n",
        "\n",
        "---\n",
        "The following inputs are required for this function:\n",
        "\n",
        "---\n",
        "\n",
        " - **nlevels**: a vector of the number of levels for each grouping factor. e.g. nlevels=[10,2] means there are 10 levels for factor 1 and 2 levels for factor 2.\n",
        " - **nparams**: a vector of the number of variables for each grouping factor. e.g. nparams=[3,4] means there are 3 variables for factor 1 and 4 variables for factor 2.\n",
        "\n",
        "All arrays must be np arrays."
      ]
    },
    {
      "cell_type": "code",
      "metadata": {
        "id": "bgZfxqOUitYh",
        "colab_type": "code",
        "colab": {}
      },
      "source": [
        "def get_mapping(nlevels, nparams):\n",
        "\n",
        "    # Work out how many factors there are\n",
        "    n_f = len(nlevels)\n",
        "\n",
        "    # Quick check that nlevels and nparams are the same length\n",
        "    if len(nlevels)!=len(nparams):\n",
        "        raise Exception('The number of parameters and number of levels should be recorded for every grouping factor.')\n",
        "\n",
        "    # Work out how many lambda components needed for each factor\n",
        "    n_lamcomps = (np.multiply(nparams,(nparams+1))/2).astype(np.int64)\n",
        "\n",
        "    # Block index is the index of the next un-indexed diagonal element\n",
        "    # of Lambda\n",
        "    block_index = 0\n",
        "\n",
        "    # Row indices and column indices of theta\n",
        "    row_indices = np.array([])\n",
        "    col_indices = np.array([])\n",
        "\n",
        "    # This will have the values of theta repeated several times, once\n",
        "    # for each time each value of theta appears in lambda\n",
        "    theta_repeated_inds = np.array([])\n",
        "    \n",
        "    # Loop through factors generating the indices to map theta to.\n",
        "    for i in range(0,n_f):\n",
        "\n",
        "        # Work out the indices of a lower triangular matrix\n",
        "        # of size #variables(factor) by #variables(factor)\n",
        "        row_inds_tri, col_inds_tri = np.tril_indices(nparams[i])\n",
        "\n",
        "        # Work out theta for this block\n",
        "        theta_current_inds = np.arange(np.sum(n_lamcomps[0:i]),np.sum(n_lamcomps[0:(i+1)]))\n",
        "\n",
        "        # Work out the repeated theta\n",
        "        theta_repeated_inds = np.hstack((theta_repeated_inds, np.tile(theta_current_inds, nlevels[i])))\n",
        "\n",
        "        # For each level of the factor we must repeat the lower\n",
        "        # triangular matrix\n",
        "        for j in range(0,nlevels[i]):\n",
        "\n",
        "            # Append the row/column indices to the running list\n",
        "            row_indices = np.hstack((row_indices, (row_inds_tri+block_index)))\n",
        "            col_indices = np.hstack((col_indices, (col_inds_tri+block_index)))\n",
        "\n",
        "            # Move onto the next block\n",
        "            block_index = block_index + nparams[i]\n",
        "\n",
        "    # Create lambda as a sparse matrix\n",
        "    #lambda_theta = spmatrix(theta_repeated.tolist(), row_indices.astype(np.int64), col_indices.astype(np.int64))\n",
        "\n",
        "    # Return lambda\n",
        "    return(theta_repeated_inds, row_indices, col_indices)"
      ],
      "execution_count": 0,
      "outputs": []
    },
    {
      "cell_type": "markdown",
      "metadata": {
        "id": "vdRkv7PrrgsI",
        "colab_type": "text"
      },
      "source": [
        "### Apply mapping function\n",
        "\n",
        "The below function applies a mapping to a vector of parameters.\n",
        "\n",
        "---\n",
        "The following inputs are required for this function:\n",
        "\n",
        "---\n",
        "\n",
        " - **theta**: the vector of theta parameters.\n",
        " - **theta_inds**: A vector specifying how many times each theta parameter should be repeated. For example, if theta=[0.1,0.8,0.3] and theta_inds=[1,1,1,2,3,3], then the values to be mapped into the sparse matrix would be [0.1,0.1,0.1,0.8,0.3,0.3].\n",
        " - **r_inds**: The row indices of the elements mapped into the sparse matrix.\n",
        " - **c_inds**: The column indices of the elements mapped into the sparse matrix.\n",
        "\n"
      ]
    },
    {
      "cell_type": "code",
      "metadata": {
        "id": "AxUv8_r0rhFv",
        "colab_type": "code",
        "colab": {}
      },
      "source": [
        "def mapping(theta, theta_inds, r_inds, c_inds):\n",
        "\n",
        "    return(spmatrix(theta[theta_inds.astype(np.int64)].tolist(), r_inds.astype(np.int64), c_inds.astype(np.int64)))\n",
        "    \n"
      ],
      "execution_count": 0,
      "outputs": []
    },
    {
      "cell_type": "markdown",
      "metadata": {
        "id": "AS5zhoWCDZ8E",
        "colab_type": "text"
      },
      "source": [
        "## Toy Dataset\n",
        "\n",
        "This section read ins and formats a toy dataset. The files used here were generated in `R` and with **True** values (those with postfix `True`) being those used to generate the data and **Estimated** (those with postfix `REst`) values being the estimates `R`'s `lmer` package generated from this data."
      ]
    },
    {
      "cell_type": "code",
      "metadata": {
        "id": "qy39zwuhkn4C",
        "colab_type": "code",
        "colab": {}
      },
      "source": [
        "# Make a data directory\n",
        "if not os.path.isdir('/Data'):\n",
        "  os.mkdir('/Data')\n",
        "  \n",
        "os.chdir('/Data')\n",
        "\n",
        "# Clone small git repo containg some csv files.\n",
        "if not os.path.isdir('/Data/BLMM-testdata'):\n",
        "  !git clone https://github.com/TomMaullin/BLMM-testdata.git\n",
        "  "
      ],
      "execution_count": 0,
      "outputs": []
    },
    {
      "cell_type": "markdown",
      "metadata": {
        "id": "2EWsCZjCQcc9",
        "colab_type": "text"
      },
      "source": [
        "\n",
        "### Z matrix\n",
        "\n",
        "The below reads in Z and makes an image of Z transpose.\n"
      ]
    },
    {
      "cell_type": "code",
      "metadata": {
        "id": "aoKOwHqcEKDT",
        "colab_type": "code",
        "outputId": "a9308826-d430-4d61-b0ad-5d249666d91e",
        "colab": {
          "base_uri": "https://localhost:8080/",
          "height": 286
        }
      },
      "source": [
        "# Read in random effects design matrix and convert it into it's sparse format in\n",
        "# cvxopt.\n",
        "Z_3col=pd.read_csv('/Data/BLMM-testdata/Z_3col.csv',header=None).values\n",
        "Z = cvxopt.spmatrix(Z_3col[:,2].tolist(), (Z_3col[:,0]-1).astype(np.int64), \\\n",
        "                    (Z_3col[:,1]-1).astype(np.int64))\n",
        "\n",
        "# Create an image of Z'\n",
        "imshow(np.array(cvxopt.matrix(cvxopt.spmatrix.trans(Z))), \\\n",
        "       interpolation='nearest', vmin=-5, vmax=5, aspect='auto')\n",
        "\n"
      ],
      "execution_count": 8,
      "outputs": [
        {
          "output_type": "execute_result",
          "data": {
            "text/plain": [
              "<matplotlib.image.AxesImage at 0x7fa0eca65ba8>"
            ]
          },
          "metadata": {
            "tags": []
          },
          "execution_count": 8
        },
        {
          "output_type": "display_data",
          "data": {
            "image/png": "[encoded data removed]",
            "text/plain": [
              "<Figure size 432x288 with 1 Axes>"
            ]
          },
          "metadata": {
            "tags": []
          }
        }
      ]
    },
    {
      "cell_type": "markdown",
      "metadata": {
        "id": "rkd2LdwKLWtP",
        "colab_type": "text"
      },
      "source": [
        "### Estimated Random Effects matrix\n",
        "\n",
        "The below reads in the Random effects variance predicted by `R`'s `lmer`."
      ]
    },
    {
      "cell_type": "code",
      "metadata": {
        "id": "tOqQRAROqdkv",
        "colab_type": "code",
        "colab": {}
      },
      "source": [
        "# Read in estimated variance\n",
        "RFXVar_REst =pd.read_csv('/Data/BLMM-testdata/estd_rfxvar.csv',header=None).values\n",
        "\n",
        "# The RFX variance was stored in a strange way so we need to reformat slightly\n",
        "RFXVar_REst = spmatrix(RFXVar_REst[RFXVar_REst!=0],[0,0,1,1,2,2,3,3],[0,1,0,1,2,3,2,3])"
      ],
      "execution_count": 0,
      "outputs": []
    },
    {
      "cell_type": "markdown",
      "metadata": {
        "id": "eKE_Rr53qeHx",
        "colab_type": "text"
      },
      "source": [
        "### Estimated Theta\n",
        "\n",
        "The below calculates and outputs the `theta` parameter values which `lmer` estimated."
      ]
    },
    {
      "cell_type": "code",
      "metadata": {
        "id": "DeaYoXU0Lnlr",
        "colab_type": "code",
        "outputId": "0c4d2905-6095-445a-8d08-190b341f4767",
        "colab": {
          "base_uri": "https://localhost:8080/",
          "height": 34
        }
      },
      "source": [
        "# We now need the Sparse Cholesky decomposition of the RFX variance to obtain \n",
        "# the theta values.\n",
        "f = sparse_chol(RFXVar_REst)\n",
        "\n",
        "# We map the L matrix from the decomposition to theta\n",
        "theta_REst = inv_mapping(f['L'])\n",
        "\n",
        "# This is the desired outcome/theta value of the PLS algorithm. It should match \n",
        "# the R output.\n",
        "print(theta_REst)"
      ],
      "execution_count": 10,
      "outputs": [
        {
          "output_type": "stream",
          "text": [
            "[ 1.11365482  0.32356815  2.22872418  4.54822071 -0.17500295  0.42370817]\n"
          ],
          "name": "stdout"
        }
      ]
    },
    {
      "cell_type": "markdown",
      "metadata": {
        "id": "RStOLwF_LlTE",
        "colab_type": "text"
      },
      "source": [
        "### Y vector\n",
        "\n",
        "The response vector is read in here:"
      ]
    },
    {
      "cell_type": "code",
      "metadata": {
        "id": "DG8eWNdpPQOs",
        "colab_type": "code",
        "colab": {}
      },
      "source": [
        "Y=matrix(pd.read_csv('/Data/BLMM-testdata/Y.csv',header=None).values)"
      ],
      "execution_count": 0,
      "outputs": []
    },
    {
      "cell_type": "markdown",
      "metadata": {
        "id": "RHm6DjdbPTvg",
        "colab_type": "text"
      },
      "source": [
        "### X matrix\n",
        "\n",
        "The fixed effects design matrix is read in here. It consists of an intercept and two random (Gaussian) columns.\n"
      ]
    },
    {
      "cell_type": "code",
      "metadata": {
        "id": "xqTKH4n_Po8e",
        "colab_type": "code",
        "outputId": "900913cd-752e-406a-aec8-0f8473394cb5",
        "colab": {
          "base_uri": "https://localhost:8080/",
          "height": 286
        }
      },
      "source": [
        "X=matrix(pd.read_csv('/Data/BLMM-testdata/X.csv',header=None).values)\n",
        "\n",
        "# Image of the first 20 rows of X\n",
        "imshow(X[1:20,:])"
      ],
      "execution_count": 12,
      "outputs": [
        {
          "output_type": "execute_result",
          "data": {
            "text/plain": [
              "<matplotlib.image.AxesImage at 0x7fa0ea9746a0>"
            ]
          },
          "metadata": {
            "tags": []
          },
          "execution_count": 12
        },
        {
          "output_type": "display_data",
          "data": {
            "image/png": "[encoded data removed]",
            "text/plain": [
              "<Figure size 432x288 with 1 Axes>"
            ]
          },
          "metadata": {
            "tags": []
          }
        }
      ]
    },
    {
      "cell_type": "markdown",
      "metadata": {
        "id": "W_sXGD8qzskp",
        "colab_type": "text"
      },
      "source": [
        "### Number of Levels and Parameters\n",
        "\n",
        "The number of levels is given by a vector with one entry for each grouping factor. e.g. nlevels=[10,2] means there are 10 levels for factor 1 and 2 levels for factor 2. \n",
        "\n",
        "The number of parameters is given by a vector with one entry for each grouping factor. e.g. nparams=[3,4] means there are 3 variables for factor 1 and 4 variables for factor 2."
      ]
    },
    {
      "cell_type": "code",
      "metadata": {
        "id": "_e5bUA2DztCf",
        "colab_type": "code",
        "colab": {}
      },
      "source": [
        "nlevels = np.array([20,3])\n",
        "nparams = np.array([2,2])"
      ],
      "execution_count": 0,
      "outputs": []
    },
    {
      "cell_type": "markdown",
      "metadata": {
        "id": "0byKXygpCa1P",
        "colab_type": "text"
      },
      "source": [
        "### True b values\n",
        "\n",
        "The true recorded values of the random effects b vector in this example."
      ]
    },
    {
      "cell_type": "code",
      "metadata": {
        "id": "LzwuuWSdCbCJ",
        "colab_type": "code",
        "colab": {}
      },
      "source": [
        "b_True=matrix(pd.read_csv('/Data/BLMM-testdata/true_b.csv',header=None).values)"
      ],
      "execution_count": 0,
      "outputs": []
    },
    {
      "cell_type": "markdown",
      "metadata": {
        "id": "Bvfns6c-CbPd",
        "colab_type": "text"
      },
      "source": [
        "### True beta values\n",
        "\n",
        "The true fixed effects parameters used to generate this example."
      ]
    },
    {
      "cell_type": "code",
      "metadata": {
        "id": "mlvolWwvCbbP",
        "colab_type": "code",
        "colab": {}
      },
      "source": [
        "beta_True=matrix(pd.read_csv('/Data/BLMM-testdata/true_beta.csv',header=None).values)"
      ],
      "execution_count": 0,
      "outputs": []
    },
    {
      "cell_type": "markdown",
      "metadata": {
        "id": "BjWoiZtYyuRh",
        "colab_type": "text"
      },
      "source": [
        "### Product Matrices\n",
        "\n",
        "It is useful to calculate all product of matrices before hand as it is both more computationally efficient and also similar to the setting we are interested in. In `cvxopt`, transposing matrices is surprisingly costly in terms of time so even transposes are calculated here to save them having to be recalculated during each iteration of the minimisation."
      ]
    },
    {
      "cell_type": "code",
      "metadata": {
        "id": "UMX_8BRYzFhN",
        "colab_type": "code",
        "colab": {}
      },
      "source": [
        "# Z tranpose X\n",
        "ZtX=cvxopt.spmatrix.trans(Z)*X\n",
        "\n",
        "# Z tranpose Y\n",
        "ZtY=cvxopt.spmatrix.trans(Z)*Y\n",
        "\n",
        "# X tranpose X\n",
        "XtX=cvxopt.matrix.trans(X)*X\n",
        "\n",
        "# Z tranpose Z\n",
        "ZtZ=cvxopt.spmatrix.trans(Z)*Z\n",
        "\n",
        "# X tranpose Y\n",
        "XtY=cvxopt.matrix.trans(X)*Y\n",
        "\n",
        "# Y tranpose X\n",
        "YtX=cvxopt.matrix.trans(Y)*X\n",
        "\n",
        "# Y transpose Z\n",
        "YtZ=cvxopt.matrix.trans(Y)*Z\n",
        "\n",
        "# X tranpose Z\n",
        "XtZ=cvxopt.matrix.trans(X)*Z\n",
        "\n",
        "# Y tranpose Y\n",
        "YtY=cvxopt.matrix.trans(Y)*Y"
      ],
      "execution_count": 0,
      "outputs": []
    },
    {
      "cell_type": "markdown",
      "metadata": {
        "id": "RhOHZ6F2DU5e",
        "colab_type": "text"
      },
      "source": [
        "## Calculating the Minimised Log-Likelihood\n",
        "\n",
        "To calculate the minimised log-likelihood the method given by Bates (2015) is used. This involves minimising for a parameter vector theta, a penalized least squares function which is based on the sparse cholesky decomposition."
      ]
    },
    {
      "cell_type": "markdown",
      "metadata": {
        "id": "jVtC2_vLtsY2",
        "colab_type": "text"
      },
      "source": [
        "### PLS function\n",
        "\n",
        "This function calculates the log likelihood value for parameter vector theta using **P**enalized **L**east **S**quares..\n",
        "\n",
        "---\n",
        "\n",
        "The following inputs are required for this function:\n",
        "\n",
        "---\n",
        "\n",
        " - **theta**: The parameter estimate.\n",
        " - **ZtX**: Z transpose multiplied by X.\n",
        " - **ZtY**: Z transpose multiplied by Y.\n",
        " - **XtX**: X transpose multiplied by X.\n",
        " - **ZtZ**: Z transpose multiplied by Z.\n",
        " - **XtY**: X transpose multiplied by Y.\n",
        " - **YtX**: Y transpose multiplied by X.\n",
        " - **YtZ**: Y transpose multiplied by Z.\n",
        " - **XtZ**: X transpose multiplied by Z.\n",
        " - **YtY**: Y transpose multiplied by Y.\n",
        " - **P**: The sparse permutation for Lamda'Z'ZLambda+I\n",
        " - **tinds**: A vector specifying how many times each theta parameter should be repeated. For example, if theta=[0.1,0.8,0.3] and theta_inds=[1,1,1,2,3,3], then the values to be mapped into the sparse matrix would be [0.1,0.1,0.1,0.8,0.3,0.3].\n",
        " - **r_inds**: The row indices of the elements mapped into the sparse matrix.\n",
        " - **c_inds**: The column indices of the elements mapped into the sparse matrix."
      ]
    },
    {
      "cell_type": "code",
      "metadata": {
        "id": "PR3bUshSts74",
        "colab_type": "code",
        "colab": {}
      },
      "source": [
        "def PLS(theta, ZtX, ZtY, XtX, ZtZ, XtY, YtX, YtZ, XtZ, YtY, P, tinds, rinds, cinds):\n",
        "\n",
        "    # Obtain Lambda\n",
        "    Lambda = mapping(theta, tinds, rinds, cinds)\n",
        "    \n",
        "    # Obtain Lambda'\n",
        "    Lambdat = spmatrix.trans(Lambda)\n",
        "\n",
        "    # Obtain Lambda'Z'Y and Lambda'Z'X\n",
        "    LambdatZtY = Lambdat*ZtY\n",
        "    LambdatZtX = Lambdat*ZtX\n",
        "    \n",
        "    # Set the factorisation to use LL' instead of LDL'\n",
        "    cholmod.options['supernodal']=2\n",
        "\n",
        "    # Obtain the cholesky decomposition\n",
        "    LambdatZtZLambda = Lambdat*ZtZ*Lambda\n",
        "    I = spmatrix(1.0, range(Lambda.size[0]), range(Lambda.size[0]))\n",
        "    chol_dict = sparse_chol(LambdatZtZLambda+I, perm=P, retF=True, retP=False, retL=False)\n",
        "    F = chol_dict['F']\n",
        "\n",
        "    # Obtain C_u (annoyingly solve writes over the second argument,\n",
        "    # whereas spsolve outputs)\n",
        "    Cu = LambdatZtY[P,:]\n",
        "    cholmod.solve(F,Cu,sys=4)\n",
        "\n",
        "    # Obtain RZX\n",
        "    RZX = LambdatZtX[P,:]\n",
        "    cholmod.solve(F,RZX,sys=4)\n",
        "\n",
        "    # Obtain RXtRX\n",
        "    RXtRX = XtX - matrix.trans(RZX)*RZX\n",
        "\n",
        "    # Obtain beta estimates (note: gesv also replaces the second\n",
        "    # argument)\n",
        "    betahat = XtY - matrix.trans(RZX)*Cu\n",
        "    lapack.posv(RXtRX, betahat)\n",
        "\n",
        "    # Obtain u estimates\n",
        "    uhat = Cu-RZX*betahat\n",
        "    cholmod.solve(F,uhat,sys=5)\n",
        "    cholmod.solve(F,uhat,sys=8)\n",
        "\n",
        "    # Obtain b estimates\n",
        "    bhat = Lambda*uhat\n",
        "\n",
        "    # Obtain residuals sum of squares\n",
        "    resss = YtY-2*YtX*betahat-2*YtZ*bhat+2*matrix.trans(betahat)*XtZ*bhat+matrix.trans(betahat)*XtX*betahat+matrix.trans(bhat)*ZtZ*bhat\n",
        "\n",
        "    # Obtain penalised residual sum of squares\n",
        "    pss = resss + matrix.trans(uhat)*uhat\n",
        "\n",
        "    # Obtain Log(|L|^2)\n",
        "    logdet = 2*sum(cvxopt.log(cholmod.diag(F)))\n",
        "\n",
        "    # Obtain log likelihood\n",
        "    logllh = -logdet/2-X.size[0]/2*(1+np.log(2*np.pi*pss)-np.log(X.size[0]))\n",
        "\n",
        "    return(-logllh[0,0])"
      ],
      "execution_count": 0,
      "outputs": []
    },
    {
      "cell_type": "markdown",
      "metadata": {
        "id": "NzkEDjxsxHCl",
        "colab_type": "text"
      },
      "source": [
        "## Minimising the Log-Likelihood\n",
        "\n",
        "To minimise the log-likelihood  we use the `scipy optimize` functions on the PLS algorithm. "
      ]
    },
    {
      "cell_type": "code",
      "metadata": {
        "id": "UwPiugXwyFpW",
        "colab_type": "code",
        "outputId": "d91bf13a-2cda-4cad-b59e-f6e0498d874d",
        "colab": {
          "base_uri": "https://localhost:8080/",
          "height": 369
        }
      },
      "source": [
        "# Initial theta value. Bates (2005) suggests using vec(I) where I is the identity matrix\n",
        "theta0=np.array([1,0,1,1,0,1])\n",
        "\n",
        "# Obtain a random Lambda matrix with the correct sparsity for the permutation vector\n",
        "tinds,rinds,cinds=get_mapping(nlevels, nparams)\n",
        "Lam=mapping(np.random.randn(6),tinds,rinds,cinds)\n",
        "\n",
        "# Obtain Lambda'Z'ZLambda\n",
        "LamtZt = spmatrix.trans(Lam)*spmatrix.trans(Z)\n",
        "LamtZtZLam = LamtZt*spmatrix.trans(LamtZt)\n",
        "\n",
        "# Obtaining permutation for PLS\n",
        "P=cvxopt.amd.order(LamtZtZLam)\n",
        "\n",
        "# Obtain estimate using `Nelder-Mead`\n",
        "theta_Est_nm=minimize(PLS, theta0, args=(ZtX, ZtY, XtX, ZtZ, XtY, YtX, YtZ, XtZ, YtY ,P,tinds, rinds, cinds), method='Nelder-Mead', tol=1e-6).x\n",
        "\n",
        "# Obtain estimate using `Powell`\n",
        "theta_Est_pow=minimize(PLS, theta0, args=(ZtX, ZtY, XtX, ZtZ, XtY, YtX, YtZ, XtZ, YtY ,P,tinds, rinds, cinds), method='Powell', tol=1e-6).x\n",
        "\n",
        "# Obtain estimate using `CG`\n",
        "theta_Est_cg=minimize(PLS, theta0, args=(ZtX, ZtY, XtX, ZtZ, XtY, YtX, YtZ, XtZ, YtY ,P,tinds, rinds, cinds), method='CG', tol=1e-6).x\n",
        "\n",
        "# Obtain estimate using `BFGS`\n",
        "theta_Est_bfgs=minimize(PLS, theta0, args=(ZtX, ZtY, XtX, ZtZ, XtY, YtX, YtZ, XtZ, YtY ,P,tinds, rinds, cinds), method='BFGS', tol=1e-6).x\n",
        "\n",
        "# Obtain estimate using `L-BFGS-B`\n",
        "theta_Est_lbfgsb=minimize(PLS, theta0, args=(ZtX, ZtY, XtX, ZtZ, XtY, YtX, YtZ, XtZ, YtY ,P,tinds, rinds, cinds), method='L-BFGS-B', tol=1e-6).x\n",
        "\n",
        "# Obtain estimate using `TNC`\n",
        "theta_Est_tnc=minimize(PLS, theta0, args=(ZtX, ZtY, XtX, ZtZ, XtY, YtX, YtZ, XtZ, YtY ,P,tinds, rinds, cinds), method='TNC', tol=1e-6).x\n",
        "\n",
        "# Obtain estimate using `COBYLA`\n",
        "theta_Est_cobyla=minimize(PLS, theta0, args=(ZtX, ZtY, XtX, ZtZ, XtY, YtX, YtZ, XtZ, YtY ,P,tinds, rinds, cinds), method='COBYLA', tol=1e-6).x\n",
        "\n",
        "# Obtain estimate using `SLSQP`\n",
        "theta_Est_slsqp=minimize(PLS, theta0, args=(ZtX, ZtY, XtX, ZtZ, XtY, YtX, YtZ, XtZ, YtY ,P,tinds, rinds, cinds), method='SLSQP', tol=1e-6).x\n",
        "\n",
        "# Obtain estimate using `trust-constr`\n",
        "theta_Est_trcon=minimize(PLS, theta0, args=(ZtX, ZtY, XtX, ZtZ, XtY, YtX, YtZ, XtZ, YtY ,P,tinds, rinds, cinds), method='trust-constr', tol=1e-6).x\n",
        "\n",
        "# Print lmer estimate\n",
        "print('Lmer Estimate')\n",
        "print(theta_REst)\n",
        "\n",
        "# Print estimates\n",
        "print('Nelder-Mead Python Estimate')\n",
        "print(theta_Est_nm)\n",
        "print('Powell Python Estimate')\n",
        "print(theta_Est_pow)\n",
        "print('CG Python Estimate')\n",
        "print(theta_Est_cg)\n",
        "print('BFGS Python Estimate')\n",
        "print(theta_Est_bfgs)\n",
        "print('L-BFGS-B Python Estimate')\n",
        "print(theta_Est_lbfgsb)\n",
        "print('TNC Python Estimate')\n",
        "print(theta_Est_tnc)\n",
        "print('COBYLA Python Estimate')\n",
        "print(theta_Est_cobyla)\n",
        "print('SLSQP Python Estimate')\n",
        "print(theta_Est_slsqp)\n",
        "print('trust-constr Python Estimate')\n",
        "print(theta_Est_trcon)\n"
      ],
      "execution_count": 18,
      "outputs": [
        {
          "output_type": "stream",
          "text": [
            "Lmer Estimate\n",
            "[ 1.11365482  0.32356815  2.22872418  4.54822071 -0.17500295  0.42370817]\n",
            "Nelder-Mead Python Estimate\n",
            "[ 1.11126692  0.32241667  2.22404676  4.53974109 -0.1746667   0.42288782]\n",
            "Powell Python Estimate\n",
            "[ 1.1112632   0.32241717  2.22404931  4.53966449 -0.17465885 -0.42289267]\n",
            "CG Python Estimate\n",
            "[ 1.11187291  0.32476648  2.22266278  4.41336705 -0.16554107  0.4247196 ]\n",
            "BFGS Python Estimate\n",
            "[ 1.11169947  0.32258166  2.22494603  4.57612851 -0.17720115  0.42339598]\n",
            "L-BFGS-B Python Estimate\n",
            "[ 1.11343291  0.3213067   2.23080559  4.54830593 -0.16751323  0.42602596]\n",
            "TNC Python Estimate\n",
            "[ 1.10623504  0.16487256  2.25091699  4.56264169 -0.15950864 -0.42704138]\n",
            "COBYLA Python Estimate\n",
            "[ 1.11116203  0.32251513  2.22404271  4.52306875 -0.17353927  0.42305785]\n",
            "SLSQP Python Estimate\n",
            "[ 1.1115014   0.31759479  2.22422635  4.42822417 -0.16586302 -0.42316456]\n",
            "trust-constr Python Estimate\n",
            "[ 1.11130388  0.32632481  2.22576667  4.54084609 -0.17259623  0.42390698]\n"
          ],
          "name": "stdout"
        }
      ]
    },
    {
      "cell_type": "markdown",
      "metadata": {
        "id": "HxNYlQkQ_asL",
        "colab_type": "text"
      },
      "source": [
        "### Time efficiency\n",
        "\n",
        "The below runs each method 100 times and works out the average time taken to produce the estimates. In this example, it is clear that `Powell` performs much quicker than `Nelder-Mead`. From now on, in the following sections `Powell` is the default method used."
      ]
    },
    {
      "cell_type": "code",
      "metadata": {
        "id": "MYq_1-3U_nMn",
        "colab_type": "code",
        "outputId": "f6effde8-3a4e-4e2d-b1c5-ba9c708e0eec",
        "colab": {
          "base_uri": "https://localhost:8080/",
          "height": 334
        }
      },
      "source": [
        "# Average time\n",
        "time_nm = 0;\n",
        "time_p = 0;\n",
        "time_cg = 0;\n",
        "time_bfgs = 0;\n",
        "time_lbfgsb = 0;\n",
        "time_tnc = 0;\n",
        "time_cobyla = 0;\n",
        "time_slsqp = 0;\n",
        "time_trcon = 0;\n",
        "\n",
        "# Number of iterations\n",
        "n = 100;\n",
        "\n",
        "for i in range(n):\n",
        "  \n",
        "  # Obtain estimate using `Nelder-Mead`\n",
        "  t1 = time.time()\n",
        "  theta_Est_nm=minimize(PLS, theta0, args=(ZtX, ZtY, XtX, ZtZ, XtY, YtX, YtZ, XtZ, YtY ,P,tinds, rinds, cinds), method='Nelder-Mead', tol=1e-6).x\n",
        "  t2 = time.time()\n",
        "  time_nm = time_nm + t2 - t1\n",
        "  \n",
        "  # Obtain estimate using `Powell`\n",
        "  t1 = time.time()\n",
        "  theta_Est_p=minimize(PLS, theta0, args=(ZtX, ZtY, XtX, ZtZ, XtY, YtX, YtZ, XtZ, YtY ,P,tinds, rinds, cinds), method='Powell', tol=1e-6).x\n",
        "  t2 = time.time()\n",
        "  time_p = time_p + t2 - t1\n",
        "  \n",
        "  # Obtain estimate using `CG`\n",
        "  t1 = time.time()\n",
        "  theta_Est_cg=minimize(PLS, theta0, args=(ZtX, ZtY, XtX, ZtZ, XtY, YtX, YtZ, XtZ, YtY ,P,tinds, rinds, cinds), method='CG', tol=1e-6).x\n",
        "  t2 = time.time()\n",
        "  time_cg = time_cg + t2 - t1\n",
        "  \n",
        "  # Obtain estimate using `BFGS`\n",
        "  t1 = time.time()\n",
        "  theta_Est_bfgs=minimize(PLS, theta0, args=(ZtX, ZtY, XtX, ZtZ, XtY, YtX, YtZ, XtZ, YtY ,P,tinds, rinds, cinds), method='BFGS', tol=1e-6).x\n",
        "  t2 = time.time()\n",
        "  time_bfgs = time_bfgs + t2 - t1\n",
        "  \n",
        "  # Obtain estimate using `L-BFGS-B`\n",
        "  t1 = time.time()\n",
        "  theta_Est_lbfgsb=minimize(PLS, theta0, args=(ZtX, ZtY, XtX, ZtZ, XtY, YtX, YtZ, XtZ, YtY ,P,tinds, rinds, cinds), method='L-BFGS-B', tol=1e-6).x\n",
        "  t2 = time.time()\n",
        "  time_lbfgsb = time_lbfgsb + t2 - t1\n",
        "\n",
        "  # Obtain estimate using `TNC`\n",
        "  t1 = time.time()\n",
        "  theta_Est_tnc=minimize(PLS, theta0, args=(ZtX, ZtY, XtX, ZtZ, XtY, YtX, YtZ, XtZ, YtY ,P,tinds, rinds, cinds), method='TNC', tol=1e-6).x\n",
        "  t2 = time.time()\n",
        "  time_tnc = time_tnc + t2 - t1\n",
        "  \n",
        "  # Obtain estimate using `COBYLA`\n",
        "  t1 = time.time()\n",
        "  theta_Est_cobyla=minimize(PLS, theta0, args=(ZtX, ZtY, XtX, ZtZ, XtY, YtX, YtZ, XtZ, YtY ,P,tinds, rinds, cinds), method='COBYLA', tol=1e-6).x\n",
        "  t2 = time.time()\n",
        "  time_cobyla = time_cobyla + t2 - t1\n",
        "  \n",
        "  # Obtain estimate using `SLSQP`\n",
        "  t1 = time.time()\n",
        "  theta_Est_slsqp=minimize(PLS, theta0, args=(ZtX, ZtY, XtX, ZtZ, XtY, YtX, YtZ, XtZ, YtY ,P,tinds, rinds, cinds), method='SLSQP', tol=1e-6).x\n",
        "  t2 = time.time()\n",
        "  time_slsqp = time_slsqp + t2 - t1\n",
        "\n",
        "  # Obtain estimate using `trust-constr`\n",
        "  t1 = time.time()\n",
        "  theta_Est_trcon=minimize(PLS, theta0, args=(ZtX, ZtY, XtX, ZtZ, XtY, YtX, YtZ, XtZ, YtY ,P,tinds, rinds, cinds), method='trust-constr', tol=1e-6).x\n",
        "  t2 = time.time()\n",
        "  time_trcon = time_trcon + t2 - t1\n",
        "\n",
        "  \n",
        "\n",
        "# Convert to averages\n",
        "time_nm = time_nm/n\n",
        "time_p = time_p/n\n",
        "time_cg = time_cg/n\n",
        "time_bfgs = time_bfgs/n\n",
        "time_lbfgsb = time_lbfgsb/n\n",
        "time_tnc = time_tnc/n\n",
        "time_cobyla = time_cobyla/n\n",
        "time_slsqp = time_slsqp/n\n",
        "time_trcon = time_trcon/n\n",
        "\n",
        "# Print\n",
        "print('Average Nelder-Mead estimation time:')\n",
        "print(time_nm)\n",
        "print('Average Powell estimation time:')\n",
        "print(time_p)\n",
        "print('Average CG estimation time:')\n",
        "print(time_cg)\n",
        "print('Average BFGS estimation time:')\n",
        "print(time_bfgs)\n",
        "print('Average L-BFGS-B estimation time:')\n",
        "print(time_lbfgsb)\n",
        "print('Average TNC estimation time:')\n",
        "print(time_tnc)\n",
        "print('Average COBYLA estimation time:')\n",
        "print(time_cobyla)\n",
        "print('Average SLSQP estimation time:')\n",
        "print(time_slsqp)\n",
        "print('Average trust-contstr estimation time:')\n",
        "print(time_trcon)"
      ],
      "execution_count": 19,
      "outputs": [
        {
          "output_type": "stream",
          "text": [
            "Average Nelder-Mead estimation time:\n",
            "0.4921038866043091\n",
            "Average Powell estimation time:\n",
            "0.19121604919433594\n",
            "Average CG estimation time:\n",
            "0.41337176561355593\n",
            "Average BFGS estimation time:\n",
            "0.35944594860076906\n",
            "Average L-BFGS-B estimation time:\n",
            "0.039960277080535886\n",
            "Average TNC estimation time:\n",
            "0.2796543264389038\n",
            "Average COBYLA estimation time:\n",
            "0.34834303855896\n",
            "Average SLSQP estimation time:\n",
            "0.055256614685058596\n",
            "Average trust-contstr estimation time:\n",
            "0.26811991930007933\n"
          ],
          "name": "stdout"
        }
      ]
    },
    {
      "cell_type": "markdown",
      "metadata": {
        "id": "_Nazpuh-A5vx",
        "colab_type": "text"
      },
      "source": [
        "## Scaling up the computation (Two voxels)\n",
        "\n",
        "This section has several implemented ideas for scaling up the computation to compute several similar models at once. For simplicity it is assumed here that X and Z are the same across voxels."
      ]
    },
    {
      "cell_type": "markdown",
      "metadata": {
        "id": "enYnjHWXBVmO",
        "colab_type": "text"
      },
      "source": [
        "### Toy data for Neighbouring voxel\n",
        "\n",
        "To assess the potential of the following ideas a toy data example is created below. The idea behind this is that we wish to calculate both the model in the example used in the previous sections and, additionally a similar model from a neighbouring voxel (variables related to the neighbouring voxel will have postfix `_n`). \n",
        "\n",
        "This is not a rigourous test, but just a toy example to see if we can lower the computational time in an example vaguely similar to what we may expect in reality."
      ]
    },
    {
      "cell_type": "markdown",
      "metadata": {
        "id": "mzUVeNWeDLmy",
        "colab_type": "text"
      },
      "source": [
        "#### Beta vector\n",
        "\n",
        "In a neighbouring voxel, we would expect similar Beta values but not necessarily the same. To simulate this, I have added some normal noise with variance, 1/2, to the original beta values to obtain a new beta value."
      ]
    },
    {
      "cell_type": "code",
      "metadata": {
        "id": "5hKzWuueBbeI",
        "colab_type": "code",
        "outputId": "6fbd1a7d-616c-4f27-e8f2-b0614029d46b",
        "colab": {
          "base_uri": "https://localhost:8080/",
          "height": 193
        }
      },
      "source": [
        "# Given a beta vector this function makes a beta \n",
        "# vector for the neighbouring voxel\n",
        "def beta_n(beta):\n",
        "  return(beta + cvxopt.normal(beta.size[0],1)/np.sqrt(2))\n",
        "\n",
        "# Example\n",
        "beta_True_n = beta_n(beta_True)\n",
        "  \n",
        "# print betas for comparison\n",
        "print(\"Beta for voxel 1\")\n",
        "print(beta_True)\n",
        "print(\"Beta for voxel 2\")\n",
        "print(beta_True_n)"
      ],
      "execution_count": 20,
      "outputs": [
        {
          "output_type": "stream",
          "text": [
            "Beta for voxel 1\n",
            "[ 1]\n",
            "[ 2]\n",
            "[ 3]\n",
            "\n",
            "Beta for voxel 2\n",
            "[ 1.09e+00]\n",
            "[ 1.94e+00]\n",
            "[ 4.18e+00]\n",
            "\n"
          ],
          "name": "stdout"
        }
      ]
    },
    {
      "cell_type": "markdown",
      "metadata": {
        "id": "TTQFQbRLDKmq",
        "colab_type": "text"
      },
      "source": [
        "#### b vector\n",
        "\n",
        "In a neighbouring voxel, we may also expect similar b values. To simulate this, I have added some normal noise with variance, 1/2, to the original b values to obtain a new b value."
      ]
    },
    {
      "cell_type": "code",
      "metadata": {
        "id": "tsyjopBUFNt0",
        "colab_type": "code",
        "outputId": "42c72aed-176b-4d6a-8dd4-84b07349e78c",
        "colab": {
          "base_uri": "https://localhost:8080/",
          "height": 228
        }
      },
      "source": [
        "# Given a b vector this function makes a b\n",
        "# vector for the neighbouring voxel\n",
        "def b_n(b):\n",
        "  return(b + cvxopt.normal(b.size[0],1)/np.sqrt(2))\n",
        "\n",
        "# Example\n",
        "b_True_n = b_n(b_True)\n",
        "  \n",
        "# print bs for comparison\n",
        "print(\"b for voxel 1 (first 5 elements)\")\n",
        "print(b_True[1:5])\n",
        "print(\"b for voxel 2 (first 5 elements)\")\n",
        "print(b_True_n[1:5])"
      ],
      "execution_count": 21,
      "outputs": [
        {
          "output_type": "stream",
          "text": [
            "b for voxel 1 (first 5 elements)\n",
            "[-4.23e+00]\n",
            "[ 1.44e+00]\n",
            "[ 1.41e+00]\n",
            "[ 1.35e+00]\n",
            "\n",
            "b for voxel 2 (first 5 elements)\n",
            "[-4.37e+00]\n",
            "[ 1.13e+00]\n",
            "[ 1.50e+00]\n",
            "[ 1.65e+00]\n",
            "\n"
          ],
          "name": "stdout"
        }
      ]
    },
    {
      "cell_type": "markdown",
      "metadata": {
        "id": "ZFb5eO8jBWSf",
        "colab_type": "text"
      },
      "source": [
        " #### Y vector (New response)\n",
        " \n",
        "I now generate a new response vector with the new beta and b values for the neighbouring voxel."
      ]
    },
    {
      "cell_type": "code",
      "metadata": {
        "id": "8V59rDqEGU5e",
        "colab_type": "code",
        "colab": {}
      },
      "source": [
        "# Neighbouring voxels response vector\n",
        "Y_n = X*beta_True_n+Z*b_True_n+cvxopt.normal(1000,1)"
      ],
      "execution_count": 0,
      "outputs": []
    },
    {
      "cell_type": "markdown",
      "metadata": {
        "id": "l1fjCdxgH3aV",
        "colab_type": "text"
      },
      "source": [
        "### Product Matrices\n",
        "\n",
        "All products of matrices are calculated beforehand as it is both more computationally efficient and also similar to the setting we are interested in. For the neighbouring voxel only those involving the Y vector (response) need be recalculated as X and Z have not changed between voxel in this example."
      ]
    },
    {
      "cell_type": "code",
      "metadata": {
        "id": "Wnx7aj6OH3tA",
        "colab_type": "code",
        "colab": {}
      },
      "source": [
        "# Z tranpose Y_n\n",
        "ZtY_n=cvxopt.spmatrix.trans(Z)*Y_n\n",
        "\n",
        "# X tranpose Y_n\n",
        "XtY_n=cvxopt.matrix.trans(X)*Y_n\n",
        "\n",
        "# Y_n tranpose X\n",
        "YtX_n=cvxopt.matrix.trans(Y_n)*X\n",
        "\n",
        "# Y_n transpose Z\n",
        "YtZ_n=cvxopt.matrix.trans(Y_n)*Z\n",
        "\n",
        "# Y_n tranpose Y_n\n",
        "YtY_n=cvxopt.matrix.trans(Y_n)*Y_n"
      ],
      "execution_count": 0,
      "outputs": []
    },
    {
      "cell_type": "markdown",
      "metadata": {
        "id": "t9CsWWXKGk-I",
        "colab_type": "text"
      },
      "source": [
        "### Idea 1: Initial Estimate\n",
        "\n",
        "The idea behind this is relatively simple. Once we have estimated the model for one voxel, we use the estimated theta vector from that voxel as the initial estimate for it's neighbours.\n",
        "\n",
        "However, it didn't work/no meaningful time improvement was observed in the toy example.\n"
      ]
    },
    {
      "cell_type": "code",
      "metadata": {
        "id": "X5c3WZF5HDm-",
        "colab_type": "code",
        "outputId": "38bb342d-2158-49ca-f169-2903ec1042cc",
        "colab": {
          "base_uri": "https://localhost:8080/",
          "height": 87
        }
      },
      "source": [
        "# Estimate first voxel\n",
        "theta_Est=minimize(PLS, theta0, args=(ZtX, ZtY, XtX, ZtZ, XtY, YtX, YtZ, XtZ, YtY ,P,tinds, rinds, cinds), method='L-BFGS-B', tol=1e-6).x\n",
        "\n",
        "# Estimate second voxel\n",
        "theta_Est_n=minimize(PLS, theta_Est, args=(ZtX, ZtY_n, XtX, ZtZ, XtY_n, YtX_n, YtZ_n, XtZ, YtY_n ,P,tinds, rinds, cinds), method='L-BFGS-B', tol=1e-6).x\n",
        "\n",
        "# Print results\n",
        "print('Estimate for voxel 1')\n",
        "print(theta_Est)\n",
        "\n",
        "# Print results for neighbouring voxel\n",
        "print('Estimate for voxel 2')\n",
        "print(theta_Est_n)\n",
        "\n"
      ],
      "execution_count": 24,
      "outputs": [
        {
          "output_type": "stream",
          "text": [
            "Estimate for voxel 1\n",
            "[ 1.11343291  0.3213067   2.23080559  4.54830593 -0.16751323  0.42602596]\n",
            "Estimate for voxel 2\n",
            "[ 1.21228134  0.24719727  2.13841449  3.2870374  -1.33832044  0.19605888]\n"
          ],
          "name": "stdout"
        }
      ]
    },
    {
      "cell_type": "markdown",
      "metadata": {
        "id": "hqbOzGU-It3f",
        "colab_type": "text"
      },
      "source": [
        "#### Time efficiency\n",
        "\n",
        "What is really important here is not the estimate values (assuming they are correct), but the time taken to do this for both voxels. In the below, the two voxels are estimated 100 times twice, once reusing the estmate from the first voxel in estimating the second, and once computing the voxels completely seperately.\n",
        "\n",
        "**Conclusion:** This idea didn't really work... the time complexity was not meaningfully reduced (reduction of <0.01s in most runs)."
      ]
    },
    {
      "cell_type": "code",
      "metadata": {
        "id": "5OM3CTjNJXp_",
        "colab_type": "code",
        "outputId": "9281b2d5-eff8-4631-bf7e-114e46e78ba5",
        "colab": {
          "base_uri": "https://localhost:8080/",
          "height": 87
        }
      },
      "source": [
        "# Average time\n",
        "time_original = 0;\n",
        "time_idea1 = 0;\n",
        "\n",
        "# Number of iterations\n",
        "n = 100;\n",
        "\n",
        "for i in range(n):\n",
        "  \n",
        "  # New neigbouring voxel response\n",
        "  Y_n = X*beta_n(beta_True)+Z*b_n(b_True)+cvxopt.normal(1000,1)\n",
        "  \n",
        "  # Z tranpose Y_n\n",
        "  ZtY_n=cvxopt.spmatrix.trans(Z)*Y_n\n",
        "\n",
        "  # X tranpose Y_n\n",
        "  XtY_n=cvxopt.matrix.trans(X)*Y_n\n",
        "\n",
        "  # Y_n tranpose X\n",
        "  YtX_n=cvxopt.matrix.trans(Y_n)*X\n",
        "\n",
        "  # Y_n transpose Z\n",
        "  YtZ_n=cvxopt.matrix.trans(Y_n)*Z\n",
        "\n",
        "  # Y_n tranpose Y_n\n",
        "  YtY_n=cvxopt.matrix.trans(Y_n)*Y_n\n",
        "  \n",
        "  # Obtain the voxels estimates independently\n",
        "  t1 = time.time()\n",
        "  theta_Est=minimize(PLS, theta0, args=(ZtX, ZtY, XtX, ZtZ, XtY, YtX, YtZ, XtZ, YtY ,P,tinds, rinds, cinds), method='L-BFGS-B', tol=1e-6).x\n",
        "  theta_Est_n=minimize(PLS, theta0, args=(ZtX, ZtY_n, XtX, ZtZ, XtY_n, YtX_n, YtZ_n, XtZ, YtY_n ,P,tinds, rinds, cinds), method='L-BFGS-B', tol=1e-6).x\n",
        "  t2 = time.time()\n",
        "  time_original = time_original + t2 - t1\n",
        "  \n",
        "  # Obtain the voxels estimates by reusing the estimate from one voxel as the initial estimate for the other\n",
        "  t1 = time.time()\n",
        "  theta_Est=minimize(PLS, theta0, args=(ZtX, ZtY, XtX, ZtZ, XtY, YtX, YtZ, XtZ, YtY ,P,tinds, rinds, cinds), method='L-BFGS-B', tol=1e-6).x\n",
        "  theta_Est_n=minimize(PLS, theta_Est, args=(ZtX, ZtY_n, XtX, ZtZ, XtY_n, YtX_n, YtZ_n, XtZ, YtY_n ,P,tinds, rinds, cinds), method='L-BFGS-B', tol=1e-6).x\n",
        "  t2 = time.time()\n",
        "  time_idea1 = time_idea1 + t2 - t1\n",
        "\n",
        "# Convert to averages\n",
        "time_original = time_original/n\n",
        "time_idea1 = time_idea1/n\n",
        "\n",
        "# Print\n",
        "print('Average Original estimation time:')\n",
        "print(time_original)\n",
        "print('Average Idea 1 estimation time:')\n",
        "print(time_idea1)"
      ],
      "execution_count": 25,
      "outputs": [
        {
          "output_type": "stream",
          "text": [
            "Average Original estimation time:\n",
            "0.10135724544525146\n",
            "Average Idea 1 estimation time:\n",
            "0.09602343797683716\n"
          ],
          "name": "stdout"
        }
      ]
    },
    {
      "cell_type": "markdown",
      "metadata": {
        "id": "9JP8KZC-Mamk",
        "colab_type": "text"
      },
      "source": [
        "### Idea 2: Penalize the difference between beta values in the objective function\n",
        "\n",
        "The PLS algorithm works by penalizing, at every voxel, the objective function:\n",
        "\n",
        "$$||Y-X\\beta+Z\\Lambda u+\\epsilon||^2_2 + ||u||^2_2$$\n",
        "\n",
        "Suppose, now that we wish to estimate the value at one voxel but already have beta values for one of it's neighbours. When the algorithm searches the parameter space, it stands to reason we want it to start by looking at beta values around the neighbouring voxels beta values. To do this we could add an additional term to the objective function:\n",
        "\n",
        "$$||Y-X\\beta+Z\\Lambda u+\\epsilon||^2_2 + ||u||^2_2 + ||\\beta - \\beta_n||^2_2$$\n",
        "\n",
        "Where $\\beta_n$ is the value of beta at the neighbouring voxel. This is the idea tested here."
      ]
    },
    {
      "cell_type": "markdown",
      "metadata": {
        "id": "krn-dunmRTZl",
        "colab_type": "text"
      },
      "source": [
        "#### Return Beta from PLS\n",
        "\n",
        "This function returns the beta estimates for a given theta using PLS.\n",
        "\n",
        "---\n",
        "\n",
        "The following inputs are required for this function:\n",
        "\n",
        "---\n",
        "\n",
        " - **theta**: The parameter estimate.\n",
        " - **ZtX**: Z transpose multiplied by X.\n",
        " - **ZtY**: Z transpose multiplied by Y.\n",
        " - **XtX**: X transpose multiplied by X.\n",
        " - **ZtZ**: Z transpose multiplied by Z.\n",
        " - **XtY**: X transpose multiplied by Y.\n",
        " - **YtX**: Y transpose multiplied by X.\n",
        " - **YtZ**: Y transpose multiplied by Z.\n",
        " - **XtZ**: X transpose multiplied by Z.\n",
        " - **YtY**: Y transpose multiplied by Y.\n",
        " - **P**: The sparse permutation for Lamda'Z'ZLambda+I\n",
        " - **tinds**: A vector specifying how many times each theta parameter should be repeated. For example, if theta=[0.1,0.8,0.3] and theta_inds=[1,1,1,2,3,3], then the values to be mapped into the sparse matrix would be [0.1,0.1,0.1,0.8,0.3,0.3].\n",
        " - **r_inds**: The row indices of the elements mapped into the sparse matrix.\n",
        " - **c_inds**: The column indices of the elements mapped into the sparse matrix."
      ]
    },
    {
      "cell_type": "code",
      "metadata": {
        "id": "kEUPtjalRQpt",
        "colab_type": "code",
        "colab": {}
      },
      "source": [
        "def PLS_getBeta(theta, ZtX, ZtY, XtX, ZtZ, XtY, YtX, YtZ, XtZ, YtY, P, tinds, rinds, cinds):\n",
        "\n",
        "    # Obtain Lambda\n",
        "    Lambda = mapping(theta, tinds, rinds, cinds)\n",
        "    \n",
        "    # Obtain Lambda'\n",
        "    Lambdat = spmatrix.trans(Lambda)\n",
        "\n",
        "    # Obtain Lambda'Z'Y and Lambda'Z'X\n",
        "    LambdatZtY = Lambdat*ZtY\n",
        "    LambdatZtX = Lambdat*ZtX\n",
        "    \n",
        "    # Set the factorisation to use LL' instead of LDL'\n",
        "    cholmod.options['supernodal']=2\n",
        "\n",
        "    # Obtain the cholesky decomposition\n",
        "    LambdatZtZLambda = Lambdat*ZtZ*Lambda\n",
        "    I = spmatrix(1.0, range(Lambda.size[0]), range(Lambda.size[0]))\n",
        "    chol_dict = sparse_chol(LambdatZtZLambda+I, perm=P, retF=True, retP=False, retL=False)\n",
        "    F = chol_dict['F']\n",
        "\n",
        "    # Obtain C_u (annoyingly solve writes over the second argument,\n",
        "    # whereas spsolve outputs)\n",
        "    Cu = LambdatZtY[P,:]\n",
        "    cholmod.solve(F,Cu,sys=4)\n",
        "\n",
        "    # Obtain RZX\n",
        "    RZX = LambdatZtX[P,:]\n",
        "    cholmod.solve(F,RZX,sys=4)\n",
        "\n",
        "    # Obtain RXtRX\n",
        "    RXtRX = XtX - matrix.trans(RZX)*RZX\n",
        "\n",
        "    # Obtain beta estimates (note: gesv also replaces the second\n",
        "    # argument)\n",
        "    betahat = XtY - matrix.trans(RZX)*Cu\n",
        "    lapack.posv(RXtRX, betahat)\n",
        "\n",
        "    return(betahat)"
      ],
      "execution_count": 0,
      "outputs": []
    },
    {
      "cell_type": "markdown",
      "metadata": {
        "id": "-a7uYOZzPQ2W",
        "colab_type": "text"
      },
      "source": [
        "#### Neighbour-based PLS objective function\n",
        "\n",
        "The following function calculates the log likelihood based on the above objective function. It is the same as the original PLS algorithm in most respects, except it now also uses as input `beta_n`, the beta value from the run used on a neighbouring voxel. \n",
        "\n",
        "---\n",
        "\n",
        "The following inputs are required for this function:\n",
        "\n",
        "---\n",
        "\n",
        " - **theta**: The parameter estimate.\n",
        " - **betan**: The beta estimate for a neighbouring voxel.\n",
        " - **ZtX**: Z transpose multiplied by X.\n",
        " - **ZtY**: Z transpose multiplied by Y.\n",
        " - **XtX**: X transpose multiplied by X.\n",
        " - **ZtZ**: Z transpose multiplied by Z.\n",
        " - **XtY**: X transpose multiplied by Y.\n",
        " - **YtX**: Y transpose multiplied by X.\n",
        " - **YtZ**: Y transpose multiplied by Z.\n",
        " - **XtZ**: X transpose multiplied by Z.\n",
        " - **YtY**: Y transpose multiplied by Y.\n",
        " - **P**: The sparse permutation for Lamda'Z'ZLambda+I\n",
        " - **tinds**: A vector specifying how many times each theta parameter should be repeated. For example, if theta=[0.1,0.8,0.3] and theta_inds=[1,1,1,2,3,3], then the values to be mapped into the sparse matrix would be [0.1,0.1,0.1,0.8,0.3,0.3].\n",
        " - **r_inds**: The row indices of the elements mapped into the sparse matrix.\n",
        " - **c_inds**: The column indices of the elements mapped into the sparse matrix."
      ]
    },
    {
      "cell_type": "code",
      "metadata": {
        "id": "3E1CS6j7P1_K",
        "colab_type": "code",
        "colab": {}
      },
      "source": [
        "def PLSneighbour(theta, betan, ZtX, ZtY, XtX, ZtZ, XtY, YtX, YtZ, XtZ, YtY, P, tinds, rinds, cinds):\n",
        "\n",
        "    # Neighbour changes, the below is actually all that needs changing to account\n",
        "    # for the new objective function\n",
        "    XtX = XtX+ spmatrix(1.0, range(3), range(3))\n",
        "    XtY = XtY + betan\n",
        "    YtX = YtX + matrix.trans(betan)\n",
        "\n",
        "    # Return PLS on the newly adjusted data\n",
        "    return(PLS(theta, ZtX, ZtY, XtX, ZtZ, XtY, YtX, YtZ, XtZ, YtY, P, tinds, rinds, cinds))"
      ],
      "execution_count": 0,
      "outputs": []
    },
    {
      "cell_type": "markdown",
      "metadata": {
        "id": "wW9A8JM3SRW7",
        "colab_type": "text"
      },
      "source": [
        "#### Correctness\n",
        "\n",
        "To check that we are still estimating the same quantity, here we estimate the neighbour first and then use the beta estimate from the neighbouring voxel to estimate the original toy datasets theta. As can be seen the resultant estimate is still relatively close.\n",
        "\n",
        "Interestingly, the only beta estimate that has changed is the intercept, which `R` had trouble estimating anyway (it took me a while to find a toy dataset were `R` was able to correctly estimate the intercept... it could have just been due to chance/my own p-hacking that it happened in this case). Perhaps this is due to the model I used for this example, in which there is a fixed effects intercept and then an intercept for both grouping factors... this could just be a difficult/impossible model intercept to estimate."
      ]
    },
    {
      "cell_type": "code",
      "metadata": {
        "id": "mCsbTsTpSRtl",
        "colab_type": "code",
        "outputId": "e72774bf-0167-461a-eaf7-9765a23a4d8c",
        "colab": {
          "base_uri": "https://localhost:8080/",
          "height": 351
        }
      },
      "source": [
        "# Compute theta estimate for neighbouring voxel\n",
        "theta_Est_n=minimize(PLS, theta0, args=(ZtX, ZtY_n, XtX, ZtZ, XtY_n, YtX_n, YtZ_n, XtZ, YtY_n ,P,tinds, rinds, cinds), method='L-BFGS-B', tol=1e-6).x\n",
        "\n",
        "# Retrieve beta\n",
        "beta_Est_n = PLS_getBeta(theta_Est_n,ZtX, ZtY_n, XtX, ZtZ, XtY_n, YtX_n, YtZ_n, XtZ, YtY_n ,P,tinds, rinds, cinds)\n",
        "\n",
        "# Minimise for the original voxel using the neighbour function\n",
        "theta_Est=minimize(PLSneighbour, theta0, args=(beta_Est_n, ZtX, ZtY, XtX, ZtZ, XtY, YtX, YtZ, XtZ, YtY ,P,tinds, rinds, cinds), method='L-BFGS-B', tol=1e-6).x\n",
        "\n",
        "# Print results\n",
        "print(\"R estimated theta:\")\n",
        "print(theta_REst)\n",
        "print(\"Neighbourhood based estimated theta:\")\n",
        "print(theta_Est)\n",
        "\n",
        "# Print betas\n",
        "print(\"Beta (True)\")\n",
        "print(beta_True)\n",
        "print(\"Beta (R estimated)\")\n",
        "print(PLS_getBeta(theta_REst,ZtX, ZtY, XtX, ZtZ, XtY, YtX, YtZ, XtZ, YtY ,P,tinds, rinds, cinds))\n",
        "print(\"Beta (Neighbourhood estimated)\")\n",
        "print(PLS_getBeta(theta_Est,ZtX, ZtY, XtX, ZtZ, XtY, YtX, YtZ, XtZ, YtY ,P,tinds, rinds, cinds))\n",
        "\n",
        "# Double check we get the same as R\n",
        "#print(matrix(pd.read_csv('/Data/BLMM-testdata/estd_beta.csv',header=None).values))"
      ],
      "execution_count": 28,
      "outputs": [
        {
          "output_type": "stream",
          "text": [
            "R estimated theta:\n",
            "[ 1.11365482  0.32356815  2.22872418  4.54822071 -0.17500295  0.42370817]\n",
            "Neighbourhood based estimated theta:\n",
            "[ 1.13052108  0.33596771  2.24880506  4.44852561 -0.15145034  0.43856462]\n",
            "Beta (True)\n",
            "[ 1]\n",
            "[ 2]\n",
            "[ 3]\n",
            "\n",
            "Beta (R estimated)\n",
            "[ 1.05e+00]\n",
            "[ 1.98e+00]\n",
            "[ 3.03e+00]\n",
            "\n",
            "Beta (Neighbourhood estimated)\n",
            "[ 8.45e-01]\n",
            "[ 1.98e+00]\n",
            "[ 3.03e+00]\n",
            "\n"
          ],
          "name": "stdout"
        }
      ]
    },
    {
      "cell_type": "markdown",
      "metadata": {
        "id": "aANxmrO3WIgP",
        "colab_type": "text"
      },
      "source": [
        "To further investigate whether this is a consistent result, I have run the code 100 times with different a neighbouring voxel in each run and recorded the average squared difference between the true value of beta and the estimated value of beta for both the neighbour approach and the original PLS algorithm.\n",
        "\n",
        "**Conclusion**: The previous supposed loss of efficiency was indeed a fluke - after running 100 different neighbouring voxel iterations it has become extremely clear that the added penalty significantly improves accuracy in the toy example. Main points of interest:\n",
        "\n",
        " - The standard PLS algorithm works well for a majority of cases but rarely beats the neighbourhood version. \n",
        " - In some cases the PLS algorithm can massively go wrong estimating the intercept, whereas the neighbourhood method appears more robust to this.\n",
        " - Of course, this is heavily dependent on the simulation and would need more investigation for standard neuroimaging data."
      ]
    },
    {
      "cell_type": "code",
      "metadata": {
        "id": "d3iC0KRtWIqq",
        "colab_type": "code",
        "outputId": "f75e4af3-2fd1-489b-d07e-973265014b9f",
        "colab": {
          "base_uri": "https://localhost:8080/",
          "height": 87
        }
      },
      "source": [
        "# Average time\n",
        "diff_original = 0;\n",
        "diff_neighbour = 0;\n",
        "\n",
        "# Number of iterations\n",
        "n = 100;\n",
        "\n",
        "for i in range(n):\n",
        "  \n",
        "  # New neigbouring voxel response\n",
        "  beta_True_n = beta_n(beta_True)\n",
        "  Y_n = X*beta_True_n+Z*b_n(b_True)+cvxopt.normal(1000,1)\n",
        "  \n",
        "  #print(beta_True_n)\n",
        "  \n",
        "  # Z tranpose Y_n\n",
        "  ZtY_n=cvxopt.spmatrix.trans(Z)*Y_n\n",
        "\n",
        "  # X tranpose Y_n\n",
        "  XtY_n=cvxopt.matrix.trans(X)*Y_n\n",
        "\n",
        "  # Y_n tranpose X\n",
        "  YtX_n=cvxopt.matrix.trans(Y_n)*X\n",
        "\n",
        "  # Y_n transpose Z\n",
        "  YtZ_n=cvxopt.matrix.trans(Y_n)*Z\n",
        "\n",
        "  # Y_n tranpose Y_n\n",
        "  YtY_n=cvxopt.matrix.trans(Y_n)*Y_n\n",
        "  \n",
        "  # Obtain the voxels estimates independently\n",
        "  theta_Est=minimize(PLS, theta0, args=(ZtX, ZtY, XtX, ZtZ, XtY, YtX, YtZ, XtZ, YtY ,P,tinds, rinds, cinds), method='L-BFGS-B', tol=1e-6).x\n",
        "  theta_Est_n=minimize(PLS, theta0, args=(ZtX, ZtY_n, XtX, ZtZ, XtY_n, YtX_n, YtZ_n, XtZ, YtY_n ,P,tinds, rinds, cinds), method='L-BFGS-B', tol=1e-6).x\n",
        "  \n",
        "  # Get the beta value from seperate calculation\n",
        "  beta_Est_n = PLS_getBeta(theta_Est_n,ZtX, ZtY_n, XtX, ZtZ, XtY_n, YtX_n, YtZ_n, XtZ, YtY_n, P,tinds, rinds, cinds)\n",
        "  \n",
        "  #print(beta_Est_n)\n",
        "  \n",
        "  # Get average difference between estimated and truth\n",
        "  diff_original = np.linalg.norm(np.array(beta_Est_n-beta_True_n))**2 + diff_original\n",
        "  \n",
        "  #print(np.linalg.norm(np.array(beta_Est_n-beta_True_n))**2)\n",
        "  \n",
        "  # Obtain the voxels estimates by using the neighbouring approach\n",
        "  theta_Est= minimize(PLS, theta0, args=(ZtX, ZtY, XtX, ZtZ, XtY, YtX, YtZ, XtZ, YtY ,P,tinds, rinds, cinds), method='L-BFGS-B', tol=1e-6).x\n",
        "  beta_Est = PLS_getBeta(theta_Est,ZtX, ZtY, XtX, ZtZ, XtY, YtX, YtZ, XtZ, YtY ,P,tinds, rinds, cinds)\n",
        "  theta_Est_n = minimize(PLSneighbour, theta0, args=(beta_Est, ZtX, ZtY_n, XtX, ZtZ, XtY_n, YtX_n, YtZ_n, XtZ, YtY_n,P,tinds, rinds, cinds), method='L-BFGS-B', tol=1e-6).x\n",
        "\n",
        "  # Get the beta value from seperate calculation\n",
        "  beta_Est_n = PLS_getBeta(theta_Est_n,ZtX, ZtY_n, XtX, ZtZ, XtY_n, YtX_n, YtZ_n, XtZ, YtY_n, P,tinds, rinds, cinds)\n",
        "  \n",
        "  #print(beta_Est_n)\n",
        "  #print(np.linalg.norm(np.array(beta_Est_n-beta_True_n))**2)\n",
        "  \n",
        "  # Get average difference between estimated and truth\n",
        "  diff_neighbour = np.linalg.norm(np.array(beta_Est_n-beta_True_n))**2 + diff_neighbour\n",
        "\n",
        "  #print('')\n",
        "# Convert to averages\n",
        "diff_original = diff_original/n\n",
        "diff_neighbour = diff_neighbour/n\n",
        "\n",
        "# Print\n",
        "print('Average Original squared difference from truth:')\n",
        "print(diff_original)\n",
        "print('Average Idea 2 squared difference from truth:')\n",
        "print(diff_neighbour)"
      ],
      "execution_count": 29,
      "outputs": [
        {
          "output_type": "stream",
          "text": [
            "Average Original squared difference from truth:\n",
            "26.414421899255796\n",
            "Average Idea 2 squared difference from truth:\n",
            "2.336129652312275\n"
          ],
          "name": "stdout"
        }
      ]
    },
    {
      "cell_type": "markdown",
      "metadata": {
        "id": "QAdjGFGxR_3w",
        "colab_type": "text"
      },
      "source": [
        "#### Time efficiency\n",
        "\n",
        "What is important here is the time taken to do this for both voxels. In the below, the two voxels are estimated 100 times twice, once reusing the estmate from the first voxel in estimating the second, and once computing the voxels completely seperately.\n",
        "\n",
        "**Conclusion:** Some significant time improvement was observed when using `Powell` (around 0.07s quicker) but not for `L-BFGS-B`. A more extensive test suite is needed."
      ]
    },
    {
      "cell_type": "code",
      "metadata": {
        "id": "M8FROJLxR__g",
        "colab_type": "code",
        "outputId": "f22fad3c-929b-40c7-83e9-ac0a27504e14",
        "colab": {
          "base_uri": "https://localhost:8080/",
          "height": 87
        }
      },
      "source": [
        "# Average time\n",
        "time_original = 0;\n",
        "time_idea2 = 0;\n",
        "\n",
        "# Number of iterations\n",
        "n = 100;\n",
        "\n",
        "for i in range(n):\n",
        "  \n",
        "  # New neigbouring voxel response\n",
        "  Y_n = X*beta_n(beta_True)+Z*b_n(b_True)+cvxopt.normal(1000,1)\n",
        "  \n",
        "  # Z tranpose Y_n\n",
        "  ZtY_n=cvxopt.spmatrix.trans(Z)*Y_n\n",
        "\n",
        "  # X tranpose Y_n\n",
        "  XtY_n=cvxopt.matrix.trans(X)*Y_n\n",
        "\n",
        "  # Y_n tranpose X\n",
        "  YtX_n=cvxopt.matrix.trans(Y_n)*X\n",
        "\n",
        "  # Y_n transpose Z\n",
        "  YtZ_n=cvxopt.matrix.trans(Y_n)*Z\n",
        "\n",
        "  # Y_n tranpose Y_n\n",
        "  YtY_n=cvxopt.matrix.trans(Y_n)*Y_n\n",
        "  \n",
        "  # Obtain the voxels estimates independently\n",
        "  t1 = time.time()\n",
        "  theta_Est=minimize(PLS, theta0, args=(ZtX, ZtY, XtX, ZtZ, XtY, YtX, YtZ, XtZ, YtY ,P,tinds, rinds, cinds), method='L-BFGS-B', tol=1e-6).x\n",
        "  theta_Est_n=minimize(PLS, theta0, args=(ZtX, ZtY_n, XtX, ZtZ, XtY_n, YtX_n, YtZ_n, XtZ, YtY_n ,P,tinds, rinds, cinds), method='L-BFGS-B', tol=1e-6).x\n",
        "  t2 = time.time()\n",
        "  time_original = time_original + t2 - t1\n",
        "  \n",
        "  # Obtain the voxels estimates by using the neighbouring approach\n",
        "  t1 = time.time()\n",
        "  theta_Est_n=minimize(PLS, theta0, args=(ZtX, ZtY_n, XtX, ZtZ, XtY_n, YtX_n, YtZ_n, XtZ, YtY_n ,P,tinds, rinds, cinds), method='L-BFGS-B', tol=1e-6).x\n",
        "  beta_Est_n = PLS_getBeta(theta_Est_n,ZtX, ZtY_n, XtX, ZtZ, XtY_n, YtX_n, YtZ_n, XtZ, YtY_n ,P,tinds, rinds, cinds)\n",
        "  theta_Est=minimize(PLSneighbour, theta0, args=(beta_Est_n, ZtX, ZtY, XtX, ZtZ, XtY, YtX, YtZ, XtZ, YtY ,P,tinds, rinds, cinds), method='L-BFGS-B', tol=1e-6).x\n",
        "  t2 = time.time()\n",
        "  time_idea2 = time_idea2 + t2 - t1\n",
        "\n",
        "# Convert to averages\n",
        "time_original = time_original/n\n",
        "time_idea2 = time_idea2/n\n",
        "\n",
        "# Print\n",
        "print('Average Original estimation time:')\n",
        "print(time_original)\n",
        "print('Average Idea 2 estimation time:')\n",
        "print(time_idea2)"
      ],
      "execution_count": 30,
      "outputs": [
        {
          "output_type": "stream",
          "text": [
            "Average Original estimation time:\n",
            "0.09889775276184082\n",
            "Average Idea 2 estimation time:\n",
            "0.11362301111221314\n"
          ],
          "name": "stdout"
        }
      ]
    },
    {
      "cell_type": "markdown",
      "metadata": {
        "id": "tBr0APoAXKl3",
        "colab_type": "text"
      },
      "source": [
        "## Scaling up the computation (Random field)\n",
        "\n",
        "This section has several implemented ideas for scaling up the computation to compute several similar models at once. For simplicity it is assumed here that X and Z are the same across voxels."
      ]
    },
    {
      "cell_type": "markdown",
      "metadata": {
        "id": "82u9AasMXRLz",
        "colab_type": "text"
      },
      "source": [
        "### Toy dataset"
      ]
    },
    {
      "cell_type": "markdown",
      "metadata": {
        "id": "3LTG_EYiZpjM",
        "colab_type": "text"
      },
      "source": [
        "#### Matrix Dimensions\n",
        "\n",
        "Below are the matrix dimensions used for this example. If the model has form:\n",
        "\n",
        "$$Y=X\\beta+Zb+\\epsilon$$ With $\\epsilon \\sim N(0,\\sigma^2I_n)$ and $b \\sim N(0,\\sigma^2D)$, then the dimensions of each matrix are as follows:\n",
        "\n",
        " - $Y$: $(n \\times 1)$\n",
        " - $X$: $(n \\times p)$\n",
        " - $\\beta$: $(p \\times 1)$\n",
        " - $Z$: $(n \\times q)$\n",
        " - $b$: $(q \\times 1)$\n",
        " - $\\epsilon$: $(n \\times 1)$\n",
        " - $D$: $(p\\times p)$"
      ]
    },
    {
      "cell_type": "code",
      "metadata": {
        "id": "7LAfqqiCXO4k",
        "colab_type": "code",
        "outputId": "a0754c7c-44d0-427a-fa58-9cecbbdf0523",
        "colab": {
          "base_uri": "https://localhost:8080/",
          "height": 228
        }
      },
      "source": [
        "# Number of factors, random integer between 1 and 3\n",
        "r = np.random.randint(1,4)\n",
        "print(\"Number of grouping factors for random effects:\")\n",
        "print(r)\n",
        "\n",
        "# Number of levels, random number between 1 and 30\n",
        "nlevels = np.random.randint(1,31,size=(r))\n",
        "print(\"Number of levels for each factor:\")\n",
        "print(nlevels)\n",
        "\n",
        "# Number of parameters, random number between 1 and 5\n",
        "nparams = np.random.randint(1,6,size=(r))\n",
        "print(\"Number of parameters for each factor:\")\n",
        "print(nparams)\n",
        "\n",
        "# Dimension of D\n",
        "print(\"Dimension of D, q:\")\n",
        "q = np.sum(nlevels*nparams)\n",
        "print(q)\n",
        "\n",
        "# Number of fixed effects, random number between 1 and 30\n",
        "p = np.random.randint(1,31)\n",
        "print(\"Number of fixed effects:\")\n",
        "print(p)\n",
        "\n",
        "# Number of subjects, n\n",
        "n = 20*np.sum(nlevels)\n",
        "print(\"Number of subjects:\")\n",
        "print(n)\n"
      ],
      "execution_count": 31,
      "outputs": [
        {
          "output_type": "stream",
          "text": [
            "Number of grouping factors for random effects:\n",
            "1\n",
            "Number of levels for each factor:\n",
            "[30]\n",
            "Number of parameters for each factor:\n",
            "[1]\n",
            "Dimension of D, q:\n",
            "30\n",
            "Number of fixed effects:\n",
            "22\n",
            "Number of subjects:\n",
            "600\n"
          ],
          "name": "stdout"
        }
      ]
    },
    {
      "cell_type": "markdown",
      "metadata": {
        "id": "57CJIErlbDS5",
        "colab_type": "text"
      },
      "source": [
        "#### Fixed Effects matrix (X)\n",
        "\n",
        "For simplicity, in this example $X$ is the same for all voxels. "
      ]
    },
    {
      "cell_type": "code",
      "metadata": {
        "id": "5wnJHsOxdUne",
        "colab_type": "code",
        "outputId": "55ae4319-6359-4e3f-9667-048e9bd09bb5",
        "colab": {
          "base_uri": "https://localhost:8080/",
          "height": 286
        }
      },
      "source": [
        "# Initialize empty x\n",
        "X = np.zeros((n,p))\n",
        "\n",
        "# First column is intercept\n",
        "X[:,0] = 1\n",
        "\n",
        "# Rest of the columns we will make random noise \n",
        "X[:,1:] = np.random.randn(n*(p-1)).reshape((n,(p-1)))\n",
        "\n",
        "# Image of the last 20 rows of X\n",
        "imshow(X[-20:-1,:])\n"
      ],
      "execution_count": 32,
      "outputs": [
        {
          "output_type": "execute_result",
          "data": {
            "text/plain": [
              "<matplotlib.image.AxesImage at 0x7fa0ea907518>"
            ]
          },
          "metadata": {
            "tags": []
          },
          "execution_count": 32
        },
        {
          "output_type": "display_data",
          "data": {
            "image/png": "[encoded data removed]",
            "text/plain": [
              "<Figure size 432x288 with 1 Axes>"
            ]
          },
          "metadata": {
            "tags": []
          }
        }
      ]
    },
    {
      "cell_type": "markdown",
      "metadata": {
        "id": "aaBzkwl0ekWr",
        "colab_type": "text"
      },
      "source": [
        "#### Random Effects matrix (Z)\n",
        "\n",
        "For simplicity, in this example $Z$ is the same for all voxels. "
      ]
    },
    {
      "cell_type": "code",
      "metadata": {
        "id": "eb1S4WdhepI9",
        "colab_type": "code",
        "outputId": "0e5c9d44-04c8-436f-8472-90af5583fdb5",
        "colab": {
          "base_uri": "https://localhost:8080/",
          "height": 322
        }
      },
      "source": [
        "# We need to create a block of Z for each level of each factor\n",
        "for i in np.arange(r):\n",
        "  \n",
        "  for j in np.arange(nlevels[i]):\n",
        "    \n",
        "    # Initialize block\n",
        "    Zij = np.zeros((20,nparams[i]))\n",
        "    \n",
        "    # We give the first grouping factor an intercept\n",
        "    # and make the rest noise\n",
        "    if i==0:\n",
        "      \n",
        "      Zij[:,0] = 1\n",
        "      Zij[:,1:] = np.random.randn(20*(nparams[i]-1)).reshape((20,(nparams[i]-1)))\n",
        "      \n",
        "    else:\n",
        "      \n",
        "      Zij[:,:] = np.random.randn(20*nparams[i]).reshape((20,nparams[i]))\n",
        "    \n",
        "    # Convert to sparse\n",
        "    Zij = scipy.sparse.csr_matrix(Zij)\n",
        "    \n",
        "    # Initialize Z on first iteration and add to it after\n",
        "    if (i==0) & (j==0):\n",
        "      \n",
        "      Z = Zij\n",
        "\n",
        "    else:\n",
        "\n",
        "      # Add block to Z\n",
        "      Z = scipy.sparse.block_diag((Z, scipy.sparse.csr_matrix(Zij)))\n",
        "\n",
        "Z2 = sparse.COO.from_scipy_sparse(Z)\n",
        "\n",
        "# Create an image of Z'\n",
        "imshow(Z.toarray(), \\\n",
        "       interpolation='nearest', vmin=-5, vmax=5, aspect='auto')\n",
        "\n",
        "print(nlevels)\n",
        "print(nparams)\n",
        "print(Z.shape)\n"
      ],
      "execution_count": 33,
      "outputs": [
        {
          "output_type": "stream",
          "text": [
            "[30]\n",
            "[1]\n",
            "(600, 30)\n"
          ],
          "name": "stdout"
        },
        {
          "output_type": "display_data",
          "data": {
            "image/png": "[encoded data removed]",
            "text/plain": [
              "<Figure size 432x288 with 1 Axes>"
            ]
          },
          "metadata": {
            "tags": []
          }
        }
      ]
    },
    {
      "cell_type": "markdown",
      "metadata": {
        "id": "wTqsJgFrYP85",
        "colab_type": "text"
      },
      "source": [
        "#### Smooth random beta\n",
        "Smooth random beta image."
      ]
    },
    {
      "cell_type": "code",
      "metadata": {
        "id": "SUeftuE-YQjP",
        "colab_type": "code",
        "colab": {
          "base_uri": "https://localhost:8080/",
          "height": 286
        },
        "outputId": "8c17c5ae-8db3-44b8-8e69-4f58ecadefba"
      },
      "source": [
        "# Random 4D matrix (unsmoothed)\n",
        "beta_us = np.random.randn(1000*p).reshape(10,10,10,p)*20\n",
        "beta_us[3:5,3:5,3:5,3] = beta_us[3:5,3:5,3:5,3] + 100\n",
        "\n",
        "# Some random affine, not important for this simulation\n",
        "affine = np.diag([1, 1, 1, 1])\n",
        "beta_us_nii = nib.Nifti1Image(beta_us, affine)\n",
        "\n",
        "# Smoothed beta nifti\n",
        "beta_s_nii = nilearn.image.smooth_img(beta_us_nii, 5)\n",
        "\n",
        "# Final beta\n",
        "beta = beta_s_nii.get_fdata()\n",
        "\n",
        "# Show unsmoothed\n",
        "imshow(beta_us[3,:,:,3].reshape(10,10), \\\n",
        "                    interpolation='nearest', aspect='auto')"
      ],
      "execution_count": 34,
      "outputs": [
        {
          "output_type": "execute_result",
          "data": {
            "text/plain": [
              "<matplotlib.image.AxesImage at 0x7fa0ea0b9a20>"
            ]
          },
          "metadata": {
            "tags": []
          },
          "execution_count": 34
        },
        {
          "output_type": "display_data",
          "data": {
            "image/png": "[encoded data removed]",
            "text/plain": [
              "<Figure size 432x288 with 1 Axes>"
            ]
          },
          "metadata": {
            "tags": []
          }
        }
      ]
    },
    {
      "cell_type": "code",
      "metadata": {
        "id": "gOs4ge-_zgIr",
        "colab_type": "code",
        "colab": {
          "base_uri": "https://localhost:8080/",
          "height": 286
        },
        "outputId": "c902af04-b7f7-4272-8182-ca032efc9900"
      },
      "source": [
        "# Show smoothed\n",
        "imshow(beta[3,:,:,3].reshape(10,10), \\\n",
        "                    interpolation='nearest', aspect='auto')"
      ],
      "execution_count": 35,
      "outputs": [
        {
          "output_type": "execute_result",
          "data": {
            "text/plain": [
              "<matplotlib.image.AxesImage at 0x7fa0ea0f7160>"
            ]
          },
          "metadata": {
            "tags": []
          },
          "execution_count": 35
        },
        {
          "output_type": "display_data",
          "data": {
            "image/png": "[encoded data removed]",
            "text/plain": [
              "<Figure size 432x288 with 1 Axes>"
            ]
          },
          "metadata": {
            "tags": []
          }
        }
      ]
    },
    {
      "cell_type": "markdown",
      "metadata": {
        "id": "6vabjCMt0eMq",
        "colab_type": "text"
      },
      "source": [
        "#### Smooth random b\n",
        "Smooth random b image."
      ]
    },
    {
      "cell_type": "code",
      "metadata": {
        "id": "0bSmo7Af0ecp",
        "colab_type": "code",
        "colab": {
          "base_uri": "https://localhost:8080/",
          "height": 286
        },
        "outputId": "fb06cbed-fc4e-4a4a-afa1-1acab2d69f5b"
      },
      "source": [
        "# Random 4D matrix (unsmoothed)\n",
        "b_us = np.random.randn(1000*q).reshape(10,10,10,q)*20\n",
        "\n",
        "# Some random affine, not important for this simulation\n",
        "affine = np.diag([1, 1, 1, 1])\n",
        "b_us_nii = nib.Nifti1Image(b_us, affine)\n",
        "\n",
        "# Smoothed beta nifti\n",
        "b_s_nii = nilearn.image.smooth_img(b_us_nii, 5)\n",
        "\n",
        "# Final beta\n",
        "b = b_s_nii.get_fdata()\n",
        "\n",
        "# Show unsmoothed\n",
        "imshow(b_us[3,:,:,1].reshape(10,10), \\\n",
        "                    interpolation='nearest', aspect='auto')"
      ],
      "execution_count": 36,
      "outputs": [
        {
          "output_type": "execute_result",
          "data": {
            "text/plain": [
              "<matplotlib.image.AxesImage at 0x7fa0ea13ef60>"
            ]
          },
          "metadata": {
            "tags": []
          },
          "execution_count": 36
        },
        {
          "output_type": "display_data",
          "data": {
            "image/png": "[encoded data removed]",
            "text/plain": [
              "<Figure size 432x288 with 1 Axes>"
            ]
          },
          "metadata": {
            "tags": []
          }
        }
      ]
    },
    {
      "cell_type": "code",
      "metadata": {
        "id": "dXEPETmY0w4z",
        "colab_type": "code",
        "colab": {
          "base_uri": "https://localhost:8080/",
          "height": 286
        },
        "outputId": "85625448-86ea-4386-c92e-7949b34aebe1"
      },
      "source": [
        "# Show smoothed\n",
        "imshow(b[3,:,:,1].reshape(10,10), \\\n",
        "                    interpolation='nearest', aspect='auto')"
      ],
      "execution_count": 37,
      "outputs": [
        {
          "output_type": "execute_result",
          "data": {
            "text/plain": [
              "<matplotlib.image.AxesImage at 0x7fa0ea03f160>"
            ]
          },
          "metadata": {
            "tags": []
          },
          "execution_count": 37
        },
        {
          "output_type": "display_data",
          "data": {
            "image/png": "[encoded data removed]",
            "text/plain": [
              "<Figure size 432x288 with 1 Axes>"
            ]
          },
          "metadata": {
            "tags": []
          }
        }
      ]
    },
    {
      "cell_type": "markdown",
      "metadata": {
        "id": "qzdoPEEm6eUC",
        "colab_type": "text"
      },
      "source": [
        " #### Y vector (New response)\n",
        " \n",
        "Generate response for the whole field."
      ]
    },
    {
      "cell_type": "code",
      "metadata": {
        "id": "XQokPoYh6eoY",
        "colab_type": "code",
        "colab": {}
      },
      "source": [
        "# Reshape X\n",
        "X = X.reshape(1, X.shape[0], X.shape[1])\n",
        "\n",
        "# Reshape beta\n",
        "beta = beta.reshape(beta.shape[0]*beta.shape[1]*beta.shape[2],beta.shape[3],1)\n",
        "\n",
        "# Reshape Z (note: This step is slow because of the sparse to dense conversion;\n",
        "# it could probably be made quicker but this is only for one simulation at current)\n",
        "Ztmp = Z.toarray().reshape(1, Z.shape[0], Z.shape[1])\n",
        "\n",
        "# Reshape b\n",
        "b = b.reshape(b.shape[0]*b.shape[1]*b.shape[2],b.shape[3],1)\n",
        "\n",
        "# Generate Y\n",
        "Y = np.matmul(X,beta)+np.matmul(Ztmp,b) + np.random.randn(n,1)"
      ],
      "execution_count": 0,
      "outputs": []
    },
    {
      "cell_type": "markdown",
      "metadata": {
        "id": "4Laa68OGOvyw",
        "colab_type": "text"
      },
      "source": [
        "Check Y looks reasonable."
      ]
    },
    {
      "cell_type": "code",
      "metadata": {
        "id": "1lTEeBqSOz1B",
        "colab_type": "code",
        "colab": {
          "base_uri": "https://localhost:8080/",
          "height": 304
        },
        "outputId": "18848f68-9f1e-4032-85c5-be8ef3aebbf9"
      },
      "source": [
        "print(Y.shape)\n",
        "\n",
        "Y_imageformat = Y.reshape((10,10,10,n))\n",
        "\n",
        "imshow(Y_imageformat[3,:,:,1].reshape(10,10), \\\n",
        "                    interpolation='nearest', aspect='auto')"
      ],
      "execution_count": 40,
      "outputs": [
        {
          "output_type": "stream",
          "text": [
            "(1000, 600, 1)\n"
          ],
          "name": "stdout"
        },
        {
          "output_type": "execute_result",
          "data": {
            "text/plain": [
              "<matplotlib.image.AxesImage at 0x7fa0e9fa97f0>"
            ]
          },
          "metadata": {
            "tags": []
          },
          "execution_count": 40
        },
        {
          "output_type": "display_data",
          "data": {
            "image/png": "[encoded data removed]",
            "text/plain": [
              "<Figure size 432x288 with 1 Axes>"
            ]
          },
          "metadata": {
            "tags": []
          }
        }
      ]
    },
    {
      "cell_type": "markdown",
      "metadata": {
        "id": "x-MhOA6XP-op",
        "colab_type": "text"
      },
      "source": [
        "### Transpose products\n",
        "\n",
        "Calculate X'Y, X'Z, X'Y, Y'Y, Y'Z, Y'X Z'Z, Z'X and Z'Y."
      ]
    },
    {
      "cell_type": "code",
      "metadata": {
        "id": "YCFYLn3sQVU2",
        "colab_type": "code",
        "colab": {
          "base_uri": "https://localhost:8080/",
          "height": 175
        },
        "outputId": "09f1c9e0-fb54-4014-c6dd-46635a787c7c"
      },
      "source": [
        "# X'Z\\Z'X\n",
        "XtZ = np.matmul(X.transpose(0,2,1),Ztmp)\n",
        "ZtX = XtZ.transpose(0,2,1)\n",
        "\n",
        "# Z'Y\\Y'Z\n",
        "YtZ = np.matmul(Y.transpose(0,2,1),Ztmp)\n",
        "ZtY = YtZ.transpose(0,2,1)\n",
        "\n",
        "# Y'X/X'Y\n",
        "YtX = np.matmul(Y.transpose(0,2,1),X)\n",
        "XtY = YtX.transpose(0,2,1)\n",
        "\n",
        "# YtY\n",
        "YtY = np.matmul(Y.transpose(0,2,1),Y)\n",
        "\n",
        "# ZtZ\n",
        "ZtZ = np.matmul(Ztmp.transpose(0,2,1),Ztmp)\n",
        "\n",
        "# X'X\n",
        "XtX = np.matmul(X.transpose(0,2,1),X)\n",
        "\n",
        "\n",
        "print(XtZ.shape)\n",
        "print(ZtX.shape)\n",
        "\n",
        "print(XtY.shape)\n",
        "print(YtX.shape)\n",
        "\n",
        "print(YtZ.shape)\n",
        "print(ZtY.shape)\n",
        "\n",
        "print(XtX.shape)\n",
        "\n",
        "print(YtY.shape)\n",
        "\n",
        "print(ZtZ.shape)"
      ],
      "execution_count": 46,
      "outputs": [
        {
          "output_type": "stream",
          "text": [
            "(1, 22, 30)\n",
            "(1, 30, 22)\n",
            "(1000, 22, 1)\n",
            "(1000, 1, 22)\n",
            "(1000, 1, 30)\n",
            "(1000, 30, 1)\n",
            "(1, 22, 22)\n",
            "(1000, 1, 1)\n",
            "(1, 30, 30)\n"
          ],
          "name": "stdout"
        }
      ]
    },
    {
      "cell_type": "markdown",
      "metadata": {
        "id": "qYxYXW3AUu3H",
        "colab_type": "text"
      },
      "source": [
        "#### Demonstration: Time taken just looping\n",
        "\n"
      ]
    },
    {
      "cell_type": "code",
      "metadata": {
        "id": "pgah7SUnUt5k",
        "colab_type": "code",
        "colab": {
          "base_uri": "https://localhost:8080/",
          "height": 1000
        },
        "outputId": "e4786aca-4848-4e0b-a381-ae1d4ed6bb98"
      },
      "source": [
        "beta_est = np.zeros(beta.shape)\n",
        "\n",
        "for i in np.arange(beta.shape[0]):\n",
        "  \n",
        "  XtYtmp = XtY[i,:,:] \n",
        "  #minimize(PLS, theta0, args=(ZtX, ZtY_n, XtX, ZtZ, XtY_n, YtX_n, YtZ_n, XtZ, YtY_n ,P,tinds, rinds, cinds), method='L-BFGS-B', tol=1e-6).x"
      ],
      "execution_count": 49,
      "outputs": [
        {
          "output_type": "stream",
          "text": [
            "(22, 1)\n",
            "(22, 1)\n",
            "(22, 1)\n",
            "(22, 1)\n",
            "(22, 1)\n",
            "(22, 1)\n",
            "(22, 1)\n",
            "(22, 1)\n",
            "(22, 1)\n",
            "(22, 1)\n",
            "(22, 1)\n",
            "(22, 1)\n",
            "(22, 1)\n",
            "(22, 1)\n",
            "(22, 1)\n",
            "(22, 1)\n",
            "(22, 1)\n",
            "(22, 1)\n",
            "(22, 1)\n",
            "(22, 1)\n",
            "(22, 1)\n",
            "(22, 1)\n",
            "(22, 1)\n",
            "(22, 1)\n",
            "(22, 1)\n",
            "(22, 1)\n",
            "(22, 1)\n",
            "(22, 1)\n",
            "(22, 1)\n",
            "(22, 1)\n",
            "(22, 1)\n",
            "(22, 1)\n",
            "(22, 1)\n",
            "(22, 1)\n",
            "(22, 1)\n",
            "(22, 1)\n",
            "(22, 1)\n",
            "(22, 1)\n",
            "(22, 1)\n",
            "(22, 1)\n",
            "(22, 1)\n",
            "(22, 1)\n",
            "(22, 1)\n",
            "(22, 1)\n",
            "(22, 1)\n",
            "(22, 1)\n",
            "(22, 1)\n",
            "(22, 1)\n",
            "(22, 1)\n",
            "(22, 1)\n",
            "(22, 1)\n",
            "(22, 1)\n",
            "(22, 1)\n",
            "(22, 1)\n",
            "(22, 1)\n",
            "(22, 1)\n",
            "(22, 1)\n",
            "(22, 1)\n",
            "(22, 1)\n",
            "(22, 1)\n",
            "(22, 1)\n",
            "(22, 1)\n",
            "(22, 1)\n",
            "(22, 1)\n",
            "(22, 1)\n",
            "(22, 1)\n",
            "(22, 1)\n",
            "(22, 1)\n",
            "(22, 1)\n",
            "(22, 1)\n",
            "(22, 1)\n",
            "(22, 1)\n",
            "(22, 1)\n",
            "(22, 1)\n",
            "(22, 1)\n",
            "(22, 1)\n",
            "(22, 1)\n",
            "(22, 1)\n",
            "(22, 1)\n",
            "(22, 1)\n",
            "(22, 1)\n",
            "(22, 1)\n",
            "(22, 1)\n",
            "(22, 1)\n",
            "(22, 1)\n",
            "(22, 1)\n",
            "(22, 1)\n",
            "(22, 1)\n",
            "(22, 1)\n",
            "(22, 1)\n",
            "(22, 1)\n",
            "(22, 1)\n",
            "(22, 1)\n",
            "(22, 1)\n",
            "(22, 1)\n",
            "(22, 1)\n",
            "(22, 1)\n",
            "(22, 1)\n",
            "(22, 1)\n",
            "(22, 1)\n",
            "(22, 1)\n",
            "(22, 1)\n",
            "(22, 1)\n",
            "(22, 1)\n",
            "(22, 1)\n",
            "(22, 1)\n",
            "(22, 1)\n",
            "(22, 1)\n",
            "(22, 1)\n",
            "(22, 1)\n",
            "(22, 1)\n",
            "(22, 1)\n",
            "(22, 1)\n",
            "(22, 1)\n",
            "(22, 1)\n",
            "(22, 1)\n",
            "(22, 1)\n",
            "(22, 1)\n",
            "(22, 1)\n",
            "(22, 1)\n",
            "(22, 1)\n",
            "(22, 1)\n",
            "(22, 1)\n",
            "(22, 1)\n",
            "(22, 1)\n",
            "(22, 1)\n",
            "(22, 1)\n",
            "(22, 1)\n",
            "(22, 1)\n",
            "(22, 1)\n",
            "(22, 1)\n",
            "(22, 1)\n",
            "(22, 1)\n",
            "(22, 1)\n",
            "(22, 1)\n",
            "(22, 1)\n",
            "(22, 1)\n",
            "(22, 1)\n",
            "(22, 1)\n",
            "(22, 1)\n",
            "(22, 1)\n",
            "(22, 1)\n",
            "(22, 1)\n",
            "(22, 1)\n",
            "(22, 1)\n",
            "(22, 1)\n",
            "(22, 1)\n",
            "(22, 1)\n",
            "(22, 1)\n",
            "(22, 1)\n",
            "(22, 1)\n",
            "(22, 1)\n",
            "(22, 1)\n",
            "(22, 1)\n",
            "(22, 1)\n",
            "(22, 1)\n",
            "(22, 1)\n",
            "(22, 1)\n",
            "(22, 1)\n",
            "(22, 1)\n",
            "(22, 1)\n",
            "(22, 1)\n",
            "(22, 1)\n",
            "(22, 1)\n",
            "(22, 1)\n",
            "(22, 1)\n",
            "(22, 1)\n",
            "(22, 1)\n",
            "(22, 1)\n",
            "(22, 1)\n",
            "(22, 1)\n",
            "(22, 1)\n",
            "(22, 1)\n",
            "(22, 1)\n",
            "(22, 1)\n",
            "(22, 1)\n",
            "(22, 1)\n",
            "(22, 1)\n",
            "(22, 1)\n",
            "(22, 1)\n",
            "(22, 1)\n",
            "(22, 1)\n",
            "(22, 1)\n",
            "(22, 1)\n",
            "(22, 1)\n",
            "(22, 1)\n",
            "(22, 1)\n",
            "(22, 1)\n",
            "(22, 1)\n",
            "(22, 1)\n",
            "(22, 1)\n",
            "(22, 1)\n",
            "(22, 1)\n",
            "(22, 1)\n",
            "(22, 1)\n",
            "(22, 1)\n",
            "(22, 1)\n",
            "(22, 1)\n",
            "(22, 1)\n",
            "(22, 1)\n",
            "(22, 1)\n",
            "(22, 1)\n",
            "(22, 1)\n",
            "(22, 1)\n",
            "(22, 1)\n",
            "(22, 1)\n",
            "(22, 1)\n",
            "(22, 1)\n",
            "(22, 1)\n",
            "(22, 1)\n",
            "(22, 1)\n",
            "(22, 1)\n",
            "(22, 1)\n",
            "(22, 1)\n",
            "(22, 1)\n",
            "(22, 1)\n",
            "(22, 1)\n",
            "(22, 1)\n",
            "(22, 1)\n",
            "(22, 1)\n",
            "(22, 1)\n",
            "(22, 1)\n",
            "(22, 1)\n",
            "(22, 1)\n",
            "(22, 1)\n",
            "(22, 1)\n",
            "(22, 1)\n",
            "(22, 1)\n",
            "(22, 1)\n",
            "(22, 1)\n",
            "(22, 1)\n",
            "(22, 1)\n",
            "(22, 1)\n",
            "(22, 1)\n",
            "(22, 1)\n",
            "(22, 1)\n",
            "(22, 1)\n",
            "(22, 1)\n",
            "(22, 1)\n",
            "(22, 1)\n",
            "(22, 1)\n",
            "(22, 1)\n",
            "(22, 1)\n",
            "(22, 1)\n",
            "(22, 1)\n",
            "(22, 1)\n",
            "(22, 1)\n",
            "(22, 1)\n",
            "(22, 1)\n",
            "(22, 1)\n",
            "(22, 1)\n",
            "(22, 1)\n",
            "(22, 1)\n",
            "(22, 1)\n",
            "(22, 1)\n",
            "(22, 1)\n",
            "(22, 1)\n",
            "(22, 1)\n",
            "(22, 1)\n",
            "(22, 1)\n",
            "(22, 1)\n",
            "(22, 1)\n",
            "(22, 1)\n",
            "(22, 1)\n",
            "(22, 1)\n",
            "(22, 1)\n",
            "(22, 1)\n",
            "(22, 1)\n",
            "(22, 1)\n",
            "(22, 1)\n",
            "(22, 1)\n",
            "(22, 1)\n",
            "(22, 1)\n",
            "(22, 1)\n",
            "(22, 1)\n",
            "(22, 1)\n",
            "(22, 1)\n",
            "(22, 1)\n",
            "(22, 1)\n",
            "(22, 1)\n",
            "(22, 1)\n",
            "(22, 1)\n",
            "(22, 1)\n",
            "(22, 1)\n",
            "(22, 1)\n",
            "(22, 1)\n",
            "(22, 1)\n",
            "(22, 1)\n",
            "(22, 1)\n",
            "(22, 1)\n",
            "(22, 1)\n",
            "(22, 1)\n",
            "(22, 1)\n",
            "(22, 1)\n",
            "(22, 1)\n",
            "(22, 1)\n",
            "(22, 1)\n",
            "(22, 1)\n",
            "(22, 1)\n",
            "(22, 1)\n",
            "(22, 1)\n",
            "(22, 1)\n",
            "(22, 1)\n",
            "(22, 1)\n",
            "(22, 1)\n",
            "(22, 1)\n",
            "(22, 1)\n",
            "(22, 1)\n",
            "(22, 1)\n",
            "(22, 1)\n",
            "(22, 1)\n",
            "(22, 1)\n",
            "(22, 1)\n",
            "(22, 1)\n",
            "(22, 1)\n",
            "(22, 1)\n",
            "(22, 1)\n",
            "(22, 1)\n",
            "(22, 1)\n",
            "(22, 1)\n",
            "(22, 1)\n",
            "(22, 1)\n",
            "(22, 1)\n",
            "(22, 1)\n",
            "(22, 1)\n",
            "(22, 1)\n",
            "(22, 1)\n",
            "(22, 1)\n",
            "(22, 1)\n",
            "(22, 1)\n",
            "(22, 1)\n",
            "(22, 1)\n",
            "(22, 1)\n",
            "(22, 1)\n",
            "(22, 1)\n",
            "(22, 1)\n",
            "(22, 1)\n",
            "(22, 1)\n",
            "(22, 1)\n",
            "(22, 1)\n",
            "(22, 1)\n",
            "(22, 1)\n",
            "(22, 1)\n",
            "(22, 1)\n",
            "(22, 1)\n",
            "(22, 1)\n",
            "(22, 1)\n",
            "(22, 1)\n",
            "(22, 1)\n",
            "(22, 1)\n",
            "(22, 1)\n",
            "(22, 1)\n",
            "(22, 1)\n",
            "(22, 1)\n",
            "(22, 1)\n",
            "(22, 1)\n",
            "(22, 1)\n",
            "(22, 1)\n",
            "(22, 1)\n",
            "(22, 1)\n",
            "(22, 1)\n",
            "(22, 1)\n",
            "(22, 1)\n",
            "(22, 1)\n",
            "(22, 1)\n",
            "(22, 1)\n",
            "(22, 1)\n",
            "(22, 1)\n",
            "(22, 1)\n",
            "(22, 1)\n",
            "(22, 1)\n",
            "(22, 1)\n",
            "(22, 1)\n",
            "(22, 1)\n",
            "(22, 1)\n",
            "(22, 1)\n",
            "(22, 1)\n",
            "(22, 1)\n",
            "(22, 1)\n",
            "(22, 1)\n",
            "(22, 1)\n",
            "(22, 1)\n",
            "(22, 1)\n",
            "(22, 1)\n",
            "(22, 1)\n",
            "(22, 1)\n",
            "(22, 1)\n",
            "(22, 1)\n",
            "(22, 1)\n",
            "(22, 1)\n",
            "(22, 1)\n",
            "(22, 1)\n",
            "(22, 1)\n",
            "(22, 1)\n",
            "(22, 1)\n",
            "(22, 1)\n",
            "(22, 1)\n",
            "(22, 1)\n",
            "(22, 1)\n",
            "(22, 1)\n",
            "(22, 1)\n",
            "(22, 1)\n",
            "(22, 1)\n",
            "(22, 1)\n",
            "(22, 1)\n",
            "(22, 1)\n",
            "(22, 1)\n",
            "(22, 1)\n",
            "(22, 1)\n",
            "(22, 1)\n",
            "(22, 1)\n",
            "(22, 1)\n",
            "(22, 1)\n",
            "(22, 1)\n",
            "(22, 1)\n",
            "(22, 1)\n",
            "(22, 1)\n",
            "(22, 1)\n",
            "(22, 1)\n",
            "(22, 1)\n",
            "(22, 1)\n",
            "(22, 1)\n",
            "(22, 1)\n",
            "(22, 1)\n",
            "(22, 1)\n",
            "(22, 1)\n",
            "(22, 1)\n",
            "(22, 1)\n",
            "(22, 1)\n",
            "(22, 1)\n",
            "(22, 1)\n",
            "(22, 1)\n",
            "(22, 1)\n",
            "(22, 1)\n",
            "(22, 1)\n",
            "(22, 1)\n",
            "(22, 1)\n",
            "(22, 1)\n",
            "(22, 1)\n",
            "(22, 1)\n",
            "(22, 1)\n",
            "(22, 1)\n",
            "(22, 1)\n",
            "(22, 1)\n",
            "(22, 1)\n",
            "(22, 1)\n",
            "(22, 1)\n",
            "(22, 1)\n",
            "(22, 1)\n",
            "(22, 1)\n",
            "(22, 1)\n",
            "(22, 1)\n",
            "(22, 1)\n",
            "(22, 1)\n",
            "(22, 1)\n",
            "(22, 1)\n",
            "(22, 1)\n",
            "(22, 1)\n",
            "(22, 1)\n",
            "(22, 1)\n",
            "(22, 1)\n",
            "(22, 1)\n",
            "(22, 1)\n",
            "(22, 1)\n",
            "(22, 1)\n",
            "(22, 1)\n",
            "(22, 1)\n",
            "(22, 1)\n",
            "(22, 1)\n",
            "(22, 1)\n",
            "(22, 1)\n",
            "(22, 1)\n",
            "(22, 1)\n",
            "(22, 1)\n",
            "(22, 1)\n",
            "(22, 1)\n",
            "(22, 1)\n",
            "(22, 1)\n",
            "(22, 1)\n",
            "(22, 1)\n",
            "(22, 1)\n",
            "(22, 1)\n",
            "(22, 1)\n",
            "(22, 1)\n",
            "(22, 1)\n",
            "(22, 1)\n",
            "(22, 1)\n",
            "(22, 1)\n",
            "(22, 1)\n",
            "(22, 1)\n",
            "(22, 1)\n",
            "(22, 1)\n",
            "(22, 1)\n",
            "(22, 1)\n",
            "(22, 1)\n",
            "(22, 1)\n",
            "(22, 1)\n",
            "(22, 1)\n",
            "(22, 1)\n",
            "(22, 1)\n",
            "(22, 1)\n",
            "(22, 1)\n",
            "(22, 1)\n",
            "(22, 1)\n",
            "(22, 1)\n",
            "(22, 1)\n",
            "(22, 1)\n",
            "(22, 1)\n",
            "(22, 1)\n",
            "(22, 1)\n",
            "(22, 1)\n",
            "(22, 1)\n",
            "(22, 1)\n",
            "(22, 1)\n",
            "(22, 1)\n",
            "(22, 1)\n",
            "(22, 1)\n",
            "(22, 1)\n",
            "(22, 1)\n",
            "(22, 1)\n",
            "(22, 1)\n",
            "(22, 1)\n",
            "(22, 1)\n",
            "(22, 1)\n",
            "(22, 1)\n",
            "(22, 1)\n",
            "(22, 1)\n",
            "(22, 1)\n",
            "(22, 1)\n",
            "(22, 1)\n",
            "(22, 1)\n",
            "(22, 1)\n",
            "(22, 1)\n",
            "(22, 1)\n",
            "(22, 1)\n",
            "(22, 1)\n",
            "(22, 1)\n",
            "(22, 1)\n",
            "(22, 1)\n",
            "(22, 1)\n",
            "(22, 1)\n",
            "(22, 1)\n",
            "(22, 1)\n",
            "(22, 1)\n",
            "(22, 1)\n",
            "(22, 1)\n",
            "(22, 1)\n",
            "(22, 1)\n",
            "(22, 1)\n",
            "(22, 1)\n",
            "(22, 1)\n",
            "(22, 1)\n",
            "(22, 1)\n",
            "(22, 1)\n",
            "(22, 1)\n",
            "(22, 1)\n",
            "(22, 1)\n",
            "(22, 1)\n",
            "(22, 1)\n",
            "(22, 1)\n",
            "(22, 1)\n",
            "(22, 1)\n",
            "(22, 1)\n",
            "(22, 1)\n",
            "(22, 1)\n",
            "(22, 1)\n",
            "(22, 1)\n",
            "(22, 1)\n",
            "(22, 1)\n",
            "(22, 1)\n",
            "(22, 1)\n",
            "(22, 1)\n",
            "(22, 1)\n",
            "(22, 1)\n",
            "(22, 1)\n",
            "(22, 1)\n",
            "(22, 1)\n",
            "(22, 1)\n",
            "(22, 1)\n",
            "(22, 1)\n",
            "(22, 1)\n",
            "(22, 1)\n",
            "(22, 1)\n",
            "(22, 1)\n",
            "(22, 1)\n",
            "(22, 1)\n",
            "(22, 1)\n",
            "(22, 1)\n",
            "(22, 1)\n",
            "(22, 1)\n",
            "(22, 1)\n",
            "(22, 1)\n",
            "(22, 1)\n",
            "(22, 1)\n",
            "(22, 1)\n",
            "(22, 1)\n",
            "(22, 1)\n",
            "(22, 1)\n",
            "(22, 1)\n",
            "(22, 1)\n",
            "(22, 1)\n",
            "(22, 1)\n",
            "(22, 1)\n",
            "(22, 1)\n",
            "(22, 1)\n",
            "(22, 1)\n",
            "(22, 1)\n",
            "(22, 1)\n",
            "(22, 1)\n",
            "(22, 1)\n",
            "(22, 1)\n",
            "(22, 1)\n",
            "(22, 1)\n",
            "(22, 1)\n",
            "(22, 1)\n",
            "(22, 1)\n",
            "(22, 1)\n",
            "(22, 1)\n",
            "(22, 1)\n",
            "(22, 1)\n",
            "(22, 1)\n",
            "(22, 1)\n",
            "(22, 1)\n",
            "(22, 1)\n",
            "(22, 1)\n",
            "(22, 1)\n",
            "(22, 1)\n",
            "(22, 1)\n",
            "(22, 1)\n",
            "(22, 1)\n",
            "(22, 1)\n",
            "(22, 1)\n",
            "(22, 1)\n",
            "(22, 1)\n",
            "(22, 1)\n",
            "(22, 1)\n",
            "(22, 1)\n",
            "(22, 1)\n",
            "(22, 1)\n",
            "(22, 1)\n",
            "(22, 1)\n",
            "(22, 1)\n",
            "(22, 1)\n",
            "(22, 1)\n",
            "(22, 1)\n",
            "(22, 1)\n",
            "(22, 1)\n",
            "(22, 1)\n",
            "(22, 1)\n",
            "(22, 1)\n",
            "(22, 1)\n",
            "(22, 1)\n",
            "(22, 1)\n",
            "(22, 1)\n",
            "(22, 1)\n",
            "(22, 1)\n",
            "(22, 1)\n",
            "(22, 1)\n",
            "(22, 1)\n",
            "(22, 1)\n",
            "(22, 1)\n",
            "(22, 1)\n",
            "(22, 1)\n",
            "(22, 1)\n",
            "(22, 1)\n",
            "(22, 1)\n",
            "(22, 1)\n",
            "(22, 1)\n",
            "(22, 1)\n",
            "(22, 1)\n",
            "(22, 1)\n",
            "(22, 1)\n",
            "(22, 1)\n",
            "(22, 1)\n",
            "(22, 1)\n",
            "(22, 1)\n",
            "(22, 1)\n",
            "(22, 1)\n",
            "(22, 1)\n",
            "(22, 1)\n",
            "(22, 1)\n",
            "(22, 1)\n",
            "(22, 1)\n",
            "(22, 1)\n",
            "(22, 1)\n",
            "(22, 1)\n",
            "(22, 1)\n",
            "(22, 1)\n",
            "(22, 1)\n",
            "(22, 1)\n",
            "(22, 1)\n",
            "(22, 1)\n",
            "(22, 1)\n",
            "(22, 1)\n",
            "(22, 1)\n",
            "(22, 1)\n",
            "(22, 1)\n",
            "(22, 1)\n",
            "(22, 1)\n",
            "(22, 1)\n",
            "(22, 1)\n",
            "(22, 1)\n",
            "(22, 1)\n",
            "(22, 1)\n",
            "(22, 1)\n",
            "(22, 1)\n",
            "(22, 1)\n",
            "(22, 1)\n",
            "(22, 1)\n",
            "(22, 1)\n",
            "(22, 1)\n",
            "(22, 1)\n",
            "(22, 1)\n",
            "(22, 1)\n",
            "(22, 1)\n",
            "(22, 1)\n",
            "(22, 1)\n",
            "(22, 1)\n",
            "(22, 1)\n",
            "(22, 1)\n",
            "(22, 1)\n",
            "(22, 1)\n",
            "(22, 1)\n",
            "(22, 1)\n",
            "(22, 1)\n",
            "(22, 1)\n",
            "(22, 1)\n",
            "(22, 1)\n",
            "(22, 1)\n",
            "(22, 1)\n",
            "(22, 1)\n",
            "(22, 1)\n",
            "(22, 1)\n",
            "(22, 1)\n",
            "(22, 1)\n",
            "(22, 1)\n",
            "(22, 1)\n",
            "(22, 1)\n",
            "(22, 1)\n",
            "(22, 1)\n",
            "(22, 1)\n",
            "(22, 1)\n",
            "(22, 1)\n",
            "(22, 1)\n",
            "(22, 1)\n",
            "(22, 1)\n",
            "(22, 1)\n",
            "(22, 1)\n",
            "(22, 1)\n",
            "(22, 1)\n",
            "(22, 1)\n",
            "(22, 1)\n",
            "(22, 1)\n",
            "(22, 1)\n",
            "(22, 1)\n",
            "(22, 1)\n",
            "(22, 1)\n",
            "(22, 1)\n",
            "(22, 1)\n",
            "(22, 1)\n",
            "(22, 1)\n",
            "(22, 1)\n",
            "(22, 1)\n",
            "(22, 1)\n",
            "(22, 1)\n",
            "(22, 1)\n",
            "(22, 1)\n",
            "(22, 1)\n",
            "(22, 1)\n",
            "(22, 1)\n",
            "(22, 1)\n",
            "(22, 1)\n",
            "(22, 1)\n",
            "(22, 1)\n",
            "(22, 1)\n",
            "(22, 1)\n",
            "(22, 1)\n",
            "(22, 1)\n",
            "(22, 1)\n",
            "(22, 1)\n",
            "(22, 1)\n",
            "(22, 1)\n",
            "(22, 1)\n",
            "(22, 1)\n",
            "(22, 1)\n",
            "(22, 1)\n",
            "(22, 1)\n",
            "(22, 1)\n",
            "(22, 1)\n",
            "(22, 1)\n",
            "(22, 1)\n",
            "(22, 1)\n",
            "(22, 1)\n",
            "(22, 1)\n",
            "(22, 1)\n",
            "(22, 1)\n",
            "(22, 1)\n",
            "(22, 1)\n",
            "(22, 1)\n",
            "(22, 1)\n",
            "(22, 1)\n",
            "(22, 1)\n",
            "(22, 1)\n",
            "(22, 1)\n",
            "(22, 1)\n",
            "(22, 1)\n",
            "(22, 1)\n",
            "(22, 1)\n",
            "(22, 1)\n",
            "(22, 1)\n",
            "(22, 1)\n",
            "(22, 1)\n",
            "(22, 1)\n",
            "(22, 1)\n",
            "(22, 1)\n",
            "(22, 1)\n",
            "(22, 1)\n",
            "(22, 1)\n",
            "(22, 1)\n",
            "(22, 1)\n",
            "(22, 1)\n",
            "(22, 1)\n",
            "(22, 1)\n",
            "(22, 1)\n",
            "(22, 1)\n",
            "(22, 1)\n",
            "(22, 1)\n",
            "(22, 1)\n",
            "(22, 1)\n",
            "(22, 1)\n",
            "(22, 1)\n",
            "(22, 1)\n",
            "(22, 1)\n",
            "(22, 1)\n",
            "(22, 1)\n",
            "(22, 1)\n",
            "(22, 1)\n",
            "(22, 1)\n",
            "(22, 1)\n",
            "(22, 1)\n",
            "(22, 1)\n",
            "(22, 1)\n",
            "(22, 1)\n",
            "(22, 1)\n",
            "(22, 1)\n",
            "(22, 1)\n",
            "(22, 1)\n",
            "(22, 1)\n",
            "(22, 1)\n",
            "(22, 1)\n",
            "(22, 1)\n",
            "(22, 1)\n",
            "(22, 1)\n",
            "(22, 1)\n",
            "(22, 1)\n",
            "(22, 1)\n",
            "(22, 1)\n",
            "(22, 1)\n",
            "(22, 1)\n",
            "(22, 1)\n",
            "(22, 1)\n",
            "(22, 1)\n",
            "(22, 1)\n",
            "(22, 1)\n",
            "(22, 1)\n",
            "(22, 1)\n",
            "(22, 1)\n",
            "(22, 1)\n",
            "(22, 1)\n",
            "(22, 1)\n",
            "(22, 1)\n",
            "(22, 1)\n",
            "(22, 1)\n",
            "(22, 1)\n",
            "(22, 1)\n",
            "(22, 1)\n",
            "(22, 1)\n",
            "(22, 1)\n",
            "(22, 1)\n",
            "(22, 1)\n",
            "(22, 1)\n",
            "(22, 1)\n",
            "(22, 1)\n",
            "(22, 1)\n",
            "(22, 1)\n",
            "(22, 1)\n",
            "(22, 1)\n",
            "(22, 1)\n",
            "(22, 1)\n",
            "(22, 1)\n",
            "(22, 1)\n",
            "(22, 1)\n",
            "(22, 1)\n",
            "(22, 1)\n",
            "(22, 1)\n",
            "(22, 1)\n",
            "(22, 1)\n",
            "(22, 1)\n",
            "(22, 1)\n",
            "(22, 1)\n",
            "(22, 1)\n",
            "(22, 1)\n",
            "(22, 1)\n",
            "(22, 1)\n",
            "(22, 1)\n",
            "(22, 1)\n",
            "(22, 1)\n",
            "(22, 1)\n",
            "(22, 1)\n",
            "(22, 1)\n",
            "(22, 1)\n",
            "(22, 1)\n",
            "(22, 1)\n",
            "(22, 1)\n",
            "(22, 1)\n",
            "(22, 1)\n",
            "(22, 1)\n",
            "(22, 1)\n",
            "(22, 1)\n",
            "(22, 1)\n",
            "(22, 1)\n",
            "(22, 1)\n",
            "(22, 1)\n",
            "(22, 1)\n",
            "(22, 1)\n",
            "(22, 1)\n",
            "(22, 1)\n",
            "(22, 1)\n",
            "(22, 1)\n",
            "(22, 1)\n",
            "(22, 1)\n",
            "(22, 1)\n",
            "(22, 1)\n",
            "(22, 1)\n",
            "(22, 1)\n",
            "(22, 1)\n",
            "(22, 1)\n",
            "(22, 1)\n",
            "(22, 1)\n",
            "(22, 1)\n",
            "(22, 1)\n",
            "(22, 1)\n",
            "(22, 1)\n",
            "(22, 1)\n",
            "(22, 1)\n",
            "(22, 1)\n",
            "(22, 1)\n",
            "(22, 1)\n",
            "(22, 1)\n",
            "(22, 1)\n",
            "(22, 1)\n",
            "(22, 1)\n",
            "(22, 1)\n",
            "(22, 1)\n",
            "(22, 1)\n",
            "(22, 1)\n",
            "(22, 1)\n",
            "(22, 1)\n",
            "(22, 1)\n",
            "(22, 1)\n",
            "(22, 1)\n",
            "(22, 1)\n",
            "(22, 1)\n",
            "(22, 1)\n",
            "(22, 1)\n",
            "(22, 1)\n",
            "(22, 1)\n",
            "(22, 1)\n",
            "(22, 1)\n",
            "(22, 1)\n",
            "(22, 1)\n",
            "(22, 1)\n",
            "(22, 1)\n",
            "(22, 1)\n",
            "(22, 1)\n",
            "(22, 1)\n",
            "(22, 1)\n",
            "(22, 1)\n",
            "(22, 1)\n",
            "(22, 1)\n",
            "(22, 1)\n",
            "(22, 1)\n",
            "(22, 1)\n",
            "(22, 1)\n",
            "(22, 1)\n",
            "(22, 1)\n",
            "(22, 1)\n",
            "(22, 1)\n",
            "(22, 1)\n",
            "(22, 1)\n",
            "(22, 1)\n",
            "(22, 1)\n",
            "(22, 1)\n",
            "(22, 1)\n",
            "(22, 1)\n",
            "(22, 1)\n",
            "(22, 1)\n",
            "(22, 1)\n",
            "(22, 1)\n",
            "(22, 1)\n"
          ],
          "name": "stdout"
        }
      ]
    },
    {
      "cell_type": "markdown",
      "metadata": {
        "id": "KowcFHBSSAIa",
        "colab_type": "text"
      },
      "source": [
        "#### Idea 3: Broadcast everything we **can**\n",
        "\n",
        "The title for this idea speaks for itself. The only operations that cannot be broadcast are those that must be done in `cvxopt`, the only for which it is absolutely must use `cvxopt` is the sparse cholesky decomposition."
      ]
    },
    {
      "cell_type": "code",
      "metadata": {
        "id": "XkCJOA2DkdNn",
        "colab_type": "code",
        "colab": {}
      },
      "source": [
        "# TODO"
      ],
      "execution_count": 0,
      "outputs": []
    },
    {
      "cell_type": "markdown",
      "metadata": {
        "id": "pR2epLIRi95N",
        "colab_type": "text"
      },
      "source": [
        "#### Idea 4: Large sparse diagonals\n"
      ]
    },
    {
      "cell_type": "code",
      "metadata": {
        "id": "oZNddOmJi-OX",
        "colab_type": "code",
        "colab": {}
      },
      "source": [
        "# TODO"
      ],
      "execution_count": 0,
      "outputs": []
    }
  ]
}