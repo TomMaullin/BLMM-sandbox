{
  "nbformat": 4,
  "nbformat_minor": 0,
  "metadata": {
    "colab": {
      "name": "PLS_sandbox.ipynb",
      "provenance": [],
      "collapsed_sections": [
        "AS5zhoWCDZ8E",
        "2EWsCZjCQcc9",
        "rkd2LdwKLWtP",
        "RStOLwF_LlTE",
        "NzkEDjxsxHCl",
        "enYnjHWXBVmO",
        "mzUVeNWeDLmy",
        "TTQFQbRLDKmq",
        "ZFb5eO8jBWSf",
        "l1fjCdxgH3aV",
        "t9CsWWXKGk-I",
        "hqbOzGU-It3f",
        "-a7uYOZzPQ2W",
        "wW9A8JM3SRW7"
      ],
      "machine_shape": "hm",
      "include_colab_link": true
    },
    "kernelspec": {
      "name": "python3",
      "display_name": "Python 3"
    }
  },
  "cells": [
    {
      "cell_type": "markdown",
      "metadata": {
        "id": "view-in-github",
        "colab_type": "text"
      },
      "source": [
        "<a href=\"https://colab.research.google.com/github/TomMaullin/BLMM-sandbox/blob/master/PLS_sandbox.ipynb\" target=\"_parent\"><img src=\"https://colab.research.google.com/assets/colab-badge.svg\" alt=\"Open In Colab\"/></a>"
      ]
    },
    {
      "cell_type": "markdown",
      "metadata": {
        "id": "TIMtrhFKB3Ay",
        "colab_type": "text"
      },
      "source": [
        "# PLS implementation in python\n",
        "\n",
        "This code implements the PLS algorithm for estimating the parameters of linear mixed effects models as described in [Bates (2015)](https://www.jstatsoft.org/article/view/v067i01/v67i01.pdf)."
      ]
    },
    {
      "cell_type": "markdown",
      "metadata": {
        "id": "GNFQ0-MpQuBm",
        "colab_type": "text"
      },
      "source": [
        "## Pip Installations\n",
        "\n",
        "Pip install everything."
      ]
    },
    {
      "cell_type": "code",
      "metadata": {
        "id": "UX02P0KvBWJr",
        "colab_type": "code",
        "outputId": "edaa48b3-7070-4219-903f-29c8ad7052b1",
        "colab": {
          "base_uri": "https://localhost:8080/",
          "height": 600
        }
      },
      "source": [
        "!pip install numpy\n",
        "!pip install cvxopt\n",
        "!pip install pandas\n",
        "!pip install scipy\n",
        "!pip install matplotlib\n",
        "!pip install sparse\n",
        "!pip install nilearn\n",
        "!pip install nibabel\n",
        "!pip install dask"
      ],
      "execution_count": 1,
      "outputs": [
        {
          "output_type": "stream",
          "text": [
            "Requirement already satisfied: numpy in /usr/local/lib/python3.6/dist-packages (1.17.3)\n",
            "Requirement already satisfied: cvxopt in /usr/local/lib/python3.6/dist-packages (1.2.3)\n",
            "Requirement already satisfied: pandas in /usr/local/lib/python3.6/dist-packages (0.25.2)\n",
            "Requirement already satisfied: python-dateutil>=2.6.1 in /usr/local/lib/python3.6/dist-packages (from pandas) (2.6.1)\n",
            "Requirement already satisfied: pytz>=2017.2 in /usr/local/lib/python3.6/dist-packages (from pandas) (2018.9)\n",
            "Requirement already satisfied: numpy>=1.13.3 in /usr/local/lib/python3.6/dist-packages (from pandas) (1.17.3)\n",
            "Requirement already satisfied: six>=1.5 in /usr/local/lib/python3.6/dist-packages (from python-dateutil>=2.6.1->pandas) (1.12.0)\n",
            "Requirement already satisfied: scipy in /usr/local/lib/python3.6/dist-packages (1.3.1)\n",
            "Requirement already satisfied: numpy>=1.13.3 in /usr/local/lib/python3.6/dist-packages (from scipy) (1.17.3)\n",
            "Requirement already satisfied: matplotlib in /usr/local/lib/python3.6/dist-packages (3.1.1)\n",
            "Requirement already satisfied: kiwisolver>=1.0.1 in /usr/local/lib/python3.6/dist-packages (from matplotlib) (1.1.0)\n",
            "Requirement already satisfied: python-dateutil>=2.1 in /usr/local/lib/python3.6/dist-packages (from matplotlib) (2.6.1)\n",
            "Requirement already satisfied: numpy>=1.11 in /usr/local/lib/python3.6/dist-packages (from matplotlib) (1.17.3)\n",
            "Requirement already satisfied: pyparsing!=2.0.4,!=2.1.2,!=2.1.6,>=2.0.1 in /usr/local/lib/python3.6/dist-packages (from matplotlib) (2.4.2)\n",
            "Requirement already satisfied: cycler>=0.10 in /usr/local/lib/python3.6/dist-packages (from matplotlib) (0.10.0)\n",
            "Requirement already satisfied: setuptools in /usr/local/lib/python3.6/dist-packages (from kiwisolver>=1.0.1->matplotlib) (41.4.0)\n",
            "Requirement already satisfied: six>=1.5 in /usr/local/lib/python3.6/dist-packages (from python-dateutil>=2.1->matplotlib) (1.12.0)\n",
            "Requirement already satisfied: sparse in /usr/local/lib/python3.6/dist-packages (0.8.0)\n",
            "Requirement already satisfied: scipy>=0.19 in /usr/local/lib/python3.6/dist-packages (from sparse) (1.3.1)\n",
            "Requirement already satisfied: numpy in /usr/local/lib/python3.6/dist-packages (from sparse) (1.17.3)\n",
            "Requirement already satisfied: numba>=0.45 in /usr/local/lib/python3.6/dist-packages (from sparse) (0.46.0)\n",
            "Requirement already satisfied: llvmlite>=0.30.0dev0 in /usr/local/lib/python3.6/dist-packages (from numba>=0.45->sparse) (0.30.0)\n",
            "Requirement already satisfied: nilearn in /usr/local/lib/python3.6/dist-packages (0.5.2)\n",
            "Requirement already satisfied: nibabel>=2.0.2 in /usr/local/lib/python3.6/dist-packages (from nilearn) (2.3.3)\n",
            "Requirement already satisfied: six>=1.3 in /usr/local/lib/python3.6/dist-packages (from nibabel>=2.0.2->nilearn) (1.12.0)\n",
            "Requirement already satisfied: numpy>=1.7.1 in /usr/local/lib/python3.6/dist-packages (from nibabel>=2.0.2->nilearn) (1.17.3)\n",
            "Requirement already satisfied: bz2file in /usr/local/lib/python3.6/dist-packages (from nibabel>=2.0.2->nilearn) (0.98)\n",
            "Requirement already satisfied: nibabel in /usr/local/lib/python3.6/dist-packages (2.3.3)\n",
            "Requirement already satisfied: bz2file in /usr/local/lib/python3.6/dist-packages (from nibabel) (0.98)\n",
            "Requirement already satisfied: six>=1.3 in /usr/local/lib/python3.6/dist-packages (from nibabel) (1.12.0)\n",
            "Requirement already satisfied: numpy>=1.7.1 in /usr/local/lib/python3.6/dist-packages (from nibabel) (1.17.3)\n",
            "Requirement already satisfied: dask in /usr/local/lib/python3.6/dist-packages (1.1.5)\n"
          ],
          "name": "stdout"
        }
      ]
    },
    {
      "cell_type": "markdown",
      "metadata": {
        "id": "q4JYRICVBtjl",
        "colab_type": "text"
      },
      "source": [
        "\n",
        "## Python Imports\n",
        "\n",
        "\n"
      ]
    },
    {
      "cell_type": "markdown",
      "metadata": {
        "id": "YkTBWbRKQ5ah",
        "colab_type": "text"
      },
      "source": [
        "We need:\n",
        " - `numpy` for matrix handling.\n",
        " - `scipy` for minimising the likelihood.\n",
        " - `cvxopt` for sparse cholesky.\n",
        " - `pandas` for quick reading and writing of csv files.\n",
        " - `os` for basic commandline functions\n",
        " - `time` for timing functions.\n",
        " - `matplotlib` for making displays"
      ]
    },
    {
      "cell_type": "code",
      "metadata": {
        "id": "tebSlxvBBruv",
        "colab_type": "code",
        "outputId": "48a14d58-5efb-4061-bf96-5507826eda68",
        "colab": {
          "base_uri": "https://localhost:8080/",
          "height": 72
        }
      },
      "source": [
        "import numpy as np\n",
        "import cvxopt\n",
        "from cvxopt import cholmod, umfpack, amd, matrix, spmatrix, lapack\n",
        "import pandas as pd\n",
        "from scipy.optimize import root\n",
        "from scipy.optimize import minimize\n",
        "import scipy.sparse\n",
        "import os\n",
        "import time\n",
        "import matplotlib.pyplot as plt\n",
        "from matplotlib.pyplot import imshow\n",
        "import sparse\n",
        "import nibabel as nib\n",
        "import nilearn\n",
        "import sparse"
      ],
      "execution_count": 2,
      "outputs": [
        {
          "output_type": "stream",
          "text": [
            "/usr/local/lib/python3.6/dist-packages/sklearn/externals/joblib/__init__.py:15: DeprecationWarning: sklearn.externals.joblib is deprecated in 0.21 and will be removed in 0.23. Please import this functionality directly from joblib, which can be installed with: pip install joblib. If this warning is raised when loading pickled models, you may need to re-serialize those models with scikit-learn 0.21+.\n",
            "  warnings.warn(msg, category=DeprecationWarning)\n"
          ],
          "name": "stderr"
        }
      ]
    },
    {
      "cell_type": "markdown",
      "metadata": {
        "id": "ilAB3qmDMHa8",
        "colab_type": "text"
      },
      "source": [
        "## Helper Functions\n",
        "\n",
        "This section contains miscellaneous functions used to help the `PLS` function as well as the general manipulation of the Sparse Cholesky decomposition given by `cvxopt`.\n"
      ]
    },
    {
      "cell_type": "markdown",
      "metadata": {
        "id": "gOtDwtrfQk_Y",
        "colab_type": "text"
      },
      "source": [
        "\n",
        "### Sparse Cholesky Decomposition function\n",
        "\n",
        "This function takes in a square matrix **M** and outputs **P** and **L** from it's sparse cholesky decomposition of the form **PAP'=LL**'.\n",
        "\n",
        "Note: P is given as a permutation vector rather than a matrix. Also cholmod.options['supernodal'] must be set to 2.\n",
        " \n",
        "---\n",
        " \n",
        "The following inputs are required for this function:\n",
        "\n",
        "---\n",
        "\n",
        " - **M**: The matrix to be sparse cholesky decomposed as an spmatrix from the cvxopt package.\n",
        " - **perm**: Input permutation (*optional*, one will be calculated if not)\n",
        " - **retF**: Return the factorisation object or not\n",
        " - **retP**: Return the permutation or not\n",
        " - **retL**: Return the lower cholesky or not\n",
        "\n",
        "---"
      ]
    },
    {
      "cell_type": "code",
      "metadata": {
        "id": "DpyEbgrhNHzL",
        "colab_type": "code",
        "colab": {}
      },
      "source": [
        "def sparse_chol(M, perm=None, retF=False, retP=True, retL=True):\n",
        "\n",
        "    # Quick check that M is square\n",
        "    if M.size[0]!=M.size[1]:\n",
        "        raise Exception('M must be square.')\n",
        "\n",
        "    if not perm is None:\n",
        "        # Make an expression for the factorisation\n",
        "        F=cholmod.symbolic(M,p=perm)\n",
        "    else:\n",
        "        # Make an expression for the factorisation\n",
        "        F=cholmod.symbolic(M)\n",
        "\n",
        "    # Calculate the factorisation\n",
        "    cholmod.numeric(M, F)\n",
        "\n",
        "    # Empty factorisation object\n",
        "    factorisation = {}\n",
        "\n",
        "    if (retF and retL) or (retF and retP):\n",
        "\n",
        "        # Calculate the factorisation again (buggy if returning L for\n",
        "        # some reason)\n",
        "        F2=cholmod.symbolic(M,p=perm)\n",
        "        cholmod.numeric(M, F2)\n",
        "\n",
        "        # If we want to return the F object, add it to the dictionary\n",
        "        factorisation['F']=F2\n",
        "        \n",
        "    else:\n",
        "      \n",
        "      factorisation['F']=F\n",
        "\n",
        "    if retP:\n",
        "\n",
        "        # Set p to [0,...,n-1]\n",
        "        P = cvxopt.matrix(range(M.size[0]), (M.size[0],1), tc='d')\n",
        "\n",
        "        # Solve and replace p with the true permutation used\n",
        "        cholmod.solve(F, P, sys=7)\n",
        "\n",
        "        # Convert p into an integer array; more useful that way\n",
        "        P=cvxopt.matrix(np.array(P).astype(np.int64),tc='i')\n",
        "\n",
        "        # If we want to return the permutation, add it to the dictionary\n",
        "        factorisation['P']=P\n",
        "\n",
        "    if retL:\n",
        "\n",
        "        # Get the sparse cholesky factor\n",
        "        L=cholmod.getfactor(F)\n",
        "        \n",
        "        # If we want to return the factor, add it to the dictionary\n",
        "        factorisation['L']=L\n",
        "\n",
        "    # Return P and L\n",
        "    return(factorisation)"
      ],
      "execution_count": 0,
      "outputs": []
    },
    {
      "cell_type": "markdown",
      "metadata": {
        "id": "8xYlGmnNNnit",
        "colab_type": "text"
      },
      "source": [
        "### Inverse mapping function\n",
        "\n",
        "This function takes in a lower triangular \n",
        "block diagonal matrix, lambda, and maps it to the original vector of parameters, theta.\n",
        "\n",
        "---\n",
        "The following inputs are required for this function:\n",
        "\n",
        "---\n",
        "\n",
        " - **Lambda**: The sparse lower triangular block diagonal matrix.\n",
        " \n",
        "---\n"
      ]
    },
    {
      "cell_type": "code",
      "metadata": {
        "id": "59GHirQ8OGe7",
        "colab_type": "code",
        "colab": {}
      },
      "source": [
        "def inv_mapping(Lambda):\n",
        "\n",
        "    # List the unique elements of lambda (in the\n",
        "    # correct order; pandas does this, numpy does\n",
        "    # not)\n",
        "    theta = pd.unique(list(cvxopt.spmatrix.trans(Lambda)))\n",
        "    return(theta)"
      ],
      "execution_count": 0,
      "outputs": []
    },
    {
      "cell_type": "markdown",
      "metadata": {
        "id": "bsYGm--5isJY",
        "colab_type": "text"
      },
      "source": [
        "### Calculate mapping function\n",
        "\n",
        "This function takes in a vector of parameters, theta, and returns indices which maps them the to lower triangular block diagonal matrix, lambda.\n",
        "\n",
        "---\n",
        "The following inputs are required for this function:\n",
        "\n",
        "---\n",
        "\n",
        " - **nlevels**: a vector of the number of levels for each grouping factor. e.g. nlevels=[10,2] means there are 10 levels for factor 1 and 2 levels for factor 2.\n",
        " - **nparams**: a vector of the number of variables for each grouping factor. e.g. nparams=[3,4] means there are 3 variables for factor 1 and 4 variables for factor 2.\n",
        "\n",
        "All arrays must be np arrays."
      ]
    },
    {
      "cell_type": "code",
      "metadata": {
        "id": "bgZfxqOUitYh",
        "colab_type": "code",
        "colab": {}
      },
      "source": [
        "def get_mapping(nlevels, nparams):\n",
        "\n",
        "    # Work out how many factors there are\n",
        "    n_f = len(nlevels)\n",
        "\n",
        "    # Quick check that nlevels and nparams are the same length\n",
        "    if len(nlevels)!=len(nparams):\n",
        "        raise Exception('The number of parameters and number of levels should be recorded for every grouping factor.')\n",
        "\n",
        "    # Work out how many lambda components needed for each factor\n",
        "    n_lamcomps = (np.multiply(nparams,(nparams+1))/2).astype(np.int64)\n",
        "\n",
        "    # Block index is the index of the next un-indexed diagonal element\n",
        "    # of Lambda\n",
        "    block_index = 0\n",
        "\n",
        "    # Row indices and column indices of theta\n",
        "    row_indices = np.array([])\n",
        "    col_indices = np.array([])\n",
        "\n",
        "    # This will have the values of theta repeated several times, once\n",
        "    # for each time each value of theta appears in lambda\n",
        "    theta_repeated_inds = np.array([])\n",
        "    \n",
        "    # Loop through factors generating the indices to map theta to.\n",
        "    for i in range(0,n_f):\n",
        "\n",
        "        # Work out the indices of a lower triangular matrix\n",
        "        # of size #variables(factor) by #variables(factor)\n",
        "        row_inds_tri, col_inds_tri = np.tril_indices(nparams[i])\n",
        "\n",
        "        # Work out theta for this block\n",
        "        theta_current_inds = np.arange(np.sum(n_lamcomps[0:i]),np.sum(n_lamcomps[0:(i+1)]))\n",
        "\n",
        "        # Work out the repeated theta\n",
        "        theta_repeated_inds = np.hstack((theta_repeated_inds, np.tile(theta_current_inds, nlevels[i])))\n",
        "\n",
        "        # For each level of the factor we must repeat the lower\n",
        "        # triangular matrix\n",
        "        for j in range(0,nlevels[i]):\n",
        "\n",
        "            # Append the row/column indices to the running list\n",
        "            row_indices = np.hstack((row_indices, (row_inds_tri+block_index)))\n",
        "            col_indices = np.hstack((col_indices, (col_inds_tri+block_index)))\n",
        "\n",
        "            # Move onto the next block\n",
        "            block_index = block_index + nparams[i]\n",
        "\n",
        "    # Create lambda as a sparse matrix\n",
        "    #lambda_theta = spmatrix(theta_repeated.tolist(), row_indices.astype(np.int64), col_indices.astype(np.int64))\n",
        "\n",
        "    # Return lambda\n",
        "    return(theta_repeated_inds, row_indices, col_indices)"
      ],
      "execution_count": 0,
      "outputs": []
    },
    {
      "cell_type": "markdown",
      "metadata": {
        "id": "vdRkv7PrrgsI",
        "colab_type": "text"
      },
      "source": [
        "### Apply mapping function\n",
        "\n",
        "The below function applies a mapping to a vector of parameters.\n",
        "\n",
        "---\n",
        "The following inputs are required for this function:\n",
        "\n",
        "---\n",
        "\n",
        " - **theta**: the vector of theta parameters.\n",
        " - **theta_inds**: A vector specifying how many times each theta parameter should be repeated. For example, if theta=[0.1,0.8,0.3] and theta_inds=[1,1,1,2,3,3], then the values to be mapped into the sparse matrix would be [0.1,0.1,0.1,0.8,0.3,0.3].\n",
        " - **r_inds**: The row indices of the elements mapped into the sparse matrix.\n",
        " - **c_inds**: The column indices of the elements mapped into the sparse matrix.\n",
        "\n"
      ]
    },
    {
      "cell_type": "code",
      "metadata": {
        "id": "AxUv8_r0rhFv",
        "colab_type": "code",
        "colab": {}
      },
      "source": [
        "def mapping(theta, theta_inds, r_inds, c_inds):\n",
        "\n",
        "    return(spmatrix(theta[theta_inds.astype(np.int64)].tolist(), r_inds.astype(np.int64), c_inds.astype(np.int64)))\n",
        "    \n"
      ],
      "execution_count": 0,
      "outputs": []
    },
    {
      "cell_type": "markdown",
      "metadata": {
        "id": "vRhb0e2brrVI",
        "colab_type": "text"
      },
      "source": [
        "###Matrix to Vector function\n",
        "\n",
        "This function takes in a (symmetric, square) matrix and half-vectorizes it (i.e. transforms it to a vector of each of the columns of the matrix, below and including the diagonal, stacked on top of one another). Example:\n",
        "\n",
        "$$\\begin{bmatrix} a & b & c \\\\ b & d & e \\\\ c & e & f \\\\\\end{bmatrix} \\rightarrow \\begin{bmatrix} a \\\\ b \\\\ c \\\\ d \\\\ e \\\\ f \\end{bmatrix}$$."
      ]
    },
    {
      "cell_type": "code",
      "metadata": {
        "id": "9MDStAhnrrgU",
        "colab_type": "code",
        "outputId": "aa489d66-01b5-422e-e34a-5dec59bbfab1",
        "colab": {
          "base_uri": "https://localhost:8080/",
          "height": 175
        }
      },
      "source": [
        "def mat2vech(matrix):\n",
        "  \n",
        "  # Get lower triangular indices\n",
        "  rowinds, colinds = np.tril_indices(matrix.shape[0])\n",
        "  \n",
        "  # They're in the wrong order so we need to order them\n",
        "  # To do this we first hash them\n",
        "  indhash = colinds*matrix.shape[0]+rowinds\n",
        "  \n",
        "  # Sort permutation\n",
        "  perm=np.argsort(indhash)\n",
        "  \n",
        "  # Return vectorised half-matrix\n",
        "  return(np.array([matrix[rowinds[perm],colinds[perm]]]).transpose())\n",
        "\n",
        "# Example:\n",
        "matrix1 = np.eye(3,3)\n",
        "print(matrix1*matrix1.transpose())\n",
        "print(mat2vech(matrix1*matrix1.transpose()))"
      ],
      "execution_count": 7,
      "outputs": [
        {
          "output_type": "stream",
          "text": [
            "[[1. 0. 0.]\n",
            " [0. 1. 0.]\n",
            " [0. 0. 1.]]\n",
            "[[1.]\n",
            " [0.]\n",
            " [0.]\n",
            " [1.]\n",
            " [0.]\n",
            " [1.]]\n"
          ],
          "name": "stdout"
        }
      ]
    },
    {
      "cell_type": "markdown",
      "metadata": {
        "id": "AS5zhoWCDZ8E",
        "colab_type": "text"
      },
      "source": [
        "## Toy Dataset\n",
        "\n",
        "This section read ins and formats a toy dataset. The files used here were generated in `R` and with **True** values (those with postfix `True`) being those used to generate the data and **Estimated** (those with postfix `REst`) values being the estimates `R`'s `lmer` package generated from this data."
      ]
    },
    {
      "cell_type": "code",
      "metadata": {
        "id": "qy39zwuhkn4C",
        "colab_type": "code",
        "colab": {}
      },
      "source": [
        "# Make a data directory\n",
        "if not os.path.isdir('/Data'):\n",
        "  os.mkdir('/Data')\n",
        "  \n",
        "os.chdir('/Data')\n",
        "\n",
        "# Clone small git repo containg some csv files.\n",
        "if not os.path.isdir('/Data/BLMM-testdata'):\n",
        "  !git clone https://github.com/TomMaullin/BLMM-testdata.git\n",
        "  "
      ],
      "execution_count": 0,
      "outputs": []
    },
    {
      "cell_type": "markdown",
      "metadata": {
        "id": "2EWsCZjCQcc9",
        "colab_type": "text"
      },
      "source": [
        "\n",
        "### Z matrix\n",
        "\n",
        "The below reads in Z and makes an image of Z transpose.\n"
      ]
    },
    {
      "cell_type": "code",
      "metadata": {
        "id": "aoKOwHqcEKDT",
        "colab_type": "code",
        "outputId": "6c0f6c59-7893-4631-b2b9-093db20a02de",
        "colab": {
          "base_uri": "https://localhost:8080/",
          "height": 0
        }
      },
      "source": [
        "# Read in random effects design matrix and convert it into it's sparse format in\n",
        "# cvxopt.\n",
        "Z_3col=pd.read_csv('/Data/BLMM-testdata/Z_3col.csv',header=None).values\n",
        "Z = cvxopt.spmatrix(Z_3col[:,2].tolist(), (Z_3col[:,0]-1).astype(np.int64), \\\n",
        "                    (Z_3col[:,1]-1).astype(np.int64))\n",
        "\n",
        "# Create an image of Z'\n",
        "imshow(np.array(cvxopt.matrix(cvxopt.spmatrix.trans(Z))), \\\n",
        "       interpolation='nearest', vmin=-5, vmax=5, aspect='auto')\n",
        "\n"
      ],
      "execution_count": 9,
      "outputs": [
        {
          "output_type": "execute_result",
          "data": {
            "text/plain": [
              "<matplotlib.image.AxesImage at 0x7f9fd09d7940>"
            ]
          },
          "metadata": {
            "tags": []
          },
          "execution_count": 9
        },
        {
          "output_type": "display_data",
          "data": {
            "image/png": "[encoded data removed]",
            "text/plain": [
              "<Figure size 432x288 with 1 Axes>"
            ]
          },
          "metadata": {
            "tags": []
          }
        }
      ]
    },
    {
      "cell_type": "markdown",
      "metadata": {
        "id": "rkd2LdwKLWtP",
        "colab_type": "text"
      },
      "source": [
        "### Estimated Random Effects matrix\n",
        "\n",
        "The below reads in the Random effects variance predicted by `R`'s `lmer`."
      ]
    },
    {
      "cell_type": "code",
      "metadata": {
        "id": "tOqQRAROqdkv",
        "colab_type": "code",
        "colab": {}
      },
      "source": [
        "# Read in estimated variance\n",
        "RFXVar_REst =pd.read_csv('/Data/BLMM-testdata/estd_rfxvar.csv',header=None).values\n",
        "\n",
        "# The RFX variance was stored in a strange way so we need to reformat slightly\n",
        "RFXVar_REst = spmatrix(RFXVar_REst[RFXVar_REst!=0],[0,0,1,1,2,2,3,3],[0,1,0,1,2,3,2,3])"
      ],
      "execution_count": 0,
      "outputs": []
    },
    {
      "cell_type": "markdown",
      "metadata": {
        "id": "eKE_Rr53qeHx",
        "colab_type": "text"
      },
      "source": [
        "### Estimated Theta\n",
        "\n",
        "The below calculates and outputs the `theta` parameter values which `lmer` estimated."
      ]
    },
    {
      "cell_type": "code",
      "metadata": {
        "id": "DeaYoXU0Lnlr",
        "colab_type": "code",
        "outputId": "68f33ff1-625f-4306-e189-7574806b0384",
        "colab": {
          "base_uri": "https://localhost:8080/",
          "height": 0
        }
      },
      "source": [
        "# We now need the Sparse Cholesky decomposition of the RFX variance to obtain \n",
        "# the theta values.\n",
        "f = sparse_chol(RFXVar_REst)\n",
        "\n",
        "# We map the L matrix from the decomposition to theta\n",
        "theta_REst = inv_mapping(f['L'])\n",
        "\n",
        "# This is the desired outcome/theta value of the PLS algorithm. It should match \n",
        "# the R output.\n",
        "print(theta_REst)"
      ],
      "execution_count": 11,
      "outputs": [
        {
          "output_type": "stream",
          "text": [
            "[ 1.11365482  0.32356815  2.22872418  4.54822071 -0.17500295  0.42370817]\n"
          ],
          "name": "stdout"
        }
      ]
    },
    {
      "cell_type": "markdown",
      "metadata": {
        "id": "RStOLwF_LlTE",
        "colab_type": "text"
      },
      "source": [
        "### Y vector\n",
        "\n",
        "The response vector is read in here:"
      ]
    },
    {
      "cell_type": "code",
      "metadata": {
        "id": "DG8eWNdpPQOs",
        "colab_type": "code",
        "colab": {}
      },
      "source": [
        "Y=matrix(pd.read_csv('/Data/BLMM-testdata/Y.csv',header=None).values)"
      ],
      "execution_count": 0,
      "outputs": []
    },
    {
      "cell_type": "markdown",
      "metadata": {
        "id": "RHm6DjdbPTvg",
        "colab_type": "text"
      },
      "source": [
        "### X matrix\n",
        "\n",
        "The fixed effects design matrix is read in here. It consists of an intercept and two random (Gaussian) columns.\n"
      ]
    },
    {
      "cell_type": "code",
      "metadata": {
        "id": "xqTKH4n_Po8e",
        "colab_type": "code",
        "outputId": "b7a3c366-7ac1-4755-98ea-3d4925bbf23a",
        "colab": {
          "base_uri": "https://localhost:8080/",
          "height": 0
        }
      },
      "source": [
        "X=matrix(pd.read_csv('/Data/BLMM-testdata/X.csv',header=None).values)\n",
        "\n",
        "# Image of the first 20 rows of X\n",
        "imshow(X[1:20,:])"
      ],
      "execution_count": 13,
      "outputs": [
        {
          "output_type": "execute_result",
          "data": {
            "text/plain": [
              "<matplotlib.image.AxesImage at 0x7f9fd051d860>"
            ]
          },
          "metadata": {
            "tags": []
          },
          "execution_count": 13
        },
        {
          "output_type": "display_data",
          "data": {
            "image/png": "[encoded data removed]",
            "text/plain": [
              "<Figure size 432x288 with 1 Axes>"
            ]
          },
          "metadata": {
            "tags": []
          }
        }
      ]
    },
    {
      "cell_type": "markdown",
      "metadata": {
        "id": "W_sXGD8qzskp",
        "colab_type": "text"
      },
      "source": [
        "### Number of Levels and Parameters\n",
        "\n",
        "The number of levels is given by a vector with one entry for each grouping factor. e.g. nlevels=[10,2] means there are 10 levels for factor 1 and 2 levels for factor 2. \n",
        "\n",
        "The number of parameters is given by a vector with one entry for each grouping factor. e.g. nparams=[3,4] means there are 3 variables for factor 1 and 4 variables for factor 2."
      ]
    },
    {
      "cell_type": "code",
      "metadata": {
        "id": "_e5bUA2DztCf",
        "colab_type": "code",
        "colab": {}
      },
      "source": [
        "nlevels = np.array([20,3])\n",
        "nparams = np.array([2,2])\n",
        "\n",
        "# Number of subjects\n",
        "n = X.size[0]"
      ],
      "execution_count": 0,
      "outputs": []
    },
    {
      "cell_type": "markdown",
      "metadata": {
        "id": "0byKXygpCa1P",
        "colab_type": "text"
      },
      "source": [
        "### True b values\n",
        "\n",
        "The true recorded values of the random effects b vector in this example."
      ]
    },
    {
      "cell_type": "code",
      "metadata": {
        "id": "LzwuuWSdCbCJ",
        "colab_type": "code",
        "colab": {}
      },
      "source": [
        "b_True=matrix(pd.read_csv('/Data/BLMM-testdata/true_b.csv',header=None).values)"
      ],
      "execution_count": 0,
      "outputs": []
    },
    {
      "cell_type": "markdown",
      "metadata": {
        "id": "Bvfns6c-CbPd",
        "colab_type": "text"
      },
      "source": [
        "### True beta values\n",
        "\n",
        "The true fixed effects parameters used to generate this example."
      ]
    },
    {
      "cell_type": "code",
      "metadata": {
        "id": "mlvolWwvCbbP",
        "colab_type": "code",
        "colab": {}
      },
      "source": [
        "beta_True=matrix(pd.read_csv('/Data/BLMM-testdata/true_beta.csv',header=None).values)"
      ],
      "execution_count": 0,
      "outputs": []
    },
    {
      "cell_type": "markdown",
      "metadata": {
        "id": "BjWoiZtYyuRh",
        "colab_type": "text"
      },
      "source": [
        "### Product Matrices\n",
        "\n",
        "It is useful to calculate all product of matrices before hand as it is both more computationally efficient and also similar to the setting we are interested in. In `cvxopt`, transposing matrices is surprisingly costly in terms of time so even transposes are calculated here to save them having to be recalculated during each iteration of the minimisation."
      ]
    },
    {
      "cell_type": "code",
      "metadata": {
        "id": "UMX_8BRYzFhN",
        "colab_type": "code",
        "colab": {}
      },
      "source": [
        "# Z tranpose X\n",
        "ZtX=cvxopt.spmatrix.trans(Z)*X\n",
        "\n",
        "# Z tranpose Y\n",
        "ZtY=cvxopt.spmatrix.trans(Z)*Y\n",
        "\n",
        "# X tranpose X\n",
        "XtX=cvxopt.matrix.trans(X)*X\n",
        "\n",
        "# Z tranpose Z\n",
        "ZtZ=cvxopt.spmatrix.trans(Z)*Z\n",
        "\n",
        "# X tranpose Y\n",
        "XtY=cvxopt.matrix.trans(X)*Y\n",
        "\n",
        "# Y tranpose X\n",
        "YtX=cvxopt.matrix.trans(Y)*X\n",
        "\n",
        "# Y transpose Z\n",
        "YtZ=cvxopt.matrix.trans(Y)*Z\n",
        "\n",
        "# X tranpose Z\n",
        "XtZ=cvxopt.matrix.trans(X)*Z\n",
        "\n",
        "# Y tranpose Y\n",
        "YtY=cvxopt.matrix.trans(Y)*Y"
      ],
      "execution_count": 0,
      "outputs": []
    },
    {
      "cell_type": "markdown",
      "metadata": {
        "id": "RhOHZ6F2DU5e",
        "colab_type": "text"
      },
      "source": [
        "## Calculating the Minimised Log-Likelihood\n",
        "\n",
        "To calculate the minimised log-likelihood the method given by Bates (2015) is used. This involves minimising for a parameter vector theta, a penalized least squares function which is based on the sparse cholesky decomposition."
      ]
    },
    {
      "cell_type": "markdown",
      "metadata": {
        "id": "jVtC2_vLtsY2",
        "colab_type": "text"
      },
      "source": [
        "### PLS function\n",
        "\n",
        "This function calculates the log likelihood value for parameter vector theta using **P**enalized **L**east **S**quares..\n",
        "\n",
        "---\n",
        "\n",
        "The following inputs are required for this function:\n",
        "\n",
        "---\n",
        "\n",
        " - **theta**: The parameter estimate.\n",
        " - **ZtX**: Z transpose multiplied by X.\n",
        " - **ZtY**: Z transpose multiplied by Y.\n",
        " - **XtX**: X transpose multiplied by X.\n",
        " - **ZtZ**: Z transpose multiplied by Z.\n",
        " - **XtY**: X transpose multiplied by Y.\n",
        " - **YtX**: Y transpose multiplied by X.\n",
        " - **YtZ**: Y transpose multiplied by Z.\n",
        " - **XtZ**: X transpose multiplied by Z.\n",
        " - **YtY**: Y transpose multiplied by Y.\n",
        " - **P**: The sparse permutation for Lamda'Z'ZLambda+I\n",
        " - **tinds**: A vector specifying how many times each theta parameter should be repeated. For example, if theta=[0.1,0.8,0.3] and theta_inds=[1,1,1,2,3,3], then the values to be mapped into the sparse matrix would be [0.1,0.1,0.1,0.8,0.3,0.3].\n",
        " - **r_inds**: The row indices of the elements mapped into the sparse matrix.\n",
        " - **c_inds**: The column indices of the elements mapped into the sparse matrix."
      ]
    },
    {
      "cell_type": "code",
      "metadata": {
        "id": "PR3bUshSts74",
        "colab_type": "code",
        "colab": {}
      },
      "source": [
        "def PLS(theta, ZtX, ZtY, XtX, ZtZ, XtY, YtX, YtZ, XtZ, YtY, n, P, I, tinds, rinds, cinds):\n",
        "\n",
        "    # Obtain Lambda\n",
        "    t1 = time.time()\n",
        "    Lambda = mapping(theta, tinds, rinds, cinds)\n",
        "    t2 = time.time()\n",
        "    #print(t2-t1)#3.170967102050781e-05   9\n",
        "    \n",
        "    \n",
        "    # Obtain Lambda'\n",
        "    t1 = time.time()\n",
        "    Lambdat = spmatrix.trans(Lambda)\n",
        "    t2 = time.time()\n",
        "    #print(t2-t1)# 3.5762786865234375e-06\n",
        "\n",
        "    # Obtain Lambda'Z'Y and Lambda'Z'X\n",
        "    t1 = time.time()\n",
        "    LambdatZtY = Lambdat*ZtY\n",
        "    LambdatZtX = Lambdat*ZtX\n",
        "    t2 = time.time()\n",
        "    #print(t2-t1)#1.049041748046875e-05   13\n",
        "    \n",
        "    # Obtain the cholesky decomposition\n",
        "    t1 = time.time()\n",
        "    LambdatZtZLambda = Lambdat*(ZtZ*Lambda)\n",
        "    t2 = time.time()\n",
        "    #print(t2-t1)#3.790855407714844e-05   2\n",
        "    \n",
        "    t1 = time.time()\n",
        "    chol_dict = sparse_chol(LambdatZtZLambda+I, perm=P, retF=True, retP=False, retL=False)\n",
        "    F = chol_dict['F']\n",
        "    t2 = time.time()\n",
        "    #print(t2-t1)#0.0001342296600341797   1\n",
        "\n",
        "    # Obtain C_u (annoyingly solve writes over the second argument,\n",
        "    # whereas spsolve outputs)\n",
        "    t1 = time.time()\n",
        "    Cu = LambdatZtY[P,:]\n",
        "    cholmod.solve(F,Cu,sys=4)\n",
        "    t2 = time.time()\n",
        "    #print(t2-t1)#1.5974044799804688e-05   5\n",
        "\n",
        "    # Obtain RZX\n",
        "    t1 = time.time()\n",
        "    RZX = LambdatZtX[P,:]\n",
        "    cholmod.solve(F,RZX,sys=4)\n",
        "    t2 = time.time()\n",
        "    #print(t2-t1)#1.2159347534179688e-05   7\n",
        "\n",
        "    # Obtain RXtRX\n",
        "    t1 = time.time()\n",
        "    RXtRX = XtX - matrix.trans(RZX)*RZX\n",
        "    t2 = time.time()\n",
        "    #print(t2-t1)#9.775161743164062e-06  11\n",
        "\n",
        "    # Obtain beta estimates (note: gesv also replaces the second\n",
        "    # argument)\n",
        "    t1 = time.time()\n",
        "    betahat = XtY - matrix.trans(RZX)*Cu\n",
        "    lapack.posv(RXtRX, betahat)\n",
        "    t2 = time.time()\n",
        "    #print(t2-t1)#1.7404556274414062e-05   6\n",
        "\n",
        "    # Obtain u estimates\n",
        "    t1 = time.time()\n",
        "    uhat = Cu-RZX*betahat\n",
        "    cholmod.solve(F,uhat,sys=5)\n",
        "    cholmod.solve(F,uhat,sys=8)\n",
        "    t2 = time.time()\n",
        "    #print(t2-t1)#1.2874603271484375e-05   8\n",
        "    \n",
        "    # Obtain b estimates\n",
        "    t1 = time.time()\n",
        "    bhat = Lambda*uhat\n",
        "    t2 = time.time()\n",
        "    #print(t2-t1)#2.86102294921875e-06  15\n",
        "    \n",
        "    # Obtain residuals sum of squares\n",
        "    t1 = time.time()\n",
        "    resss = YtY-2*YtX*betahat-2*YtZ*bhat+2*matrix.trans(betahat)*XtZ*bhat+matrix.trans(betahat)*XtX*betahat+matrix.trans(bhat)*ZtZ*bhat\n",
        "    t2 = time.time()\n",
        "    #print(t2-t1)#3.409385681152344e-05   4\n",
        "    \n",
        "    # Obtain penalised residual sum of squares\n",
        "    t1 = time.time()\n",
        "    pss = resss + matrix.trans(uhat)*uhat\n",
        "    t2 = time.time()\n",
        "    #print(t2-t1)#2.6226043701171875e-06  16\n",
        "    \n",
        "    # Obtain Log(|L|^2)\n",
        "    t1 = time.time()\n",
        "    logdet = 2*sum(cvxopt.log(cholmod.diag(F)))\n",
        "    t2 = time.time()\n",
        "    #print(t2-t1)#1.5735626220703125e-05   14\n",
        "    \n",
        "    # Obtain log likelihood\n",
        "    t1 = time.time()\n",
        "    logllh = -logdet/2-n/2*(1+np.log(2*np.pi*pss[0,0])-np.log(n))\n",
        "    t2 = time.time()\n",
        "    #print(t2-t1)#4.506111145019531e-05   3\n",
        "    \n",
        "    return(-logllh)"
      ],
      "execution_count": 0,
      "outputs": []
    },
    {
      "cell_type": "markdown",
      "metadata": {
        "id": "NzkEDjxsxHCl",
        "colab_type": "text"
      },
      "source": [
        "## Minimising the Log-Likelihood\n",
        "\n",
        "To minimise the log-likelihood  we use the `scipy optimize` functions on the PLS algorithm. "
      ]
    },
    {
      "cell_type": "code",
      "metadata": {
        "id": "UwPiugXwyFpW",
        "colab_type": "code",
        "outputId": "719148db-e616-4341-8c3e-1a5fad21dd13",
        "colab": {
          "base_uri": "https://localhost:8080/",
          "height": 0
        }
      },
      "source": [
        "# Initial theta value. Bates (2005) suggests using vec(I) where I is the identity matrix\n",
        "theta0=np.array([1,0,1,1,0,1])\n",
        "\n",
        "# Obtain a random Lambda matrix with the correct sparsity for the permutation vector\n",
        "tinds,rinds,cinds=get_mapping(nlevels, nparams)\n",
        "Lam=mapping(np.random.randn(6),tinds,rinds,cinds)\n",
        "\n",
        "# Obtain Lambda'Z'ZLambda\n",
        "LamtZt = spmatrix.trans(Lam)*spmatrix.trans(Z)\n",
        "LamtZtZLam = LamtZt*spmatrix.trans(LamtZt)\n",
        "\n",
        "# Obtaining permutation for PLS\n",
        "P=cvxopt.amd.order(LamtZtZLam)\n",
        "\n",
        "# Identity (Actually quicker to calculate outside of estimation)\n",
        "I = spmatrix(1.0, range(Lam.size[0]), range(Lam.size[0]))\n",
        "\n",
        "# Set cholmod options\n",
        "cholmod.options['supernodal']=2\n",
        "\n",
        "# Obtain estimate using `Nelder-Mead`\n",
        "theta_Est_nm=minimize(PLS, theta0, args=(ZtX, ZtY, XtX, ZtZ, XtY, YtX, YtZ, XtZ, YtY, n, P, I, tinds, rinds, cinds), method='Nelder-Mead', tol=1e-6).x\n",
        "\n",
        "# Obtain estimate using `Powell`\n",
        "theta_Est_pow=minimize(PLS, theta0, args=(ZtX, ZtY, XtX, ZtZ, XtY, YtX, YtZ, XtZ, YtY, n, P, I, tinds, rinds, cinds), method='Powell', tol=1e-6).x\n",
        "\n",
        "# Obtain estimate using `CG`\n",
        "theta_Est_cg=minimize(PLS, theta0, args=(ZtX, ZtY, XtX, ZtZ, XtY, YtX, YtZ, XtZ, YtY, n, P, I, tinds, rinds, cinds), method='CG', tol=1e-6).x\n",
        "\n",
        "# Obtain estimate using `BFGS`\n",
        "theta_Est_bfgs=minimize(PLS, theta0, args=(ZtX, ZtY, XtX, ZtZ, XtY, YtX, YtZ, XtZ, YtY, n, P, I, tinds, rinds, cinds), method='BFGS', tol=1e-6).x\n",
        "\n",
        "# Obtain estimate using `L-BFGS-B`\n",
        "theta_Est_lbfgsb=minimize(PLS, theta0, args=(ZtX, ZtY, XtX, ZtZ, XtY, YtX, YtZ, XtZ, YtY, n, P, I, tinds, rinds, cinds), method='L-BFGS-B', tol=1e-6).x\n",
        "\n",
        "# Obtain estimate using `TNC`\n",
        "theta_Est_tnc=minimize(PLS, theta0, args=(ZtX, ZtY, XtX, ZtZ, XtY, YtX, YtZ, XtZ, YtY, n, P, I, tinds, rinds, cinds), method='TNC', tol=1e-6).x\n",
        "\n",
        "# Obtain estimate using `COBYLA`\n",
        "theta_Est_cobyla=minimize(PLS, theta0, args=(ZtX, ZtY, XtX, ZtZ, XtY, YtX, YtZ, XtZ, YtY, n, P, I, tinds, rinds, cinds), method='COBYLA', tol=1e-6).x\n",
        "\n",
        "# Obtain estimate using `SLSQP`\n",
        "theta_Est_slsqp=minimize(PLS, theta0, args=(ZtX, ZtY, XtX, ZtZ, XtY, YtX, YtZ, XtZ, YtY, n, P, I, tinds, rinds, cinds), method='SLSQP', tol=1e-6).x\n",
        "\n",
        "# Obtain estimate using `trust-constr`\n",
        "theta_Est_trcon=minimize(PLS, theta0, args=(ZtX, ZtY, XtX, ZtZ, XtY, YtX, YtZ, XtZ, YtY, n, P, I, tinds, rinds, cinds), method='trust-constr', tol=1e-6).x\n",
        "\n",
        "# Print lmer estimate\n",
        "print('Lmer Estimate')\n",
        "print(theta_REst)\n",
        "\n",
        "# Print estimates\n",
        "print('Nelder-Mead Python Estimate')\n",
        "print(theta_Est_nm)\n",
        "print('Powell Python Estimate')\n",
        "print(theta_Est_pow)\n",
        "print('CG Python Estimate')\n",
        "print(theta_Est_cg)\n",
        "print('BFGS Python Estimate')\n",
        "print(theta_Est_bfgs)\n",
        "print('L-BFGS-B Python Estimate')\n",
        "print(theta_Est_lbfgsb)\n",
        "print('TNC Python Estimate')\n",
        "print(theta_Est_tnc)\n",
        "print('COBYLA Python Estimate')\n",
        "print(theta_Est_cobyla)\n",
        "print('SLSQP Python Estimate')\n",
        "print(theta_Est_slsqp)\n",
        "print('trust-constr Python Estimate')\n",
        "print(theta_Est_trcon)\n"
      ],
      "execution_count": 19,
      "outputs": [
        {
          "output_type": "stream",
          "text": [
            "Lmer Estimate\n",
            "[ 1.11365482  0.32356815  2.22872418  4.54822071 -0.17500295  0.42370817]\n",
            "Nelder-Mead Python Estimate\n",
            "[ 1.11126947  0.32242321  2.2240467   4.53967691 -0.17465665  0.42288958]\n",
            "Powell Python Estimate\n",
            "[ 1.11126202  0.32242066  2.22404517  4.53963679 -0.17464939 -0.42289163]\n",
            "CG Python Estimate\n",
            "[ 1.11097483  0.32486049  2.2204823   4.46851015 -0.17170456  0.42445066]\n",
            "BFGS Python Estimate\n",
            "[ 1.1133477   0.32432107  2.23520283  4.73015087 -0.19917473  0.4166644 ]\n",
            "L-BFGS-B Python Estimate\n",
            "[ 1.11069312  0.32626445  2.22179103  4.43127593 -0.17151019  0.42308999]\n",
            "TNC Python Estimate\n",
            "[ 1.317788    0.08469002  2.24681162  3.09562961 -0.04547548  0.38196296]\n",
            "COBYLA Python Estimate\n",
            "[ 1.11129921  0.32238177  2.22400895  4.51698988 -0.17302663  0.42316139]\n",
            "SLSQP Python Estimate\n",
            "[ 1.1119122   0.31467079  2.22144594  4.39343954 -0.16444859  0.42634387]\n",
            "trust-constr Python Estimate\n",
            "[ 1.11011197  0.32224344  2.22245804  4.51683091 -0.1711171   0.42292119]\n"
          ],
          "name": "stdout"
        }
      ]
    },
    {
      "cell_type": "markdown",
      "metadata": {
        "id": "HxNYlQkQ_asL",
        "colab_type": "text"
      },
      "source": [
        "### Time efficiency\n",
        "\n",
        "The below runs each method 100 times and works out the average time taken to produce the estimates. In this example, it is clear that `Powell` performs much quicker than `Nelder-Mead`. From now on, in the following sections `Powell` is the default method used."
      ]
    },
    {
      "cell_type": "code",
      "metadata": {
        "id": "MYq_1-3U_nMn",
        "colab_type": "code",
        "outputId": "a8ff8143-9cd6-46ae-cb5c-592ab7816121",
        "colab": {
          "base_uri": "https://localhost:8080/",
          "height": 0
        }
      },
      "source": [
        "# Average time\n",
        "time_nm = 0;\n",
        "time_p = 0;\n",
        "time_cg = 0;\n",
        "time_bfgs = 0;\n",
        "time_lbfgsb = 0;\n",
        "time_tnc = 0;\n",
        "time_cobyla = 0;\n",
        "time_slsqp = 0;\n",
        "time_trcon = 0;\n",
        "\n",
        "# Number of iterations\n",
        "n = 10;\n",
        "\n",
        "for i in range(n):\n",
        "  \n",
        "  # Obtain estimate using `Nelder-Mead`\n",
        "  t1 = time.time()\n",
        "  theta_Est_nm=minimize(PLS, theta0, args=(ZtX, ZtY, XtX, ZtZ, XtY, YtX, YtZ, XtZ, YtY, n, P, I, tinds, rinds, cinds), method='Nelder-Mead', tol=1e-6).x\n",
        "  t2 = time.time()\n",
        "  time_nm = time_nm + t2 - t1\n",
        "  \n",
        "  # Obtain estimate using `Powell`\n",
        "  t1 = time.time()\n",
        "  theta_Est_p=minimize(PLS, theta0, args=(ZtX, ZtY, XtX, ZtZ, XtY, YtX, YtZ, XtZ, YtY, n, P, I, tinds, rinds, cinds), method='Powell', tol=1e-6).x\n",
        "  t2 = time.time()\n",
        "  time_p = time_p + t2 - t1\n",
        "  \n",
        "  # Obtain estimate using `CG`\n",
        "  t1 = time.time()\n",
        "  theta_Est_cg=minimize(PLS, theta0, args=(ZtX, ZtY, XtX, ZtZ, XtY, YtX, YtZ, XtZ, YtY, n, P, I, tinds, rinds, cinds), method='CG', tol=1e-6).x\n",
        "  t2 = time.time()\n",
        "  time_cg = time_cg + t2 - t1\n",
        "  \n",
        "  # Obtain estimate using `BFGS`\n",
        "  t1 = time.time()\n",
        "  theta_Est_bfgs=minimize(PLS, theta0, args=(ZtX, ZtY, XtX, ZtZ, XtY, YtX, YtZ, XtZ, YtY, n, P, I, tinds, rinds, cinds), method='BFGS', tol=1e-6).x\n",
        "  t2 = time.time()\n",
        "  time_bfgs = time_bfgs + t2 - t1\n",
        "  \n",
        "  # Obtain estimate using `L-BFGS-B`\n",
        "  t1 = time.time()\n",
        "  theta_Est_lbfgsb=minimize(PLS, theta0, args=(ZtX, ZtY, XtX, ZtZ, XtY, YtX, YtZ, XtZ, YtY, n, P, I, tinds, rinds, cinds), method='L-BFGS-B', tol=1e-6).x\n",
        "  t2 = time.time()\n",
        "  time_lbfgsb = time_lbfgsb + t2 - t1\n",
        "\n",
        "  # Obtain estimate using `TNC`\n",
        "  t1 = time.time()\n",
        "  theta_Est_tnc=minimize(PLS, theta0, args=(ZtX, ZtY, XtX, ZtZ, XtY, YtX, YtZ, XtZ, YtY, n, P, I, tinds, rinds, cinds), method='TNC', tol=1e-6).x\n",
        "  t2 = time.time()\n",
        "  time_tnc = time_tnc + t2 - t1\n",
        "  \n",
        "  # Obtain estimate using `COBYLA`\n",
        "  t1 = time.time()\n",
        "  theta_Est_cobyla=minimize(PLS, theta0, args=(ZtX, ZtY, XtX, ZtZ, XtY, YtX, YtZ, XtZ, YtY, n, P, I, tinds, rinds, cinds), method='COBYLA', tol=1e-6).x\n",
        "  t2 = time.time()\n",
        "  time_cobyla = time_cobyla + t2 - t1\n",
        "  \n",
        "  # Obtain estimate using `SLSQP`\n",
        "  t1 = time.time()\n",
        "  theta_Est_slsqp=minimize(PLS, theta0, args=(ZtX, ZtY, XtX, ZtZ, XtY, YtX, YtZ, XtZ, YtY, n, P, I, tinds, rinds, cinds), method='SLSQP', tol=1e-6).x\n",
        "  t2 = time.time()\n",
        "  time_slsqp = time_slsqp + t2 - t1\n",
        "\n",
        "  # Obtain estimate using `trust-constr`\n",
        "  t1 = time.time()\n",
        "  theta_Est_trcon=minimize(PLS, theta0, args=(ZtX, ZtY, XtX, ZtZ, XtY, YtX, YtZ, XtZ, YtY, n, P, I, tinds,rinds, cinds), method='trust-constr', tol=1e-6).x\n",
        "  t2 = time.time()\n",
        "  time_trcon = time_trcon + t2 - t1\n",
        "\n",
        "  \n",
        "\n",
        "# Convert to averages\n",
        "time_nm = time_nm/n\n",
        "time_p = time_p/n\n",
        "time_cg = time_cg/n\n",
        "time_bfgs = time_bfgs/n\n",
        "time_lbfgsb = time_lbfgsb/n\n",
        "time_tnc = time_tnc/n\n",
        "time_cobyla = time_cobyla/n\n",
        "time_slsqp = time_slsqp/n\n",
        "time_trcon = time_trcon/n\n",
        "\n",
        "# Print\n",
        "print('Average Nelder-Mead estimation time:')\n",
        "print(time_nm)\n",
        "print('Average Powell estimation time:')\n",
        "print(time_p)\n",
        "print('Average CG estimation time:')\n",
        "print(time_cg)\n",
        "print('Average BFGS estimation time:')\n",
        "print(time_bfgs)\n",
        "print('Average L-BFGS-B estimation time:')\n",
        "print(time_lbfgsb)\n",
        "print('Average TNC estimation time:')\n",
        "print(time_tnc)\n",
        "print('Average COBYLA estimation time:')\n",
        "print(time_cobyla)\n",
        "print('Average SLSQP estimation time:')\n",
        "print(time_slsqp)\n",
        "print('Average trust-contstr estimation time:')\n",
        "print(time_trcon)"
      ],
      "execution_count": 20,
      "outputs": [
        {
          "output_type": "stream",
          "text": [
            "Average Nelder-Mead estimation time:\n",
            "0.25483849048614504\n",
            "Average Powell estimation time:\n",
            "0.047246265411376956\n",
            "Average CG estimation time:\n",
            "0.30346438884735105\n",
            "Average BFGS estimation time:\n",
            "0.17444200515747071\n",
            "Average L-BFGS-B estimation time:\n",
            "0.0746377944946289\n",
            "Average TNC estimation time:\n",
            "0.12482931613922119\n",
            "Average COBYLA estimation time:\n",
            "0.16047990322113037\n",
            "Average SLSQP estimation time:\n",
            "0.05490419864654541\n",
            "Average trust-contstr estimation time:\n",
            "0.3088963747024536\n"
          ],
          "name": "stdout"
        }
      ]
    },
    {
      "cell_type": "markdown",
      "metadata": {
        "id": "_Nazpuh-A5vx",
        "colab_type": "text"
      },
      "source": [
        "## Scaling up the computation (Two voxels)\n",
        "\n",
        "This section has several implemented ideas for scaling up the computation to compute several similar models at once. For simplicity it is assumed here that X and Z are the same across voxels."
      ]
    },
    {
      "cell_type": "markdown",
      "metadata": {
        "id": "enYnjHWXBVmO",
        "colab_type": "text"
      },
      "source": [
        "### Toy data for Neighbouring voxel\n",
        "\n",
        "To assess the potential of the following ideas a toy data example is created below. The idea behind this is that we wish to calculate both the model in the example used in the previous sections and, additionally a similar model from a neighbouring voxel (variables related to the neighbouring voxel will have postfix `_n`). \n",
        "\n",
        "This is not a rigourous test, but just a toy example to see if we can lower the computational time in an example vaguely similar to what we may expect in reality."
      ]
    },
    {
      "cell_type": "markdown",
      "metadata": {
        "id": "mzUVeNWeDLmy",
        "colab_type": "text"
      },
      "source": [
        "#### Beta vector\n",
        "\n",
        "In a neighbouring voxel, we would expect similar Beta values but not necessarily the same. To simulate this, I have added some normal noise with variance, 1/2, to the original beta values to obtain a new beta value."
      ]
    },
    {
      "cell_type": "code",
      "metadata": {
        "id": "5hKzWuueBbeI",
        "colab_type": "code",
        "outputId": "2d61a8bc-0c33-46d7-db77-a94efff3783f",
        "colab": {
          "base_uri": "https://localhost:8080/",
          "height": 0
        }
      },
      "source": [
        "# Given a beta vector this function makes a beta \n",
        "# vector for the neighbouring voxel\n",
        "def beta_n(beta):\n",
        "  return(beta + cvxopt.normal(beta.size[0],1)/np.sqrt(2))\n",
        "\n",
        "# Example\n",
        "beta_True_n = beta_n(beta_True)\n",
        "  \n",
        "# print betas for comparison\n",
        "print(\"Beta for voxel 1\")\n",
        "print(beta_True)\n",
        "print(\"Beta for voxel 2\")\n",
        "print(beta_True_n)"
      ],
      "execution_count": 21,
      "outputs": [
        {
          "output_type": "stream",
          "text": [
            "Beta for voxel 1\n",
            "[ 1]\n",
            "[ 2]\n",
            "[ 3]\n",
            "\n",
            "Beta for voxel 2\n",
            "[ 1.09e+00]\n",
            "[ 1.94e+00]\n",
            "[ 4.18e+00]\n",
            "\n"
          ],
          "name": "stdout"
        }
      ]
    },
    {
      "cell_type": "markdown",
      "metadata": {
        "id": "TTQFQbRLDKmq",
        "colab_type": "text"
      },
      "source": [
        "#### b vector\n",
        "\n",
        "In a neighbouring voxel, we may also expect similar b values. To simulate this, I have added some normal noise with variance, 1/2, to the original b values to obtain a new b value."
      ]
    },
    {
      "cell_type": "code",
      "metadata": {
        "id": "tsyjopBUFNt0",
        "colab_type": "code",
        "outputId": "348e2cfa-5722-485d-9d38-5e1f8f2dad0d",
        "colab": {
          "base_uri": "https://localhost:8080/",
          "height": 0
        }
      },
      "source": [
        "# Given a b vector this function makes a b\n",
        "# vector for the neighbouring voxel\n",
        "def b_n(b):\n",
        "  return(b + cvxopt.normal(b.size[0],1)/np.sqrt(2))\n",
        "\n",
        "# Example\n",
        "b_True_n = b_n(b_True)\n",
        "  \n",
        "# print bs for comparison\n",
        "print(\"b for voxel 1 (first 5 elements)\")\n",
        "print(b_True[1:5])\n",
        "print(\"b for voxel 2 (first 5 elements)\")\n",
        "print(b_True_n[1:5])"
      ],
      "execution_count": 22,
      "outputs": [
        {
          "output_type": "stream",
          "text": [
            "b for voxel 1 (first 5 elements)\n",
            "[-4.23e+00]\n",
            "[ 1.44e+00]\n",
            "[ 1.41e+00]\n",
            "[ 1.35e+00]\n",
            "\n",
            "b for voxel 2 (first 5 elements)\n",
            "[-4.37e+00]\n",
            "[ 1.13e+00]\n",
            "[ 1.50e+00]\n",
            "[ 1.65e+00]\n",
            "\n"
          ],
          "name": "stdout"
        }
      ]
    },
    {
      "cell_type": "markdown",
      "metadata": {
        "id": "ZFb5eO8jBWSf",
        "colab_type": "text"
      },
      "source": [
        " #### Y vector (New response)\n",
        " \n",
        "I now generate a new response vector with the new beta and b values for the neighbouring voxel."
      ]
    },
    {
      "cell_type": "code",
      "metadata": {
        "id": "8V59rDqEGU5e",
        "colab_type": "code",
        "colab": {}
      },
      "source": [
        "# Neighbouring voxels response vector\n",
        "Y_n = X*beta_True_n+Z*b_True_n+cvxopt.normal(1000,1)"
      ],
      "execution_count": 0,
      "outputs": []
    },
    {
      "cell_type": "markdown",
      "metadata": {
        "id": "l1fjCdxgH3aV",
        "colab_type": "text"
      },
      "source": [
        "### Product Matrices\n",
        "\n",
        "All products of matrices are calculated beforehand as it is both more computationally efficient and also similar to the setting we are interested in. For the neighbouring voxel only those involving the Y vector (response) need be recalculated as X and Z have not changed between voxel in this example."
      ]
    },
    {
      "cell_type": "code",
      "metadata": {
        "id": "Wnx7aj6OH3tA",
        "colab_type": "code",
        "colab": {}
      },
      "source": [
        "# Z tranpose Y_n\n",
        "ZtY_n=cvxopt.spmatrix.trans(Z)*Y_n\n",
        "\n",
        "# X tranpose Y_n\n",
        "XtY_n=cvxopt.matrix.trans(X)*Y_n\n",
        "\n",
        "# Y_n tranpose X\n",
        "YtX_n=cvxopt.matrix.trans(Y_n)*X\n",
        "\n",
        "# Y_n transpose Z\n",
        "YtZ_n=cvxopt.matrix.trans(Y_n)*Z\n",
        "\n",
        "# Y_n tranpose Y_n\n",
        "YtY_n=cvxopt.matrix.trans(Y_n)*Y_n"
      ],
      "execution_count": 0,
      "outputs": []
    },
    {
      "cell_type": "markdown",
      "metadata": {
        "id": "t9CsWWXKGk-I",
        "colab_type": "text"
      },
      "source": [
        "### Idea 1: Initial Estimate\n",
        "\n",
        "The idea behind this is relatively simple. Once we have estimated the model for one voxel, we use the estimated theta vector from that voxel as the initial estimate for it's neighbours.\n",
        "\n",
        "However, it didn't work/no meaningful time improvement was observed in the toy example.\n"
      ]
    },
    {
      "cell_type": "code",
      "metadata": {
        "id": "X5c3WZF5HDm-",
        "colab_type": "code",
        "outputId": "eef5a2ff-a858-43f5-c161-f8c5d852d6af",
        "colab": {
          "base_uri": "https://localhost:8080/",
          "height": 0
        }
      },
      "source": [
        "# Estimate first voxel\n",
        "theta_Est=minimize(PLS, theta0, args=(ZtX, ZtY, XtX, ZtZ, XtY, YtX, YtZ, XtZ, YtY, n, P, I, tinds, rinds, cinds), method='L-BFGS-B', tol=1e-6).x\n",
        "\n",
        "# Estimate second voxel\n",
        "theta_Est_n=minimize(PLS, theta_Est, args=(ZtX, ZtY_n, XtX, ZtZ, XtY_n, YtX_n, YtZ_n, XtZ, YtY_n, n, P, I, tinds, rinds, cinds), method='L-BFGS-B', tol=1e-6).x\n",
        "\n",
        "# Print results\n",
        "print('Estimate for voxel 1')\n",
        "print(theta_Est)\n",
        "\n",
        "# Print results for neighbouring voxel\n",
        "print('Estimate for voxel 2')\n",
        "print(theta_Est_n)\n",
        "\n"
      ],
      "execution_count": 25,
      "outputs": [
        {
          "output_type": "stream",
          "text": [
            "Estimate for voxel 1\n",
            "[-3.82632372e-07  7.88461899e-09 -8.92650112e-08  1.41769524e-06\n",
            " -4.58399429e-07 -4.63805416e-08]\n",
            "Estimate for voxel 2\n",
            "[-3.79166294e-07 -1.82553801e-08  8.04283532e-08  1.40643049e-06\n",
            " -1.61603437e-07 -1.88357309e-08]\n"
          ],
          "name": "stdout"
        }
      ]
    },
    {
      "cell_type": "markdown",
      "metadata": {
        "id": "hqbOzGU-It3f",
        "colab_type": "text"
      },
      "source": [
        "#### Time efficiency\n",
        "\n",
        "What is really important here is not the estimate values (assuming they are correct), but the time taken to do this for both voxels. In the below, the two voxels are estimated 100 times twice, once reusing the estmate from the first voxel in estimating the second, and once computing the voxels completely seperately.\n",
        "\n",
        "**Conclusion:** This idea didn't really work... the time complexity was not meaningfully reduced (reduction of <0.01s in most runs)."
      ]
    },
    {
      "cell_type": "code",
      "metadata": {
        "id": "5OM3CTjNJXp_",
        "colab_type": "code",
        "outputId": "24b13e23-c02b-4bea-e01b-e67892da531c",
        "colab": {
          "base_uri": "https://localhost:8080/",
          "height": 0
        }
      },
      "source": [
        "# Average time\n",
        "time_original = 0;\n",
        "time_idea1 = 0;\n",
        "\n",
        "# Number of iterations\n",
        "n = 100;\n",
        "\n",
        "for i in range(n):\n",
        "  \n",
        "  # New neigbouring voxel response\n",
        "  Y_n = X*beta_n(beta_True)+Z*b_n(b_True)+cvxopt.normal(1000,1)\n",
        "  \n",
        "  # Z tranpose Y_n\n",
        "  ZtY_n=cvxopt.spmatrix.trans(Z)*Y_n\n",
        "\n",
        "  # X tranpose Y_n\n",
        "  XtY_n=cvxopt.matrix.trans(X)*Y_n\n",
        "\n",
        "  # Y_n tranpose X\n",
        "  YtX_n=cvxopt.matrix.trans(Y_n)*X\n",
        "\n",
        "  # Y_n transpose Z\n",
        "  YtZ_n=cvxopt.matrix.trans(Y_n)*Z\n",
        "\n",
        "  # Y_n tranpose Y_n\n",
        "  YtY_n=cvxopt.matrix.trans(Y_n)*Y_n\n",
        "  \n",
        "  # Obtain the voxels estimates independently\n",
        "  t1 = time.time()\n",
        "  theta_Est=minimize(PLS, theta0, args=(ZtX, ZtY, XtX, ZtZ, XtY, YtX, YtZ, XtZ, YtY, n, P, I, tinds, rinds, cinds), method='L-BFGS-B', tol=1e-6).x\n",
        "  theta_Est_n=minimize(PLS, theta0, args=(ZtX, ZtY_n, XtX, ZtZ, XtY_n, YtX_n, YtZ_n, XtZ, YtY_n, n, P, I, tinds, rinds, cinds), method='L-BFGS-B', tol=1e-6).x\n",
        "  t2 = time.time()\n",
        "  time_original = time_original + t2 - t1\n",
        "  \n",
        "  # Obtain the voxels estimates by reusing the estimate from one voxel as the initial estimate for the other\n",
        "  t1 = time.time()\n",
        "  theta_Est=minimize(PLS, theta0, args=(ZtX, ZtY, XtX, ZtZ, XtY, YtX, YtZ, XtZ, YtY, n, P, I, tinds, rinds, cinds), method='L-BFGS-B', tol=1e-6).x\n",
        "  theta_Est_n=minimize(PLS, theta_Est, args=(ZtX, ZtY_n, XtX, ZtZ, XtY_n, YtX_n, YtZ_n, XtZ, YtY_n, n, P, I, tinds, rinds, cinds), method='L-BFGS-B', tol=1e-6).x\n",
        "  t2 = time.time()\n",
        "  time_idea1 = time_idea1 + t2 - t1\n",
        "\n",
        "# Convert to averages\n",
        "time_original = time_original/n\n",
        "time_idea1 = time_idea1/n\n",
        "\n",
        "# Print\n",
        "print('Average Original estimation time:')\n",
        "print(time_original)\n",
        "print('Average Idea 1 estimation time:')\n",
        "print(time_idea1)"
      ],
      "execution_count": 26,
      "outputs": [
        {
          "output_type": "stream",
          "text": [
            "Average Original estimation time:\n",
            "0.06586296558380127\n",
            "Average Idea 1 estimation time:\n",
            "0.05838618516921997\n"
          ],
          "name": "stdout"
        }
      ]
    },
    {
      "cell_type": "markdown",
      "metadata": {
        "id": "9JP8KZC-Mamk",
        "colab_type": "text"
      },
      "source": [
        "### Idea 2: Penalize the difference between beta values in the objective function\n",
        "\n",
        "The PLS algorithm works by penalizing, at every voxel, the objective function:\n",
        "\n",
        "$$||Y-X\\beta+Z\\Lambda u+\\epsilon||^2_2 + ||u||^2_2$$\n",
        "\n",
        "Suppose, now that we wish to estimate the value at one voxel but already have beta values for one of it's neighbours. When the algorithm searches the parameter space, it stands to reason we want it to start by looking at beta values around the neighbouring voxels beta values. To do this we could add an additional term to the objective function:\n",
        "\n",
        "$$||Y-X\\beta+Z\\Lambda u+\\epsilon||^2_2 + ||u||^2_2 + ||\\beta - \\beta_n||^2_2$$\n",
        "\n",
        "Where $\\beta_n$ is the value of beta at the neighbouring voxel. This is the idea tested here."
      ]
    },
    {
      "cell_type": "markdown",
      "metadata": {
        "id": "krn-dunmRTZl",
        "colab_type": "text"
      },
      "source": [
        "#### Return Beta from PLS\n",
        "\n",
        "This function returns the beta estimates for a given theta using PLS.\n",
        "\n",
        "---\n",
        "\n",
        "The following inputs are required for this function:\n",
        "\n",
        "---\n",
        "\n",
        " - **theta**: The parameter estimate.\n",
        " - **ZtX**: Z transpose multiplied by X.\n",
        " - **ZtY**: Z transpose multiplied by Y.\n",
        " - **XtX**: X transpose multiplied by X.\n",
        " - **ZtZ**: Z transpose multiplied by Z.\n",
        " - **XtY**: X transpose multiplied by Y.\n",
        " - **YtX**: Y transpose multiplied by X.\n",
        " - **YtZ**: Y transpose multiplied by Z.\n",
        " - **XtZ**: X transpose multiplied by Z.\n",
        " - **YtY**: Y transpose multiplied by Y.\n",
        " - **P**: The sparse permutation for Lamda'Z'ZLambda+I\n",
        " - **tinds**: A vector specifying how many times each theta parameter should be repeated. For example, if theta=[0.1,0.8,0.3] and theta_inds=[1,1,1,2,3,3], then the values to be mapped into the sparse matrix would be [0.1,0.1,0.1,0.8,0.3,0.3].\n",
        " - **r_inds**: The row indices of the elements mapped into the sparse matrix.\n",
        " - **c_inds**: The column indices of the elements mapped into the sparse matrix."
      ]
    },
    {
      "cell_type": "code",
      "metadata": {
        "id": "kEUPtjalRQpt",
        "colab_type": "code",
        "colab": {}
      },
      "source": [
        "def PLS_getBeta(theta, ZtX, ZtY, XtX, ZtZ, XtY, YtX, YtZ, XtZ, YtY, n, P, tinds, rinds, cinds):\n",
        "\n",
        "    # Obtain Lambda\n",
        "    Lambda = mapping(theta, tinds, rinds, cinds)\n",
        "    \n",
        "    # Obtain Lambda'\n",
        "    Lambdat = spmatrix.trans(Lambda)\n",
        "\n",
        "    # Obtain Lambda'Z'Y and Lambda'Z'X\n",
        "    LambdatZtY = Lambdat*ZtY\n",
        "    LambdatZtX = Lambdat*ZtX\n",
        "    \n",
        "    # Set the factorisation to use LL' instead of LDL'\n",
        "    cholmod.options['supernodal']=2\n",
        "\n",
        "    # Obtain the cholesky decomposition\n",
        "    LambdatZtZLambda = Lambdat*ZtZ*Lambda\n",
        "    I = spmatrix(1.0, range(Lambda.size[0]), range(Lambda.size[0]))\n",
        "    chol_dict = sparse_chol(LambdatZtZLambda+I, perm=P, retF=True, retP=False, retL=False)\n",
        "    F = chol_dict['F']\n",
        "\n",
        "    # Obtain C_u (annoyingly solve writes over the second argument,\n",
        "    # whereas spsolve outputs)\n",
        "    Cu = LambdatZtY[P,:]\n",
        "    cholmod.solve(F,Cu,sys=4)\n",
        "\n",
        "    # Obtain RZX\n",
        "    RZX = LambdatZtX[P,:]\n",
        "    cholmod.solve(F,RZX,sys=4)\n",
        "\n",
        "    # Obtain RXtRX\n",
        "    RXtRX = XtX - matrix.trans(RZX)*RZX\n",
        "\n",
        "    # Obtain beta estimates (note: gesv also replaces the second\n",
        "    # argument)\n",
        "    betahat = XtY - matrix.trans(RZX)*Cu\n",
        "    lapack.posv(RXtRX, betahat)\n",
        "\n",
        "    return(betahat)"
      ],
      "execution_count": 0,
      "outputs": []
    },
    {
      "cell_type": "markdown",
      "metadata": {
        "id": "-a7uYOZzPQ2W",
        "colab_type": "text"
      },
      "source": [
        "#### Neighbour-based PLS objective function\n",
        "\n",
        "The following function calculates the log likelihood based on the above objective function. It is the same as the original PLS algorithm in most respects, except it now also uses as input `beta_n`, the beta value from the run used on a neighbouring voxel. \n",
        "\n",
        "---\n",
        "\n",
        "The following inputs are required for this function:\n",
        "\n",
        "---\n",
        "\n",
        " - **theta**: The parameter estimate.\n",
        " - **betan**: The beta estimate for a neighbouring voxel.\n",
        " - **ZtX**: Z transpose multiplied by X.\n",
        " - **ZtY**: Z transpose multiplied by Y.\n",
        " - **XtX**: X transpose multiplied by X.\n",
        " - **ZtZ**: Z transpose multiplied by Z.\n",
        " - **XtY**: X transpose multiplied by Y.\n",
        " - **YtX**: Y transpose multiplied by X.\n",
        " - **YtZ**: Y transpose multiplied by Z.\n",
        " - **XtZ**: X transpose multiplied by Z.\n",
        " - **YtY**: Y transpose multiplied by Y.\n",
        " - **P**: The sparse permutation for Lamda'Z'ZLambda+I\n",
        " - **tinds**: A vector specifying how many times each theta parameter should be repeated. For example, if theta=[0.1,0.8,0.3] and theta_inds=[1,1,1,2,3,3], then the values to be mapped into the sparse matrix would be [0.1,0.1,0.1,0.8,0.3,0.3].\n",
        " - **r_inds**: The row indices of the elements mapped into the sparse matrix.\n",
        " - **c_inds**: The column indices of the elements mapped into the sparse matrix."
      ]
    },
    {
      "cell_type": "code",
      "metadata": {
        "id": "3E1CS6j7P1_K",
        "colab_type": "code",
        "colab": {}
      },
      "source": [
        "def PLSneighbour(theta, betan, ZtX, ZtY, XtX, ZtZ, XtY, YtX, YtZ, XtZ, YtY, n, P, I, tinds, rinds, cinds):\n",
        "\n",
        "    # Neighbour changes, the below is actually all that needs changing to account\n",
        "    # for the new objective function\n",
        "    XtX = XtX+ spmatrix(1.0, range(XtX.size[0]), range(XtX.size[0]))\n",
        "    XtY = XtY + betan\n",
        "    YtX = YtX + matrix.trans(betan)\n",
        "\n",
        "    # Return PLS on the newly adjusted data\n",
        "    return(PLS(theta, ZtX, ZtY, XtX, ZtZ, XtY, YtX, YtZ, XtZ, YtY, n, P, I, tinds, rinds, cinds))"
      ],
      "execution_count": 0,
      "outputs": []
    },
    {
      "cell_type": "markdown",
      "metadata": {
        "id": "wW9A8JM3SRW7",
        "colab_type": "text"
      },
      "source": [
        "#### Correctness\n",
        "\n",
        "To check that we are still estimating the same quantity, here we estimate the neighbour first and then use the beta estimate from the neighbouring voxel to estimate the original toy datasets theta. As can be seen the resultant estimate is still relatively close.\n",
        "\n",
        "Interestingly, the only beta estimate that has changed is the intercept, which `R` had trouble estimating anyway (it took me a while to find a toy dataset were `R` was able to correctly estimate the intercept... it could have just been due to chance/my own p-hacking that it happened in this case). Perhaps this is due to the model I used for this example, in which there is a fixed effects intercept and then an intercept for both grouping factors... this could just be a difficult/impossible model intercept to estimate."
      ]
    },
    {
      "cell_type": "code",
      "metadata": {
        "id": "mCsbTsTpSRtl",
        "colab_type": "code",
        "outputId": "d35e3666-6caa-406e-ad7a-a4c5b5b91040",
        "colab": {
          "base_uri": "https://localhost:8080/",
          "height": 0
        }
      },
      "source": [
        "# Compute theta estimate for neighbouring voxel\n",
        "theta_Est_n=minimize(PLS, theta0, args=(ZtX, ZtY_n, XtX, ZtZ, XtY_n, YtX_n, YtZ_n, XtZ, YtY_n, n, P, I, tinds, rinds, cinds), method='L-BFGS-B', tol=1e-6).x\n",
        "\n",
        "# Retrieve beta\n",
        "beta_Est_n = PLS_getBeta(theta_Est_n,ZtX, ZtY_n, XtX, ZtZ, XtY_n, YtX_n, YtZ_n, XtZ, YtY_n, n, P, tinds, rinds, cinds)\n",
        "\n",
        "# Minimise for the original voxel using the neighbour function\n",
        "theta_Est=minimize(PLSneighbour, theta0, args=(beta_Est_n, ZtX, ZtY, XtX, ZtZ, XtY, YtX, YtZ, XtZ, YtY, n, P, I, tinds, rinds, cinds), method='L-BFGS-B', tol=1e-6).x\n",
        "\n",
        "# Print results\n",
        "print(\"R estimated theta:\")\n",
        "print(theta_REst)\n",
        "print(\"Neighbourhood based estimated theta:\")\n",
        "print(theta_Est)\n",
        "\n",
        "# Print betas\n",
        "print(\"Beta (True)\")\n",
        "print(beta_True)\n",
        "print(\"Beta (R estimated)\")\n",
        "print(PLS_getBeta(theta_REst,ZtX, ZtY, XtX, ZtZ, XtY, YtX, YtZ, XtZ, YtY, n, P,tinds, rinds, cinds))\n",
        "print(\"Beta (Neighbourhood estimated)\")\n",
        "print(PLS_getBeta(theta_Est,ZtX, ZtY, XtX, ZtZ, XtY, YtX, YtZ, XtZ, YtY, n, P,tinds, rinds, cinds))\n",
        "\n",
        "# Double check we get the same as R\n",
        "#print(matrix(pd.read_csv('/Data/BLMM-testdata/estd_beta.csv',header=None).values))"
      ],
      "execution_count": 29,
      "outputs": [
        {
          "output_type": "stream",
          "text": [
            "R estimated theta:\n",
            "[ 1.11365482  0.32356815  2.22872418  4.54822071 -0.17500295  0.42370817]\n",
            "Neighbourhood based estimated theta:\n",
            "[ 0.2307727   0.09109081  0.53652211  1.12067893 -0.04111018  0.10321058]\n",
            "Beta (True)\n",
            "[ 1]\n",
            "[ 2]\n",
            "[ 3]\n",
            "\n",
            "Beta (R estimated)\n",
            "[ 1.05e+00]\n",
            "[ 1.98e+00]\n",
            "[ 3.03e+00]\n",
            "\n",
            "Beta (Neighbourhood estimated)\n",
            "[ 1.02e+00]\n",
            "[ 1.98e+00]\n",
            "[ 3.04e+00]\n",
            "\n"
          ],
          "name": "stdout"
        }
      ]
    },
    {
      "cell_type": "markdown",
      "metadata": {
        "id": "aANxmrO3WIgP",
        "colab_type": "text"
      },
      "source": [
        "To further investigate whether this is a consistent result, I have run the code 100 times with different a neighbouring voxel in each run and recorded the average squared difference between the true value of beta and the estimated value of beta for both the neighbour approach and the original PLS algorithm.\n",
        "\n",
        "**Conclusion**: The previous supposed loss of efficiency was indeed a fluke - after running 100 different neighbouring voxel iterations it has become extremely clear that the added penalty significantly improves accuracy in the toy example. Main points of interest:\n",
        "\n",
        " - The standard PLS algorithm works well for a majority of cases but rarely beats the neighbourhood version. \n",
        " - In some cases the PLS algorithm can massively go wrong estimating the intercept, whereas the neighbourhood method appears more robust to this.\n",
        " - Of course, this is heavily dependent on the simulation and would need more investigation for standard neuroimaging data."
      ]
    },
    {
      "cell_type": "code",
      "metadata": {
        "id": "d3iC0KRtWIqq",
        "colab_type": "code",
        "outputId": "68aac812-70e7-4180-aec0-d3ddab7df634",
        "colab": {
          "base_uri": "https://localhost:8080/",
          "height": 0
        }
      },
      "source": [
        "# Average time\n",
        "diff_original = 0;\n",
        "diff_neighbour = 0;\n",
        "\n",
        "# Number of iterations\n",
        "n = 1;\n",
        "\n",
        "for i in range(n):\n",
        "  \n",
        "  # New neigbouring voxel response\n",
        "  beta_True_n = beta_n(beta_True)\n",
        "  Y_n = X*beta_True_n+Z*b_n(b_True)+cvxopt.normal(1000,1)\n",
        "  \n",
        "  #print(beta_True_n)\n",
        "  \n",
        "  # Z tranpose Y_n\n",
        "  ZtY_n=cvxopt.spmatrix.trans(Z)*Y_n\n",
        "\n",
        "  # X tranpose Y_n\n",
        "  XtY_n=cvxopt.matrix.trans(X)*Y_n\n",
        "\n",
        "  # Y_n tranpose X\n",
        "  YtX_n=cvxopt.matrix.trans(Y_n)*X\n",
        "\n",
        "  # Y_n transpose Z\n",
        "  YtZ_n=cvxopt.matrix.trans(Y_n)*Z\n",
        "\n",
        "  # Y_n tranpose Y_n\n",
        "  YtY_n=cvxopt.matrix.trans(Y_n)*Y_n\n",
        "  \n",
        "  # Obtain the voxels estimates independently\n",
        "  theta_Est=minimize(PLS, theta0, args=(ZtX, ZtY, XtX, ZtZ, XtY, YtX, YtZ, XtZ, YtY, n, P, I, tinds, rinds, cinds), method='L-BFGS-B', tol=1e-6).x\n",
        "  theta_Est_n=minimize(PLS, theta0, args=(ZtX, ZtY_n, XtX, ZtZ, XtY_n, YtX_n, YtZ_n, XtZ, YtY_n, n, P, I, tinds, rinds, cinds), method='L-BFGS-B', tol=1e-6).x\n",
        "  \n",
        "  # Get the beta value from seperate calculation\n",
        "  beta_Est_n = PLS_getBeta(theta_Est_n,ZtX, ZtY_n, XtX, ZtZ, XtY_n, YtX_n, YtZ_n, XtZ, YtY_n, n, P, tinds, rinds, cinds)\n",
        "  \n",
        "  #print(beta_Est_n)\n",
        "  \n",
        "  # Get average difference between estimated and truth\n",
        "  diff_original = np.linalg.norm(np.array(beta_Est_n-beta_True_n))**2 + diff_original\n",
        "  \n",
        "  #print(np.linalg.norm(np.array(beta_Est_n-beta_True_n))**2)\n",
        "  \n",
        "  # Obtain the voxels estimates by using the neighbouring approach\n",
        "  theta_Est= minimize(PLS, theta0, args=(ZtX, ZtY, XtX, ZtZ, XtY, YtX, YtZ, XtZ, YtY, n, P, I, tinds, rinds, cinds), method='L-BFGS-B', tol=1e-6).x\n",
        "  beta_Est = PLS_getBeta(theta_Est,ZtX, ZtY, XtX, ZtZ, XtY, YtX, YtZ, XtZ, YtY, n, P,tinds, rinds, cinds)\n",
        "  theta_Est_n = minimize(PLSneighbour, theta0, args=(beta_Est, ZtX, ZtY_n, XtX, ZtZ, XtY_n, YtX_n, YtZ_n, XtZ, YtY_n, n, P, I, tinds, rinds, cinds), method='L-BFGS-B', tol=1e-6).x\n",
        "\n",
        "  # Get the beta value from seperate calculation\n",
        "  beta_Est_n = PLS_getBeta(theta_Est_n,ZtX, ZtY_n, XtX, ZtZ, XtY_n, YtX_n, YtZ_n, XtZ, YtY_n, n, P, tinds, rinds, cinds)\n",
        "  \n",
        "  #print(beta_Est_n)\n",
        "  #print(np.linalg.norm(np.array(beta_Est_n-beta_True_n))**2)\n",
        "  \n",
        "  # Get average difference between estimated and truth\n",
        "  diff_neighbour = np.linalg.norm(np.array(beta_Est_n-beta_True_n))**2 + diff_neighbour\n",
        "\n",
        "  #print('')\n",
        "# Convert to averages\n",
        "diff_original = diff_original/n\n",
        "diff_neighbour = diff_neighbour/n\n",
        "\n",
        "# Print\n",
        "print('Average Original squared difference from truth:')\n",
        "print(diff_original)\n",
        "print('Average Idea 2 squared difference from truth:')\n",
        "print(diff_neighbour)"
      ],
      "execution_count": 30,
      "outputs": [
        {
          "output_type": "stream",
          "text": [
            "Average Original squared difference from truth:\n",
            "7.086544577528563\n",
            "Average Idea 2 squared difference from truth:\n",
            "7.086544580078364\n"
          ],
          "name": "stdout"
        }
      ]
    },
    {
      "cell_type": "markdown",
      "metadata": {
        "id": "QAdjGFGxR_3w",
        "colab_type": "text"
      },
      "source": [
        "#### Time efficiency\n",
        "\n",
        "What is important here is the time taken to do this for both voxels. In the below, the two voxels are estimated 100 times twice, once reusing the estmate from the first voxel in estimating the second, and once computing the voxels completely seperately.\n",
        "\n",
        "**Conclusion:** Some significant time improvement was observed when using `Powell` (around 0.07s quicker) but not for `L-BFGS-B`. A more extensive test suite is needed. Also get singular matrices occasionally causing errors."
      ]
    },
    {
      "cell_type": "code",
      "metadata": {
        "id": "M8FROJLxR__g",
        "colab_type": "code",
        "outputId": "33a8a2bf-e82c-405b-f2fe-99aa186997ab",
        "colab": {
          "base_uri": "https://localhost:8080/",
          "height": 230
        }
      },
      "source": [
        "# Average time\n",
        "time_original = 0;\n",
        "time_idea2 = 0;\n",
        "\n",
        "# Number of iterations\n",
        "n = 100;\n",
        "failureno=0;\n",
        "\n",
        "for i in range(n):\n",
        "  \n",
        "  # New neigbouring voxel response\n",
        "  Y_n = X*beta_n(beta_True)+Z*b_n(b_True)+cvxopt.normal(1000,1)\n",
        "  \n",
        "  # Z tranpose Y_n\n",
        "  ZtY_n=cvxopt.spmatrix.trans(Z)*Y_n\n",
        "\n",
        "  # X tranpose Y_n\n",
        "  XtY_n=cvxopt.matrix.trans(X)*Y_n\n",
        "\n",
        "  # Y_n tranpose X\n",
        "  YtX_n=cvxopt.matrix.trans(Y_n)*X\n",
        "\n",
        "  # Y_n transpose Z\n",
        "  YtZ_n=cvxopt.matrix.trans(Y_n)*Z\n",
        "\n",
        "  # Y_n tranpose Y_n\n",
        "  YtY_n=cvxopt.matrix.trans(Y_n)*Y_n\n",
        "  \n",
        "  # Obtain the voxels estimates independently\n",
        "  t1 = time.time()\n",
        "  theta_Est=minimize(PLS, theta0, args=(ZtX, ZtY, XtX, ZtZ, XtY, YtX, YtZ, XtZ, YtY, n,P, I, tinds, rinds, cinds), method='L-BFGS-B', tol=1e-6).x\n",
        "  theta_Est_n=minimize(PLS, theta0, args=(ZtX, ZtY_n, XtX, ZtZ, XtY_n, YtX_n, YtZ_n, XtZ, YtY_n, n, P, I, tinds, rinds, cinds), method='L-BFGS-B', tol=1e-6).x\n",
        "  t2 = time.time()\n",
        "  time_original = time_original + t2 - t1\n",
        "  \n",
        "  # Obtain the voxels estimates by using the neighbouring approach\n",
        "  t1 = time.time()\n",
        "  theta_Est_n=minimize(PLS, theta0, args=(ZtX, ZtY_n, XtX, ZtZ, XtY_n, YtX_n, YtZ_n, XtZ, YtY_n, n, P, I, tinds, rinds, cinds), method='L-BFGS-B', tol=1e-6).x\n",
        "  beta_Est_n = PLS_getBeta(theta_Est_n,ZtX, ZtY_n, XtX, ZtZ, XtY_n, YtX_n, YtZ_n, XtZ, YtY_n, n, P, tinds, rinds, cinds)\n",
        "  try:\n",
        "    theta_Est=minimize(PLSneighbour, theta0, args=(beta_Est_n, ZtX, ZtY, XtX, ZtZ, XtY, YtX, YtZ, XtZ, YtY, n, P, I, tinds, rinds, cinds), method='L-BFGS-B', tol=1e-6).x\n",
        "    t2 = time.time()\n",
        "    time_idea2 = time_idea2 + t2 - t1\n",
        "  except:\n",
        "    print(\"Voxel that failed, number:\")\n",
        "    print(i)\n",
        "    failureno = failureno + 1\n",
        "\n",
        "# Convert to averages\n",
        "time_original = time_original/n\n",
        "time_idea2 = time_idea2/n\n",
        "\n",
        "# Print\n",
        "print('Average Original estimation time:')\n",
        "print(time_original)\n",
        "print('Average Idea 2 estimation time:')\n",
        "print(time_idea2)\n",
        "\n",
        "print('Number of Failures')\n",
        "print(failureno)"
      ],
      "execution_count": 31,
      "outputs": [
        {
          "output_type": "stream",
          "text": [
            "/usr/local/lib/python3.6/dist-packages/ipykernel_launcher.py:98: RuntimeWarning: invalid value encountered in log\n"
          ],
          "name": "stderr"
        },
        {
          "output_type": "stream",
          "text": [
            "Voxel that failed, number:\n",
            "3\n",
            "Voxel that failed, number:\n",
            "30\n",
            "Average Original estimation time:\n",
            "0.06446826219558716\n",
            "Average Idea 2 estimation time:\n",
            "0.06548320293426514\n",
            "Number of Failures\n",
            "2\n"
          ],
          "name": "stdout"
        }
      ]
    },
    {
      "cell_type": "markdown",
      "metadata": {
        "id": "tBr0APoAXKl3",
        "colab_type": "text"
      },
      "source": [
        "## Scaling up the computation (Random field)\n",
        "\n",
        "This section has several implemented ideas for scaling up the computation to compute several similar models at once. For simplicity it is assumed here that X and Z are the same across voxels."
      ]
    },
    {
      "cell_type": "markdown",
      "metadata": {
        "colab_type": "text",
        "id": "5XoW6q2NaJ20"
      },
      "source": [
        "### Toy dataset (for a random field)"
      ]
    },
    {
      "cell_type": "markdown",
      "metadata": {
        "id": "3LTG_EYiZpjM",
        "colab_type": "text"
      },
      "source": [
        "#### Matrix Dimensions\n",
        "\n",
        "Below are the matrix dimensions used for **one voxel** in this example. If the model has form:\n",
        "\n",
        "$$Y=X\\beta+Zb+\\epsilon$$ With $\\epsilon \\sim N(0,\\sigma^2I_n)$ and $b \\sim N(0,\\sigma^2D)$, then the dimensions of each matrix are as follows:\n",
        "\n",
        " - $Y$: $(n \\times 1)$\n",
        " - $X$: $(n \\times p)$\n",
        " - $\\beta$: $(p \\times 1)$\n",
        " - $Z$: $(n \\times q)$\n",
        " - $b$: $(q \\times 1)$\n",
        " - $\\epsilon$: $(n \\times 1)$\n",
        " - $D$: $(p\\times p)$"
      ]
    },
    {
      "cell_type": "code",
      "metadata": {
        "id": "7LAfqqiCXO4k",
        "colab_type": "code",
        "outputId": "857eae25-6f71-4f19-d580-67c9d24628dd",
        "colab": {
          "base_uri": "https://localhost:8080/",
          "height": 263
        }
      },
      "source": [
        "# Number of factors, random integer between 1 and 3\n",
        "r = np.random.randint(2,4)#np.random.randint(1,4)\n",
        "print(\"Number of grouping factors for random effects:\")\n",
        "print(r)\n",
        "\n",
        "# Number of levels, random number between 2 and 8\n",
        "nlevels = np.random.randint(2,8,size=(r))\n",
        "# Let the first number of levels be a little larger (typically like subjects)\n",
        "nlevels[0] = np.random.randint(2,35,size=1)\n",
        "nlevels = np.sort(nlevels)[::-1]\n",
        "print(\"Number of levels for each factor:\")\n",
        "print(nlevels)\n",
        "\n",
        "# Number of parameters, random number between 1 and 5\n",
        "nparams = np.random.randint(1,6,size=(r))\n",
        "print(\"Number of parameters for each factor:\")\n",
        "print(nparams)\n",
        "\n",
        "# Dimension of D\n",
        "print(\"Dimension of D, q:\")\n",
        "q = np.sum(nlevels*nparams)\n",
        "print(q)\n",
        "\n",
        "# Number of fixed effects, random number between 6 and 30\n",
        "p = np.random.randint(6,31)\n",
        "print(\"Number of fixed effects:\")\n",
        "print(p)\n",
        "\n",
        "# Number of subjects, n\n",
        "n = 1000\n",
        "print(\"Number of subjects:\")\n",
        "print(n)\n",
        "\n",
        "# Voxel dimensions\n",
        "dimv = [30,30,30]\n",
        "nv = np.prod(dimv)\n",
        "print(\"Number of voxels:\")\n",
        "print(nv)\n"
      ],
      "execution_count": 32,
      "outputs": [
        {
          "output_type": "stream",
          "text": [
            "Number of grouping factors for random effects:\n",
            "2\n",
            "Number of levels for each factor:\n",
            "[4 4]\n",
            "Number of parameters for each factor:\n",
            "[5 3]\n",
            "Dimension of D, q:\n",
            "32\n",
            "Number of fixed effects:\n",
            "17\n",
            "Number of subjects:\n",
            "1000\n",
            "Number of voxels:\n",
            "27000\n"
          ],
          "name": "stdout"
        }
      ]
    },
    {
      "cell_type": "markdown",
      "metadata": {
        "id": "57CJIErlbDS5",
        "colab_type": "text"
      },
      "source": [
        "#### Fixed Effects matrix (X)\n",
        "\n",
        "For simplicity, in this example $X$ is the same for all voxels. "
      ]
    },
    {
      "cell_type": "code",
      "metadata": {
        "id": "5wnJHsOxdUne",
        "colab_type": "code",
        "outputId": "cf1bc616-7158-4c05-8a7e-071dbdcb4948",
        "colab": {
          "base_uri": "https://localhost:8080/",
          "height": 282
        }
      },
      "source": [
        "# Initialize empty x\n",
        "X = np.zeros((n,p))\n",
        "\n",
        "# First column is intercept\n",
        "X[:,0] = 1\n",
        "\n",
        "# Rest of the columns we will make random noise \n",
        "X[:,1:] = np.random.randn(n*(p-1)).reshape((n,(p-1)))\n",
        "\n",
        "# Image of the last 20 rows of X\n",
        "imshow(X[-20:-1,:])\n"
      ],
      "execution_count": 33,
      "outputs": [
        {
          "output_type": "execute_result",
          "data": {
            "text/plain": [
              "<matplotlib.image.AxesImage at 0x7f9fcbcc5358>"
            ]
          },
          "metadata": {
            "tags": []
          },
          "execution_count": 33
        },
        {
          "output_type": "display_data",
          "data": {
            "image/png": "[encoded data removed]",
            "text/plain": [
              "<Figure size 432x288 with 1 Axes>"
            ]
          },
          "metadata": {
            "tags": []
          }
        }
      ]
    },
    {
      "cell_type": "markdown",
      "metadata": {
        "id": "aaBzkwl0ekWr",
        "colab_type": "text"
      },
      "source": [
        "#### Random Effects matrix (Z)\n",
        "\n",
        "For simplicity, in this example $Z$ is the same for all voxels. "
      ]
    },
    {
      "cell_type": "code",
      "metadata": {
        "id": "eb1S4WdhepI9",
        "colab_type": "code",
        "outputId": "584c1f91-0596-422b-c643-9e9a5576268b",
        "colab": {
          "base_uri": "https://localhost:8080/",
          "height": 304
        }
      },
      "source": [
        "# We need to create a block of Z for each level of each factor\n",
        "for i in np.arange(r):\n",
        "  \n",
        "  Zdata_factor = np.random.randn(n,nparams[i])\n",
        "  \n",
        "  if i==0:\n",
        "    \n",
        "    #The first factor should be block diagonal, so the factor indices are grouped\n",
        "    factorVec = np.repeat(np.arange(nlevels[i]), repeats=np.floor(n/max(nlevels[i],1)))\n",
        "    \n",
        "    if len(factorVec) < n:\n",
        "      \n",
        "      # Quick fix incase rounding leaves empty columns\n",
        "      factorVecTmp = np.zeros(n)\n",
        "      factorVecTmp[0:len(factorVec)] = factorVec\n",
        "      factorVecTmp[len(factorVec):n] = nlevels[i]-1\n",
        "      factorVec = np.int64(factorVecTmp)\n",
        "      \n",
        "    \n",
        "    # Crop the factor vector - otherwise have a few too many\n",
        "    factorVec = factorVec[0:n]\n",
        "    \n",
        "    # Give the data an intercept\n",
        "    Zdata_factor[:,0]=1\n",
        "    \n",
        "  else:\n",
        "    \n",
        "    # The factor is randomly arranged across subjects\n",
        "    factorVec = np.random.randint(0,nlevels[i],size=n) \n",
        "  \n",
        "  # Build a matrix showing where the elements of Z should be\n",
        "  indicatorMatrix_factor = np.zeros((n,nlevels[i]))\n",
        "  indicatorMatrix_factor[np.arange(n),factorVec] = 1\n",
        "  \n",
        "  # Need to repeat for each parameter the factor has \n",
        "  indicatorMatrix_factor = np.repeat(indicatorMatrix_factor, nparams[i], axis=1)\n",
        "  \n",
        "  # Enter the Z values\n",
        "  indicatorMatrix_factor[indicatorMatrix_factor==1]=Zdata_factor.reshape(Zdata_factor.shape[0]*Zdata_factor.shape[1])\n",
        "  \n",
        "  # Make sparse\n",
        "  Zfactor = scipy.sparse.csr_matrix(indicatorMatrix_factor)\n",
        "\n",
        "  # Put all the factors together\n",
        "  if i == 0:\n",
        "    Z = Zfactor\n",
        "  else:\n",
        "    Z = scipy.sparse.hstack((Z, Zfactor))\n",
        "\n",
        "\n",
        "Z2 = sparse.COO.from_scipy_sparse(Z)\n",
        "\n",
        "# Create an image of Z\n",
        "imshow(Z.toarray(), \\\n",
        "       interpolation='nearest', vmin=-5, vmax=5, aspect='auto')\n",
        "\n",
        "print(nlevels)\n",
        "print(nparams)\n"
      ],
      "execution_count": 34,
      "outputs": [
        {
          "output_type": "stream",
          "text": [
            "[4 4]\n",
            "[5 3]\n"
          ],
          "name": "stdout"
        },
        {
          "output_type": "display_data",
          "data": {
            "image/png": "[encoded data removed]",
            "text/plain": [
              "<Figure size 432x288 with 1 Axes>"
            ]
          },
          "metadata": {
            "tags": []
          }
        }
      ]
    },
    {
      "cell_type": "markdown",
      "metadata": {
        "id": "wTqsJgFrYP85",
        "colab_type": "text"
      },
      "source": [
        "#### Smooth random beta\n",
        "Smooth random beta image."
      ]
    },
    {
      "cell_type": "code",
      "metadata": {
        "id": "SUeftuE-YQjP",
        "colab_type": "code",
        "outputId": "4e9738d3-3d62-4075-b8a6-3705e9d75b08",
        "colab": {
          "base_uri": "https://localhost:8080/",
          "height": 302
        }
      },
      "source": [
        "# Random 4D matrix (unsmoothed)\n",
        "beta_us = np.random.randn(nv*p).reshape(dimv[0],dimv[1],dimv[2],p)*20\n",
        "beta_us[10:15,10:15,10:15,3] = beta_us[10:15,10:15,10:15,3] + 100\n",
        "\n",
        "t1 = time.time()\n",
        "# Some random affine, not important for this simulation\n",
        "affine = np.diag([1, 1, 1, 1])\n",
        "beta_us_nii = nib.Nifti1Image(beta_us, affine)\n",
        "\n",
        "# Smoothed beta nifti\n",
        "beta_s_nii = nilearn.image.smooth_img(beta_us_nii, 5)\n",
        "\n",
        "# Final beta\n",
        "beta = beta_s_nii.get_fdata()\n",
        "\n",
        "t2 = time.time()\n",
        "print(t2-t1)\n",
        "\n",
        "# Show unsmoothed\n",
        "imshow(beta_us[10,:,:,3].reshape(dimv[0],dimv[1]), \\\n",
        "                    interpolation='nearest', aspect='auto')\n",
        "\n",
        "plt.colorbar()"
      ],
      "execution_count": 35,
      "outputs": [
        {
          "output_type": "stream",
          "text": [
            "0.042746543884277344\n"
          ],
          "name": "stdout"
        },
        {
          "output_type": "execute_result",
          "data": {
            "text/plain": [
              "<matplotlib.colorbar.Colorbar at 0x7f9fcbbbea58>"
            ]
          },
          "metadata": {
            "tags": []
          },
          "execution_count": 35
        },
        {
          "output_type": "display_data",
          "data": {
            "image/png": "[encoded data removed]",
            "text/plain": [
              "<Figure size 432x288 with 2 Axes>"
            ]
          },
          "metadata": {
            "tags": []
          }
        }
      ]
    },
    {
      "cell_type": "code",
      "metadata": {
        "id": "gOs4ge-_zgIr",
        "colab_type": "code",
        "outputId": "4f11c024-6bfd-4a11-c966-4712df70739c",
        "colab": {
          "base_uri": "https://localhost:8080/",
          "height": 284
        }
      },
      "source": [
        "# Show smoothed\n",
        "imshow(beta[10,:,:,3].reshape(dimv[0],dimv[1]), \\\n",
        "                    interpolation='nearest', aspect='auto')\n",
        "plt.colorbar()"
      ],
      "execution_count": 36,
      "outputs": [
        {
          "output_type": "execute_result",
          "data": {
            "text/plain": [
              "<matplotlib.colorbar.Colorbar at 0x7f9fcbaf3470>"
            ]
          },
          "metadata": {
            "tags": []
          },
          "execution_count": 36
        },
        {
          "output_type": "display_data",
          "data": {
            "image/png": "[encoded data removed]",
            "text/plain": [
              "<Figure size 432x288 with 2 Axes>"
            ]
          },
          "metadata": {
            "tags": []
          }
        }
      ]
    },
    {
      "cell_type": "markdown",
      "metadata": {
        "id": "6vabjCMt0eMq",
        "colab_type": "text"
      },
      "source": [
        "#### Smooth random b\n",
        "Smooth random b image."
      ]
    },
    {
      "cell_type": "code",
      "metadata": {
        "id": "0bSmo7Af0ecp",
        "colab_type": "code",
        "outputId": "ef0ec041-e752-4c4d-bb22-4784dd532788",
        "colab": {
          "base_uri": "https://localhost:8080/",
          "height": 284
        }
      },
      "source": [
        "# Random 4D matrix (unsmoothed)\n",
        "b_us = np.random.randn(nv*q).reshape(dimv[0],dimv[1],dimv[2],q)*20\n",
        "\n",
        "# Some random affine, not important for this simulation\n",
        "affine = np.diag([1, 1, 1, 1])\n",
        "b_us_nii = nib.Nifti1Image(b_us, affine)\n",
        "\n",
        "# Smoothed beta nifti\n",
        "b_s_nii = nilearn.image.smooth_img(b_us_nii, 5)\n",
        "\n",
        "# Final beta\n",
        "b = b_s_nii.get_fdata()\n",
        "\n",
        "# Show unsmoothed\n",
        "imshow(b_us[3,:,:,1].reshape(dimv[0],dimv[1]), \\\n",
        "                    interpolation='nearest', aspect='auto')"
      ],
      "execution_count": 37,
      "outputs": [
        {
          "output_type": "execute_result",
          "data": {
            "text/plain": [
              "<matplotlib.image.AxesImage at 0x7f9fcbae6358>"
            ]
          },
          "metadata": {
            "tags": []
          },
          "execution_count": 37
        },
        {
          "output_type": "display_data",
          "data": {
            "image/png": "[encoded data removed]",
            "text/plain": [
              "<Figure size 432x288 with 1 Axes>"
            ]
          },
          "metadata": {
            "tags": []
          }
        }
      ]
    },
    {
      "cell_type": "code",
      "metadata": {
        "id": "dXEPETmY0w4z",
        "colab_type": "code",
        "outputId": "425d8d6a-e4b3-4661-f964-cd6ccbb21588",
        "colab": {
          "base_uri": "https://localhost:8080/",
          "height": 284
        }
      },
      "source": [
        "# Show smoothed\n",
        "imshow(b[3,:,:,1].reshape(dimv[0],dimv[1]), \\\n",
        "                    interpolation='nearest', aspect='auto')"
      ],
      "execution_count": 38,
      "outputs": [
        {
          "output_type": "execute_result",
          "data": {
            "text/plain": [
              "<matplotlib.image.AxesImage at 0x7f9fcba3c7b8>"
            ]
          },
          "metadata": {
            "tags": []
          },
          "execution_count": 38
        },
        {
          "output_type": "display_data",
          "data": {
            "image/png": "[encoded data removed]",
            "text/plain": [
              "<Figure size 432x288 with 1 Axes>"
            ]
          },
          "metadata": {
            "tags": []
          }
        }
      ]
    },
    {
      "cell_type": "markdown",
      "metadata": {
        "id": "qzdoPEEm6eUC",
        "colab_type": "text"
      },
      "source": [
        " #### Y vector (New response)\n",
        " \n",
        "Generate response for the whole field."
      ]
    },
    {
      "cell_type": "code",
      "metadata": {
        "id": "XQokPoYh6eoY",
        "colab_type": "code",
        "outputId": "c9486b6b-ac09-4c0e-86ad-0fdecf5a4689",
        "colab": {
          "base_uri": "https://localhost:8080/",
          "height": 87
        }
      },
      "source": [
        "\n",
        "# Reshape X\n",
        "X = X.reshape(1, X.shape[0], X.shape[1])\n",
        "\n",
        "# Reshape beta\n",
        "beta = beta.reshape(beta.shape[0]*beta.shape[1]*beta.shape[2],beta.shape[3],1)\n",
        "\n",
        "# Reshape Z (note: This step is slow because of the sparse to dense conversion;\n",
        "# it could probably be made quicker but this is only for one simulation at current)\n",
        "Ztmp = Z.toarray().reshape(1, Z.shape[0], Z.shape[1])\n",
        "\n",
        "# Reshape b\n",
        "b = b.reshape(b.shape[0]*b.shape[1]*b.shape[2],b.shape[3],1)\n",
        "\n",
        "print(X.shape)\n",
        "print(Ztmp.shape)\n",
        "print(beta.shape)\n",
        "print(b.shape)\n",
        "\n",
        "# Generate Y\n",
        "Y = np.matmul(X,beta)+np.matmul(Ztmp,b) + np.random.randn(n,1)"
      ],
      "execution_count": 39,
      "outputs": [
        {
          "output_type": "stream",
          "text": [
            "(1, 1000, 17)\n",
            "(1, 1000, 32)\n",
            "(27000, 17, 1)\n",
            "(27000, 32, 1)\n"
          ],
          "name": "stdout"
        }
      ]
    },
    {
      "cell_type": "markdown",
      "metadata": {
        "id": "4Laa68OGOvyw",
        "colab_type": "text"
      },
      "source": [
        "Check Y looks reasonable."
      ]
    },
    {
      "cell_type": "code",
      "metadata": {
        "id": "1lTEeBqSOz1B",
        "colab_type": "code",
        "outputId": "55760e8b-c8e6-4080-ef7f-11b82fb98ef7",
        "colab": {
          "base_uri": "https://localhost:8080/",
          "height": 302
        }
      },
      "source": [
        "print(Y.shape)\n",
        "\n",
        "Y_imageformat = Y.reshape((dimv[0],dimv[1],dimv[2],n))\n",
        "\n",
        "imshow(Y_imageformat[10,:,:,1].reshape(dimv[0],dimv[1]), \\\n",
        "                    interpolation='nearest', aspect='auto')"
      ],
      "execution_count": 40,
      "outputs": [
        {
          "output_type": "stream",
          "text": [
            "(27000, 1000, 1)\n"
          ],
          "name": "stdout"
        },
        {
          "output_type": "execute_result",
          "data": {
            "text/plain": [
              "<matplotlib.image.AxesImage at 0x7f9fcba17eb8>"
            ]
          },
          "metadata": {
            "tags": []
          },
          "execution_count": 40
        },
        {
          "output_type": "display_data",
          "data": {
            "image/png": "[encoded data removed]",
            "text/plain": [
              "<Figure size 432x288 with 1 Axes>"
            ]
          },
          "metadata": {
            "tags": []
          }
        }
      ]
    },
    {
      "cell_type": "markdown",
      "metadata": {
        "id": "x-MhOA6XP-op",
        "colab_type": "text"
      },
      "source": [
        "#### Transpose products\n",
        "\n",
        "Calculate X'Y, X'Z, X'Y, Y'Y, Y'Z, Y'X Z'Z, Z'X and Z'Y."
      ]
    },
    {
      "cell_type": "code",
      "metadata": {
        "id": "YCFYLn3sQVU2",
        "colab_type": "code",
        "outputId": "7dabd339-fca6-45d9-cf37-56fac5eeaadd",
        "colab": {
          "base_uri": "https://localhost:8080/",
          "height": 175
        }
      },
      "source": [
        "# X'Z\\Z'X\n",
        "XtZ = np.matmul(X.transpose(0,2,1),Ztmp)\n",
        "ZtX = XtZ.transpose(0,2,1)\n",
        "\n",
        "# Z'Y\\Y'Z\n",
        "YtZ = np.matmul(Y.transpose(0,2,1),Ztmp)\n",
        "ZtY = YtZ.transpose(0,2,1)\n",
        "\n",
        "# Y'X/X'Y\n",
        "YtX = np.matmul(Y.transpose(0,2,1),X)\n",
        "XtY = YtX.transpose(0,2,1)\n",
        "\n",
        "# YtY\n",
        "YtY = np.matmul(Y.transpose(0,2,1),Y)\n",
        "\n",
        "# ZtZ\n",
        "ZtZ = np.matmul(Ztmp.transpose(0,2,1),Ztmp)\n",
        "\n",
        "# X'X\n",
        "XtX = np.matmul(X.transpose(0,2,1),X)\n",
        "\n",
        "\n",
        "print(XtZ.shape)\n",
        "print(ZtX.shape)\n",
        "\n",
        "print(XtY.shape)\n",
        "print(YtX.shape)\n",
        "\n",
        "print(YtZ.shape)\n",
        "print(ZtY.shape)\n",
        "\n",
        "print(XtX.shape)\n",
        "\n",
        "print(YtY.shape)\n",
        "\n",
        "print(ZtZ.shape)"
      ],
      "execution_count": 41,
      "outputs": [
        {
          "output_type": "stream",
          "text": [
            "(1, 17, 32)\n",
            "(1, 32, 17)\n",
            "(27000, 17, 1)\n",
            "(27000, 1, 17)\n",
            "(27000, 1, 32)\n",
            "(27000, 32, 1)\n",
            "(1, 17, 17)\n",
            "(27000, 1, 1)\n",
            "(1, 32, 32)\n"
          ],
          "name": "stdout"
        }
      ]
    },
    {
      "cell_type": "markdown",
      "metadata": {
        "id": "qYxYXW3AUu3H",
        "colab_type": "text"
      },
      "source": [
        "### Demonstration: Time taken just looping\n",
        "\n",
        "This is a demonstration showing how long PLS takes when doing each voxel seperately."
      ]
    },
    {
      "cell_type": "code",
      "metadata": {
        "id": "pgah7SUnUt5k",
        "colab_type": "code",
        "outputId": "565dd8af-321f-49d4-a0f9-816b047e6ed3",
        "colab": {
          "base_uri": "https://localhost:8080/",
          "height": 281
        }
      },
      "source": [
        "# Initialize empty estimates\n",
        "beta_est = np.zeros(beta.shape)\n",
        "\n",
        "# Initialize temporary X'X, X'Z, Z'X and Z'Z\n",
        "XtZtmp = matrix(XtZ[0,:,:])\n",
        "ZtXtmp = matrix(ZtX[0,:,:])\n",
        "ZtZtmp = cvxopt.sparse(matrix(ZtZ[0,:,:]))\n",
        "XtXtmp = matrix(XtX[0,:,:])\n",
        "\n",
        "# Initial theta value. Bates (2005) suggests using [vech(I_q1),...,vech(I_qr)] where I is the identity matrix\n",
        "theta0 = np.array([])\n",
        "for i in np.arange(r):\n",
        "  theta0 = np.hstack((theta0, mat2vech(np.eye(nparams[i])).reshape(np.int64(nparams[i]*(nparams[i]+1)/2))))\n",
        "  \n",
        "# Obtain a random Lambda matrix with the correct sparsity for the permutation vector\n",
        "tinds,rinds,cinds=get_mapping(nlevels, nparams)\n",
        "Lam=mapping(np.random.randn(theta0.shape[0]),tinds,rinds,cinds)\n",
        "\n",
        "# Obtain Lambda'Z'ZLambda\n",
        "LamtZtZLam = spmatrix.trans(Lam)*cvxopt.sparse(matrix(ZtZtmp))*Lam\n",
        "\n",
        "\n",
        "# Identity (Actually quicker to calculate outside of estimation)\n",
        "I = spmatrix(1.0, range(Lam.size[0]), range(Lam.size[0]))\n",
        "\n",
        "# Obtaining permutation for PLS\n",
        "P=cvxopt.amd.order(LamtZtZLam)\n",
        "\n",
        "demo = False\n",
        "\n",
        "if demo:\n",
        "  \n",
        "  nv_tmp = beta.shape[0]\n",
        "  \n",
        "else:\n",
        "  \n",
        "  nv_tmp = 5\n",
        "\n",
        "t1 = time.time()\n",
        "for i in np.arange(nv_tmp):\n",
        "  \n",
        "  print(i)\n",
        "  \n",
        "  XtYtmp = matrix(XtY[i,:,:]) \n",
        "  ZtYtmp = matrix(ZtY[i,:,:]) \n",
        "  YtYtmp = matrix(YtY[i,:,:]) \n",
        "  YtZtmp = matrix(YtZ[i,:,:])\n",
        "  YtXtmp = matrix(YtX[i,:,:])\n",
        "  \n",
        "  theta_est = minimize(PLS, theta0, args=(ZtXtmp, ZtYtmp, XtXtmp, ZtZtmp, XtYtmp, YtXtmp, YtZtmp, XtZtmp, YtYtmp, n, P, I, tinds, rinds, cinds), method='L-BFGS-B', tol=1e-6)\n",
        "  nit = theta_est.nit\n",
        "  theta_est = theta_est.x\n",
        "  print(nit)\n",
        "  \n",
        "  # Get current beta\n",
        "  beta_current = PLS_getBeta(theta_est, ZtXtmp, ZtYtmp, XtXtmp, ZtZtmp, XtYtmp, YtXtmp, YtZtmp, XtZtmp, YtYtmp, n, P,tinds, rinds, cinds)\n",
        "  \n",
        "  beta_est[i,:,:] = beta_current[:]\n",
        "  \n",
        "t2 = time.time()\n",
        "print(\"Time taken in seconds for this example:\")\n",
        "print(t2-t1)\n",
        "print(\"Estimated time taken for this example on a nifti of size (100x100x100), in hours:\")\n",
        "print(100*100*100*(t2-t1)/(nv_tmp*60*60))\n",
        "\n",
        "print(\"True beta (3)\")\n",
        "\n",
        "if demo:\n",
        "  beta_map=beta.reshape(dimv[0],dimv[1],dimv[2],beta.shape[1])\n",
        "  beta_est_map=beta_est.reshape(dimv[0],dimv[1],dimv[2],beta.shape[1])\n",
        "\n",
        "\n",
        "  # Show true beta, 3rd x-slice, 3rd parameter\n",
        "  imshow(beta_map[3,:,:,3].reshape(dimv[0],dimv[1]), \\\n",
        "                    interpolation='nearest', aspect='auto')\n"
      ],
      "execution_count": 42,
      "outputs": [
        {
          "output_type": "stream",
          "text": [
            "0\n",
            "77\n",
            "1\n",
            "79\n",
            "2\n",
            "101\n",
            "3\n",
            "159\n",
            "4\n",
            "90\n",
            "Time taken in seconds for this example:\n",
            "2.8321022987365723\n",
            "Estimated time taken for this example on a nifti of size (100x100x100), in hours:\n",
            "157.33901659647623\n",
            "True beta (3)\n"
          ],
          "name": "stdout"
        }
      ]
    },
    {
      "cell_type": "code",
      "metadata": {
        "id": "JQyp_7qj56-b",
        "colab_type": "code",
        "colab": {}
      },
      "source": [
        "if demo:\n",
        "  print(\"Estimated beta (3)\")\n",
        "\n",
        "  # Show estimated beta, 3rd x-slice, 3rd parameter\n",
        "  imshow(beta_est_map[3,:,:,3].reshape(10,10), \\\n",
        "                    interpolation='nearest', aspect='auto')\n",
        "  plt.colorbar()\n"
      ],
      "execution_count": 0,
      "outputs": []
    },
    {
      "cell_type": "code",
      "metadata": {
        "id": "lzs1yhAt6WTs",
        "colab_type": "code",
        "colab": {}
      },
      "source": [
        "if demo:\n",
        "  # Sanity check, lets look at the differences\n",
        "  imshow((beta_est_map[3,:,:,3]-beta_map[3,:,:,3]).reshape(10,10), \\\n",
        "                    interpolation='nearest', aspect='auto')\n",
        "  plt.colorbar()"
      ],
      "execution_count": 0,
      "outputs": []
    },
    {
      "cell_type": "markdown",
      "metadata": {
        "id": "8jr5TiVBqzbD",
        "colab_type": "text"
      },
      "source": [
        "Now lets try the same but with Dask delayed.\n"
      ]
    },
    {
      "cell_type": "code",
      "metadata": {
        "id": "bBHSWUbNqwvf",
        "colab_type": "code",
        "colab": {
          "base_uri": "https://localhost:8080/",
          "height": 405
        },
        "outputId": "f60cef2e-61a6-4a33-fede-eb78d5a764b2"
      },
      "source": [
        "import dask\n",
        "\n",
        "@dask.delayed\n",
        "def minPLS(theta0, ZtXtmp, ZtYtmp, XtXtmp, ZtZtmp, XtYtmp, YtXtmp, YtZtmp, XtZtmp, YtYtmp, n, P, I, tinds, rinds, cinds):\n",
        "  \n",
        "  theta_est = minimize(PLS, theta0, args=(ZtXtmp, ZtYtmp, XtXtmp, ZtZtmp, XtYtmp, YtXtmp, YtZtmp, XtZtmp, YtYtmp, n, P, I, tinds, rinds, cinds), method='L-BFGS-B', tol=1e-6)\n",
        "  nit = theta_est.nit\n",
        "  print(nit)\n",
        "  theta_est = theta_est.x\n",
        "  \n",
        "  return(theta_est)\n",
        "\n",
        "@dask.delayed\n",
        "def getBeta(theta_est, ZtXtmp, ZtYtmp, XtXtmp, ZtZtmp, XtYtmp, YtXtmp, YtZtmp, XtZtmp, YtYtmp, n, P,tinds, rinds, cinds, beta_est, i):\n",
        "\n",
        "  beta_est = copy(beta_est)\n",
        "  beta_current = PLS_getBeta(theta_est, ZtXtmp, ZtYtmp, XtXtmp, ZtZtmp, XtYtmp, YtXtmp, YtZtmp, XtZtmp, YtYtmp, n, P,tinds, rinds, cinds)\n",
        "  beta_est[i,:,:] = beta_current[:]\n",
        "  \n",
        "  return(beta_est)\n",
        "  \n",
        "# Initialize empty estimates\n",
        "beta_est = np.zeros(beta.shape)\n",
        "t1 = time.time()\n",
        "for i in np.arange(beta.shape[0]):\n",
        "  \n",
        "  theta_est = minPLS(theta0, ZtXtmp, matrix(ZtY[i,:,:]), XtXtmp, ZtZtmp, matrix(XtY[i,:,:]), matrix(YtX[i,:,:]), matrix(YtZ[i,:,:]), XtZtmp, matrix(YtY[i,:,:]), n, P, I, tinds, rinds, cinds)\n",
        "  \n",
        "  # Get current beta\n",
        "  beta_est = getBeta(theta_est, ZtXtmp, matrix(ZtY[i,:,:]), XtXtmp, ZtZtmp, matrix(XtY[i,:,:]), matrix(YtX[i,:,:]), matrix(YtZ[i,:,:]), XtZtmp, matrix(YtY[i,:,:]), n, P,tinds, rinds, cinds, beta_est, i)\n",
        "  \n",
        "beta_est.compute()\n",
        "\n",
        "t2 = time.time()\n",
        "print(\"Time taken in seconds for this example:\")\n",
        "print(t2-t1)\n",
        "print(\"Estimated time taken for this example on a nifti of size (100x100x100), in hours:\")\n",
        "print(100*100*100*(t2-t1)/(nv*60*60))\n",
        "\n",
        "print(\"True beta (3)\")\n",
        "beta_map=beta.reshape(dimv[0],dimv[1],dimv[2],beta.shape[1])\n",
        "beta_est_map=beta_est.reshape(dimv[0],dimv[1],dimv[2],beta.shape[1])\n",
        "\n",
        "\n",
        "# Show true beta, 3rd x-slice, 3rd parameter\n",
        "imshow(beta_map[3,:,:,3].reshape(dimv[0],dimv[1]), \\\n",
        "                    interpolation='nearest', aspect='auto')\n"
      ],
      "execution_count": 45,
      "outputs": [
        {
          "output_type": "error",
          "ename": "KeyboardInterrupt",
          "evalue": "ignored",
          "traceback": [
            "\u001b[0;31m---------------------------------------------------------------------------\u001b[0m",
            "\u001b[0;31mKeyboardInterrupt\u001b[0m                         Traceback (most recent call last)",
            "\u001b[0;32m<ipython-input-45-292b25eb9816>\u001b[0m in \u001b[0;36m<module>\u001b[0;34m()\u001b[0m\n\u001b[1;32m     28\u001b[0m \u001b[0;34m\u001b[0m\u001b[0m\n\u001b[1;32m     29\u001b[0m   \u001b[0;31m# Get current beta\u001b[0m\u001b[0;34m\u001b[0m\u001b[0;34m\u001b[0m\u001b[0;34m\u001b[0m\u001b[0m\n\u001b[0;32m---> 30\u001b[0;31m   \u001b[0mbeta_est\u001b[0m \u001b[0;34m=\u001b[0m \u001b[0mgetBeta\u001b[0m\u001b[0;34m(\u001b[0m\u001b[0mtheta_est\u001b[0m\u001b[0;34m,\u001b[0m \u001b[0mZtXtmp\u001b[0m\u001b[0;34m,\u001b[0m \u001b[0mmatrix\u001b[0m\u001b[0;34m(\u001b[0m\u001b[0mZtY\u001b[0m\u001b[0;34m[\u001b[0m\u001b[0mi\u001b[0m\u001b[0;34m,\u001b[0m\u001b[0;34m:\u001b[0m\u001b[0;34m,\u001b[0m\u001b[0;34m:\u001b[0m\u001b[0;34m]\u001b[0m\u001b[0;34m)\u001b[0m\u001b[0;34m,\u001b[0m \u001b[0mXtXtmp\u001b[0m\u001b[0;34m,\u001b[0m \u001b[0mZtZtmp\u001b[0m\u001b[0;34m,\u001b[0m \u001b[0mmatrix\u001b[0m\u001b[0;34m(\u001b[0m\u001b[0mXtY\u001b[0m\u001b[0;34m[\u001b[0m\u001b[0mi\u001b[0m\u001b[0;34m,\u001b[0m\u001b[0;34m:\u001b[0m\u001b[0;34m,\u001b[0m\u001b[0;34m:\u001b[0m\u001b[0;34m]\u001b[0m\u001b[0;34m)\u001b[0m\u001b[0;34m,\u001b[0m \u001b[0mmatrix\u001b[0m\u001b[0;34m(\u001b[0m\u001b[0mYtX\u001b[0m\u001b[0;34m[\u001b[0m\u001b[0mi\u001b[0m\u001b[0;34m,\u001b[0m\u001b[0;34m:\u001b[0m\u001b[0;34m,\u001b[0m\u001b[0;34m:\u001b[0m\u001b[0;34m]\u001b[0m\u001b[0;34m)\u001b[0m\u001b[0;34m,\u001b[0m \u001b[0mmatrix\u001b[0m\u001b[0;34m(\u001b[0m\u001b[0mYtZ\u001b[0m\u001b[0;34m[\u001b[0m\u001b[0mi\u001b[0m\u001b[0;34m,\u001b[0m\u001b[0;34m:\u001b[0m\u001b[0;34m,\u001b[0m\u001b[0;34m:\u001b[0m\u001b[0;34m]\u001b[0m\u001b[0;34m)\u001b[0m\u001b[0;34m,\u001b[0m \u001b[0mXtZtmp\u001b[0m\u001b[0;34m,\u001b[0m \u001b[0mmatrix\u001b[0m\u001b[0;34m(\u001b[0m\u001b[0mYtY\u001b[0m\u001b[0;34m[\u001b[0m\u001b[0mi\u001b[0m\u001b[0;34m,\u001b[0m\u001b[0;34m:\u001b[0m\u001b[0;34m,\u001b[0m\u001b[0;34m:\u001b[0m\u001b[0;34m]\u001b[0m\u001b[0;34m)\u001b[0m\u001b[0;34m,\u001b[0m \u001b[0mn\u001b[0m\u001b[0;34m,\u001b[0m \u001b[0mP\u001b[0m\u001b[0;34m,\u001b[0m\u001b[0mtinds\u001b[0m\u001b[0;34m,\u001b[0m \u001b[0mrinds\u001b[0m\u001b[0;34m,\u001b[0m \u001b[0mcinds\u001b[0m\u001b[0;34m,\u001b[0m \u001b[0mbeta_est\u001b[0m\u001b[0;34m,\u001b[0m \u001b[0mi\u001b[0m\u001b[0;34m)\u001b[0m\u001b[0;34m\u001b[0m\u001b[0;34m\u001b[0m\u001b[0m\n\u001b[0m\u001b[1;32m     31\u001b[0m \u001b[0;34m\u001b[0m\u001b[0m\n\u001b[1;32m     32\u001b[0m \u001b[0mbeta_est\u001b[0m\u001b[0;34m.\u001b[0m\u001b[0mcompute\u001b[0m\u001b[0;34m(\u001b[0m\u001b[0;34m)\u001b[0m\u001b[0;34m\u001b[0m\u001b[0;34m\u001b[0m\u001b[0m\n",
            "\u001b[0;32m/usr/local/lib/python3.6/dist-packages/dask/delayed.py\u001b[0m in \u001b[0;36m__call__\u001b[0;34m(self, *args, **kwargs)\u001b[0m\n\u001b[1;32m    596\u001b[0m     \u001b[0;32mdef\u001b[0m \u001b[0m__call__\u001b[0m\u001b[0;34m(\u001b[0m\u001b[0mself\u001b[0m\u001b[0;34m,\u001b[0m \u001b[0;34m*\u001b[0m\u001b[0margs\u001b[0m\u001b[0;34m,\u001b[0m \u001b[0;34m**\u001b[0m\u001b[0mkwargs\u001b[0m\u001b[0;34m)\u001b[0m\u001b[0;34m:\u001b[0m\u001b[0;34m\u001b[0m\u001b[0;34m\u001b[0m\u001b[0m\n\u001b[1;32m    597\u001b[0m         return call_function(self._obj, self._key, args, kwargs,\n\u001b[0;32m--> 598\u001b[0;31m                              pure=self._pure, nout=self._nout)\n\u001b[0m\u001b[1;32m    599\u001b[0m \u001b[0;34m\u001b[0m\u001b[0m\n\u001b[1;32m    600\u001b[0m \u001b[0;34m\u001b[0m\u001b[0m\n",
            "\u001b[0;32m/usr/local/lib/python3.6/dist-packages/dask/delayed.py\u001b[0m in \u001b[0;36mcall_function\u001b[0;34m(func, func_token, args, kwargs, pure, nout)\u001b[0m\n\u001b[1;32m    575\u001b[0m \u001b[0;34m\u001b[0m\u001b[0m\n\u001b[1;32m    576\u001b[0m     graph = HighLevelGraph.from_collections(name, {name: task},\n\u001b[0;32m--> 577\u001b[0;31m                                             dependencies=collections)\n\u001b[0m\u001b[1;32m    578\u001b[0m     \u001b[0mnout\u001b[0m \u001b[0;34m=\u001b[0m \u001b[0mnout\u001b[0m \u001b[0;32mif\u001b[0m \u001b[0mnout\u001b[0m \u001b[0;32mis\u001b[0m \u001b[0;32mnot\u001b[0m \u001b[0;32mNone\u001b[0m \u001b[0;32melse\u001b[0m \u001b[0;32mNone\u001b[0m\u001b[0;34m\u001b[0m\u001b[0;34m\u001b[0m\u001b[0m\n\u001b[1;32m    579\u001b[0m     \u001b[0;32mreturn\u001b[0m \u001b[0mDelayed\u001b[0m\u001b[0;34m(\u001b[0m\u001b[0mname\u001b[0m\u001b[0;34m,\u001b[0m \u001b[0mgraph\u001b[0m\u001b[0;34m,\u001b[0m \u001b[0mlength\u001b[0m\u001b[0;34m=\u001b[0m\u001b[0mnout\u001b[0m\u001b[0;34m)\u001b[0m\u001b[0;34m\u001b[0m\u001b[0;34m\u001b[0m\u001b[0m\n",
            "\u001b[0;32m/usr/local/lib/python3.6/dist-packages/dask/highlevelgraph.py\u001b[0m in \u001b[0;36mfrom_collections\u001b[0;34m(cls, name, layer, dependencies)\u001b[0m\n\u001b[1;32m    136\u001b[0m                 \u001b[0;32mraise\u001b[0m \u001b[0mTypeError\u001b[0m\u001b[0;34m(\u001b[0m\u001b[0mtype\u001b[0m\u001b[0;34m(\u001b[0m\u001b[0mcollection\u001b[0m\u001b[0;34m)\u001b[0m\u001b[0;34m)\u001b[0m\u001b[0;34m\u001b[0m\u001b[0;34m\u001b[0m\u001b[0m\n\u001b[1;32m    137\u001b[0m \u001b[0;34m\u001b[0m\u001b[0m\n\u001b[0;32m--> 138\u001b[0;31m         \u001b[0;32mreturn\u001b[0m \u001b[0mcls\u001b[0m\u001b[0;34m(\u001b[0m\u001b[0mlayers\u001b[0m\u001b[0;34m,\u001b[0m \u001b[0mdeps\u001b[0m\u001b[0;34m)\u001b[0m\u001b[0;34m\u001b[0m\u001b[0;34m\u001b[0m\u001b[0m\n\u001b[0m\u001b[1;32m    139\u001b[0m \u001b[0;34m\u001b[0m\u001b[0m\n\u001b[1;32m    140\u001b[0m     \u001b[0;32mdef\u001b[0m \u001b[0m__getitem__\u001b[0m\u001b[0;34m(\u001b[0m\u001b[0mself\u001b[0m\u001b[0;34m,\u001b[0m \u001b[0mkey\u001b[0m\u001b[0;34m)\u001b[0m\u001b[0;34m:\u001b[0m\u001b[0;34m\u001b[0m\u001b[0;34m\u001b[0m\u001b[0m\n",
            "\u001b[0;32m/usr/local/lib/python3.6/dist-packages/dask/highlevelgraph.py\u001b[0m in \u001b[0;36m__init__\u001b[0;34m(self, layers, dependencies)\u001b[0m\n\u001b[1;32m     71\u001b[0m     \u001b[0;32mdef\u001b[0m \u001b[0m__init__\u001b[0m\u001b[0;34m(\u001b[0m\u001b[0mself\u001b[0m\u001b[0;34m,\u001b[0m \u001b[0mlayers\u001b[0m\u001b[0;34m,\u001b[0m \u001b[0mdependencies\u001b[0m\u001b[0;34m)\u001b[0m\u001b[0;34m:\u001b[0m\u001b[0;34m\u001b[0m\u001b[0;34m\u001b[0m\u001b[0m\n\u001b[1;32m     72\u001b[0m         \u001b[0;32mfor\u001b[0m \u001b[0mv\u001b[0m \u001b[0;32min\u001b[0m \u001b[0mlayers\u001b[0m\u001b[0;34m.\u001b[0m\u001b[0mvalues\u001b[0m\u001b[0;34m(\u001b[0m\u001b[0;34m)\u001b[0m\u001b[0;34m:\u001b[0m\u001b[0;34m\u001b[0m\u001b[0;34m\u001b[0m\u001b[0m\n\u001b[0;32m---> 73\u001b[0;31m             \u001b[0;32massert\u001b[0m \u001b[0;32mnot\u001b[0m \u001b[0misinstance\u001b[0m\u001b[0;34m(\u001b[0m\u001b[0mv\u001b[0m\u001b[0;34m,\u001b[0m \u001b[0mHighLevelGraph\u001b[0m\u001b[0;34m)\u001b[0m\u001b[0;34m\u001b[0m\u001b[0;34m\u001b[0m\u001b[0m\n\u001b[0m\u001b[1;32m     74\u001b[0m         \u001b[0;32massert\u001b[0m \u001b[0mall\u001b[0m\u001b[0;34m(\u001b[0m\u001b[0mlayers\u001b[0m\u001b[0;34m)\u001b[0m\u001b[0;34m\u001b[0m\u001b[0;34m\u001b[0m\u001b[0m\n\u001b[1;32m     75\u001b[0m         \u001b[0mself\u001b[0m\u001b[0;34m.\u001b[0m\u001b[0mlayers\u001b[0m \u001b[0;34m=\u001b[0m \u001b[0mlayers\u001b[0m\u001b[0;34m\u001b[0m\u001b[0;34m\u001b[0m\u001b[0m\n",
            "\u001b[0;32m/usr/lib/python3.6/abc.py\u001b[0m in \u001b[0;36m__instancecheck__\u001b[0;34m(cls, instance)\u001b[0m\n\u001b[1;32m    178\u001b[0m                 \u001b[0mprint\u001b[0m\u001b[0;34m(\u001b[0m\u001b[0;34m\"%s: %r\"\u001b[0m \u001b[0;34m%\u001b[0m \u001b[0;34m(\u001b[0m\u001b[0mname\u001b[0m\u001b[0;34m,\u001b[0m \u001b[0mvalue\u001b[0m\u001b[0;34m)\u001b[0m\u001b[0;34m,\u001b[0m \u001b[0mfile\u001b[0m\u001b[0;34m=\u001b[0m\u001b[0mfile\u001b[0m\u001b[0;34m)\u001b[0m\u001b[0;34m\u001b[0m\u001b[0;34m\u001b[0m\u001b[0m\n\u001b[1;32m    179\u001b[0m \u001b[0;34m\u001b[0m\u001b[0m\n\u001b[0;32m--> 180\u001b[0;31m     \u001b[0;32mdef\u001b[0m \u001b[0m__instancecheck__\u001b[0m\u001b[0;34m(\u001b[0m\u001b[0mcls\u001b[0m\u001b[0;34m,\u001b[0m \u001b[0minstance\u001b[0m\u001b[0;34m)\u001b[0m\u001b[0;34m:\u001b[0m\u001b[0;34m\u001b[0m\u001b[0;34m\u001b[0m\u001b[0m\n\u001b[0m\u001b[1;32m    181\u001b[0m         \u001b[0;34m\"\"\"Override for isinstance(instance, cls).\"\"\"\u001b[0m\u001b[0;34m\u001b[0m\u001b[0;34m\u001b[0m\u001b[0m\n\u001b[1;32m    182\u001b[0m         \u001b[0;31m# Inline the cache checking\u001b[0m\u001b[0;34m\u001b[0m\u001b[0;34m\u001b[0m\u001b[0;34m\u001b[0m\u001b[0m\n",
            "\u001b[0;31mKeyboardInterrupt\u001b[0m: "
          ]
        }
      ]
    },
    {
      "cell_type": "markdown",
      "metadata": {
        "id": "aDkUiAca6p5G",
        "colab_type": "text"
      },
      "source": [
        "Now, let's try the neighbour method, see how the results change."
      ]
    },
    {
      "cell_type": "code",
      "metadata": {
        "id": "0ZFyOOob6qtH",
        "colab_type": "code",
        "colab": {}
      },
      "source": [
        "t1 = time.time()\n",
        "for i in np.arange(beta.shape[0]):\n",
        "  \n",
        "  XtYtmp = matrix(XtY[i,:,:]) \n",
        "  ZtYtmp = matrix(ZtY[i,:,:]) \n",
        "  YtYtmp = matrix(YtY[i,:,:]) \n",
        "  YtZtmp = matrix(YtZ[i,:,:])\n",
        "  YtXtmp = matrix(YtX[i,:,:])\n",
        "  \n",
        "  if i==0:\n",
        "    theta_est = minimize(PLS, theta0, args=(ZtXtmp, ZtYtmp, XtXtmp, ZtZtmp, XtYtmp, YtXtmp, YtZtmp, XtZtmp, YtYtmp, n, P, I, tinds, rinds, cinds), method='L-BFGS-B', tol=1e-6).x\n",
        "  else:\n",
        "    theta_est = minimize(PLSneighbour, theta0, args=(beta_current, ZtXtmp, ZtYtmp, XtXtmp, ZtZtmp, XtYtmp, YtXtmp, YtZtmp, XtZtmp, YtYtmp, n, P, I, tinds, rinds, cinds), method='L-BFGS-B', tol=1e-6).x\n",
        "\n",
        "  # Get current beta\n",
        "  beta_current = PLS_getBeta(theta_est, ZtXtmp, ZtYtmp, XtXtmp, ZtZtmp, XtYtmp, YtXtmp, YtZtmp, XtZtmp, YtYtmp, n, P,tinds, rinds, cinds)\n",
        "  beta_est[i,:,:] = beta_current[:]\n",
        "  \n",
        "t2 = time.time()\n",
        "print(\"Time taken in seconds for this example:\")\n",
        "print(t2-t1)\n",
        "print(\"Estimated time taken for this example on a nifti of size (100x100x100), in hours:\")\n",
        "print(1000*(t2-t1)/(60*60))\n",
        "\n",
        "# Lets look at the differences\n",
        "beta_map=beta.reshape(10,10,10,beta.shape[1])\n",
        "beta_est_map=beta_est.reshape(10,10,10,beta.shape[1])\n",
        "imshow((beta_est_map[3,:,:,3]-beta_map[3,:,:,3]).reshape(10,10), \\\n",
        "                    interpolation='nearest', aspect='auto')\n",
        "plt.colorbar()"
      ],
      "execution_count": 0,
      "outputs": []
    },
    {
      "cell_type": "markdown",
      "metadata": {
        "id": "EfeS68Db9J1v",
        "colab_type": "text"
      },
      "source": [
        "Lets try checking the re-used starting point method.\n",
        "\n",
        "**Conclusion:** The added penalty had neglible effect."
      ]
    },
    {
      "cell_type": "code",
      "metadata": {
        "id": "h8nM3SJC9KAM",
        "colab_type": "code",
        "colab": {}
      },
      "source": [
        "t1 = time.time()\n",
        "for i in np.arange(beta.shape[0]):\n",
        "  XtYtmp = matrix(XtY[i,:,:]) \n",
        "  ZtYtmp = matrix(ZtY[i,:,:]) \n",
        "  YtYtmp = matrix(YtY[i,:,:]) \n",
        "  YtZtmp = matrix(YtZ[i,:,:])\n",
        "  YtXtmp = matrix(YtX[i,:,:])\n",
        "  \n",
        "  if i==0:\n",
        "    theta_est = minimize(PLS, theta0, args=(ZtXtmp, ZtYtmp, XtXtmp, ZtZtmp, XtYtmp, YtXtmp, YtZtmp, XtZtmp, YtYtmp, n, P, I, tinds, rinds, cinds), method='L-BFGS-B', tol=1e-6).x\n",
        "  else:\n",
        "    theta_est = minimize(PLS, theta_est, args=(ZtXtmp, ZtYtmp, XtXtmp, ZtZtmp, XtYtmp, YtXtmp, YtZtmp, XtZtmp, YtYtmp, n, P, I, tinds, rinds, cinds), method='L-BFGS-B', tol=1e-6).x\n",
        "    \n",
        "  # Get current beta\n",
        "  beta_current = PLS_getBeta(theta_est, ZtXtmp, ZtYtmp, XtXtmp, ZtZtmp, XtYtmp, YtXtmp, YtZtmp, XtZtmp, YtYtmp, n, P,tinds, rinds, cinds)\n",
        "  beta_est[i,:,:] = beta_current[:]\n",
        "  \n",
        "t2 = time.time()\n",
        "print(\"Time taken in seconds for this example:\")\n",
        "print(t2-t1)\n",
        "print(\"Estimated time taken for this example on a nifti of size (100x100x100), in hours:\")\n",
        "print(1000*(t2-t1)/(60*60))\n",
        "\n",
        "# Lets look at the differences\n",
        "beta_map=beta.reshape(10,10,10,beta.shape[1])\n",
        "beta_est_map=beta_est.reshape(10,10,10,beta.shape[1])\n",
        "imshow((beta_est_map[3,:,:,3]-beta_map[3,:,:,3]).reshape(10,10), \\\n",
        "                    interpolation='nearest', aspect='auto')\n",
        "plt.colorbar()"
      ],
      "execution_count": 0,
      "outputs": []
    },
    {
      "cell_type": "markdown",
      "metadata": {
        "id": "x78FGBZoIYEI",
        "colab_type": "text"
      },
      "source": [
        "\n",
        "\n",
        "**Conclusion:** Often marked improvement in terms of time efficiency!"
      ]
    },
    {
      "cell_type": "markdown",
      "metadata": {
        "id": "KowcFHBSSAIa",
        "colab_type": "text"
      },
      "source": [
        "### Idea 3: Broadcast everything we can\n",
        "\n",
        "The title for this idea speaks for itself. The only operations that cannot be broadcast are those that must be done in `cvxopt`, the only for which it is absolutely must use `cvxopt` is the sparse cholesky decomposition."
      ]
    },
    {
      "cell_type": "code",
      "metadata": {
        "id": "XkCJOA2DkdNn",
        "colab_type": "code",
        "colab": {}
      },
      "source": [
        "# Try dask formatting first\n",
        "import dask.array as da\n",
        "\n",
        "XtX_da = da.from_array(XtX, chunks=(1, 4000, 4000))\n",
        "XtY_da = da.from_array(XtY, chunks=(100, 400, 400))\n",
        "XtZ_da = da.from_array(XtZ, chunks=(1, 4000, 4000))\n",
        "YtX_da = da.from_array(YtX, chunks=(100, 4000, 4000))\n",
        "YtY_da = da.from_array(YtY, chunks=(100, 1, 1))\n",
        "YtZ_da = da.from_array(YtZ, chunks=(100, 400, 400))\n",
        "ZtX_da = da.from_array(ZtX, chunks=(1, 4000, 4000))\n",
        "ZtY_da = da.from_array(ZtY, chunks=(1, 4000, 4000))\n",
        "ZtZ_da = da.from_array(ZtZ, chunks=(1, 4000, 4000)).map_blocks(sparse.COO).rechunk('auto')\n",
        "\n",
        "nv = np.prod(dimv) # Number of voxels"
      ],
      "execution_count": 0,
      "outputs": []
    },
    {
      "cell_type": "markdown",
      "metadata": {
        "id": "UsNtMTsfZEzm",
        "colab_type": "text"
      },
      "source": [
        "#### Helper functions for idea 3\n",
        "\n",
        "Idea 3 needs broadcasted equivalents of the previous functions; these are given below:"
      ]
    },
    {
      "cell_type": "markdown",
      "metadata": {
        "id": "IJFifADzZNvL",
        "colab_type": "text"
      },
      "source": [
        "#### Get the 3D mapping\n",
        "\n",
        "This function returns a 3D mapping equivalent to the previous mapping from a vector of parameters, theta, to indices which maps the parameters the to lower triangular block diagonal matrix, lambda; but for every voxel.\n",
        "\n",
        "---\n",
        "The following inputs are required for this function:\n",
        "\n",
        "---\n",
        "\n",
        " - **nlevels**: a vector of the number of levels for each grouping factor. e.g. nlevels=[10,2] means there are 10 levels for factor 1 and 2 levels for factor 2.\n",
        " - **nparams**: a vector of the number of variables for each grouping factor. e.g. nparams=[3,4] means there are 3 variables for factor 1 and 4 variables for factor 2.\n",
        " - **nv**: The number of voxels the mapping is required for.\n",
        "\n",
        "All arrays must be np arrays.\n",
        "\n",
        "Note: It is assumed that all voxels have the same mapping here, i.e. they all have the same number of parameters and levels. This could be removed if needed but I suggest removing this assumption would have little practical use."
      ]
    },
    {
      "cell_type": "code",
      "metadata": {
        "id": "2w_peMYTZE6J",
        "colab_type": "code",
        "colab": {
          "base_uri": "https://localhost:8080/",
          "height": 1000
        },
        "outputId": "3e18aa37-c6fb-42a5-f3ae-6417dbee6580"
      },
      "source": [
        "def get_3D_mapping(nlevels, nparams, nv, P=None):\n",
        "\n",
        "    # Work out the 2D mapping for one voxel\n",
        "    theta_repeated_inds, row_indices, col_indices = get_mapping(nlevels, nparams)\n",
        "    \n",
        "    print('1')\n",
        "    \n",
        "    # Repeat the row and column indices for each voxel\n",
        "    row_indices_3D = np.tile(row_indices, nv)\n",
        "    col_indices_3D = np.tile(col_indices, nv)\n",
        "    \n",
        "    print('2')\n",
        "    \n",
        "    if not (P is None):\n",
        "      # Work out the inverse permutation\n",
        "      P = np.array(P[:]).reshape(P.size[0])\n",
        "      invP = np.arange(len(P))[np.argsort(P)]\n",
        "      \n",
        "      # Permute the columns using the inverse permutation\n",
        "      print('invP')\n",
        "      print(type(invP))\n",
        "      print(invP)\n",
        "      \n",
        "      col_indices_P = invP[col_indices.astype(np.int64)]\n",
        "      \n",
        "      # Tile across voxels\n",
        "      col_indices_P_3D = np.tile(col_indices_P, nv)\n",
        "    else:\n",
        "      col_indices_P_3D = col_indices_3D\n",
        "    \n",
        "    print('3')\n",
        "    \n",
        "    # Make an array for the coordinate representing which voxel we are looking \n",
        "    # at.\n",
        "    vox_indices_3D = np.repeat(np.arange(nv), len(col_indices))\n",
        "    \n",
        "    print('4')\n",
        "    \n",
        "    # Make 3D theta indices\n",
        "    theta_indices_3D = np.tile(theta_repeated_inds, nv)#+vox_indices_3D*len(col_indices)#Not correct \n",
        "    \n",
        "    print('5')\n",
        "    \n",
        "    # We need unique theta elements for each voxel so we change the 3D theta indices \n",
        "    theta_indices_3D = theta_indices_3D + vox_indices_3D*(np.max(theta_repeated_inds)+1)\n",
        "    \n",
        "    print('6')\n",
        "    \n",
        "    # Return \n",
        "    return(theta_indices_3D.astype(np.int64), row_indices_3D.astype(np.int16), col_indices_3D.astype(np.int16), col_indices_P_3D.astype(np.int16), vox_indices_3D.astype(np.int16))\n",
        "\n",
        "print(nparams)\n",
        "print(nlevels)\n",
        "theta_indices_3D, row_indices_3D, col_indices_3D, col_indices_P_3D, vox_indices_3D = get_3D_mapping(nlevels, nparams, nv)\n",
        "\n",
        "print(len(P))\n",
        "x = np.random.randn(len(P),len(P))\n",
        "\n",
        "import sys\n",
        "print(x.shape)\n",
        "print(x[:,P].reshape(x.shape[0], x.shape[1]).shape)\n",
        "np.set_printoptions(threshold=sys.maxsize)\n",
        "\n",
        "print(x)\n",
        "print(x[:,P].reshape(x.shape[0], x.shape[1]))\n",
        "\n",
        "print(P)\n"
      ],
      "execution_count": 49,
      "outputs": [
        {
          "output_type": "stream",
          "text": [
            "[5 3]\n",
            "[4 4]\n",
            "1\n",
            "2\n",
            "3\n",
            "4\n",
            "5\n",
            "6\n",
            "32\n",
            "(32, 32)\n",
            "(32, 32)\n",
            "[[-1.62026387e+00  4.44291228e-01 -2.00372497e-01 -3.00636367e-01\n",
            "   8.83318323e-01  6.71257051e-01 -1.54714357e+00  6.67322451e-01\n",
            "   4.03457888e-01 -3.45117596e-01 -2.95202438e-01  1.15282247e+00\n",
            "   6.82829795e-01 -5.62378101e-01 -5.61275867e-01  1.73243966e-02\n",
            "  -6.29821094e-01 -1.11124083e-02  7.63411644e-01  4.02437430e-01\n",
            "  -2.94792643e-01 -3.83234083e-02  5.04378244e-01  5.68071989e-01\n",
            "   4.04214513e-01 -6.46069975e-02  7.93241841e-01 -2.42731103e+00\n",
            "  -4.59018221e-01 -3.45411769e-01 -1.81518706e-01  3.58506703e-02]\n",
            " [-1.60985515e+00 -1.67482946e+00  2.42042762e-01 -1.70530900e+00\n",
            "  -6.46406848e-01  6.31883944e-01  1.13238855e+00  2.51774376e-01\n",
            "  -7.51247656e-02  2.02972349e+00 -3.77886241e-01  1.40078935e+00\n",
            "  -2.13070348e+00 -8.06235967e-01 -2.01666221e-01 -3.16336049e-01\n",
            "   1.29429933e+00  5.96937537e-01  1.02091625e+00 -2.31680649e-01\n",
            "   1.58372594e-01 -8.53160057e-02 -1.63478325e-01  2.09661184e+00\n",
            "   1.05753112e+00 -3.30223481e-01  3.59485487e-01  1.97967366e+00\n",
            "   6.27576799e-01  4.02800299e-01 -6.40102624e-01 -5.75763461e-01]\n",
            " [ 9.87251219e-01 -4.07472067e-01 -9.35244876e-01  2.42439739e-01\n",
            "   2.20538266e-01  9.65831198e-01 -3.49689723e-01 -1.40936030e+00\n",
            "  -4.72558170e-01 -5.33388261e-01  1.71119345e-01  4.78655869e-01\n",
            "  -2.70521738e-01 -1.10952280e+00  2.92008414e-01  6.45474180e-01\n",
            "  -1.11591699e+00 -8.89854411e-02 -1.16551592e+00  1.71370706e+00\n",
            "  -8.66360022e-01  4.38842235e-01 -5.58065261e-01  9.38300893e-01\n",
            "   7.70826434e-01 -4.61440493e-01 -1.48577120e+00  1.40558749e+00\n",
            "  -9.82897703e-01 -3.41649683e-01 -4.90243644e-01  3.78811408e-01]\n",
            " [ 1.05868158e-01  7.88251085e-01 -9.24660141e-01  6.91592568e-01\n",
            "  -8.13728632e-01  8.30109724e-01 -2.85932375e-01  1.43216028e-01\n",
            "   1.18942878e+00  1.23850381e-01  1.03973367e+00  8.24750638e-01\n",
            "   8.43304722e-01 -1.18948289e+00  7.71258457e-01 -1.48186357e-01\n",
            "  -1.82806984e+00 -5.73636986e-01  1.21891345e+00 -1.15388383e+00\n",
            "  -8.05239525e-02 -2.77288171e-02 -9.85675210e-01 -3.23321345e-01\n",
            "   1.02806180e-01 -1.32851421e-01  4.63483690e-01 -1.28286772e+00\n",
            "  -8.18836550e-01  4.00283156e-01  4.95272023e-01 -3.82819467e-01]\n",
            " [ 1.62233583e+00  1.80539319e+00  1.95963839e+00 -6.67539393e-01\n",
            "  -3.97780792e-01  1.57833908e+00  4.12585231e-01  1.69474259e+00\n",
            "  -6.01199519e-01  1.50465269e+00 -1.08386054e-01 -9.82679392e-01\n",
            "  -4.58998304e-01  3.24052666e-01  1.97410611e+00  5.22269517e-01\n",
            "   1.14341757e-01  6.24042011e-01  2.87093898e+00 -7.20633113e-01\n",
            "   4.50968941e-01  2.11804723e+00 -5.12549785e-01  4.92727148e-01\n",
            "  -1.06673659e+00 -1.08931141e+00  4.33402699e-01 -1.31185460e+00\n",
            "  -6.17007775e-02  9.34133807e-01  5.91108193e-01  5.07168639e-01]\n",
            " [ 3.96639427e-01 -7.41988569e-01 -1.33549713e+00 -7.15571019e-01\n",
            "  -4.97750320e-01  3.92659394e-01 -3.23297567e-01 -1.28263660e+00\n",
            "  -2.65653582e-01 -1.54826548e+00 -1.23793878e+00 -1.01746815e+00\n",
            "   2.11827219e-01  6.11993709e-01  6.41363313e-01  1.44996844e+00\n",
            "  -2.33962721e+00 -5.08249489e-01 -2.38874818e-01 -3.09344594e-01\n",
            "   3.65702457e-01 -3.93506279e-01  5.56450314e-01 -8.53840440e-01\n",
            "  -1.92867382e+00  1.04612093e-01  1.12827604e+00 -4.45040024e-01\n",
            "   1.43293447e+00  8.65785068e-01  3.84055789e-01  1.30384409e+00]\n",
            " [-2.44954594e+00 -5.22847239e-02 -1.45919039e+00  1.01898528e+00\n",
            "  -5.94268262e-02  1.67937183e-01  1.02411502e+00  3.85758500e-01\n",
            "  -6.01764490e-01 -6.28346989e-01  8.82211896e-01 -8.54407203e-01\n",
            "   3.89517844e-01  1.41728925e+00 -4.42971828e-01  6.48385751e-01\n",
            "  -1.85232847e+00  2.98977079e-01  1.29772030e-01 -1.29134776e+00\n",
            "   7.82991085e-01  7.05669651e-01 -1.32004761e-01  4.82811878e-01\n",
            "   5.58021724e-02  4.87188391e-02 -1.50633640e+00 -5.31856583e-01\n",
            "  -2.86015808e-01 -1.09949196e+00 -2.39837830e+00 -3.60662458e-01]\n",
            " [-1.51796295e+00  2.34045378e+00  7.37183064e-01  7.20238121e-01\n",
            "  -8.87485485e-01  9.71329510e-01  1.58259857e-01  1.51332493e+00\n",
            "  -1.55580697e+00  1.02562452e+00  2.52086227e-01  1.01998997e+00\n",
            "   6.55760639e-01  8.67949586e-01  8.61349903e-01  6.39993084e-01\n",
            "  -1.81536654e-01  7.67790679e-01  1.13062407e+00 -1.32763319e+00\n",
            "   4.76423998e-01 -1.06302228e+00 -9.44852992e-01 -1.08784049e+00\n",
            "  -1.71767267e+00  9.53064907e-02  1.88039176e-01  1.28019620e+00\n",
            "   1.36586055e+00  1.29421337e+00 -4.95987354e-01 -1.22009309e-01]\n",
            " [-1.01131699e+00 -1.61905249e+00 -7.13595619e-02 -6.14958716e-01\n",
            "  -2.02465743e+00  5.79832138e-01 -1.07272396e+00  7.16862400e-01\n",
            "  -1.79247177e-01  8.11410870e-01 -5.66585475e-01 -2.41330735e-03\n",
            "   3.94972253e-01  6.40184914e-01  7.93222254e-01  1.08930465e+00\n",
            "   1.32181798e+00  1.12181312e+00 -1.71997011e-01  1.97315380e+00\n",
            "   3.49261093e-02 -6.10859382e-01  9.57343460e-01 -6.16961723e-01\n",
            "  -9.73670401e-02 -9.05352876e-01 -3.91634761e-01  1.41820239e+00\n",
            "   1.08676289e+00  1.12985473e-02 -9.23820685e-01  5.14070401e-01]\n",
            " [ 9.35598414e-01 -7.88407180e-01  4.77582685e-01  7.80884393e-01\n",
            "  -5.05714530e-01  1.75641161e-01  4.69422903e-01 -1.53195445e+00\n",
            "  -8.75209104e-01  3.59406884e-01 -9.74028522e-01  1.69032711e+00\n",
            "   8.55393523e-01 -1.14587394e+00 -7.01491766e-01  2.05348066e-01\n",
            "   1.92968088e-01 -1.17100418e+00 -5.47082150e-01 -1.00524014e-01\n",
            "  -1.21722058e+00  5.46899643e-01 -6.22493014e-02 -6.18367459e-01\n",
            "  -1.71783817e+00  2.87738762e-01  1.19450132e-02  1.38004437e+00\n",
            "  -1.96876679e+00 -3.04780820e-02  7.68177625e-01 -2.81509914e+00]\n",
            " [-7.58018878e-01  6.31131357e-02  1.97433372e+00 -1.30238804e+00\n",
            "  -8.92941240e-01 -5.62967475e-01 -3.85502150e-01 -8.37644509e-01\n",
            "  -7.49670071e-01  7.63841046e-01 -1.67656062e+00  1.07163163e-01\n",
            "   1.08534819e-01  8.79601625e-01  3.43439207e-01 -8.00058732e-01\n",
            "   1.09408211e+00  8.85671739e-01 -6.04584400e-01  4.65416993e-01\n",
            "  -1.58029182e+00  9.24163493e-01 -2.71088839e-01 -7.90801562e-01\n",
            "   9.01838624e-02 -1.37075510e-01 -2.00320769e-01 -2.37473056e-01\n",
            "  -2.25776942e-01 -1.37545059e+00 -1.31248860e+00 -1.22191636e-01]\n",
            " [ 2.64425229e+00 -5.96188638e-01 -1.38090159e+00 -1.18847073e+00\n",
            "  -1.24921341e-01  1.67894016e+00 -1.73729388e-01 -1.41245647e+00\n",
            "   5.35822693e-01  1.03167562e+00 -3.16496684e-01 -3.87981739e-01\n",
            "  -8.20987071e-01  7.09371485e-01 -1.38410862e+00  8.37470491e-03\n",
            "   1.48780670e+00  1.15756842e-01  1.13902174e+00 -7.98278626e-01\n",
            "  -7.36328576e-01  9.59854431e-01  4.28048551e-01  3.53935792e-01\n",
            "   1.21398976e+00  1.30067356e+00 -7.39138874e-01 -2.25288829e-01\n",
            "   1.34808556e+00  8.58052626e-01  7.98081422e-01  1.59431598e+00]\n",
            " [-2.28471289e-01  4.91541230e-01 -1.04686498e-01 -6.03742271e-01\n",
            "   5.23927500e-01 -3.89784488e-01 -7.73468880e-01 -1.76432162e-01\n",
            "   8.32552730e-01  2.82104116e-01 -2.05635604e+00  6.78992858e-01\n",
            "  -1.15696704e+00  2.66722246e-01  6.30658886e-01 -4.08873883e-01\n",
            "  -1.01728687e-01 -2.00532137e+00 -8.78599667e-01 -7.58328614e-01\n",
            "   1.25713347e-01  1.15667756e-01  4.11097796e-01  4.07252134e-02\n",
            "  -1.58554265e+00  8.83835118e-01  1.49316771e+00  9.74904922e-01\n",
            "   6.52888072e-01  6.61732929e-02 -9.08161832e-01 -1.90217090e-01]\n",
            " [-4.83173953e-01  6.15421027e-01  2.06950644e+00 -1.40194243e-01\n",
            "   4.74400076e-01  3.33597246e-01  1.83773113e+00  1.23040117e+00\n",
            "  -8.40748710e-01 -5.38455317e-01 -3.58290992e-01  8.74035194e-01\n",
            "  -5.72670240e-01 -3.53328690e-01 -8.99206945e-01  1.01038271e+00\n",
            "   2.61741348e-01 -7.43320322e-01  7.82492769e-02  8.96398310e-01\n",
            "   1.71259191e-01 -1.81403573e+00  1.52920629e+00 -1.20152177e+00\n",
            "   1.04587842e+00 -5.59307969e-01  6.76745295e-01  9.28818186e-01\n",
            "  -8.75880326e-03  2.41005704e-01 -4.04117228e-01  4.30561177e-01]\n",
            " [ 1.23160897e-01 -1.78145350e+00 -1.03566365e-01  8.73440088e-01\n",
            "  -2.73818788e-01 -3.07147347e-01  2.14055228e+00 -1.28511727e+00\n",
            "   1.25024847e+00  1.63082317e+00  1.61352367e+00 -6.80063668e-01\n",
            "   6.60237613e-01  1.38559263e+00 -1.14040304e+00 -4.39998169e-02\n",
            "  -2.08578831e-01  1.18561694e+00 -9.79607729e-01 -7.07824763e-01\n",
            "  -3.27218480e-01 -3.92249054e-01 -1.39658754e+00 -1.19223965e+00\n",
            "   5.72574777e-01  1.80954892e+00  1.38347761e+00  2.94820203e-01\n",
            "  -4.05568392e-01  8.52202146e-01 -1.27105823e+00  2.94157053e-01]\n",
            " [ 7.59546767e-01  6.15781999e-01  1.14367569e+00  7.63170482e-01\n",
            "   1.08083837e+00 -5.36581834e-01 -1.24618252e+00 -9.35735306e-01\n",
            "  -6.08599292e-01 -6.06058258e-01 -4.66347274e-01 -3.95683998e-01\n",
            "  -1.85508608e-01  4.77989221e-01  1.09318322e-01 -1.92114683e-01\n",
            "   5.55531470e-01  5.60434264e-01 -2.23285797e-01 -4.88896598e-01\n",
            "   1.83712564e-01 -3.60128097e-01  1.23954341e+00 -2.28073405e-01\n",
            "   2.01560128e-02  7.24526545e-01  1.60822362e+00 -1.65609233e-01\n",
            "  -6.78130700e-01  1.27989696e-01 -1.50708582e+00 -1.85668991e+00]\n",
            " [ 1.30575415e-01 -1.91589596e-01 -2.91592065e-02  2.74004421e+00\n",
            "  -7.93070542e-02  7.19685109e-01 -3.84400764e-01  1.22378705e+00\n",
            "   7.74627471e-01 -3.92690342e-01  1.13095557e+00 -7.32194067e-01\n",
            "  -2.62034214e-01  4.05001834e-01  1.53434639e+00 -6.82278197e-01\n",
            "  -3.93778406e-01 -2.19884776e+00 -1.20123760e-01  1.00849134e+00\n",
            "   1.30675192e-01  3.99472310e-01  1.17030307e-01 -4.68225805e-01\n",
            "   1.46691127e+00  5.61407248e-01 -7.82565856e-01  6.15757303e-01\n",
            "  -1.70284852e+00 -3.20699417e-01  1.58624455e+00 -1.51224917e+00]\n",
            " [-2.07194386e-01 -5.63704231e-01 -2.10315025e-01  6.92212948e-02\n",
            "   1.33646322e+00 -3.78057953e-01 -5.42159697e-01 -3.23897317e-01\n",
            "   8.21199724e-01 -1.70151847e+00  9.09132414e-01 -1.59992904e+00\n",
            "  -6.19491307e-01 -5.57388580e-01  5.02382115e-01 -1.44051907e+00\n",
            "  -5.79966399e-02  4.29046806e-01  1.53167888e+00  2.72191978e-01\n",
            "   5.15559232e-01  1.28466815e-01 -3.33609870e-01  7.99153279e-02\n",
            "  -1.66083796e+00  1.22090311e+00 -1.34273501e+00 -1.78753484e-01\n",
            "   1.82729850e-01 -1.39154862e-02 -1.59339662e+00  3.16921429e-01]\n",
            " [ 9.21504009e-01  1.54358245e-01 -2.27855689e-03  3.12725196e-01\n",
            "   9.65289520e-01 -5.95892169e-01 -9.09591683e-01  8.44490341e-01\n",
            "  -6.37245494e-01 -4.61756907e-01 -1.38998458e+00 -9.23998661e-02\n",
            "  -1.86862577e+00 -2.08263384e-01 -5.27740134e-01  7.37761008e-01\n",
            "  -9.46961281e-01 -1.47024539e+00  9.46775197e-01  2.33166170e-02\n",
            "   5.66111996e-02  8.22140218e-01  4.63936202e-01 -1.01509963e-01\n",
            "   9.34357698e-03  9.32540576e-01 -3.48067251e-01 -1.88566119e+00\n",
            "   9.07525985e-01 -1.00740035e+00 -3.35249590e-01 -1.09442895e+00]\n",
            " [-1.13159298e+00  2.27050834e-01  8.36568864e-01 -7.86243621e-01\n",
            "  -1.47564696e+00  2.44272148e-01 -3.25818986e-01  1.52752584e+00\n",
            "   6.51703473e-01 -6.91517563e-01  1.06666092e-01 -1.13948636e+00\n",
            "   1.16173273e+00 -1.39152253e+00  6.11452617e-01  1.59218677e+00\n",
            "   1.11292596e+00  1.40546524e-01  1.36698449e+00  1.12021967e-01\n",
            "   7.90419984e-01  8.98064595e-01 -1.37822344e-01  2.82254603e-01\n",
            "  -9.35200221e-01 -7.50655653e-01 -2.38857785e+00  8.25553309e-01\n",
            "  -1.01818380e+00  2.73065282e+00  3.63186467e-01  6.24530224e-01]\n",
            " [-1.39380868e+00  2.84338780e-01 -8.09297465e-01 -1.95498640e-01\n",
            "   1.35862335e+00 -5.40610585e-01 -1.13822174e+00 -9.72738296e-01\n",
            "   1.13230526e+00  9.73326396e-01 -8.24481212e-01  1.79196898e+00\n",
            "  -3.04789052e-02 -1.59596969e+00  6.00269689e-01 -8.09631351e-02\n",
            "  -1.24903781e+00 -1.16545184e+00  1.84023274e-01 -2.22183847e-01\n",
            "  -1.74375834e+00  4.48590180e-01 -1.79705261e+00  5.12058925e-01\n",
            "  -1.25266605e+00  2.56226578e-01  2.70550344e+00  6.01127069e-01\n",
            "  -1.85269765e+00 -6.30585090e-01 -2.77994493e+00 -8.33659864e-01]\n",
            " [ 6.25342366e-01 -1.28202075e+00 -1.08659338e+00 -6.96750453e-01\n",
            "  -9.46057607e-01 -4.53976105e-01  5.07088592e-01  1.60669808e+00\n",
            "  -1.49599399e+00 -1.19486588e+00  6.22598246e-01 -1.59105794e+00\n",
            "  -3.37343195e-02  8.01862174e-01 -1.39399717e+00 -1.07829954e+00\n",
            "  -5.08392246e-01 -3.49652679e-01 -5.89874314e-02  8.64868699e-02\n",
            "  -4.67466457e-01 -2.91758514e-01  2.06581109e-01  5.64035238e-01\n",
            "   2.68214687e-01 -1.22387593e+00  1.90412767e-01  3.63093104e-01\n",
            "   4.17923605e-01 -5.68641074e-01 -2.38983154e-01 -4.53840020e-01]\n",
            " [-1.43518863e+00 -1.64544022e-01 -8.19173301e-01  1.04118975e+00\n",
            "  -9.55708485e-01 -3.24021896e-01  1.00905956e+00  2.83271228e-01\n",
            "  -9.82787319e-01 -2.02011010e-01  1.06030162e+00  1.14962708e+00\n",
            "   9.99317981e-01 -1.34810414e-01  3.35323977e-01 -2.68374208e-01\n",
            "  -4.58903462e-01 -6.01552639e-01  1.41884523e+00 -3.09758387e-01\n",
            "   1.50845529e+00  1.20545204e+00 -3.49613223e-01 -6.13279791e-01\n",
            "  -1.21891341e+00 -2.55989774e-01  1.34865070e+00  1.30515558e+00\n",
            "   5.40928591e-01  1.30188856e-01  5.99198311e-01 -3.76416005e-01]\n",
            " [-3.85030192e-01  5.05478768e-01  1.29687471e-01 -6.29134101e-01\n",
            "  -1.27333688e+00 -1.11303997e+00 -1.79825487e+00  1.00979203e+00\n",
            "   7.07428764e-01 -2.32113792e-01 -4.73994239e-01 -3.95981065e-01\n",
            "  -1.02376175e-01 -7.67031362e-01  1.49962524e+00  1.09888468e+00\n",
            "   4.53007304e-01 -1.75492787e+00 -4.55853825e-01  1.38052914e+00\n",
            "  -6.40417728e-02  2.67209028e-01  1.60998663e+00 -4.92765391e-01\n",
            "  -8.55923940e-01 -3.63313759e-01  1.67490822e+00 -5.13394497e-01\n",
            "   4.51757872e-01 -9.99614658e-01 -2.34684910e-01  1.06217175e+00]\n",
            " [-1.52108990e+00  3.36250725e-01  1.41592354e+00  1.25618635e+00\n",
            "  -5.43668301e-01  7.57326293e-02 -3.12837465e-01 -1.07475859e-01\n",
            "  -7.71777271e-01  4.26608295e-01  7.18501228e-01 -2.02291131e-01\n",
            "   1.33903378e+00 -8.78660736e-01  1.31399629e+00  3.53431252e-01\n",
            "   1.48090986e+00 -2.59318522e-01 -8.15974840e-01  5.47548579e-01\n",
            "  -2.61276692e-01 -1.03202494e+00 -8.37743734e-01 -5.36047772e-01\n",
            "  -9.97887228e-01 -8.02789015e-01 -1.43422093e-01  7.16390691e-01\n",
            "   2.40329779e+00 -6.36957584e-01 -1.83317398e-01 -1.54449834e+00]\n",
            " [ 5.78523682e-01 -1.73758850e-01 -2.26910927e-02  3.63405912e-01\n",
            "  -6.37987093e-01  3.97738895e-01 -9.08112902e-01 -5.58666603e-01\n",
            "   3.28333379e-01 -1.50070592e-01 -1.61316804e-01 -1.55620363e+00\n",
            "  -1.41695355e+00 -5.03429543e-01  2.81248113e-01  6.52164928e-01\n",
            "  -2.36347100e-02  1.61296118e+00  2.86244332e+00  2.26184271e-01\n",
            "   6.29434981e-01  7.01984132e-02  7.68925717e-01 -7.11826093e-01\n",
            "  -1.75072420e-01  5.69137703e-01 -3.13712176e-01 -2.60065316e-01\n",
            "   4.09443288e-01  2.10935301e+00 -4.10789080e-02 -9.39438153e-01]\n",
            " [ 1.61796236e+00  1.83888763e+00  8.38364227e-02 -3.81950273e-01\n",
            "   2.51187762e-01 -1.60772513e+00  1.45391016e+00 -8.54129189e-02\n",
            "   9.63559607e-01 -6.06228374e-01 -1.48825093e+00 -1.24306146e+00\n",
            "   9.60771033e-01 -1.68702556e-01 -1.14461188e-01 -7.45276775e-01\n",
            "  -1.29485184e+00  1.88991373e-01 -1.20359191e+00 -7.40866132e-01\n",
            "   1.01777871e+00  7.05229999e-01 -6.22599960e-01 -8.74035435e-01\n",
            "   2.71553302e-01 -8.13735767e-02  1.25762848e+00 -1.13024192e+00\n",
            "  -1.10640029e-01 -1.44491015e+00  2.38632775e-01 -4.67949365e-01]\n",
            " [ 2.91363237e-01 -5.53561794e-01 -4.57458480e-01 -2.73759796e-01\n",
            "  -7.47286259e-01 -1.08882181e-01  1.00704741e+00 -9.72216234e-01\n",
            "  -9.84708004e-01  8.75350638e-01  3.81656111e-01  1.59315726e+00\n",
            "   2.07180738e-01 -8.62427231e-01 -1.30086976e+00 -6.30314114e-01\n",
            "   3.88344187e-02 -2.46778950e-01  8.65802181e-01  8.32315473e-01\n",
            "  -4.06913373e-01 -1.59623795e+00 -4.59875014e-01 -7.79162072e-02\n",
            "  -1.29417670e+00 -1.67139285e+00  3.80930456e-01  5.79262284e-01\n",
            "   7.59428564e-01  9.61292686e-01 -5.54182638e-01 -5.93218335e-01]\n",
            " [ 2.41208329e-01 -1.06845189e-01  3.74701246e-01 -2.35798000e-02\n",
            "  -1.35139875e-01  1.30817115e+00  2.33340020e-01  7.93897844e-01\n",
            "  -7.28599404e-01  2.25622463e+00  9.21638085e-01  1.04257460e+00\n",
            "  -3.95332238e-01 -2.07881616e+00  1.22754615e+00 -1.59186793e+00\n",
            "   1.32661364e+00 -1.42440488e-01  7.57068268e-03  1.44854743e+00\n",
            "  -1.19196520e-01  4.78114496e-01 -1.37991035e+00 -5.52641769e-01\n",
            "  -3.28789315e-01 -8.00339714e-01 -1.84572289e-01  1.13407090e-01\n",
            "  -5.66882766e-01  9.81281195e-01  1.14188099e-01 -1.57353247e-01]\n",
            " [-1.99870533e+00  3.46893855e-02 -1.78318311e+00 -1.62018595e-02\n",
            "   7.20446571e-01  1.20628544e+00 -6.28113005e-01  3.44692884e-01\n",
            "   1.18251498e+00  5.43810339e-01 -1.44754902e-02  1.05669898e+00\n",
            "   8.69082254e-01 -1.22661626e+00 -2.10095732e-01  9.77585620e-01\n",
            "  -3.12797963e-01 -2.53188842e-01 -1.43253806e+00  4.25560811e-01\n",
            "  -4.55448320e-01 -7.40290051e-01  1.02495334e+00 -8.59823453e-01\n",
            "  -1.04016033e+00 -9.90147965e-01  8.79438830e-01  6.03769603e-01\n",
            "   7.56149700e-01  7.38310939e-01 -7.91836277e-02 -2.55520243e-01]\n",
            " [-7.14728902e-01  1.26190253e+00 -5.48831604e-03  5.36498443e-01\n",
            "  -1.16906711e+00 -1.27693765e+00 -8.55370045e-01  9.19094886e-01\n",
            "   1.49139248e+00 -3.25550497e-01  1.82579654e+00 -6.60477043e-01\n",
            "   1.15965628e+00  4.54618631e-01 -6.10442215e-02  6.76117955e-01\n",
            "   1.01661794e+00 -9.43491378e-01 -2.06736445e-01 -9.57076389e-01\n",
            "   4.35726200e-01  1.81346705e-01 -4.88118274e-01  1.34226244e+00\n",
            "  -6.40959007e-01  3.65159296e-01  5.24054711e-01  5.36578549e-01\n",
            "   4.38507984e-03  6.11563385e-01  2.42613468e+00  1.03734349e-01]\n",
            " [ 1.47585595e+00 -4.63038256e-01 -1.32667867e+00  2.16505063e-02\n",
            "   4.04425770e-02  9.09407929e-01 -2.14241051e-01 -9.87558423e-01\n",
            "  -1.58773616e+00  1.51592153e+00 -4.04885902e-01 -6.75283670e-01\n",
            "   5.85956688e-01 -6.40547163e-01 -1.81095462e-01  7.92480668e-01\n",
            "   3.61338899e-01 -4.38556746e-01  1.78541358e+00 -9.87072359e-01\n",
            "  -1.38738758e+00 -1.11434841e+00  1.97004559e-01  1.70259667e+00\n",
            "  -8.40833617e-01 -1.33900378e+00  7.03490095e-01 -7.40392797e-01\n",
            "  -5.43307784e-01  6.83954924e-01  5.14209241e-01 -2.22331062e+00]]\n",
            "[[ 1.73243966e-02 -6.29821094e-01 -1.11124083e-02  7.63411644e-01\n",
            "   4.02437430e-01 -1.62026387e+00  4.44291228e-01 -2.00372497e-01\n",
            "  -3.00636367e-01  8.83318323e-01  6.71257051e-01 -1.54714357e+00\n",
            "   6.67322451e-01  4.03457888e-01 -3.45117596e-01 -2.95202438e-01\n",
            "   1.15282247e+00  6.82829795e-01 -5.62378101e-01 -5.61275867e-01\n",
            "  -2.94792643e-01 -3.83234083e-02  5.04378244e-01  5.68071989e-01\n",
            "   4.04214513e-01 -6.46069975e-02  7.93241841e-01 -2.42731103e+00\n",
            "  -4.59018221e-01 -3.45411769e-01 -1.81518706e-01  3.58506703e-02]\n",
            " [-3.16336049e-01  1.29429933e+00  5.96937537e-01  1.02091625e+00\n",
            "  -2.31680649e-01 -1.60985515e+00 -1.67482946e+00  2.42042762e-01\n",
            "  -1.70530900e+00 -6.46406848e-01  6.31883944e-01  1.13238855e+00\n",
            "   2.51774376e-01 -7.51247656e-02  2.02972349e+00 -3.77886241e-01\n",
            "   1.40078935e+00 -2.13070348e+00 -8.06235967e-01 -2.01666221e-01\n",
            "   1.58372594e-01 -8.53160057e-02 -1.63478325e-01  2.09661184e+00\n",
            "   1.05753112e+00 -3.30223481e-01  3.59485487e-01  1.97967366e+00\n",
            "   6.27576799e-01  4.02800299e-01 -6.40102624e-01 -5.75763461e-01]\n",
            " [ 6.45474180e-01 -1.11591699e+00 -8.89854411e-02 -1.16551592e+00\n",
            "   1.71370706e+00  9.87251219e-01 -4.07472067e-01 -9.35244876e-01\n",
            "   2.42439739e-01  2.20538266e-01  9.65831198e-01 -3.49689723e-01\n",
            "  -1.40936030e+00 -4.72558170e-01 -5.33388261e-01  1.71119345e-01\n",
            "   4.78655869e-01 -2.70521738e-01 -1.10952280e+00  2.92008414e-01\n",
            "  -8.66360022e-01  4.38842235e-01 -5.58065261e-01  9.38300893e-01\n",
            "   7.70826434e-01 -4.61440493e-01 -1.48577120e+00  1.40558749e+00\n",
            "  -9.82897703e-01 -3.41649683e-01 -4.90243644e-01  3.78811408e-01]\n",
            " [-1.48186357e-01 -1.82806984e+00 -5.73636986e-01  1.21891345e+00\n",
            "  -1.15388383e+00  1.05868158e-01  7.88251085e-01 -9.24660141e-01\n",
            "   6.91592568e-01 -8.13728632e-01  8.30109724e-01 -2.85932375e-01\n",
            "   1.43216028e-01  1.18942878e+00  1.23850381e-01  1.03973367e+00\n",
            "   8.24750638e-01  8.43304722e-01 -1.18948289e+00  7.71258457e-01\n",
            "  -8.05239525e-02 -2.77288171e-02 -9.85675210e-01 -3.23321345e-01\n",
            "   1.02806180e-01 -1.32851421e-01  4.63483690e-01 -1.28286772e+00\n",
            "  -8.18836550e-01  4.00283156e-01  4.95272023e-01 -3.82819467e-01]\n",
            " [ 5.22269517e-01  1.14341757e-01  6.24042011e-01  2.87093898e+00\n",
            "  -7.20633113e-01  1.62233583e+00  1.80539319e+00  1.95963839e+00\n",
            "  -6.67539393e-01 -3.97780792e-01  1.57833908e+00  4.12585231e-01\n",
            "   1.69474259e+00 -6.01199519e-01  1.50465269e+00 -1.08386054e-01\n",
            "  -9.82679392e-01 -4.58998304e-01  3.24052666e-01  1.97410611e+00\n",
            "   4.50968941e-01  2.11804723e+00 -5.12549785e-01  4.92727148e-01\n",
            "  -1.06673659e+00 -1.08931141e+00  4.33402699e-01 -1.31185460e+00\n",
            "  -6.17007775e-02  9.34133807e-01  5.91108193e-01  5.07168639e-01]\n",
            " [ 1.44996844e+00 -2.33962721e+00 -5.08249489e-01 -2.38874818e-01\n",
            "  -3.09344594e-01  3.96639427e-01 -7.41988569e-01 -1.33549713e+00\n",
            "  -7.15571019e-01 -4.97750320e-01  3.92659394e-01 -3.23297567e-01\n",
            "  -1.28263660e+00 -2.65653582e-01 -1.54826548e+00 -1.23793878e+00\n",
            "  -1.01746815e+00  2.11827219e-01  6.11993709e-01  6.41363313e-01\n",
            "   3.65702457e-01 -3.93506279e-01  5.56450314e-01 -8.53840440e-01\n",
            "  -1.92867382e+00  1.04612093e-01  1.12827604e+00 -4.45040024e-01\n",
            "   1.43293447e+00  8.65785068e-01  3.84055789e-01  1.30384409e+00]\n",
            " [ 6.48385751e-01 -1.85232847e+00  2.98977079e-01  1.29772030e-01\n",
            "  -1.29134776e+00 -2.44954594e+00 -5.22847239e-02 -1.45919039e+00\n",
            "   1.01898528e+00 -5.94268262e-02  1.67937183e-01  1.02411502e+00\n",
            "   3.85758500e-01 -6.01764490e-01 -6.28346989e-01  8.82211896e-01\n",
            "  -8.54407203e-01  3.89517844e-01  1.41728925e+00 -4.42971828e-01\n",
            "   7.82991085e-01  7.05669651e-01 -1.32004761e-01  4.82811878e-01\n",
            "   5.58021724e-02  4.87188391e-02 -1.50633640e+00 -5.31856583e-01\n",
            "  -2.86015808e-01 -1.09949196e+00 -2.39837830e+00 -3.60662458e-01]\n",
            " [ 6.39993084e-01 -1.81536654e-01  7.67790679e-01  1.13062407e+00\n",
            "  -1.32763319e+00 -1.51796295e+00  2.34045378e+00  7.37183064e-01\n",
            "   7.20238121e-01 -8.87485485e-01  9.71329510e-01  1.58259857e-01\n",
            "   1.51332493e+00 -1.55580697e+00  1.02562452e+00  2.52086227e-01\n",
            "   1.01998997e+00  6.55760639e-01  8.67949586e-01  8.61349903e-01\n",
            "   4.76423998e-01 -1.06302228e+00 -9.44852992e-01 -1.08784049e+00\n",
            "  -1.71767267e+00  9.53064907e-02  1.88039176e-01  1.28019620e+00\n",
            "   1.36586055e+00  1.29421337e+00 -4.95987354e-01 -1.22009309e-01]\n",
            " [ 1.08930465e+00  1.32181798e+00  1.12181312e+00 -1.71997011e-01\n",
            "   1.97315380e+00 -1.01131699e+00 -1.61905249e+00 -7.13595619e-02\n",
            "  -6.14958716e-01 -2.02465743e+00  5.79832138e-01 -1.07272396e+00\n",
            "   7.16862400e-01 -1.79247177e-01  8.11410870e-01 -5.66585475e-01\n",
            "  -2.41330735e-03  3.94972253e-01  6.40184914e-01  7.93222254e-01\n",
            "   3.49261093e-02 -6.10859382e-01  9.57343460e-01 -6.16961723e-01\n",
            "  -9.73670401e-02 -9.05352876e-01 -3.91634761e-01  1.41820239e+00\n",
            "   1.08676289e+00  1.12985473e-02 -9.23820685e-01  5.14070401e-01]\n",
            " [ 2.05348066e-01  1.92968088e-01 -1.17100418e+00 -5.47082150e-01\n",
            "  -1.00524014e-01  9.35598414e-01 -7.88407180e-01  4.77582685e-01\n",
            "   7.80884393e-01 -5.05714530e-01  1.75641161e-01  4.69422903e-01\n",
            "  -1.53195445e+00 -8.75209104e-01  3.59406884e-01 -9.74028522e-01\n",
            "   1.69032711e+00  8.55393523e-01 -1.14587394e+00 -7.01491766e-01\n",
            "  -1.21722058e+00  5.46899643e-01 -6.22493014e-02 -6.18367459e-01\n",
            "  -1.71783817e+00  2.87738762e-01  1.19450132e-02  1.38004437e+00\n",
            "  -1.96876679e+00 -3.04780820e-02  7.68177625e-01 -2.81509914e+00]\n",
            " [-8.00058732e-01  1.09408211e+00  8.85671739e-01 -6.04584400e-01\n",
            "   4.65416993e-01 -7.58018878e-01  6.31131357e-02  1.97433372e+00\n",
            "  -1.30238804e+00 -8.92941240e-01 -5.62967475e-01 -3.85502150e-01\n",
            "  -8.37644509e-01 -7.49670071e-01  7.63841046e-01 -1.67656062e+00\n",
            "   1.07163163e-01  1.08534819e-01  8.79601625e-01  3.43439207e-01\n",
            "  -1.58029182e+00  9.24163493e-01 -2.71088839e-01 -7.90801562e-01\n",
            "   9.01838624e-02 -1.37075510e-01 -2.00320769e-01 -2.37473056e-01\n",
            "  -2.25776942e-01 -1.37545059e+00 -1.31248860e+00 -1.22191636e-01]\n",
            " [ 8.37470491e-03  1.48780670e+00  1.15756842e-01  1.13902174e+00\n",
            "  -7.98278626e-01  2.64425229e+00 -5.96188638e-01 -1.38090159e+00\n",
            "  -1.18847073e+00 -1.24921341e-01  1.67894016e+00 -1.73729388e-01\n",
            "  -1.41245647e+00  5.35822693e-01  1.03167562e+00 -3.16496684e-01\n",
            "  -3.87981739e-01 -8.20987071e-01  7.09371485e-01 -1.38410862e+00\n",
            "  -7.36328576e-01  9.59854431e-01  4.28048551e-01  3.53935792e-01\n",
            "   1.21398976e+00  1.30067356e+00 -7.39138874e-01 -2.25288829e-01\n",
            "   1.34808556e+00  8.58052626e-01  7.98081422e-01  1.59431598e+00]\n",
            " [-4.08873883e-01 -1.01728687e-01 -2.00532137e+00 -8.78599667e-01\n",
            "  -7.58328614e-01 -2.28471289e-01  4.91541230e-01 -1.04686498e-01\n",
            "  -6.03742271e-01  5.23927500e-01 -3.89784488e-01 -7.73468880e-01\n",
            "  -1.76432162e-01  8.32552730e-01  2.82104116e-01 -2.05635604e+00\n",
            "   6.78992858e-01 -1.15696704e+00  2.66722246e-01  6.30658886e-01\n",
            "   1.25713347e-01  1.15667756e-01  4.11097796e-01  4.07252134e-02\n",
            "  -1.58554265e+00  8.83835118e-01  1.49316771e+00  9.74904922e-01\n",
            "   6.52888072e-01  6.61732929e-02 -9.08161832e-01 -1.90217090e-01]\n",
            " [ 1.01038271e+00  2.61741348e-01 -7.43320322e-01  7.82492769e-02\n",
            "   8.96398310e-01 -4.83173953e-01  6.15421027e-01  2.06950644e+00\n",
            "  -1.40194243e-01  4.74400076e-01  3.33597246e-01  1.83773113e+00\n",
            "   1.23040117e+00 -8.40748710e-01 -5.38455317e-01 -3.58290992e-01\n",
            "   8.74035194e-01 -5.72670240e-01 -3.53328690e-01 -8.99206945e-01\n",
            "   1.71259191e-01 -1.81403573e+00  1.52920629e+00 -1.20152177e+00\n",
            "   1.04587842e+00 -5.59307969e-01  6.76745295e-01  9.28818186e-01\n",
            "  -8.75880326e-03  2.41005704e-01 -4.04117228e-01  4.30561177e-01]\n",
            " [-4.39998169e-02 -2.08578831e-01  1.18561694e+00 -9.79607729e-01\n",
            "  -7.07824763e-01  1.23160897e-01 -1.78145350e+00 -1.03566365e-01\n",
            "   8.73440088e-01 -2.73818788e-01 -3.07147347e-01  2.14055228e+00\n",
            "  -1.28511727e+00  1.25024847e+00  1.63082317e+00  1.61352367e+00\n",
            "  -6.80063668e-01  6.60237613e-01  1.38559263e+00 -1.14040304e+00\n",
            "  -3.27218480e-01 -3.92249054e-01 -1.39658754e+00 -1.19223965e+00\n",
            "   5.72574777e-01  1.80954892e+00  1.38347761e+00  2.94820203e-01\n",
            "  -4.05568392e-01  8.52202146e-01 -1.27105823e+00  2.94157053e-01]\n",
            " [-1.92114683e-01  5.55531470e-01  5.60434264e-01 -2.23285797e-01\n",
            "  -4.88896598e-01  7.59546767e-01  6.15781999e-01  1.14367569e+00\n",
            "   7.63170482e-01  1.08083837e+00 -5.36581834e-01 -1.24618252e+00\n",
            "  -9.35735306e-01 -6.08599292e-01 -6.06058258e-01 -4.66347274e-01\n",
            "  -3.95683998e-01 -1.85508608e-01  4.77989221e-01  1.09318322e-01\n",
            "   1.83712564e-01 -3.60128097e-01  1.23954341e+00 -2.28073405e-01\n",
            "   2.01560128e-02  7.24526545e-01  1.60822362e+00 -1.65609233e-01\n",
            "  -6.78130700e-01  1.27989696e-01 -1.50708582e+00 -1.85668991e+00]\n",
            " [-6.82278197e-01 -3.93778406e-01 -2.19884776e+00 -1.20123760e-01\n",
            "   1.00849134e+00  1.30575415e-01 -1.91589596e-01 -2.91592065e-02\n",
            "   2.74004421e+00 -7.93070542e-02  7.19685109e-01 -3.84400764e-01\n",
            "   1.22378705e+00  7.74627471e-01 -3.92690342e-01  1.13095557e+00\n",
            "  -7.32194067e-01 -2.62034214e-01  4.05001834e-01  1.53434639e+00\n",
            "   1.30675192e-01  3.99472310e-01  1.17030307e-01 -4.68225805e-01\n",
            "   1.46691127e+00  5.61407248e-01 -7.82565856e-01  6.15757303e-01\n",
            "  -1.70284852e+00 -3.20699417e-01  1.58624455e+00 -1.51224917e+00]\n",
            " [-1.44051907e+00 -5.79966399e-02  4.29046806e-01  1.53167888e+00\n",
            "   2.72191978e-01 -2.07194386e-01 -5.63704231e-01 -2.10315025e-01\n",
            "   6.92212948e-02  1.33646322e+00 -3.78057953e-01 -5.42159697e-01\n",
            "  -3.23897317e-01  8.21199724e-01 -1.70151847e+00  9.09132414e-01\n",
            "  -1.59992904e+00 -6.19491307e-01 -5.57388580e-01  5.02382115e-01\n",
            "   5.15559232e-01  1.28466815e-01 -3.33609870e-01  7.99153279e-02\n",
            "  -1.66083796e+00  1.22090311e+00 -1.34273501e+00 -1.78753484e-01\n",
            "   1.82729850e-01 -1.39154862e-02 -1.59339662e+00  3.16921429e-01]\n",
            " [ 7.37761008e-01 -9.46961281e-01 -1.47024539e+00  9.46775197e-01\n",
            "   2.33166170e-02  9.21504009e-01  1.54358245e-01 -2.27855689e-03\n",
            "   3.12725196e-01  9.65289520e-01 -5.95892169e-01 -9.09591683e-01\n",
            "   8.44490341e-01 -6.37245494e-01 -4.61756907e-01 -1.38998458e+00\n",
            "  -9.23998661e-02 -1.86862577e+00 -2.08263384e-01 -5.27740134e-01\n",
            "   5.66111996e-02  8.22140218e-01  4.63936202e-01 -1.01509963e-01\n",
            "   9.34357698e-03  9.32540576e-01 -3.48067251e-01 -1.88566119e+00\n",
            "   9.07525985e-01 -1.00740035e+00 -3.35249590e-01 -1.09442895e+00]\n",
            " [ 1.59218677e+00  1.11292596e+00  1.40546524e-01  1.36698449e+00\n",
            "   1.12021967e-01 -1.13159298e+00  2.27050834e-01  8.36568864e-01\n",
            "  -7.86243621e-01 -1.47564696e+00  2.44272148e-01 -3.25818986e-01\n",
            "   1.52752584e+00  6.51703473e-01 -6.91517563e-01  1.06666092e-01\n",
            "  -1.13948636e+00  1.16173273e+00 -1.39152253e+00  6.11452617e-01\n",
            "   7.90419984e-01  8.98064595e-01 -1.37822344e-01  2.82254603e-01\n",
            "  -9.35200221e-01 -7.50655653e-01 -2.38857785e+00  8.25553309e-01\n",
            "  -1.01818380e+00  2.73065282e+00  3.63186467e-01  6.24530224e-01]\n",
            " [-8.09631351e-02 -1.24903781e+00 -1.16545184e+00  1.84023274e-01\n",
            "  -2.22183847e-01 -1.39380868e+00  2.84338780e-01 -8.09297465e-01\n",
            "  -1.95498640e-01  1.35862335e+00 -5.40610585e-01 -1.13822174e+00\n",
            "  -9.72738296e-01  1.13230526e+00  9.73326396e-01 -8.24481212e-01\n",
            "   1.79196898e+00 -3.04789052e-02 -1.59596969e+00  6.00269689e-01\n",
            "  -1.74375834e+00  4.48590180e-01 -1.79705261e+00  5.12058925e-01\n",
            "  -1.25266605e+00  2.56226578e-01  2.70550344e+00  6.01127069e-01\n",
            "  -1.85269765e+00 -6.30585090e-01 -2.77994493e+00 -8.33659864e-01]\n",
            " [-1.07829954e+00 -5.08392246e-01 -3.49652679e-01 -5.89874314e-02\n",
            "   8.64868699e-02  6.25342366e-01 -1.28202075e+00 -1.08659338e+00\n",
            "  -6.96750453e-01 -9.46057607e-01 -4.53976105e-01  5.07088592e-01\n",
            "   1.60669808e+00 -1.49599399e+00 -1.19486588e+00  6.22598246e-01\n",
            "  -1.59105794e+00 -3.37343195e-02  8.01862174e-01 -1.39399717e+00\n",
            "  -4.67466457e-01 -2.91758514e-01  2.06581109e-01  5.64035238e-01\n",
            "   2.68214687e-01 -1.22387593e+00  1.90412767e-01  3.63093104e-01\n",
            "   4.17923605e-01 -5.68641074e-01 -2.38983154e-01 -4.53840020e-01]\n",
            " [-2.68374208e-01 -4.58903462e-01 -6.01552639e-01  1.41884523e+00\n",
            "  -3.09758387e-01 -1.43518863e+00 -1.64544022e-01 -8.19173301e-01\n",
            "   1.04118975e+00 -9.55708485e-01 -3.24021896e-01  1.00905956e+00\n",
            "   2.83271228e-01 -9.82787319e-01 -2.02011010e-01  1.06030162e+00\n",
            "   1.14962708e+00  9.99317981e-01 -1.34810414e-01  3.35323977e-01\n",
            "   1.50845529e+00  1.20545204e+00 -3.49613223e-01 -6.13279791e-01\n",
            "  -1.21891341e+00 -2.55989774e-01  1.34865070e+00  1.30515558e+00\n",
            "   5.40928591e-01  1.30188856e-01  5.99198311e-01 -3.76416005e-01]\n",
            " [ 1.09888468e+00  4.53007304e-01 -1.75492787e+00 -4.55853825e-01\n",
            "   1.38052914e+00 -3.85030192e-01  5.05478768e-01  1.29687471e-01\n",
            "  -6.29134101e-01 -1.27333688e+00 -1.11303997e+00 -1.79825487e+00\n",
            "   1.00979203e+00  7.07428764e-01 -2.32113792e-01 -4.73994239e-01\n",
            "  -3.95981065e-01 -1.02376175e-01 -7.67031362e-01  1.49962524e+00\n",
            "  -6.40417728e-02  2.67209028e-01  1.60998663e+00 -4.92765391e-01\n",
            "  -8.55923940e-01 -3.63313759e-01  1.67490822e+00 -5.13394497e-01\n",
            "   4.51757872e-01 -9.99614658e-01 -2.34684910e-01  1.06217175e+00]\n",
            " [ 3.53431252e-01  1.48090986e+00 -2.59318522e-01 -8.15974840e-01\n",
            "   5.47548579e-01 -1.52108990e+00  3.36250725e-01  1.41592354e+00\n",
            "   1.25618635e+00 -5.43668301e-01  7.57326293e-02 -3.12837465e-01\n",
            "  -1.07475859e-01 -7.71777271e-01  4.26608295e-01  7.18501228e-01\n",
            "  -2.02291131e-01  1.33903378e+00 -8.78660736e-01  1.31399629e+00\n",
            "  -2.61276692e-01 -1.03202494e+00 -8.37743734e-01 -5.36047772e-01\n",
            "  -9.97887228e-01 -8.02789015e-01 -1.43422093e-01  7.16390691e-01\n",
            "   2.40329779e+00 -6.36957584e-01 -1.83317398e-01 -1.54449834e+00]\n",
            " [ 6.52164928e-01 -2.36347100e-02  1.61296118e+00  2.86244332e+00\n",
            "   2.26184271e-01  5.78523682e-01 -1.73758850e-01 -2.26910927e-02\n",
            "   3.63405912e-01 -6.37987093e-01  3.97738895e-01 -9.08112902e-01\n",
            "  -5.58666603e-01  3.28333379e-01 -1.50070592e-01 -1.61316804e-01\n",
            "  -1.55620363e+00 -1.41695355e+00 -5.03429543e-01  2.81248113e-01\n",
            "   6.29434981e-01  7.01984132e-02  7.68925717e-01 -7.11826093e-01\n",
            "  -1.75072420e-01  5.69137703e-01 -3.13712176e-01 -2.60065316e-01\n",
            "   4.09443288e-01  2.10935301e+00 -4.10789080e-02 -9.39438153e-01]\n",
            " [-7.45276775e-01 -1.29485184e+00  1.88991373e-01 -1.20359191e+00\n",
            "  -7.40866132e-01  1.61796236e+00  1.83888763e+00  8.38364227e-02\n",
            "  -3.81950273e-01  2.51187762e-01 -1.60772513e+00  1.45391016e+00\n",
            "  -8.54129189e-02  9.63559607e-01 -6.06228374e-01 -1.48825093e+00\n",
            "  -1.24306146e+00  9.60771033e-01 -1.68702556e-01 -1.14461188e-01\n",
            "   1.01777871e+00  7.05229999e-01 -6.22599960e-01 -8.74035435e-01\n",
            "   2.71553302e-01 -8.13735767e-02  1.25762848e+00 -1.13024192e+00\n",
            "  -1.10640029e-01 -1.44491015e+00  2.38632775e-01 -4.67949365e-01]\n",
            " [-6.30314114e-01  3.88344187e-02 -2.46778950e-01  8.65802181e-01\n",
            "   8.32315473e-01  2.91363237e-01 -5.53561794e-01 -4.57458480e-01\n",
            "  -2.73759796e-01 -7.47286259e-01 -1.08882181e-01  1.00704741e+00\n",
            "  -9.72216234e-01 -9.84708004e-01  8.75350638e-01  3.81656111e-01\n",
            "   1.59315726e+00  2.07180738e-01 -8.62427231e-01 -1.30086976e+00\n",
            "  -4.06913373e-01 -1.59623795e+00 -4.59875014e-01 -7.79162072e-02\n",
            "  -1.29417670e+00 -1.67139285e+00  3.80930456e-01  5.79262284e-01\n",
            "   7.59428564e-01  9.61292686e-01 -5.54182638e-01 -5.93218335e-01]\n",
            " [-1.59186793e+00  1.32661364e+00 -1.42440488e-01  7.57068268e-03\n",
            "   1.44854743e+00  2.41208329e-01 -1.06845189e-01  3.74701246e-01\n",
            "  -2.35798000e-02 -1.35139875e-01  1.30817115e+00  2.33340020e-01\n",
            "   7.93897844e-01 -7.28599404e-01  2.25622463e+00  9.21638085e-01\n",
            "   1.04257460e+00 -3.95332238e-01 -2.07881616e+00  1.22754615e+00\n",
            "  -1.19196520e-01  4.78114496e-01 -1.37991035e+00 -5.52641769e-01\n",
            "  -3.28789315e-01 -8.00339714e-01 -1.84572289e-01  1.13407090e-01\n",
            "  -5.66882766e-01  9.81281195e-01  1.14188099e-01 -1.57353247e-01]\n",
            " [ 9.77585620e-01 -3.12797963e-01 -2.53188842e-01 -1.43253806e+00\n",
            "   4.25560811e-01 -1.99870533e+00  3.46893855e-02 -1.78318311e+00\n",
            "  -1.62018595e-02  7.20446571e-01  1.20628544e+00 -6.28113005e-01\n",
            "   3.44692884e-01  1.18251498e+00  5.43810339e-01 -1.44754902e-02\n",
            "   1.05669898e+00  8.69082254e-01 -1.22661626e+00 -2.10095732e-01\n",
            "  -4.55448320e-01 -7.40290051e-01  1.02495334e+00 -8.59823453e-01\n",
            "  -1.04016033e+00 -9.90147965e-01  8.79438830e-01  6.03769603e-01\n",
            "   7.56149700e-01  7.38310939e-01 -7.91836277e-02 -2.55520243e-01]\n",
            " [ 6.76117955e-01  1.01661794e+00 -9.43491378e-01 -2.06736445e-01\n",
            "  -9.57076389e-01 -7.14728902e-01  1.26190253e+00 -5.48831604e-03\n",
            "   5.36498443e-01 -1.16906711e+00 -1.27693765e+00 -8.55370045e-01\n",
            "   9.19094886e-01  1.49139248e+00 -3.25550497e-01  1.82579654e+00\n",
            "  -6.60477043e-01  1.15965628e+00  4.54618631e-01 -6.10442215e-02\n",
            "   4.35726200e-01  1.81346705e-01 -4.88118274e-01  1.34226244e+00\n",
            "  -6.40959007e-01  3.65159296e-01  5.24054711e-01  5.36578549e-01\n",
            "   4.38507984e-03  6.11563385e-01  2.42613468e+00  1.03734349e-01]\n",
            " [ 7.92480668e-01  3.61338899e-01 -4.38556746e-01  1.78541358e+00\n",
            "  -9.87072359e-01  1.47585595e+00 -4.63038256e-01 -1.32667867e+00\n",
            "   2.16505063e-02  4.04425770e-02  9.09407929e-01 -2.14241051e-01\n",
            "  -9.87558423e-01 -1.58773616e+00  1.51592153e+00 -4.04885902e-01\n",
            "  -6.75283670e-01  5.85956688e-01 -6.40547163e-01 -1.81095462e-01\n",
            "  -1.38738758e+00 -1.11434841e+00  1.97004559e-01  1.70259667e+00\n",
            "  -8.40833617e-01 -1.33900378e+00  7.03490095e-01 -7.40392797e-01\n",
            "  -5.43307784e-01  6.83954924e-01  5.14209241e-01 -2.22331062e+00]]\n",
            "[ 15]\n",
            "[ 16]\n",
            "[ 17]\n",
            "[ 18]\n",
            "[ 19]\n",
            "[  0]\n",
            "[  1]\n",
            "[  2]\n",
            "[  3]\n",
            "[  4]\n",
            "[  5]\n",
            "[  6]\n",
            "[  7]\n",
            "[  8]\n",
            "[  9]\n",
            "[ 10]\n",
            "[ 11]\n",
            "[ 12]\n",
            "[ 13]\n",
            "[ 14]\n",
            "[ 20]\n",
            "[ 21]\n",
            "[ 22]\n",
            "[ 23]\n",
            "[ 24]\n",
            "[ 25]\n",
            "[ 26]\n",
            "[ 27]\n",
            "[ 28]\n",
            "[ 29]\n",
            "[ 30]\n",
            "[ 31]\n",
            "\n"
          ],
          "name": "stdout"
        }
      ]
    },
    {
      "cell_type": "markdown",
      "metadata": {
        "id": "oKqSBrIPz32K",
        "colab_type": "text"
      },
      "source": [
        "#### Permute Lambda\n",
        "\n",
        "The below function takes in Lambda and an `approximate minimum degree` permutation vector and applies the permutation to Lambda. (This function is mainly just applied to make it clearer where we are applying the permutation).\n",
        "\n",
        "---\n",
        "The following inputs are required for this function:\n",
        "\n",
        "---\n",
        " - Lambda: The \n",
        " - nparams: The number of parameters vector."
      ]
    },
    {
      "cell_type": "code",
      "metadata": {
        "id": "Is9Rmt0fz4BK",
        "colab_type": "code",
        "colab": {}
      },
      "source": [
        "def permuteLambda(Lambda, P):\n",
        "  \n",
        "  return(Lambda[:,P])"
      ],
      "execution_count": 0,
      "outputs": []
    },
    {
      "cell_type": "markdown",
      "metadata": {
        "id": "NZhUF3lKvWXw",
        "colab_type": "text"
      },
      "source": [
        "### Apply 3D mapping function\n",
        "\n",
        "The below function applies a mapping to a vector of parameters for a list of voxels.\n",
        "\n",
        "---\n",
        "The following inputs are required for this function:\n",
        "\n",
        "---\n",
        "\n",
        " - **theta**: the vector of theta parameters for all voxels (i.e. if one voxel has 6 parameters and there are 10 voxels, then theta is 60 by 1 and laid out as [$p_1$,$p_2$,...,$p_{10}$] where $p_n$ is the parameter vector for voxel n.\n",
        " - **v_inds**: A vector specifying which voxel each entry in the theta vector belongs to. E.g. v_inds[i]=j means the $i^{th}$ parameter entry belongs to voxel $j$.\n",
        " - **t_inds**: A vector specifying how many times each theta parameter should be repeated. For example, if theta=[0.1,0.8,0.3] and theta_inds=[0,0,0,1,2,2], then the values to be mapped into the sparse matrix would be [0.1,0.1,0.1,0.8,0.3,0.3].\n",
        " - **r_inds**: The row indices of the elements mapped into the sparse matrix.\n",
        " - **c_inds**: The column indices of the elements mapped into the sparse matrix."
      ]
    },
    {
      "cell_type": "code",
      "metadata": {
        "id": "xcdMAE1syUfa",
        "colab_type": "code",
        "colab": {
          "base_uri": "https://localhost:8080/",
          "height": 175
        },
        "outputId": "ca9c9a0a-4884-46b5-de5a-922240eecced"
      },
      "source": [
        "def mapping_3D(theta, v_inds, t_inds, r_inds, c_inds):\n",
        "  \n",
        "  # Create the coordinate matrix\n",
        "  coords = np.array([v_inds, r_inds, c_inds])\n",
        "\n",
        "  # Create Lambda\n",
        "  lam = sparse.COO(coords, theta[t_inds.astype(np.int64)].tolist(), shape=(np.max(v_inds)+1,np.max(r_inds)+1,np.max(c_inds)+1))\n",
        "\n",
        "  return(lam)\n",
        "\n",
        "# Random theta to test with\n",
        "print(len(vox_indices_3D))\n",
        "print(len(theta_indices_3D))\n",
        "print(len(row_indices_3D))\n",
        "print(len(col_indices_3D))\n",
        "print(np.max(theta_indices_3D))\n",
        "print(nv)\n",
        "print((np.sum((nparams*(nparams+1)/2)))*nv)\n",
        "print(np.int16((np.sum((nparams*(nparams+1)/2)))*nv))\n",
        "theta = np.random.randn(np.int64((np.sum((nparams*(nparams+1)/2)))*nv))\n",
        "\n",
        "print(theta.shape)\n",
        "\n",
        "# Get lambda\n",
        "lam = mapping_3D(theta, vox_indices_3D, theta_indices_3D, row_indices_3D, col_indices_3D)"
      ],
      "execution_count": 52,
      "outputs": [
        {
          "output_type": "stream",
          "text": [
            "2268000\n",
            "2268000\n",
            "2268000\n",
            "2268000\n",
            "566999\n",
            "27000\n",
            "567000.0\n",
            "-22824\n",
            "(567000,)\n"
          ],
          "name": "stdout"
        }
      ]
    },
    {
      "cell_type": "markdown",
      "metadata": {
        "id": "8Kg_SG7m8vsI",
        "colab_type": "text"
      },
      "source": [
        "#### Initial Theta function\n",
        "\n",
        "The below function calculates the initial theta vector for the whole brain.\n",
        "\n",
        "---\n",
        "The following inputs are required for this function:\n",
        "\n",
        "---\n",
        " - nv: The number of voxels.\n",
        " - nparams: The number of parameters vector."
      ]
    },
    {
      "cell_type": "code",
      "metadata": {
        "id": "tTBeQKxE8v2Q",
        "colab_type": "code",
        "colab": {}
      },
      "source": [
        "def init_theta(nv, nparams):\n",
        "  \n",
        "  # Get the initial parameter values for a single voxel\n",
        "  # These are given by the lower triangle of an identity\n",
        "  # for each factor of size #params by #params\n",
        "  init_theta_tmp = np.array([])\n",
        "  for nump in nparams:\n",
        "    \n",
        "    I = np.eye(nump)\n",
        "    lower = I[np.tril_indices(nump)]\n",
        "    init_theta_tmp = np.hstack((init_theta_tmp, np.array(lower[:])))\n",
        "    \n",
        "  # Repeat for all voxels and return.\n",
        "  return(np.tile(init_theta_tmp, reps=nv))"
      ],
      "execution_count": 0,
      "outputs": []
    },
    {
      "cell_type": "markdown",
      "metadata": {
        "id": "wbsGqStlYAas",
        "colab_type": "text"
      },
      "source": [
        "#### Broadcasted PLS function\n",
        "\n",
        "Commented lines still need doing... documentation also coming soon..."
      ]
    },
    {
      "cell_type": "code",
      "metadata": {
        "id": "gkkDPCSRYG-4",
        "colab_type": "code",
        "colab": {
          "base_uri": "https://localhost:8080/",
          "height": 434
        },
        "outputId": "386c09b8-9bd1-4ba9-d715-2536b2c30e94"
      },
      "source": [
        "from dask.diagnostics import Profiler, ResourceProfiler, CacheProfiler\n",
        "import dask\n",
        "\n",
        "def PLS_broadcasted(theta, ZtX, ZtY, XtX, ZtZ, XtY, YtX, YtZ, XtZ, YtY, P, n, tinds, rinds, cinds, cinds_permuted, vinds):\n",
        "    \n",
        "    t1 = time.time()\n",
        "    # Obtain Lambda and Lambda*P\n",
        "    Lambda = mapping_3D(theta[:], vinds, tinds, rinds, cinds_permuted)\n",
        "    #LambdaP = mapping_3D(theta[:], vinds, tinds, rinds, cinds)\n",
        "    \n",
        "    print('1')\n",
        "    print(time.time()-t1)\n",
        "    t1 = time.time()\n",
        "    \n",
        "    # Obtain Lambda'\n",
        "    Lambdat = Lambda.transpose((0,2,1))\n",
        "\n",
        "    print('2')\n",
        "    print(time.time()-t1)\n",
        "    t1 = time.time()\n",
        "    \n",
        "    # Obtain Lambda'Z'Y and Lambda'Z'X\n",
        "    LambdatZtY = da.matmul(Lambdat,ZtY).rechunk((16000, 10, 1)) #### SLOW: PRESUMABLY COS LAM NOT DASK ARRAY\n",
        "    LambdatZtX = da.matmul(Lambdat,ZtX).rechunk((100, 400, 400))\n",
        "\n",
        "    print('3')\n",
        "    print(time.time()-t1)\n",
        "    t1 = time.time()\n",
        "    \n",
        "    # Obtain the cholesky decomposition \n",
        "    LambdatZtZLambda = da.matmul(da.matmul(Lambdat,ZtZ),Lambda)\n",
        "    I = da.eye(Lambda.shape[1], chunks=4000).map_blocks(sparse.COO).rechunk('auto') #fast - could be removed though\n",
        "    \n",
        "    print('4')\n",
        "    print(time.time()-t1)\n",
        "    t1 = time.time()\n",
        "    \n",
        "    print((LambdatZtZLambda+I).shape)\n",
        "    \n",
        "    # Get P in numpy format\n",
        "    P_np = np.array(P[:]).reshape(P.size[0])\n",
        "    \n",
        "    # Permute lambda'Z'X and lambda'Z'Y\n",
        "    print(LambdatZtX.chunks)\n",
        "    #LambdatZtXP = LambdatZtX[:,P_np,:].compute() #NB - about half a second\n",
        "    \n",
        "    LambdatZtXP, LambdatZtYP = dask.compute(LambdatZtX[:,P_np,:], LambdatZtY[:,P_np,:])\n",
        "    print('5')\n",
        "    print(time.time()-t1)\n",
        "    t1 = time.time()\n",
        "    print(LambdatZtY.shape)\n",
        "    print(LambdatZtY.chunks)\n",
        "    #LambdatZtYP = LambdatZtY[:,P_np,:].compute() # 86 seconds? Weird\n",
        "    \n",
        "    \n",
        "    print('6')\n",
        "    print(time.time()-t1)\n",
        "    t1 = time.time()\n",
        "    \n",
        "    # Add identity to Lambda'Z'ZLambda\n",
        "    LambdatZtZLambdaplusI = LambdatZtZLambda + I\n",
        "    LambdatZtZLambdaplusI = LambdatZtZLambdaplusI.compute() # 27 seconds - Probably chunking problems\n",
        "    \n",
        "    print('7')\n",
        "    print(time.time()-t1)\n",
        "    t1 = time.time()\n",
        "    \n",
        "    # Initialize empty arrays to store RZX and Cu\n",
        "    RZX = np.zeros((Lambda.shape[0], ZtZ.shape[1], XtX.shape[1]))\n",
        "    Cu = np.zeros((Lambda.shape[0], ZtZ.shape[1], 1))\n",
        "    L = np.zeros((Lambda.shape[0], ZtZ.shape[1], ZtZ.shape[1])) # All fast - 0.4s-ish\n",
        "    \n",
        "    print('8')\n",
        "    print(time.time()-t1)\n",
        "    t1 = time.time()\n",
        "    \n",
        "    for i in np.arange(Lambda.shape[0]):\n",
        "      print(i)\n",
        "      \n",
        "      # Perform sparse cholesky on lambda'Z'Zlambda + I\n",
        "      data = LambdatZtZLambdaplusI[i,:,:].data\n",
        "      coords = LambdatZtZLambdaplusI[i,:,:].coords\n",
        "      chol_dict = sparse_chol(spmatrix(data, coords[0,:],coords[1,:],size=(Lambda.shape[1],Lambda.shape[1])), perm=P, retF=True, retP=False, retL=False)\n",
        "      F = chol_dict['F']\n",
        "      \n",
        "      # Obtain Cu\n",
        "      Cu_tmp = matrix(LambdatZtYP[i,:,:])\n",
        "      cholmod.solve(F,Cu_tmp,sys=4)\n",
        "      \n",
        "      # Save Cu\n",
        "      Cu[i,:,:] = np.array(Cu_tmp)\n",
        "      \n",
        "      # Obtain RZX\n",
        "      RZXtmp = matrix(LambdatZtXP[i,:,:])\n",
        "      cholmod.solve(F,RZXtmp,sys=4)\n",
        "      \n",
        "      # Save RZX\n",
        "      RZX[i,:,:] = np.array(RZXtmp)\n",
        "    \n",
        "      # Obtain L (for later - note: has to be done last as this changes F)\n",
        "      Ltmp=cholmod.getfactor(F)\n",
        "      L[i,:,:] = np.array(matrix(Ltmp))\n",
        "      \n",
        "    \n",
        "    print('9')# Shockingly fast - 23.156267166137695\n",
        "    print(time.time()-t1)\n",
        "    t1 = time.time()\n",
        "      \n",
        "    # Obtain RXtRX\n",
        "    RZX = da.from_array(RZX, chunks=(100, 400, 400))\n",
        "    RXtRX = XtX - da.matmul(RZX.transpose(0,2,1),RZX)\n",
        "    \n",
        "\n",
        "    # Obtain beta estimates \n",
        "    Cu = da.from_array(Cu, chunks=(400, 400, 1))\n",
        "    XtYminusRZXtCu = XtY - da.matmul(RZX.transpose(0,2,1),Cu)\n",
        "    \n",
        "    #Get betahat\n",
        "    RXtRX, XtYminusRZXtCu = dask.compute(RXtRX, XtYminusRZXtCu)\n",
        "    betahat = da.from_array(np.linalg.solve(RXtRX, XtYminusRZXtCu), chunks=(100, 400, 400))\n",
        "    print(time.time()-t1)\n",
        "    betahat = da.apply_gufunc(np.linalg.solve,  \"(i,j),(i,k)->(j,k)\", RXtRX, XtYminusRZXtCu, vectorize=True,output_dtypes=RXtRX.dtype).rechunk('auto') # suspected time kill\n",
        "    \n",
        "    \n",
        "    \n",
        "    print('10') #5s\n",
        "    print(time.time()-t1)\n",
        "    t1 = time.time()\n",
        "    \n",
        "    # Obtain L\n",
        "    # Obtain RXtRX\n",
        "    L = da.from_array(L, chunks=(100, 400, 400))\n",
        "    \n",
        "    \n",
        "    print('11')\n",
        "    print(time.time()-t1)\n",
        "    t1 = time.time()\n",
        "    \n",
        "    # Obtain u estimates\n",
        "    CuminusRZXbetahat = Cu - da.matmul(RZX, betahat)\n",
        "    \n",
        "    #Get betahat\n",
        "    uhat = da.apply_gufunc(np.linalg.solve,  \"(i,j),(i,k)->(j,k)\", L.transpose(0,2,1), CuminusRZXbetahat, vectorize=True,output_dtypes=RXtRX.dtype).rechunk('auto')\n",
        "    \n",
        "    print('12')\n",
        "    print(time.time()-t1)\n",
        "    t1 = time.time()\n",
        "    \n",
        "    print(L.shape)\n",
        "    print(CuminusRZXbetahat.shape)\n",
        "    print(uhat.shape)\n",
        "    \n",
        "    # Permute U from the left to make the correct uhat\n",
        "    uhat = uhat[:,P_np,:]\n",
        "\n",
        "    # Obtain b estimates\n",
        "    print(Lambda.shape)\n",
        "    print(uhat.shape)\n",
        "    bhat = da.matmul(Lambda,uhat)\n",
        "\n",
        "    # Obtain residuals sum of squares\n",
        "    resss = YtY-2*da.matmul(YtX,betahat)-2*da.matmul(YtZ,bhat)+2*da.matmul(da.matmul(betahat.transpose(0,2,1),XtZ),bhat)+da.matmul(betahat.transpose(0,2,1),da.matmul(XtX,betahat))+da.matmul(bhat.transpose(0,2,1),da.matmul(ZtZ,bhat))\n",
        "\n",
        "    # Obtain penalised residual sum of squares\n",
        "    pss = (resss + da.matmul(uhat.transpose(0,2,1),uhat)).compute()\n",
        "\n",
        "    print('13')\n",
        "    print(time.time()-t1)\n",
        "    t1 = time.time()\n",
        "    \n",
        "    # Obtain Log(|L|^2)\n",
        "    #logdet = 2*da.trace(da.log(L))\n",
        "    logdet = 2*np.sum(np.log(np.diagonal(L.compute(),axis1=1,axis2=2)))\n",
        "\n",
        "    print('14')\n",
        "    print(time.time()-t1)\n",
        "    t1 = time.time()\n",
        "    \n",
        "    # Obtain log likelihood\n",
        "    logllh = -logdet/2-n/2*(1+da.log(2*np.pi*pss)-np.log(n))\n",
        "\n",
        "    print('15')\n",
        "    print(time.time()-t1)\n",
        "    t1 = time.time()\n",
        "    \n",
        "    return(-logllh)\n",
        "\n",
        "# Make the initial theta estimate\n",
        "theta0 = init_theta(nv,nparams)\n",
        "\n",
        "# Obtain the mapping indices\n",
        "tinds, rinds, cinds, cinds_permuted, vinds = get_3D_mapping(nlevels, nparams, nv, P)\n",
        "\n",
        "t1 = time.time()\n",
        "llhmap = PLS_broadcasted(theta0, ZtX_da, ZtY_da, XtX_da, ZtZ_da, XtY_da, YtX_da, YtZ_da, XtZ_da, YtY_da, P, n, tinds, rinds, cinds, cinds_permuted, vinds)\n",
        "t2 = time.time()\n",
        "\n",
        "print(t2-t1)\n",
        "print((t2-t1)*1000*100/(60*60))"
      ],
      "execution_count": 57,
      "outputs": [
        {
          "output_type": "stream",
          "text": [
            "1\n",
            "2\n",
            "invP\n",
            "<class 'numpy.ndarray'>\n",
            "[ 5  6  7  8  9 10 11 12 13 14 15 16 17 18 19  0  1  2  3  4 20 21 22 23\n",
            " 24 25 26 27 28 29 30 31]\n",
            "3\n",
            "4\n",
            "5\n",
            "6\n"
          ],
          "name": "stdout"
        },
        {
          "output_type": "error",
          "ename": "NameError",
          "evalue": "ignored",
          "traceback": [
            "\u001b[0;31m---------------------------------------------------------------------------\u001b[0m",
            "\u001b[0;31mNameError\u001b[0m                                 Traceback (most recent call last)",
            "\u001b[0;32m<ipython-input-57-31ee7af84707>\u001b[0m in \u001b[0;36m<module>\u001b[0;34m()\u001b[0m\n\u001b[1;32m    191\u001b[0m \u001b[0;34m\u001b[0m\u001b[0m\n\u001b[1;32m    192\u001b[0m \u001b[0mt1\u001b[0m \u001b[0;34m=\u001b[0m \u001b[0mtime\u001b[0m\u001b[0;34m.\u001b[0m\u001b[0mtime\u001b[0m\u001b[0;34m(\u001b[0m\u001b[0;34m)\u001b[0m\u001b[0;34m\u001b[0m\u001b[0;34m\u001b[0m\u001b[0m\n\u001b[0;32m--> 193\u001b[0;31m \u001b[0mllhmap\u001b[0m \u001b[0;34m=\u001b[0m \u001b[0mPLS_broadcasted\u001b[0m\u001b[0;34m(\u001b[0m\u001b[0mtheta0\u001b[0m\u001b[0;34m,\u001b[0m \u001b[0mZtX_da\u001b[0m\u001b[0;34m,\u001b[0m \u001b[0mZtY_da\u001b[0m\u001b[0;34m,\u001b[0m \u001b[0mXtX_da\u001b[0m\u001b[0;34m,\u001b[0m \u001b[0mZtZ_da\u001b[0m\u001b[0;34m,\u001b[0m \u001b[0mXtY_da\u001b[0m\u001b[0;34m,\u001b[0m \u001b[0mYtX_da\u001b[0m\u001b[0;34m,\u001b[0m \u001b[0mYtZ_da\u001b[0m\u001b[0;34m,\u001b[0m \u001b[0mXtZ_da\u001b[0m\u001b[0;34m,\u001b[0m \u001b[0mYtY_da\u001b[0m\u001b[0;34m,\u001b[0m \u001b[0mP\u001b[0m\u001b[0;34m,\u001b[0m \u001b[0mn\u001b[0m\u001b[0;34m,\u001b[0m \u001b[0mtinds\u001b[0m\u001b[0;34m,\u001b[0m \u001b[0mrinds\u001b[0m\u001b[0;34m,\u001b[0m \u001b[0mcinds\u001b[0m\u001b[0;34m,\u001b[0m \u001b[0mcinds_permuted\u001b[0m\u001b[0;34m,\u001b[0m \u001b[0mvinds\u001b[0m\u001b[0;34m)\u001b[0m\u001b[0;34m\u001b[0m\u001b[0;34m\u001b[0m\u001b[0m\n\u001b[0m\u001b[1;32m    194\u001b[0m \u001b[0mt2\u001b[0m \u001b[0;34m=\u001b[0m \u001b[0mtime\u001b[0m\u001b[0;34m.\u001b[0m\u001b[0mtime\u001b[0m\u001b[0;34m(\u001b[0m\u001b[0;34m)\u001b[0m\u001b[0;34m\u001b[0m\u001b[0;34m\u001b[0m\u001b[0m\n\u001b[1;32m    195\u001b[0m \u001b[0;34m\u001b[0m\u001b[0m\n",
            "\u001b[0;31mNameError\u001b[0m: name 'ZtX_da' is not defined"
          ]
        }
      ]
    },
    {
      "cell_type": "code",
      "metadata": {
        "id": "Pb75nTHT6R6V",
        "colab_type": "code",
        "colab": {}
      },
      "source": [
        "def cvxopt2Scipy(M):\n",
        "  \n",
        "  Vdim = M.V.size[0]*M.V.size[1]\n",
        "  Idim = M.I.size[0]*M.I.size[1]\n",
        "  Jdim = M.J.size[0]*M.J.size[1]\n",
        "  V = np.array(M.V).reshape(Vdim)\n",
        "  I = np.array(M.I).reshape(Idim)\n",
        "  J = np.array(M.J).reshape(Jdim)\n",
        "  \n",
        "  return(scipy.sparse.coo_matrix((V,(I,J))))"
      ],
      "execution_count": 0,
      "outputs": []
    },
    {
      "cell_type": "code",
      "metadata": {
        "id": "G9-EHSWWr9NP",
        "colab_type": "code",
        "colab": {
          "base_uri": "https://localhost:8080/",
          "height": 246
        },
        "outputId": "eae54196-724e-44c3-b2b6-b11e7d8e397f"
      },
      "source": [
        "def PLS_broadcasted2(theta, ZtX, ZtY, XtX, ZtZ, XtY, YtX, YtZ, XtZ, YtY, P, n, tinds, rinds, cinds, cinds_permuted, vinds):\n",
        "    print('running_it')\n",
        "    #ZtX_ov = cvxopt.matrix(ZtX[0,:,:]) \n",
        "    #ZtY_ov = cvxopt.matrix(ZtY[10,:,:])\n",
        "    #XtX_ov = cvxopt.matrix(XtX[0,:,:])\n",
        "    #ZtZ_ov = cvxopt.sparse(cvxopt.matrix(ZtZ[0,:,:]))\n",
        "    #XtY_ov = cvxopt.matrix(XtY[10,:,:])\n",
        "    #YtX_ov = cvxopt.matrix(YtX[10,:,:])\n",
        "    #YtZ_ov = cvxopt.matrix(YtZ[10,:,:])\n",
        "    #XtZ_ov = cvxopt.matrix(XtZ[0,:,:])\n",
        "    #YtY_ov = cvxopt.matrix(YtY[10,:,:])\n",
        "    \n",
        "    #t1 = time.time()\n",
        "    # Obtain Lambda and Lambda*P\n",
        "    Lambda = mapping_3D(theta[:], vinds, tinds, rinds, cinds)\n",
        "    #LambdaP = mapping_3D(theta[:], vinds, tinds, rinds, cinds)\n",
        "    \n",
        "    #theta_ov = theta[0:(len(theta)//ZtY.shape[0])]\n",
        "    #tinds_ov,rinds_ov,cinds_ov=get_mapping(nlevels, nparams)\n",
        "    #Lambda_ov = mapping(theta_ov, tinds_ov, rinds_ov, cinds_ov)\n",
        "    #print('lambda check')\n",
        "    #print(type(cvxopt2Scipy(Lambda_ov)))\n",
        "    #print(type(Lambda[10,:,:]))\n",
        "    #print((cvxopt2Scipy(Lambda_ov) - Lambda[10,:,:].to_scipy_sparse()).toarray())\n",
        "    \n",
        "    \n",
        "    #print('1')\n",
        "    #print(time.time()-t1)\n",
        "    #t1 = time.time()\n",
        "    \n",
        "    # Obtain Lambda'\n",
        "    Lambdat = sparse.COO(Lambda.transpose((0,2,1)))\n",
        "    #Lambdat_ov = spmatrix.trans(Lambda_ov)\n",
        "    #print('lambda transpose check')\n",
        "    #print((cvxopt2Scipy(Lambdat_ov) - Lambdat[10,:,:].to_scipy_sparse()).toarray())\n",
        "    \n",
        "    #print('2')\n",
        "    #print(time.time()-t1)\n",
        "    #t1 = time.time()\n",
        "    \n",
        "    # Obtain Lambda'Z'Y and Lambda'Z'X\n",
        "    LambdatZtY = np.matmul(Lambdat,ZtY)\n",
        "    LambdatZtX = np.matmul(Lambdat,ZtX)\n",
        "    \n",
        "    #LambdatZtY_ov = Lambdat_ov*ZtY_ov\n",
        "    #LambdatZtX_ov = Lambdat_ov*ZtX_ov\n",
        "    #print('Lambda ZtY check')\n",
        "    #print(type(LambdatZtY[10,:,:]))\n",
        "    #print(type(LambdatZtY_ov))\n",
        "    #print(np.array(LambdatZtY_ov)-np.array(LambdatZtY[10,:,:]))\n",
        "    #print('Lambda ZtX check')\n",
        "    #print(type(LambdatZtX[10,:,:]))\n",
        "    #print(type(LambdatZtX_ov))\n",
        "    #print(np.array(LambdatZtX_ov)-np.array(LambdatZtX[10,:,:]))\n",
        "    \n",
        "\n",
        "    #print('3')\n",
        "    #print(time.time()-t1)\n",
        "    #t1 = time.time()\n",
        "    \n",
        "    ZtZLambda = np.matmul(ZtZ,Lambda)\n",
        "    #ZtZLambda_ov = ZtZ_ov*Lambda_ov\n",
        "    #print(np.array(ZtZLambda[10,:,:])-np.array(cvxopt.matrix(ZtZLambda_ov)))\n",
        "    #print(type(ZtZLambda))\n",
        "    #print(type(ZtZLambda_ov))\n",
        "    # Obtain the cholesky decomposition \n",
        "    LambdatZtZLambda = np.matmul(np.matmul(Lambdat,ZtZ),Lambda)\n",
        "    #LambdatZtZLambda_ov = Lambdat_ov*(ZtZ_ov*Lambda_ov)\n",
        "    I = np.eye(Lambda.shape[1])\n",
        "    \n",
        "    \n",
        "    #print('Lambdat ZtZ Lambda check')\n",
        "    #print(np.array(LambdatZtZLambda[10,:,:])-np.array(cvxopt.matrix(LambdatZtZLambda_ov)))\n",
        "    \n",
        "    #print('4')\n",
        "    #print(time.time()-t1)\n",
        "    #t1 = time.time()\n",
        "    \n",
        "    #print((LambdatZtZLambda+I).shape)\n",
        "    \n",
        "    # Get P in numpy format\n",
        "    P_np = np.array(P[:]).reshape(P.size[0])\n",
        "    \n",
        "    LambdatZtXP = LambdatZtX[:,P_np,:]\n",
        "    LambdatZtYP = LambdatZtY[:,P_np,:]\n",
        "    \n",
        "    #LambdatZtXP_ov = LambdatZtX_ov[P,:]\n",
        "    #LambdatZtYP_ov = LambdatZtY_ov[P,:]\n",
        "    \n",
        "    #print('permuted ZtX check')\n",
        "    #print(np.array(LambdatZtXP[10,:,:])-np.array(LambdatZtXP_ov))\n",
        "    #print('permuted ZtY check')\n",
        "    #print(np.array(LambdatZtYP[10,:,:])-np.array(LambdatZtYP_ov))\n",
        "    \n",
        "    #print('5')\n",
        "    #print(time.time()-t1)\n",
        "    #t1 = time.time()\n",
        "    #LambdatZtYP = LambdatZtY[:,P_np,:].compute() # 86 seconds? Weird\n",
        "    \n",
        "    \n",
        "    #print('6')\n",
        "    #print(time.time()-t1)\n",
        "    #t1 = time.time()\n",
        "    \n",
        "    # Add identity to Lambda'Z'ZLambda\n",
        "    LambdatZtZLambdaplusI = LambdatZtZLambda + I\n",
        "    \n",
        "    #print('7')\n",
        "    #print(time.time()-t1)\n",
        "    #t1 = time.time()\n",
        "    \n",
        "    # Initialize empty arrays to store RZX and Cu\n",
        "    RZX = np.zeros((Lambda.shape[0], ZtZ.shape[1], XtX.shape[1]))\n",
        "    Cu = np.zeros((Lambda.shape[0], ZtZ.shape[1], 1))\n",
        "    L = np.zeros((Lambda.shape[0], ZtZ.shape[1], ZtZ.shape[1])) # All fast - 0.4s-ish\n",
        "    \n",
        "    #print('8')\n",
        "    #print(time.time()-t1)\n",
        "    #t1 = time.time()\n",
        "    \n",
        "    for i in np.arange(Lambda.shape[0]):\n",
        "      #print(i)\n",
        "      \n",
        "      # Perform sparse cholesky on lambda'Z'Zlambda + I\n",
        "      #print(type(LambdatZtZLambdaplusI[i,:,:]))\n",
        "      chol_dict = sparse_chol(cvxopt.sparse(matrix(LambdatZtZLambdaplusI[i,:,:])), perm=P, retF=True, retP=False, retL=False)\n",
        "      F = chol_dict['F']\n",
        "      \n",
        "      # Obtain Cu\n",
        "      Cu_tmp = matrix(LambdatZtYP[i,:,:])\n",
        "      cholmod.solve(F,Cu_tmp,sys=4)\n",
        "      \n",
        "      # Save Cu\n",
        "      Cu[i,:,:] = np.array(Cu_tmp)\n",
        "      \n",
        "      # Obtain RZX\n",
        "      RZXtmp = matrix(LambdatZtXP[i,:,:])\n",
        "      cholmod.solve(F,RZXtmp,sys=4)\n",
        "      \n",
        "      # Save RZX\n",
        "      RZX[i,:,:] = np.array(RZXtmp)\n",
        "    \n",
        "      # Obtain L (for later - note: has to be done last as this changes F)\n",
        "      Ltmp=cholmod.getfactor(F)\n",
        "      L[i,:,:] = np.array(matrix(Ltmp))\n",
        "      \n",
        "      \n",
        "      \n",
        "      #if i == 10:\n",
        "        \n",
        "      #  print(ZtZ.shape)\n",
        "      #  print(ZtZ_ov.size)\n",
        "      #  I_ov = spmatrix(1.0, range(ZtZ_ov.size[1]), range(ZtZ_ov.size[1]))\n",
        "\n",
        "      #  print(type(LambdatZtZLambda_ov+I_ov))\n",
        "      #  print((LambdatZtZLambda_ov+I_ov).size)\n",
        "      #  chol_dict_ov = sparse_chol(LambdatZtZLambda_ov+I_ov, perm=P, retF=True, retP=False, retL=False)\n",
        "      #  F_ov = chol_dict_ov['F']\n",
        "        \n",
        "      #  Cu_ov = LambdatZtY_ov[P,:]\n",
        "      #  cholmod.solve(F_ov,Cu_ov,sys=4)\n",
        "        \n",
        "      #  print('Cu check')\n",
        "      #  print(Cu[10,:,:]-Cu_ov)\n",
        "        \n",
        "      #  RZX_ov = LambdatZtX_ov[P,:]\n",
        "      #  cholmod.solve(F_ov,RZX_ov,sys=4)\n",
        "        \n",
        "      #  print('RZX check')\n",
        "      #  print(RZX[10,:,:]-RZX_ov)\n",
        "        \n",
        "    \n",
        "    #print('9')# Shockingly fast - 23.156267166137695\n",
        "    #print(time.time()-t1)\n",
        "    #t1 = time.time()\n",
        "      \n",
        "    # Obtain RXtRX\n",
        "    RXtRX = XtX - np.matmul(RZX.transpose(0,2,1),RZX)\n",
        "    \n",
        "    \n",
        "    #RXtRX_ov = XtX_ov - matrix.trans(RZX_ov)*RZX_ov\n",
        "\n",
        "    #print('RXtRX check')\n",
        "    #print(RXtRX_ov-RXtRX[10,:,:])\n",
        "    \n",
        "    # Obtain beta estimates \n",
        "    XtYminusRZXtCu = XtY - np.matmul(RZX.transpose(0,2,1),Cu)\n",
        "    \n",
        "    #XtYminusRZXtCu_ov = XtY_ov - matrix.trans(RZX_ov)*Cu_ov\n",
        "    \n",
        "    #print('XtY - RZXtCu check')\n",
        "    #print(XtYminusRZXtCu_ov - XtYminusRZXtCu[10,:,:])\n",
        "    \n",
        "    #Get betahat\n",
        "    betahat = np.linalg.solve(RXtRX, XtYminusRZXtCu)\n",
        "    \n",
        "    \n",
        "    #betahat_ov = XtY_ov - matrix.trans(RZX_ov)*Cu_ov\n",
        "    #lapack.posv(RXtRX_ov, betahat_ov)\n",
        "    \n",
        "    #print('betahat check')\n",
        "    #print(betahat_ov-betahat[10,:,:])\n",
        "    \n",
        "    #print('10') #5s\n",
        "    #print(time.time()-t1)\n",
        "    #t1 = time.time()\n",
        "    \n",
        "    # Obtain L\n",
        "    # Obtain RXtRX\n",
        "    \n",
        "    \n",
        "    #print('11')\n",
        "    #print(time.time()-t1)\n",
        "    #t1 = time.time()\n",
        "    \n",
        "    # Obtain u estimates\n",
        "    CuminusRZXbetahat = Cu - np.matmul(RZX, betahat)\n",
        "    \n",
        "    #Get betahat\n",
        "    uhat = np.linalg.solve(L.transpose(0,2,1), CuminusRZXbetahat)\n",
        "    \n",
        "    \n",
        "    #uhat_ov = Cu_ov-RZX_ov*betahat_ov\n",
        "    #cholmod.solve(F_ov,uhat_ov,sys=5)\n",
        "    #cholmod.solve(F_ov,uhat_ov,sys=8)\n",
        "    \n",
        "    #print('12')\n",
        "    #print(time.time()-t1)\n",
        "    #t1 = time.time()\n",
        "    \n",
        "    #print(L.shape)\n",
        "    #print(CuminusRZXbetahat.shape)\n",
        "    #print(uhat.shape)\n",
        "    \n",
        "    # Permute U from the left to make the correct uhat\n",
        "    invP_np = np.arange(len(P_np))[np.argsort(P_np)]\n",
        "    uhat = uhat[:,invP_np,:]\n",
        "\n",
        "    #print('uhat check')\n",
        "    #print(uhat_ov - uhat[10,:,:])\n",
        "    \n",
        "    # Obtain b estimates\n",
        "    #print(Lambda.shape)\n",
        "    #print(uhat.shape)\n",
        "    bhat = np.matmul(Lambda,uhat)\n",
        "\n",
        "    #bhat_ov = Lambda_ov*uhat_ov\n",
        "    #print('bhat check')\n",
        "    #print(bhat_ov-bhat[10,:,:])\n",
        "    \n",
        "    # Obtain residuals sum of squares\n",
        "    resss = YtY-2*np.matmul(YtX,betahat)-2*np.matmul(YtZ,bhat)+2*np.matmul(np.matmul(betahat.transpose(0,2,1),XtZ),bhat)+np.matmul(betahat.transpose(0,2,1),np.matmul(XtX,betahat))+np.matmul(bhat.transpose(0,2,1),np.matmul(ZtZ,bhat))\n",
        "\n",
        "    #resss_ov = YtY_ov-2*YtX_ov*betahat_ov-2*YtZ_ov*bhat_ov+2*matrix.trans(betahat_ov)*XtZ_ov*bhat_ov+matrix.trans(betahat_ov)*XtX_ov*betahat_ov+matrix.trans(bhat_ov)*ZtZ_ov*bhat_ov\n",
        "   \n",
        "    #print('resss check')\n",
        "    #print(resss[10,:,:]-resss_ov)\n",
        "    \n",
        "    # Obtain penalised residual sum of squares\n",
        "    pss = resss + np.matmul(uhat.transpose(0,2,1),uhat)\n",
        "    #pss_ov = resss_ov + matrix.trans(uhat_ov)*uhat_ov\n",
        "\n",
        "    #print('pss check')\n",
        "    #print(pss[10,:,:]-pss_ov)\n",
        "    \n",
        "    #print('13')\n",
        "    #print(time.time()-t1)\n",
        "    #t1 = time.time()\n",
        "    \n",
        "    # Obtain Log(|L|^2)\n",
        "    #logdet = 2*da.trace(da.log(L))\n",
        "    #tmp = np.log(np.diagonal(L,axis1=1,axis2=2))\n",
        "    #print(tmp.shape)\n",
        "    #print(np.sum(tmp).shape)\n",
        "    #print(np.sum(tmp, axis=0).shape)\n",
        "    #print(np.sum(tmp, axis=1).shape)\n",
        "    #print(2*np.sum(np.log(np.diagonal(L,axis1=1,axis2=2)),axis=1).shape)\n",
        "    logdet = 2*np.sum(np.log(np.diagonal(L,axis1=1,axis2=2)),axis=1).reshape((nv,1,1))\n",
        "    #logdet_ov = 2*sum(cvxopt.log(cholmod.diag(F_ov)))\n",
        "    #print(logdet)\n",
        "    #print(logdet.shape)\n",
        "    #print('logdet check')\n",
        "    #print(logdet[10]-logdet_ov)\n",
        "    \n",
        "    #print('14')\n",
        "    #print(time.time()-t1)\n",
        "    #t1 = time.time()\n",
        "    \n",
        "    # Obtain log likelihood\n",
        "    logllh = -logdet/2-n/2*(1+np.log(2*np.pi*pss)-np.log(n))\n",
        "\n",
        "    #print('15')\n",
        "    #print(time.time()-t1)\n",
        "    #t1 = time.time()\n",
        "    \n",
        "    return(np.amax(-logllh))\n",
        "\n",
        "    #return(-logllh)\n",
        "  \n",
        "# Make the initial theta estimate\n",
        "theta0 = init_theta(nv,nparams)\n",
        "\n",
        "# Obtain the mapping indices\n",
        "tinds, rinds, cinds, cinds_permuted, vinds = get_3D_mapping(nlevels, nparams, nv, P)\n",
        "\n",
        "t1 = time.time()\n",
        "llhmap = PLS_broadcasted2(theta0, ZtX, ZtY, XtX, ZtZ, XtY, YtX, YtZ, XtZ, YtY, P, n, tinds, rinds, cinds, cinds_permuted, vinds)\n",
        "t2 = time.time()\n",
        "\n",
        "print(t2-t1)\n",
        "print((t2-t1)*100*100*100/(nv*60*60))"
      ],
      "execution_count": 158,
      "outputs": [
        {
          "output_type": "stream",
          "text": [
            "1\n",
            "2\n",
            "invP\n",
            "<class 'numpy.ndarray'>\n",
            "[ 5  6  7  8  9 10 11 12 13 14 15 16 17 18 19  0  1  2  3  4 20 21 22 23\n",
            " 24 25 26 27 28 29 30 31]\n",
            "3\n",
            "4\n",
            "5\n",
            "6\n",
            "running_it\n",
            "41.056034326553345\n",
            "0.42238718442956114\n"
          ],
          "name": "stdout"
        }
      ]
    },
    {
      "cell_type": "code",
      "metadata": {
        "id": "AQC-daPsD8wz",
        "colab_type": "code",
        "colab": {
          "base_uri": "https://localhost:8080/",
          "height": 302
        },
        "outputId": "718f15e3-fd78-44e6-89f3-754cb373a8d3"
      },
      "source": [
        "print(llhmap.shape)\n",
        "llhmap_imageformat = llhmap.reshape((dimv[0],dimv[1],dimv[2]))\n",
        "\n",
        "imshow(llhmap_imageformat[1,:,:].reshape(dimv[0],dimv[1]), \\\n",
        "                    interpolation='nearest', aspect='auto')\n",
        "\n",
        "plt.colorbar()\n",
        "\n",
        "print((t2-t1)*10/3*10/3*10/3*100/(60*60))"
      ],
      "execution_count": 151,
      "outputs": [
        {
          "output_type": "stream",
          "text": [
            "(27000, 1, 1)\n",
            "48.44159255793064\n"
          ],
          "name": "stdout"
        },
        {
          "output_type": "display_data",
          "data": {
            "image/png": "[encoded data removed]",
            "text/plain": [
              "<Figure size 432x288 with 2 Axes>"
            ]
          },
          "metadata": {
            "tags": []
          }
        }
      ]
    },
    {
      "cell_type": "code",
      "metadata": {
        "id": "9krmSRHV47jc",
        "colab_type": "code",
        "colab": {
          "base_uri": "https://localhost:8080/",
          "height": 372
        },
        "outputId": "adf92c66-3c45-49cb-b81d-1f258596fd28"
      },
      "source": [
        "print(type(theta0))\n",
        "print(len(theta0)/nv)\n",
        "\n",
        "theta0tmp = theta0[0:(len(theta0)//nv)]\n",
        "\n",
        "# Obtain a random Lambda matrix with the correct sparsity for the permutation vector\n",
        "tindstmp,rindstmp,cindstmp=get_mapping(nlevels, nparams)\n",
        "\n",
        "t1 = time.time()\n",
        "llh2map = np.zeros(nv)\n",
        "\n",
        "for i in np.arange(nv):\n",
        "  #print(i)\n",
        "  XtYtmp = matrix(XtY[i,:,:]) \n",
        "  ZtYtmp = matrix(ZtY[i,:,:]) \n",
        "  YtYtmp = matrix(YtY[i,:,:]) \n",
        "  YtZtmp = matrix(YtZ[i,:,:])\n",
        "  YtXtmp = matrix(YtX[i,:,:])\n",
        "  \n",
        "  llh2map[i] = PLS(theta0tmp, ZtXtmp, ZtYtmp, XtXtmp, ZtZtmp, XtYtmp, YtXtmp, YtZtmp, XtZtmp, YtYtmp, n, P, I, tindstmp, rindstmp, cindstmp)\n",
        "\n",
        "t2 = time.time()\n",
        "\n",
        "print(t2-t1)\n",
        "print((t2-t1)*10/3*10/3*10/3*100/(60*60))\n",
        "  \n",
        "print(llh2map.shape)\n",
        "llh2map_imageformat = llh2map.reshape((dimv[0],dimv[1],dimv[2]))\n",
        "\n",
        "imshow(llh2map_imageformat[1,:,:].reshape(dimv[0],dimv[1]), \\\n",
        "                    interpolation='nearest', aspect='auto')\n",
        "plt.colorbar()"
      ],
      "execution_count": 152,
      "outputs": [
        {
          "output_type": "stream",
          "text": [
            "<class 'numpy.ndarray'>\n",
            "21.0\n",
            "5.4115846157073975\n",
            "5.567473884472631\n",
            "(27000,)\n"
          ],
          "name": "stdout"
        },
        {
          "output_type": "execute_result",
          "data": {
            "text/plain": [
              "<matplotlib.colorbar.Colorbar at 0x7f9fc5e764e0>"
            ]
          },
          "metadata": {
            "tags": []
          },
          "execution_count": 152
        },
        {
          "output_type": "display_data",
          "data": {
            "image/png": "[encoded data removed]",
            "text/plain": [
              "<Figure size 432x288 with 2 Axes>"
            ]
          },
          "metadata": {
            "tags": []
          }
        }
      ]
    },
    {
      "cell_type": "code",
      "metadata": {
        "id": "xuHjWoarZI7F",
        "colab_type": "code",
        "colab": {
          "base_uri": "https://localhost:8080/",
          "height": 70
        },
        "outputId": "6d66775d-aba1-40d6-df81-261dcd275e73"
      },
      "source": [
        "t1 = time.time()\n",
        "minimize(PLS_broadcasted3, theta0, args=(ZtX, ZtY, XtX, ZtZ, XtY, YtX, YtZ, XtZ, YtY, P, n, tinds, rinds, cinds, cinds_permuted, vinds), method='L-BFGS-B', tol=1e-6)\n",
        "print((time.time()-t1)*100*100*100/(nv*60*60))"
      ],
      "execution_count": 0,
      "outputs": [
        {
          "output_type": "stream",
          "text": [
            "running_it\n",
            "<class 'numpy.ndarray'>\n",
            "(27000, 32, 32)\n"
          ],
          "name": "stdout"
        }
      ]
    },
    {
      "cell_type": "code",
      "metadata": {
        "id": "Iy6lhX5mjgLu",
        "colab_type": "code",
        "colab": {
          "base_uri": "https://localhost:8080/",
          "height": 281
        },
        "outputId": "7d7bbca4-1176-4877-e3ca-669f31ba4002"
      },
      "source": [
        "def PLS_broadcasted3(theta, ZtX, ZtY, XtX, ZtZ, XtY, YtX, YtZ, XtZ, YtY, P, n, tinds, rinds, cinds, cinds_permuted, vinds):\n",
        "    print('running_it')\n",
        "    #ZtX_ov = cvxopt.matrix(ZtX[0,:,:]) \n",
        "    #ZtY_ov = cvxopt.matrix(ZtY[10,:,:])\n",
        "    #XtX_ov = cvxopt.matrix(XtX[0,:,:])\n",
        "    #ZtZ_ov = cvxopt.sparse(cvxopt.matrix(ZtZ[0,:,:]))\n",
        "    #XtY_ov = cvxopt.matrix(XtY[10,:,:])\n",
        "    #YtX_ov = cvxopt.matrix(YtX[10,:,:])\n",
        "    #YtZ_ov = cvxopt.matrix(YtZ[10,:,:])\n",
        "    #XtZ_ov = cvxopt.matrix(XtZ[0,:,:])\n",
        "    #YtY_ov = cvxopt.matrix(YtY[10,:,:])\n",
        "    \n",
        "    #t1 = time.time()\n",
        "    # Obtain Lambda and Lambda*P\n",
        "    Lambda = mapping_3D(theta[:], vinds, tinds, rinds, cinds)\n",
        "    #LambdaP = mapping_3D(theta[:], vinds, tinds, rinds, cinds)\n",
        "    \n",
        "    #theta_ov = theta[0:(len(theta)//ZtY.shape[0])]\n",
        "    #tinds_ov,rinds_ov,cinds_ov=get_mapping(nlevels, nparams)\n",
        "    #Lambda_ov = mapping(theta_ov, tinds_ov, rinds_ov, cinds_ov)\n",
        "    #print('lambda check')\n",
        "    #print(type(cvxopt2Scipy(Lambda_ov)))\n",
        "    #print(type(Lambda[10,:,:]))\n",
        "    #print((cvxopt2Scipy(Lambda_ov) - Lambda[10,:,:].to_scipy_sparse()).toarray())\n",
        "    \n",
        "    \n",
        "    #print('1')\n",
        "    #print(time.time()-t1)\n",
        "    #t1 = time.time()\n",
        "    \n",
        "    # Obtain Lambda'\n",
        "    Lambdat = sparse.COO(Lambda.transpose((0,2,1)))\n",
        "    #Lambdat_ov = spmatrix.trans(Lambda_ov)\n",
        "    #print('lambda transpose check')\n",
        "    #print((cvxopt2Scipy(Lambdat_ov) - Lambdat[10,:,:].to_scipy_sparse()).toarray())\n",
        "    \n",
        "    #print('2')\n",
        "    #print(time.time()-t1)\n",
        "    #t1 = time.time()\n",
        "    \n",
        "    # Obtain Lambda'Z'Y and Lambda'Z'X\n",
        "    LambdatZtY = np.matmul(Lambdat,ZtY)\n",
        "    LambdatZtX = np.matmul(Lambdat,ZtX)\n",
        "    \n",
        "    #LambdatZtY_ov = Lambdat_ov*ZtY_ov\n",
        "    #LambdatZtX_ov = Lambdat_ov*ZtX_ov\n",
        "    #print('Lambda ZtY check')\n",
        "    #print(type(LambdatZtY[10,:,:]))\n",
        "    #print(type(LambdatZtY_ov))\n",
        "    #print(np.array(LambdatZtY_ov)-np.array(LambdatZtY[10,:,:]))\n",
        "    #print('Lambda ZtX check')\n",
        "    #print(type(LambdatZtX[10,:,:]))\n",
        "    #print(type(LambdatZtX_ov))\n",
        "    #print(np.array(LambdatZtX_ov)-np.array(LambdatZtX[10,:,:]))\n",
        "    \n",
        "\n",
        "    #print('3')\n",
        "    #print(time.time()-t1)\n",
        "    #t1 = time.time()\n",
        "    \n",
        "    ZtZLambda = np.matmul(ZtZ,Lambda)\n",
        "    #ZtZLambda_ov = ZtZ_ov*Lambda_ov\n",
        "    #print(np.array(ZtZLambda[10,:,:])-np.array(cvxopt.matrix(ZtZLambda_ov)))\n",
        "    #print(type(ZtZLambda))\n",
        "    #print(type(ZtZLambda_ov))\n",
        "    # Obtain the cholesky decomposition \n",
        "    LambdatZtZLambda = np.matmul(np.matmul(Lambdat,ZtZ),Lambda)\n",
        "    #LambdatZtZLambda_ov = Lambdat_ov*(ZtZ_ov*Lambda_ov)\n",
        "    I = np.eye(Lambda.shape[1])\n",
        "    \n",
        "    \n",
        "    #print('Lambdat ZtZ Lambda check')\n",
        "    #print(np.array(LambdatZtZLambda[10,:,:])-np.array(cvxopt.matrix(LambdatZtZLambda_ov)))\n",
        "    \n",
        "    #print('4')\n",
        "    #print(time.time()-t1)\n",
        "    #t1 = time.time()\n",
        "    \n",
        "    #print((LambdatZtZLambda+I).shape)\n",
        "    \n",
        "    # Get P in numpy format\n",
        "    P_np = np.array(P[:]).reshape(P.size[0])\n",
        "    \n",
        "    LambdatZtXP = LambdatZtX[:,P_np,:]\n",
        "    LambdatZtYP = LambdatZtY[:,P_np,:]\n",
        "    \n",
        "    #LambdatZtXP_ov = LambdatZtX_ov[P,:]\n",
        "    #LambdatZtYP_ov = LambdatZtY_ov[P,:]\n",
        "    \n",
        "    #print('permuted ZtX check')\n",
        "    #print(np.array(LambdatZtXP[10,:,:])-np.array(LambdatZtXP_ov))\n",
        "    #print('permuted ZtY check')\n",
        "    #print(np.array(LambdatZtYP[10,:,:])-np.array(LambdatZtYP_ov))\n",
        "    \n",
        "    #print('5')\n",
        "    #print(time.time()-t1)\n",
        "    #t1 = time.time()\n",
        "    #LambdatZtYP = LambdatZtY[:,P_np,:].compute() # 86 seconds? Weird\n",
        "    \n",
        "    \n",
        "    #print('6')\n",
        "    #print(time.time()-t1)\n",
        "    #t1 = time.time()\n",
        "    \n",
        "    # Add identity to Lambda'Z'ZLambda\n",
        "    LambdatZtZLambdaplusI = LambdatZtZLambda + I\n",
        "    \n",
        "    #print('7')\n",
        "    #print(time.time()-t1)\n",
        "    #t1 = time.time()\n",
        "    \n",
        "    #print('8')\n",
        "    #print(time.time()-t1)\n",
        "    #t1 = time.time()\n",
        "    \n",
        "    print(type(LambdatZtZLambdaplusI[:,P_np,:][:,:,P_np]))\n",
        "    print(LambdatZtZLambdaplusI[:,P_np,:][:,:,P_np].shape)\n",
        "    L = np.linalg.cholesky(LambdatZtZLambdaplusI[:,P_np,:][:,:,P_np])\n",
        "    Cu = np.linalg.solve(L,LambdatZtYP)\n",
        "    RZX = np.linalg.solve(L,LambdatZtXP)\n",
        "    \n",
        "    #for i in np.arange(Lambda.shape[0]):\n",
        "      #print(i)\n",
        "      \n",
        "      # Perform sparse cholesky on lambda'Z'Zlambda + I\n",
        "      #print(type(LambdatZtZLambdaplusI[i,:,:]))\n",
        "      #chol_dict = sparse_chol(cvxopt.sparse(matrix(LambdatZtZLambdaplusI[i,:,:])), perm=P, retF=True, retP=False, retL=False)\n",
        "      #F = chol_dict['F']\n",
        "      \n",
        "      # Obtain Cu\n",
        "      #Cu_tmp = matrix(LambdatZtYP[i,:,:])\n",
        "      #cholmod.solve(F,Cu_tmp,sys=4)\n",
        "      \n",
        "      # Save Cu\n",
        "      #Cu[i,:,:] = np.array(Cu_tmp)\n",
        "      \n",
        "      # Obtain RZX\n",
        "      #RZXtmp = matrix(LambdatZtXP[i,:,:])\n",
        "      #cholmod.solve(F,RZXtmp,sys=4)\n",
        "      \n",
        "      # Save RZX\n",
        "      #RZX[i,:,:] = np.array(RZXtmp)\n",
        "    \n",
        "      # Obtain L (for later - note: has to be done last as this changes F)\n",
        "      #Ltmp=cholmod.getfactor(F)\n",
        "      #L[i,:,:] = np.array(matrix(Ltmp))\n",
        "      \n",
        "      \n",
        "      \n",
        "      #if i == 10:\n",
        "        \n",
        "      #  print(ZtZ.shape)\n",
        "      #  print(ZtZ_ov.size)\n",
        "      #  I_ov = spmatrix(1.0, range(ZtZ_ov.size[1]), range(ZtZ_ov.size[1]))\n",
        "\n",
        "      #  print(type(LambdatZtZLambda_ov+I_ov))\n",
        "      #  print((LambdatZtZLambda_ov+I_ov).size)\n",
        "      #  chol_dict_ov = sparse_chol(LambdatZtZLambda_ov+I_ov, perm=P, retF=True, retP=False, retL=False)\n",
        "      #  F_ov = chol_dict_ov['F']\n",
        "        \n",
        "      #  Cu_ov = LambdatZtY_ov[P,:]\n",
        "      #  cholmod.solve(F_ov,Cu_ov,sys=4)\n",
        "        \n",
        "      #  print('Cu check')\n",
        "      #  print(Cu[10,:,:]-Cu_ov)\n",
        "        \n",
        "      #  RZX_ov = LambdatZtX_ov[P,:]\n",
        "      #  cholmod.solve(F_ov,RZX_ov,sys=4)\n",
        "        \n",
        "      #  print('RZX check')\n",
        "      #  print(RZX[10,:,:]-RZX_ov)\n",
        "        \n",
        "    \n",
        "    #print('9')# Shockingly fast - 23.156267166137695\n",
        "    #print(time.time()-t1)\n",
        "    #t1 = time.time()\n",
        "      \n",
        "    # Obtain RXtRX\n",
        "    RXtRX = XtX - np.matmul(RZX.transpose(0,2,1),RZX)\n",
        "    \n",
        "    \n",
        "    #RXtRX_ov = XtX_ov - matrix.trans(RZX_ov)*RZX_ov\n",
        "\n",
        "    #print('RXtRX check')\n",
        "    #print(RXtRX_ov-RXtRX[10,:,:])\n",
        "    \n",
        "    # Obtain beta estimates \n",
        "    XtYminusRZXtCu = XtY - np.matmul(RZX.transpose(0,2,1),Cu)\n",
        "    \n",
        "    #XtYminusRZXtCu_ov = XtY_ov - matrix.trans(RZX_ov)*Cu_ov\n",
        "    \n",
        "    #print('XtY - RZXtCu check')\n",
        "    #print(XtYminusRZXtCu_ov - XtYminusRZXtCu[10,:,:])\n",
        "    \n",
        "    #Get betahat\n",
        "    betahat = np.linalg.solve(RXtRX, XtYminusRZXtCu)\n",
        "    \n",
        "    \n",
        "    #betahat_ov = XtY_ov - matrix.trans(RZX_ov)*Cu_ov\n",
        "    #lapack.posv(RXtRX_ov, betahat_ov)\n",
        "    \n",
        "    #print('betahat check')\n",
        "    #print(betahat_ov-betahat[10,:,:])\n",
        "    \n",
        "    #print('10') #5s\n",
        "    #print(time.time()-t1)\n",
        "    #t1 = time.time()\n",
        "    \n",
        "    # Obtain L\n",
        "    # Obtain RXtRX\n",
        "    \n",
        "    \n",
        "    #print('11')\n",
        "    #print(time.time()-t1)\n",
        "    #t1 = time.time()\n",
        "    \n",
        "    # Obtain u estimates\n",
        "    CuminusRZXbetahat = Cu - np.matmul(RZX, betahat)\n",
        "    \n",
        "    #Get betahat\n",
        "    uhat = np.linalg.solve(L.transpose(0,2,1), CuminusRZXbetahat)\n",
        "    \n",
        "    \n",
        "    #uhat_ov = Cu_ov-RZX_ov*betahat_ov\n",
        "    #cholmod.solve(F_ov,uhat_ov,sys=5)\n",
        "    #cholmod.solve(F_ov,uhat_ov,sys=8)\n",
        "    \n",
        "    #print('12')\n",
        "    #print(time.time()-t1)\n",
        "    #t1 = time.time()\n",
        "    \n",
        "    #print(L.shape)\n",
        "    #print(CuminusRZXbetahat.shape)\n",
        "    #print(uhat.shape)\n",
        "    \n",
        "    # Permute U from the left to make the correct uhat\n",
        "    invP_np = np.arange(len(P_np))[np.argsort(P_np)]\n",
        "    uhat = uhat[:,invP_np,:]\n",
        "\n",
        "    #print('uhat check')\n",
        "    #print(uhat_ov - uhat[10,:,:])\n",
        "    \n",
        "    # Obtain b estimates\n",
        "    #print(Lambda.shape)\n",
        "    #print(uhat.shape)\n",
        "    bhat = np.matmul(Lambda,uhat)\n",
        "\n",
        "    #bhat_ov = Lambda_ov*uhat_ov\n",
        "    #print('bhat check')\n",
        "    #print(bhat_ov-bhat[10,:,:])\n",
        "    \n",
        "    # Obtain residuals sum of squares\n",
        "    resss = YtY-2*np.matmul(YtX,betahat)-2*np.matmul(YtZ,bhat)+2*np.matmul(np.matmul(betahat.transpose(0,2,1),XtZ),bhat)+np.matmul(betahat.transpose(0,2,1),np.matmul(XtX,betahat))+np.matmul(bhat.transpose(0,2,1),np.matmul(ZtZ,bhat))\n",
        "\n",
        "    #resss_ov = YtY_ov-2*YtX_ov*betahat_ov-2*YtZ_ov*bhat_ov+2*matrix.trans(betahat_ov)*XtZ_ov*bhat_ov+matrix.trans(betahat_ov)*XtX_ov*betahat_ov+matrix.trans(bhat_ov)*ZtZ_ov*bhat_ov\n",
        "   \n",
        "    #print('resss check')\n",
        "    #print(resss[10,:,:]-resss_ov)\n",
        "    \n",
        "    # Obtain penalised residual sum of squares\n",
        "    pss = resss + np.matmul(uhat.transpose(0,2,1),uhat)\n",
        "    #pss_ov = resss_ov + matrix.trans(uhat_ov)*uhat_ov\n",
        "\n",
        "    #print('pss check')\n",
        "    #print(pss[10,:,:]-pss_ov)\n",
        "    \n",
        "    #print('13')\n",
        "    #print(time.time()-t1)\n",
        "    #t1 = time.time()\n",
        "    \n",
        "    # Obtain Log(|L|^2)\n",
        "    #logdet = 2*da.trace(da.log(L))\n",
        "    #tmp = np.log(np.diagonal(L,axis1=1,axis2=2))\n",
        "    #print(tmp.shape)\n",
        "    #print(np.sum(tmp).shape)\n",
        "    #print(np.sum(tmp, axis=0).shape)\n",
        "    #print(np.sum(tmp, axis=1).shape)\n",
        "    #print(2*np.sum(np.log(np.diagonal(L,axis1=1,axis2=2)),axis=1).shape)\n",
        "    logdet = 2*np.sum(np.log(np.diagonal(L,axis1=1,axis2=2)),axis=1).reshape((nv,1,1))\n",
        "    #logdet_ov = 2*sum(cvxopt.log(cholmod.diag(F_ov)))\n",
        "    #print(logdet)\n",
        "    #print(logdet.shape)\n",
        "    #print('logdet check')\n",
        "    #print(logdet[10]-logdet_ov)\n",
        "    \n",
        "    #print('14')\n",
        "    #print(time.time()-t1)\n",
        "    #t1 = time.time()\n",
        "    \n",
        "    # Obtain log likelihood\n",
        "    logllh = -logdet/2-n/2*(1+np.log(2*np.pi*pss)-np.log(n))\n",
        "\n",
        "    #print('15')\n",
        "    #print(time.time()-t1)\n",
        "    #t1 = time.time()\n",
        "    \n",
        "    #return(np.amax(-logllh))\n",
        "\n",
        "    return(-logllh)\n",
        "  \n",
        "# Make the initial theta estimate\n",
        "theta0 = init_theta(nv,nparams)\n",
        "\n",
        "# Obtain the mapping indices\n",
        "tinds, rinds, cinds, cinds_permuted, vinds = get_3D_mapping(nlevels, nparams, nv, P)\n",
        "\n",
        "t1 = time.time()\n",
        "llhmap = PLS_broadcasted3(theta0, ZtX, ZtY, XtX, ZtZ, XtY, YtX, YtZ, XtZ, YtY, P, n, tinds, rinds, cinds, cinds_permuted, vinds)\n",
        "t2 = time.time()\n",
        "\n",
        "print(t2-t1)\n",
        "print((t2-t1)*100*100*100/(nv*60*60))"
      ],
      "execution_count": 163,
      "outputs": [
        {
          "output_type": "stream",
          "text": [
            "1\n",
            "2\n",
            "invP\n",
            "<class 'numpy.ndarray'>\n",
            "[ 5  6  7  8  9 10 11 12 13 14 15 16 17 18 19  0  1  2  3  4 20 21 22 23\n",
            " 24 25 26 27 28 29 30 31]\n",
            "3\n",
            "4\n",
            "5\n",
            "6\n",
            "running_it\n",
            "<class 'numpy.ndarray'>\n",
            "(27000, 32, 32)\n",
            "46.46030616760254\n",
            "0.47798668896710433\n"
          ],
          "name": "stdout"
        }
      ]
    },
    {
      "cell_type": "code",
      "metadata": {
        "id": "5piUAH8ckqKX",
        "colab_type": "code",
        "colab": {
          "base_uri": "https://localhost:8080/",
          "height": 302
        },
        "outputId": "814c0f25-f927-4b71-9736-3c1815df517b"
      },
      "source": [
        "print(llhmap.shape)\n",
        "llhmap_imageformat = llhmap.reshape((dimv[0],dimv[1],dimv[2]))\n",
        "\n",
        "imshow(llhmap_imageformat[1,:,:].reshape(dimv[0],dimv[1]), \\\n",
        "                    interpolation='nearest', aspect='auto')\n",
        "\n",
        "plt.colorbar()\n"
      ],
      "execution_count": 164,
      "outputs": [
        {
          "output_type": "stream",
          "text": [
            "(27000, 1, 1)\n"
          ],
          "name": "stdout"
        },
        {
          "output_type": "execute_result",
          "data": {
            "text/plain": [
              "<matplotlib.colorbar.Colorbar at 0x7f9fb8293d30>"
            ]
          },
          "metadata": {
            "tags": []
          },
          "execution_count": 164
        },
        {
          "output_type": "display_data",
          "data": {
            "image/png": "[encoded data removed]",
            "text/plain": [
              "<Figure size 432x288 with 2 Axes>"
            ]
          },
          "metadata": {
            "tags": []
          }
        }
      ]
    },
    {
      "cell_type": "markdown",
      "metadata": {
        "id": "pR2epLIRi95N",
        "colab_type": "text"
      },
      "source": [
        "### Idea 4: Large sparse diagonals\n",
        "\n",
        "Below is a brief concept check... it didn't work consistently."
      ]
    },
    {
      "cell_type": "code",
      "metadata": {
        "id": "oZNddOmJi-OX",
        "colab_type": "code",
        "colab": {}
      },
      "source": [
        "# Concept check\n",
        "LamtZtZLam2 = LamtZtZLam\n",
        "t1 = time.time()\n",
        "for i in np.arange(100):\n",
        "  LamtZtZLam2 = cvxopt.spdiag([LamtZtZLam2,LamtZtZLam])\n",
        "f=sparse_chol(LamtZtZLam2)\n",
        "t2 = time.time()\n",
        "print(t2-t1)\n",
        "\n",
        "t1 = time.time()\n",
        "for i in np.arange(101):\n",
        "  f=sparse_chol(LamtZtZLam)\n",
        "t2 = time.time()\n",
        "print(t2-t1)"
      ],
      "execution_count": 0,
      "outputs": []
    },
    {
      "cell_type": "markdown",
      "metadata": {
        "id": "SCNtb5-TdAal",
        "colab_type": "text"
      },
      "source": [
        "### Idea 5: Smooth between iterations\n",
        "\n",
        "This idea is relatively simple. Specify a number of smoothing steps, say 10 and, at regular intervals between 1 and \"tol\" stop the iteration, smooth the estimates and then continue. This is inspired by the observation in idea 2 that reusing estimates between voxels did have some limited positive effect on time efficiency.\n"
      ]
    },
    {
      "cell_type": "code",
      "metadata": {
        "id": "PXkSM5mmc_gA",
        "colab_type": "code",
        "colab": {}
      },
      "source": [
        "# Initialize temporary X'X, X'Z, Z'X and Z'Z\n",
        "XtZtmp = matrix(XtZ[0,:,:])\n",
        "ZtXtmp = matrix(ZtX[0,:,:])\n",
        "ZtZtmp = cvxopt.sparse(matrix(ZtZ[0,:,:]))\n",
        "XtXtmp = matrix(XtX[0,:,:])\n",
        "\n",
        "# Initial theta value. Bates (2005) suggests using [vech(I_q1),...,vech(I_qr)] where I is the identity matrix\n",
        "theta0 = np.array([])\n",
        "for i in np.arange(r):\n",
        "  theta0 = np.hstack((theta0, mat2vech(np.eye(nparams[i])).reshape(np.int64(nparams[i]*(nparams[i]+1)/2))))\n",
        "\n",
        "# Initialize empty estimates\n",
        "beta_est = np.zeros(beta.shape)\n",
        "theta_est_3D = np.zeros((beta.shape[0], theta0.shape[0]))\n",
        "\n",
        "# Obtain a random Lambda matrix with the correct sparsity for the permutation vector\n",
        "tinds,rinds,cinds=get_mapping(nlevels, nparams)\n",
        "Lam=mapping(np.random.randn(theta0.shape[0]),tinds,rinds,cinds)\n",
        "\n",
        "# Obtain Lambda'Z'ZLambda\n",
        "LamtZtZLam = spmatrix.trans(Lam)*cvxopt.sparse(matrix(ZtZtmp))*Lam\n",
        "\n",
        "\n",
        "# Identity (Actually quicker to calculate outside of estimation)\n",
        "I = spmatrix(1.0, range(Lam.size[0]), range(Lam.size[0]))\n",
        "\n",
        "# Obtaining permutation for PLS\n",
        "P=cvxopt.amd.order(LamtZtZLam)\n",
        "\n",
        "tolArray = np.array([1e-2,1e-4,1e-6])\n",
        "\n",
        "for tolVal in tolArray:\n",
        "  \n",
        "  t1 = time.time()\n",
        "  for i in np.arange(nv):\n",
        "\n",
        "    print(i)\n",
        "\n",
        "    XtYtmp = matrix(XtY[i,:,:]) \n",
        "    ZtYtmp = matrix(ZtY[i,:,:]) \n",
        "    YtYtmp = matrix(YtY[i,:,:]) \n",
        "    YtZtmp = matrix(YtZ[i,:,:])\n",
        "    YtXtmp = matrix(YtX[i,:,:])\n",
        "\n",
        "    if tolVal==tolArray[0]:\n",
        "      theta_est = minimize(PLS, theta0, args=(ZtXtmp, ZtYtmp, XtXtmp, ZtZtmp, XtYtmp, YtXtmp, YtZtmp, XtZtmp, YtYtmp, n, P, I, tinds, rinds, cinds), method='L-BFGS-B', tol=tolVal)\n",
        "    else:\n",
        "      theta_est = minimize(PLS, theta_est_3D[i,:], args=(ZtXtmp, ZtYtmp, XtXtmp, ZtZtmp, XtYtmp, YtXtmp, YtZtmp, XtZtmp, YtYtmp, n, P, I, tinds, rinds, cinds), method='L-BFGS-B', tol=tolVal)\n",
        "      \n",
        "    nit = theta_est.nit\n",
        "    theta_est_3D[i,:] = theta_est.x\n",
        "    print(nit)\n",
        "\n",
        "  t2 = time.time()\n",
        "  print(\"Time taken in seconds for this tol:\" + str(tolVal))\n",
        "  print(t2-t1)\n",
        "  print(\"Estimated time taken for this example on a nifti of size (100x100x100), in hours:\")\n",
        "  print(100*100*100*(t2-t1)/(nv*60*60))\n",
        "  \n",
        "  t1 = time.time()\n",
        "  \n",
        "  for j in np.arange(theta_est_3D.shape[1]):\n",
        "    \n",
        "    # Get the theta estimates for one theta parameter.\n",
        "    theta_est_us = theta_est_3D[:,j].reshape(dimv[0],dimv[1],dimv[2])\n",
        "    \n",
        "    # Some random affine, not hugely important\n",
        "    affine = np.diag([1, 1, 1, 1])\n",
        "    theta_est_us_nii = nib.Nifti1Image(theta_est_us, affine)\n",
        "\n",
        "    # Smoothed theta nifti\n",
        "    theta_est_s_nii = nilearn.image.smooth_img(theta_est_us_nii, 5)\n",
        "\n",
        "    # Final theta estimate\n",
        "    theta_est_3D[:,j] = theta_est_s_nii.get_fdata().reshape(theta_est_3D[:,j].shape)\n",
        "  \n",
        "  t2 = time.time()\n",
        "  \n",
        "  print(\"Time taken smoothing\")\n",
        "  print(t2-t1)\n",
        "  print(\"Estimated time taken for this smoothing on a nifti of size (100x100x100), in hours:\")\n",
        "  print(100*100*100*(t2-t1)/(nv*60*60))\n",
        "  \n",
        "  \n",
        "  \n"
      ],
      "execution_count": 0,
      "outputs": []
    },
    {
      "cell_type": "markdown",
      "metadata": {
        "id": "BPT7ufJlX6jg",
        "colab_type": "text"
      },
      "source": [
        "### Sandbox"
      ]
    },
    {
      "cell_type": "code",
      "metadata": {
        "id": "54iwTXilX6CV",
        "colab_type": "code",
        "colab": {}
      },
      "source": [
        "import cvxopt.amd\n",
        "import cvxopt\n",
        "from cvxopt import cholmod\n",
        "import numpy as np\n",
        "import dask.array as da\n",
        "import dask\n",
        "import time\n",
        "import sparse\n",
        "import os\n",
        "import tensorflow as tf\n",
        "\n",
        "os.environ[\"SPARSE_AUTO_DENSIFY\"] = \"1\"\n",
        "runningnptime=np.zeros(1000)\n",
        "runningsptime=np.zeros(1000)\n",
        "runningdatime=np.zeros(1000)\n",
        "runningdaptime=np.zeros(1000)\n",
        "runningcvxtime=np.zeros(1000)\n",
        "runningcvxptime=np.zeros(1000)\n",
        "\n",
        "dask.config.set({'array.chunk-size':'20MiB'})\n",
        "for n in np.arange(800,1000):\n",
        "  for i in np.arange(1):\n",
        "    print(n)\n",
        "    print(i)\n",
        "    X = np.random.randn(n+1,n+1)\n",
        "    X[X<1.7]=0\n",
        "    X = X + np.eye(n+1)\n",
        "\n",
        "    XtX = np.matmul(X.transpose(), X)\n",
        "\n",
        "    XtX_tf = tf.constant(XtX)\n",
        "\n",
        "    XtX_cvxopt = cvxopt.sparse(cvxopt.matrix(XtX))\n",
        "    P = cvxopt.amd.order(XtX_cvxopt)\n",
        "\n",
        "    P_np = np.array(P[:]).reshape(n+1)\n",
        "\n",
        "    #print(P_np)\n",
        "    # To get the permuted X from the amd ordering must do X[:,P]\n",
        "    XtX_P = np.matmul((X[:,P_np]).transpose(),X[:,P_np])\n",
        "    XtX_tf_P = tf.constant(XtX_P)\n",
        "\n",
        "    #print(X[P_np,:].shape)\n",
        "\n",
        "    XtX_P_cvxopt = XtX_cvxopt[P,P]\n",
        "\n",
        "    #print(XtX_P)\n",
        "    #print(XtX_P_cvxopt)\n",
        "\n",
        "    #print(cvxopt.sparse(cvxopt.matrix(XtX_P))-XtX_P_cvxopt)\n",
        "\n",
        "\n",
        "    F=sparse_chol(XtX_cvxopt, perm=None, retF=False, retP=True, retL=True)\n",
        "\n",
        "    L_cvxopt_spchol = F['L']\n",
        "\n",
        "    #print(L_cvxopt_spchol*spmatrix.trans(L_cvxopt_spchol)-cvxopt.sparse(cvxopt.matrix(XtX_P)))\n",
        "\n",
        "    t1 = time.time()\n",
        "    L_np_chol = np.linalg.cholesky(XtX)\n",
        "    t2 = time.time()\n",
        "    nptime=t2-t1\n",
        "\n",
        "    t1 = time.time()\n",
        "    L_np_spchol = np.linalg.cholesky(XtX_P)\n",
        "    t2 = time.time()\n",
        "    sptime=t2-t1\n",
        "\n",
        "    XtX_da = da.from_array(XtX, chunks=\"auto\").map_blocks(sparse.COO)\n",
        "    XtX_da_P = da.from_array(XtX_P, chunks=\"auto\").map_blocks(sparse.COO)\n",
        "    print(XtX_da.chunks)\n",
        "\n",
        "    #da.map_blocks()\n",
        "\n",
        "    t1 = time.time()\n",
        "    L_dap_chol = da.linalg.cholesky(XtX_da_P).compute()\n",
        "    t2 = time.time()\n",
        "    daptime=t2-t1\n",
        "\n",
        "    t1 = time.time()\n",
        "    L_da_chol = da.linalg.cholesky(XtX_da).compute()\n",
        "    t2 = time.time()\n",
        "    datime=t2-t1\n",
        "\n",
        "    t1 = time.time()\n",
        "    L_cvxp_chol = sparse_chol(XtX_P_cvxopt, perm=None, retF=False, retP=False, retL=True)\n",
        "    t2 = time.time()\n",
        "    cvxptime=t2-t1\n",
        "\n",
        "    t1 = time.time()\n",
        "    L_cvx_chol = sparse_chol(XtX_cvxopt, perm=None, retF=False, retP=False, retL=True)\n",
        "    t2 = time.time()\n",
        "    cvxtime=t2-t1\n",
        "\n",
        "    runningnptime[n] = runningnptime[n] + nptime\n",
        "    runningsptime[n] = runningsptime[n] + sptime\n",
        "    runningdatime[n] = runningdatime[n] + datime\n",
        "    runningdaptime[n] = runningdaptime[n] + daptime\n",
        "    runningcvxtime[n] = runningcvxtime[n] + cvxtime\n",
        "    runningcvxptime[n] = runningcvxptime[n] + cvxptime\n"
      ],
      "execution_count": 0,
      "outputs": []
    },
    {
      "cell_type": "code",
      "metadata": {
        "id": "zYNnmvll3BEE",
        "colab_type": "code",
        "colab": {}
      },
      "source": [
        "\n",
        "\n",
        "#print(runningdatime)\n",
        "#print(runningdaptime)\n",
        "\n",
        "fig = plt.figure()\n",
        "ax1 = fig.add_subplot(111)\n",
        "\n",
        "ax1.scatter(np.arange(800,1000),runningdatime[800:1000], marker=\"x\", label='Dask array without amd')\n",
        "ax1.scatter(np.arange(800,1000),runningdaptime[800:1000], marker=\"x\", label='Dask array with amd')\n",
        "ax1.scatter(np.arange(800,1000),runningcvxtime[800:1000], marker=\"x\", label='Cvxopt array without amd')\n",
        "ax1.scatter(np.arange(800,1000),runningcvxptime[800:1000], marker=\"x\", label='Cvxopt array with amd')\n",
        "ax1.scatter(np.arange(800,1000),runningnptime[800:1000], marker=\"x\", label='Numpy array without amd')\n",
        "ax1.scatter(np.arange(800,1000),runningsptime[800:1000], marker=\"x\", label='Numpy array with amd')\n",
        "plt.legend(loc='upper left');\n",
        "plt.ylim(-0.002, 0.1)\n",
        "plt.show()"
      ],
      "execution_count": 0,
      "outputs": []
    },
    {
      "cell_type": "code",
      "metadata": {
        "id": "jFOXArMV0NX2",
        "colab_type": "code",
        "colab": {}
      },
      "source": [
        "X = np.random.randn(10,10)\n",
        "X[X<1.7]=0\n",
        "X = X + np.eye(10)\n",
        "\n",
        "XtX = np.matmul(X.transpose(), X)\n",
        "\n",
        "XtX_cvxopt = cvxopt.sparse(cvxopt.matrix(XtX))\n",
        "P = cvxopt.amd.order(XtX_cvxopt)\n",
        "print(P)\n",
        "\n",
        "print(XtX_cvxopt.J)\n",
        "XtX_permuted = XtX[:,np.array(P[:]).reshape(P.size[0])]\n",
        "print(XtX_permuted.shape)\n",
        "XtX_permuted = scipy.sparse.csr_matrix(XtX_permuted)\n",
        "\n",
        "rowinds = XtX_cvxopt.I\n",
        "colinds = XtX_cvxopt.J\n",
        "data = XtX_cvxopt.V\n",
        "\n",
        "P = np.array(P[:]).reshape(P.size[0])\n",
        "invP = np.arange(len(P))[np.argsort(P)]\n",
        "print(invP)\n",
        "colinds_perm = invP[XtX_cvxopt.J]\n",
        "\n",
        "print(np.array(data[:]).shape)\n",
        "print(np.array(rowinds[:]).shape)\n",
        "print(np.array(colinds_perm[:]).shape)\n",
        "\n",
        "rowinds = np.array(rowinds[:])\n",
        "colinds_perm = np.array(colinds_perm[:])\n",
        "data = np.array(data[:])\n",
        "\n",
        "rowinds = rowinds.reshape(rowinds.shape[0])\n",
        "colinds_perm = colinds_perm.reshape(colinds_perm.shape[0])\n",
        "data = data.reshape(data.shape[0])\n",
        "\n",
        "XtX_permuted2 = scipy.sparse.csr_matrix((data, (rowinds, colinds_perm)))\n",
        "\n",
        "import sys\n",
        "np.set_printoptions(threshold=sys.maxsize)\n",
        "\n",
        "\n",
        "print(XtX_permuted.toarray()-XtX_permuted2.toarray())"
      ],
      "execution_count": 0,
      "outputs": []
    },
    {
      "cell_type": "code",
      "metadata": {
        "id": "xn8aEz01u2mp",
        "colab_type": "code",
        "colab": {}
      },
      "source": [
        "print(XtX)"
      ],
      "execution_count": 0,
      "outputs": []
    },
    {
      "cell_type": "code",
      "metadata": {
        "id": "8hWHKvosvWY8",
        "colab_type": "code",
        "colab": {}
      },
      "source": [
        "import numba\n",
        "import cvxopt\n",
        "from cvxopt import cholmod\n",
        "from cvxopt import sparse\n",
        "from cvxopt import matrix\n",
        "import numpy as np\n",
        "import time\n",
        "\n",
        "@numba.jit(forceobj=True, parallel=True)\n",
        "def multicvxopt(XtX):\n",
        "  \n",
        "  np.linalg.cholesky(XtX)\n",
        "    \n",
        "    \n",
        "def spcholblock(XtX):\n",
        "  \n",
        "  tmp = LambdatZtZLambda[i,:,:].compute()\n",
        "  data = tmp.data\n",
        "  coords = tmp.coords\n",
        "  chol_dict = sparse_chol(spmatrix(data, coords[0,:],coords[1,:],size=(Lambda.shape[1],Lambda.shape[1]))+I, perm=P, retF=True, retP=False, retL=False)\n",
        "  \n",
        "#dask.array.map_blocks()\n",
        "\n",
        "XtX = np.zeros((1,1000,1000))\n",
        "for i in np.arange(1):\n",
        "    X = np.random.randn(1000,1000)\n",
        "    X[X<1.7]=0\n",
        "    X = X + np.eye(1000)\n",
        "\n",
        "    XtXi = np.matmul(X.transpose(), X)\n",
        "\n",
        "    XtX[i,:,:] = XtXi\n",
        "    \n",
        "t1 = time.time()\n",
        "multicvxopt(XtX)\n",
        "t2 = time.time()\n",
        "print(t2-t1)\n",
        "\n",
        "t1 = time.time()\n",
        "multicvxopt(XtX)\n",
        "t2 = time.time()\n",
        "print(t2-t1)\n",
        "\n",
        "\n",
        "t1 = time.time()\n",
        "for i in np.arange(XtX.shape[0]):\n",
        "\n",
        "  XtXi=cvxopt.sparse(cvxopt.matrix(XtX[i,:,:]))\n",
        "  \n",
        "  t1 = time.time()\n",
        "  F=cholmod.symbolic(XtXi)\n",
        "  cholmod.numeric(XtXi, F)\n",
        "  L=cholmod.getfactor(F)\n",
        "  t2 = time.time()\n",
        "  print(t2-t1)\n",
        "  \n",
        "t2 = time.time()\n",
        "print(t2-t1)"
      ],
      "execution_count": 0,
      "outputs": []
    },
    {
      "cell_type": "code",
      "metadata": {
        "id": "N-oH5gUphhJ_",
        "colab_type": "code",
        "colab": {}
      },
      "source": [
        "from sparse import COO\n",
        "import sparse\n",
        "\n",
        "def GaxCholBC2(XtX):\n",
        "  \n",
        "  print(XtX)\n",
        "  \n",
        "  for i in np.arange(XtX.shape[0]):\n",
        "    \n",
        "    print(i)\n",
        "    \n",
        "    for j in np.arange(XtX.shape[1]):\n",
        "      \n",
        "      print(j)\n",
        "\n",
        "      if j > 0:\n",
        "        \n",
        "        FirstProd = XtX[i,j:,:j]\n",
        "        SecondProd = XtX[i,:j,j]\n",
        "          \n",
        "        XtX[i,j:,j] = XtX[i,j:,j] - sparse.matmul(FirstProd,SecondProd)\n",
        "\n",
        "      XtX[i,j:,j] = XtX[i,j:,j]/np.sqrt(XtX[i,j,j])\n",
        "\n",
        "  return(A)\n",
        "\n",
        "XtX = np.zeros((10000,50,50))\n",
        "for i in np.arange(10000):\n",
        "  X = np.random.randn(50,50)\n",
        "  X[X<1.7]=0\n",
        "  X = X + np.eye(50)\n",
        "\n",
        "  XtXi = np.matmul(X.transpose(), X)\n",
        "\n",
        "  XtX[i,:,:] = XtXi\n",
        "  \n",
        "XtX = sparse.COO.from_numpy(XtX)\n",
        "\n",
        "GaxCholBC2(XtX)"
      ],
      "execution_count": 0,
      "outputs": []
    }
  ]
}